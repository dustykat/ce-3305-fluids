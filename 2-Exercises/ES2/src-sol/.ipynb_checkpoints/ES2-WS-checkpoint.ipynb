{
 "cells": [
  {
   "cell_type": "markdown",
   "metadata": {},
   "source": [
    "**Download** (right-click, save target as ...) this page as a Jupyterlab notebook from: [ES-2](http://54.243.252.9/ce-3305-webroot/2-Exercises/ES2/ES2.ipynb)\n",
    "\n",
    "___"
   ]
  },
  {
   "cell_type": "markdown",
   "metadata": {},
   "source": [
    "# <font color=darkblue>CE 3305 Engineering Fluid Mechanics <br> Spring 2023 Exercise Set 2</font>\n",
    "\n",
    "**LAST NAME, FIRST NAME**\n",
    "\n",
    "**R00000000**\n",
    "\n",
    "___\n",
    "\n",
    "### Purpose : \n",
    "Apply definition of viscosity in Newtonian fluid. Apply principles of capillarity in a glass-air-water system.\n",
    "### Assessment Criteria : \n",
    "Completion, plausible solutions, use Jupyter Notebook as a calculator\n",
    "\n",
    "___"
   ]
  },
  {
   "cell_type": "markdown",
   "metadata": {},
   "source": [
    "### Problem 1 (Problem 1-30 pg. 34).\n",
    "The plate is moving at 0.6 mm/s when the force applied to the plate is 4mN.  The surface area of the plate in contact with the liquid is 0.5 m$^2$.\n",
    "\n",
    "![](prob1-30.png)\n",
    "\n",
    "Determine:\n",
    "\n",
    "1. The approximate viscosity of the liquid, assuming the velocity profile is linear."
   ]
  },
  {
   "cell_type": "markdown",
   "metadata": {},
   "source": [
    "**sketch here**\n",
    "\n",
    "![](sketchp1.png)"
   ]
  },
  {
   "cell_type": "markdown",
   "metadata": {},
   "source": [
    "**list known quantities**\n",
    "![](knownsp1.png)"
   ]
  },
  {
   "cell_type": "markdown",
   "metadata": {},
   "source": [
    "**list unknown quantities**\n",
    "\n",
    "![](unknownsp1.png)"
   ]
  },
  {
   "cell_type": "markdown",
   "metadata": {},
   "source": [
    "**governing principles**\n",
    "\n",
    "![](goveqnp1.png)"
   ]
  },
  {
   "cell_type": "markdown",
   "metadata": {},
   "source": [
    "**solution (step-by-step)**\n",
    "\n",
    "![](soln1-2p1.png)\n",
    "\n",
    "![](soln2-2p1.png)"
   ]
  },
  {
   "cell_type": "code",
   "execution_count": 19,
   "metadata": {},
   "outputs": [
    {
     "name": "stdout",
     "output_type": "stream",
     "text": [
      "Force (shear) =  0.004    N \n",
      "         Area =  0.5      m^2\n",
      "     Velocity =  0.0006   m/sec\n",
      " Shear stress =  0.008    N/m^2 \n",
      "    Thickness =  0.004    m\n",
      "    Viscosity =  0.0533   N*sec/m^2\n"
     ]
    }
   ],
   "source": [
    "# code cell(s) here\n",
    "# solution (step-by-step)\n",
    "force = 4.0e-3 #newtons\n",
    "#length = 1000 #mm\n",
    "#width = 500 #mm\n",
    "#area = length*width/(1000*1000) # in m^2\n",
    "area = 0.5 #m^2\n",
    "tau = force/area\n",
    "du = 0.0006 # m/s\n",
    "dy = 4/1000 #m\n",
    "dudy = du/dy\n",
    "viscosity = tau/dudy\n",
    "print(\"Force (shear) = \",round(force,3),\"   N \")\n",
    "print(\"         Area = \",round(area,3),\"     m^2\")\n",
    "print(\"     Velocity = \",round(du,6),\"  m/sec\")\n",
    "print(\" Shear stress = \",round(force/area,3),\"   N/m^2 \")\n",
    "print(\"    Thickness = \",round(dy,6),\"   m\" )\n",
    "print(\"    Viscosity = \",round(viscosity,4),\"  N*sec/m^2\")"
   ]
  },
  {
   "cell_type": "markdown",
   "metadata": {},
   "source": [
    "**discussion**\n",
    "\n",
    "Application of definition of shear, and shear-viscosity formula for Newtonian fluid.  Then a script to generalize."
   ]
  },
  {
   "cell_type": "markdown",
   "metadata": {},
   "source": [
    "---"
   ]
  },
  {
   "cell_type": "markdown",
   "metadata": {},
   "source": [
    "### Problem 2 (Problem 1-49 pg. 37).\n",
    "The tube rests on a 1.5-mm-thick film of lubricant having a viscosity of $\\mu = 0.0586~\\frac{N \\cdot s}{m^2}$.  The tube is rotating at a constant angular velocity of $\\omega = 4.5~rad/s$\n",
    "\n",
    "![](prob1-49.png)\n",
    "\n",
    "Determine:\n",
    "\n",
    "1. The torque $T$ that must be applied to maintain the motion. (Assume the velocity profile in the lubricant is linear)"
   ]
  },
  {
   "cell_type": "markdown",
   "metadata": {},
   "source": [
    "**sketch here**\n",
    "\n",
    "![](sketchp2.png)"
   ]
  },
  {
   "cell_type": "markdown",
   "metadata": {},
   "source": [
    "**list known quantities**\n",
    "![](knownsp2.png)"
   ]
  },
  {
   "cell_type": "markdown",
   "metadata": {},
   "source": [
    "**list unknown quantities**\n",
    "\n",
    "![](unknownsp2.png)"
   ]
  },
  {
   "cell_type": "markdown",
   "metadata": {},
   "source": [
    "**governing principles**\n",
    "\n",
    "![](goveqnp2.png)"
   ]
  },
  {
   "cell_type": "markdown",
   "metadata": {},
   "source": [
    "**solution (step-by-step)**\n",
    "\n",
    "![](soln0-1p2.png)<br>\n",
    "![](soln1-2p2.png)<br>\n",
    "![](soln2-2p2.png)<br>"
   ]
  },
  {
   "cell_type": "code",
   "execution_count": 12,
   "metadata": {},
   "outputs": [
    {
     "name": "stdout",
     "output_type": "stream",
     "text": [
      "          Viscosity =  0.0586     N-sec/m^2 \n",
      "   Angular Velocity =  0.010604   rad/sec \n",
      "Lubricant Thickness =  0.010604   meters \n",
      " Tube Inner Radius =  0.010604    meters \n",
      " Tube Outer Radius =  0.010604    meters \n",
      "    Applied Torque =  0.010604    N-m \n"
     ]
    }
   ],
   "source": [
    "# code cell(s) here\n",
    "#read in data\n",
    "viscosity = 0.05860000 #N.sec/m^2\n",
    "angular_speed = 4.5 #rad/sec\n",
    "lube_thickness = 1.5e-3 #meters\n",
    "radius_inner = 40e-3 #meters\n",
    "radius_outer = 80e-3 #meters\n",
    "import math\n",
    "torque = viscosity*angular_speed*2*math.pi*(0.25*radius_outer**4-0.25*radius_inner**4 )/lube_thickness\n",
    "print(\"          Viscosity = \",round(viscosity,6),\"    N-sec/m^2 \")\n",
    "print(\"   Angular Velocity = \",round(torque,6),\"  rad/sec \")\n",
    "print(\"Lubricant Thickness = \",round(torque,6),\"  meters \")\n",
    "print(\" Tube Inner Radius = \",round(torque,6),\"   meters \")\n",
    "print(\" Tube Outer Radius = \",round(torque,6),\"   meters \")\n",
    "print(\"    Applied Torque = \",round(torque,6),\"   N-m \")"
   ]
  },
  {
   "cell_type": "markdown",
   "metadata": {},
   "source": [
    "**discussion**\n",
    "\n",
    "Application of definitions, recognize need to integrate the annulus to find equivalent applied torque (Force X Lever Arm).  Then apply analysis as per calculus. \n",
    "\n",
    "Then script for the arithmetic."
   ]
  },
  {
   "cell_type": "markdown",
   "metadata": {},
   "source": [
    "---"
   ]
  },
  {
   "cell_type": "markdown",
   "metadata": {},
   "source": [
    "### Problem 3. (Problem 1-59 pg. 39)\n",
    "\n",
    "Water is at temperature of 30$^o$ C.  A pair of glass plates is lowered into the water as shown.\n",
    "\n",
    "![](prob1-59.png)\n",
    "\n",
    "Determine:\n",
    "\n",
    "1. The height, $h$, of the water as a function of the gap, $w$, between the two glass plates, for a surface tension of $\\sigma = 0.0718~N/m$\n",
    "2. Plot the height, $h$, versus the width the gap, $w$, in 0.4 mm increments starting at $w=0.4~mm$ <br>\n",
    "\n",
    "|Width $w$ (mm)|Height $h$ (mm)|\n",
    "|---:|---:|\n",
    "|0.4|??|\n",
    "|0.8|??|\n",
    "|1.2|??|\n",
    "|1.6|??|\n",
    "|2.0|??|\n",
    "|2.4|??|"
   ]
  },
  {
   "cell_type": "markdown",
   "metadata": {},
   "source": [
    "**sketch here**\n",
    "\n",
    "![](sketchp3.png)"
   ]
  },
  {
   "cell_type": "markdown",
   "metadata": {},
   "source": [
    "**list known quantities**\n",
    "\n",
    "- surface tension $\\sigma = 0.0718~N/m$\n",
    "- width (t in my drawing) variable, but values given."
   ]
  },
  {
   "cell_type": "markdown",
   "metadata": {},
   "source": [
    "**list unknown quantities**\n",
    "\n",
    "![](unknownsp3.png)\n",
    "\n",
    "Also produce a plot to complete the problem"
   ]
  },
  {
   "cell_type": "markdown",
   "metadata": {},
   "source": [
    "**governing principles**\n",
    "\n",
    "![](goveqnp3.png)"
   ]
  },
  {
   "cell_type": "markdown",
   "metadata": {},
   "source": [
    "**solution (step-by-step)**\n",
    "\n",
    "![](solnp3.png)\n",
    "\n",
    "Then build a script to compute $h$ for any width, and produce a plot as prescribed.  Can also complete the table."
   ]
  },
  {
   "cell_type": "code",
   "execution_count": 23,
   "metadata": {},
   "outputs": [
    {
     "name": "stdout",
     "output_type": "stream",
     "text": [
      "Plate width is  0.4  mm.  Capillary Rise is  36.595  mm\n",
      "Plate width is  0.8  mm.  Capillary Rise is  18.298  mm\n",
      "Plate width is  1.2  mm.  Capillary Rise is  12.198  mm\n",
      "Plate width is  1.6  mm.  Capillary Rise is  9.149  mm\n",
      "Plate width is  2.0  mm.  Capillary Rise is  7.319  mm\n",
      "Plate width is  2.4  mm.  Capillary Rise is  6.099  mm\n"
     ]
    },
    {
     "data": {
      "image/png": "[encoded data removed]",
      "text/plain": [
       "<Figure size 576x576 with 1 Axes>"
      ]
     },
     "metadata": {
      "needs_background": "light"
     },
     "output_type": "display_data"
    }
   ],
   "source": [
    "# code cell(s) here\n",
    "# solution (step-by-step)\n",
    "def rise(sigma,gamma,thickness): #prototype function\n",
    "    rise = (2*sigma)/(gamma*thickness)\n",
    "    return(rise)\n",
    "\n",
    "# input\n",
    "sigma = 0.0718 #N/m\n",
    "start_thickness = 0.4 #mm\n",
    "height = [] # empty list\n",
    "thickness = []\n",
    "for i in range(6):\n",
    "    thickness.append(float(i+1)*start_thickness)\n",
    "    thickness[i] = thickness[i]/1000 #convert mm into meters\n",
    "    rho = 1000 #kg/m^3\n",
    "    gravity = 9.81 #m/s^2\n",
    "\n",
    "# intermediate values\n",
    "    gamma = rho*gravity #N/m^3\n",
    "\n",
    "#\n",
    "    height.append(1000*rise(sigma,gamma,thickness[i]))\n",
    "\n",
    "#output\n",
    "    print(\"Plate width is \",round(thickness[i]*1000,3),\" mm.  Capillary Rise is \",round(height[i],3),\" mm\")\n",
    "\n",
    "import matplotlib.pyplot as plt\n",
    "def makeAplot(listx1,listy1,strlablx,strlably,strtitle):\n",
    "    mydata = plt.figure(figsize = (8,8)) # build a square drawing canvass from figure class\n",
    "    plt.plot(listx1,listy1, c='blue', marker='o',linewidth=1) # basic data plot\n",
    "    plt.xlabel(strlablx)\n",
    "    plt.ylabel(strlably)\n",
    "    plt.legend(['Computed Values'])# modify for argument insertion\n",
    "    plt.title(strtitle)\n",
    "    plt.show()\n",
    "    return\n",
    "\n",
    "makeAplot(thickness,height,'plate spacing(mm)','capillary rise (mm)','Plot of capillary rise versus plate spacing')"
   ]
  },
  {
   "cell_type": "markdown",
   "metadata": {},
   "source": [
    "**discussion**\n",
    "\n",
    "Application of capillary definition and surface tension. Essentially application of page 30 in textbook."
   ]
  },
  {
   "cell_type": "markdown",
   "metadata": {},
   "source": [
    "\n",
    "\n"
   ]
  },
  {
   "cell_type": "code",
   "execution_count": null,
   "metadata": {},
   "outputs": [],
   "source": []
  }
 ],
 "metadata": {
  "kernelspec": {
   "display_name": "Python 3",
   "language": "python",
   "name": "python3"
  },
  "language_info": {
   "codemirror_mode": {
    "name": "ipython",
    "version": 3
   },
   "file_extension": ".py",
   "mimetype": "text/x-python",
   "name": "python",
   "nbconvert_exporter": "python",
   "pygments_lexer": "ipython3",
   "version": "3.8.10"
  }
 },
 "nbformat": 4,
 "nbformat_minor": 4
}
