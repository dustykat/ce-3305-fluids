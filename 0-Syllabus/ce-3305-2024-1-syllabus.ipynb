{
 "cells": [
  {
   "cell_type": "markdown",
   "metadata": {},
   "source": [
    "# CE 3305 Mechanics of Fluids Spring 2024\n",
    "\n",
    "## Course Catalog Description: \n",
    "\n",
    "CE 3305: Mechanics of Fluids (3:3:0). Prerequisites: CE 2301. Hydrostatics; dynamics of viscous and nonviscous fluids; resistance to flow; flow in pipes and open channels.\n",
    "\n",
    "## Prerequisites: \n",
    "Engineering Mechanics - Statics (CE 2301) or equivalent<br>\n",
    "Computational Thinking with Data Science (ENGR 1330) or equivalent"
   ]
  },
  {
   "cell_type": "markdown",
   "metadata": {},
   "source": [
    "## Course Sections\n",
    "Lesson time, days, and location: \n",
    "\n",
    "<!--1. Section 001; CRN 29622; 0800-0920 T-Th ; Mechanical Engineering North 00132-->\n",
    "1. Section 002; CRN 39002; 1400-1520 T-TH ; CE 205\n",
    "\n",
    "## Course Instructor:\n",
    "\n",
    "Instructor: Theodore G. Cleveland, Ph.D., P.E., M. ASCE, F. EWRI\n",
    "\n",
    "Email: theodore.cleveland@ttu.edu  (put CE 3305-002 into the subject line for email related to this class)\n",
    "\n",
    "Office location: CECE 203F\n",
    "\n",
    "Office hours: TBD ; CE 203F\n",
    "\n",
    "## Teaching Assistant:\n",
    "\n",
    "Teaching Assistant: none authorized\n",
    "\n",
    "Email : \n",
    "\n",
    "Office location: \n",
    "\n",
    "Office hours: "
   ]
  },
  {
   "cell_type": "markdown",
   "metadata": {},
   "source": [
    "## Textbook: \n",
    "\n",
    "Hibbeler, R.C, Fluid Mechanics, 3ed. Prentice Hall, 2018. <!--ISBN: 978-0-13-803936-3 (print version; rental and online have different ISBN). --> \n",
    ">I suggest you purchase a physical book; a 2nd edition would be fine: <br>[Amazon Link](https://www.amazon.com/Fluid-Mechanics-2nd-Russell-Hibbeler/dp/013464929X/ref=sr_1_1?crid=6PHL0WQ2Y9R3&keywords=Hibbeler%2C+R.C%2C+Fluid+Mechanics%2C+3ed.+Prentice+Hall%2C+2018&qid=1706565242&sprefix=hibbeler%2C+r.c%2C+fluid+mechanics%2C+3ed.+prentice+hall%2C+2018%2Caps%2C103&sr=8-1)<br>\n",
    "> [E-book @ Pearson (rental only)](https://www.pearson.com/store/en-us/pearsonplus/p/9780137839490.html)\n",
    "\n",
    "<!--\n",
    "Elger D.F., LeBret B.A., Crowe C.T., Roberson J.A. (2019) *Engineering Fluid Mechanics 12th Edition* John Wiley & Sons Inc. Hoboken, New Jersey. *ISBN-13: 978-1119723509* \n",
    "- [Amazon New EFM 12th Edition](https://www.amazon.com/Engineering-Fluid-Mechanics-Donald-Elger/dp/1119723507/ref=asc_df_1119723507/?tag=hyprod-20&linkCode=df0&hvadid=459640465657&hvpos=&hvnetw=g&hvrand=16030757883077041011&hvpone=&hvptwo=&hvqmt=&hvdev=c&hvdvcmdl=&hvlocint=&hvlocphy=1026578&hvtargid=pla-947323559251&psc=1&asin=1119723507&revisionId=&format=4&depth=1)<br>\n",
    "- [TTU Bookstore](https://www.depts.ttu.edu/bookstore/)\n",
    "\n",
    "<font color=\"red\">The Follett Discover (Blackboard) edition is the 11-th edition which is also available from [Amazon Used EFM 11th Edition](https://www.amazon.com/Engineering-Fluid-Mechanics-Binder-Version/dp/1118880684/ref=sr_1_1?crid=13AED7NSX4O5A&keywords=Engineering+Fluid+Mechanics+11th+Edition&qid=1648766100&s=books&sprefix=engineering+fluid+mechanics+11th+edition%2Cstripbooks%2C92&sr=1-1). </font>\n",
    "\n",
    "<font color=\"green\">**The instructor notes below are based on the 8-th edition, if you can find one of these used go ahead and buy it [Amazon Used EFM 8th Edition](https://www.amazon.com/Engineering-Fluid-Mechanics-Clayton-Crowe/dp/0470086394/ref=sr_1_3?crid=2ZI22V998TMSU&keywords=Engineering+Fluid+Mechanics+8th+Edition&qid=1648765818&s=books&sprefix=engineering+fluid+mechanics+8th+edition%2Cstripbooks%2C97&sr=1-3)** The current edition is fine; chapters are about the same, there is an added chapter on computational fluid dynamics.</font>\n",
    "\n",
    "**Any of the editions above will be sufficient**; exercise problems will be a bit different, but all the versions are fine for the class. -->"
   ]
  },
  {
   "cell_type": "markdown",
   "metadata": {},
   "source": [
    "## Instructor's Notes:\n",
    "\n",
    "Cleveland, T. G. (2023) *Fluid Mechanics Notes to Accompany CE 3305 at TTU*, Department of Civil, Environmental, and Construction Engineering, Whitacre College of Engineering, DOI (pending) \n",
    "[http://54.243.252.9/ce-3305-webroot/ce3305s24book/_build/html/intro.html](http://54.243.252.9/ce-3305-webroot/ce3305s24book/_build/html/intro.html)"
   ]
  },
  {
   "cell_type": "markdown",
   "metadata": {},
   "source": [
    "## Course Objectives: \n",
    "The purpose of this required course is to provide engineering students with the fundamentals of fluid mechanics. Students should be able to use this foundation for the more in-depth courses to follow. This course shall provide students with a set of tools and concepts that are directly applicable to pipe systems, open channels, pumping plants, and measurement of fluid flows as well as other related problems that may be encountered as practicing engineers."
   ]
  },
  {
   "cell_type": "markdown",
   "metadata": {},
   "source": [
    "## Knowledge, Skills, Abilities (KSA) :\n",
    "Upon sucessful completion of this course, students will have demonstrated the Knowledge, Skill, and Ability (KSA) to:\n",
    "\n",
    "1. Identify and apply fluid properties to analyze and solve fluid mechanics problems\n",
    "2. Interpret conservation laws and apply them to analyze problems in hydrodynamics\n",
    "3. Identify and apply systems and control volume methods based on conservation principles\n",
    "4. Analyze steady pipe flow in networks using associated concepts and Computational Thinking (ENGR 1330) tools\n",
    "5. Differentiate and apply principles of dimensional homogeneity\n",
    "6. Analyze boundary layer flows and drag for hydraulic analysis\n",
    "7. Apply Computational Thinking (ENGR 1330) methods to analyze data and create mathematical models\n",
    "8. Recognize how specific sensors and instruments in fluid mechanics work\n",
    "9. Characterize, analyze and design open channels for steady one-dimensional flow"
   ]
  },
  {
   "cell_type": "markdown",
   "metadata": {},
   "source": [
    "## ABET Student Outcomes\n",
    "* Engineering:\n",
    "    1. An ability to identify, formulate, and solve complex engineering problems by applying principles of engineering, science, and mathematics.\n",
    "    2. An ability to acquire and apply new knowledge as needed, using appropriate learning strategies. \n",
    " "
   ]
  },
  {
   "cell_type": "markdown",
   "metadata": {},
   "source": [
    "## Resources/Tools\n",
    "\n",
    "Computational tools equivalent to those used in ENGR 1330 are expected.  \n",
    "\n",
    "### Hardware Requirements\n",
    "The college of engineering has specific laptop requirements for courses that are listed at https://www.depts.ttu.edu/coe/dean/engineeringitservices/buyingtherightcomputer.php\n",
    "\n",
    "### Learning Management System\n",
    "Blackboard(BB) is used as the learning management system (LMS) for this class and all exercises are to be uploaded to BB.  Late submissions are accepted, but scores are automatically reduced 50% \n",
    "\n",
    "### Website\n",
    "The course website **for this section** is located at [http://54.243.252.9/ce-3305-webroot/](http://54.243.252.9/ce-3305-webroot/); the website is not intended as a primary access to course content, but will work when BB fails.  The webbook (below) and exercises, and exams are stored on the website.\n",
    "\n",
    "### Instructor Notes \n",
    "The course notes are located in a webbook at [http://54.243.252.9/ce-3305-webroot/ce3305s22book/_build/html/intro.html](http://54.243.252.9/ce-3305-webroot/ce3305s22book/_build/html/intro.html)"
   ]
  },
  {
   "cell_type": "code",
   "execution_count": 1,
   "metadata": {},
   "outputs": [
    {
     "data": {
      "text/html": [
       "<style> table {margin-left: 0 !important;} </style>\n"
      ],
      "text/plain": [
       "<IPython.core.display.HTML object>"
      ]
     },
     "metadata": {},
     "output_type": "display_data"
    }
   ],
   "source": [
    "%%html\n",
    "<style> table {margin-left: 0 !important;} </style>"
   ]
  },
  {
   "cell_type": "markdown",
   "metadata": {},
   "source": [
    "---\n",
    "\n",
    "## Course Schedule\n",
    "\n",
    "Each lesson is $\\approx 0.88$ hours; reading needs to be completed in advance\n",
    "\n",
    "<strong>Homework due dates are on Blackboard</strong>, the homework dates in the table below correspond to when lesson materials and readings are sufficient to complete the homeworks\n",
    "\n",
    "---"
   ]
  },
  {
   "cell_type": "markdown",
   "metadata": {},
   "source": [
    "|date|lesson|topic|reading|homework|remarks|\n",
    "|:---|:---|:---|:---|:---|:---|\n",
    "|10Jan24|1|[Introduction](http://54.243.252.9/ce-3305-webroot/ce3305s24book/_build/html/lessons/01introduction/1introduction.html) <br><font color=\"blue\"> - Syllabus  <br> - On-Line Resources  <br> - Problem Solving Strategy <br> - Dimensions <br> - Units </font>| pp. 2-13| none | |\n",
    "|12Jan24|2|<font color=\"blue\">[Fluid Properties](http://54.243.252.9/ce-3305-webroot/ce3305s24book/_build/html/lessons/02fluidproperties/0fluidproperties.html) <br> - Intensive/Extensive <br> - Ideal Gas Law | pp. 13-27|[ES-1](http://54.243.252.9/ce-3305-webroot/2-Exercises/ES1/ES1.html)||\n",
    "|17Jan24|3|<font color=\"blue\">[Fluid Properties](http://54.243.252.9/ce-3305-webroot/ce3305s24book/_build/html/lessons/02fluidproperties/3liquids.html) <br> - Viscosity <br> - Vapor Pressure | pp. 27-43|||\n",
    "|19Jan24|4|<font color=\"blue\">[Fluid Properties](http://54.243.252.9/ce-3305-webroot/ce3305s24book/_build/html/lessons/03fluidstatics/1statics.html#) <br> - Surface Tension <br> - Capillary Rise  | pp. 44-64 |[ES-2](http://54.243.252.9/ce-3305-webroot/2-Exercises/ES2/ES2.html)||\n",
    "|22Jan24|5|<font color=\"blue\">[Fluid Pressure](http://54.243.252.9/ce-3305-webroot/ce3305s24book/_build/html/lessons/03fluidstatics/1statics.html#)<br> - Hydrostatic Equation <br> - Measuring Devices | pp. 44-64 |||\n",
    "|24Jan24|6|<font color=\"blue\">[Fluid Pressure](http://54.243.252.9/ce-3305-webroot/ce3305s24book/_build/html/lessons/03fluidstatics/1statics.html#)<br> - Manometers <br> - Application of Pascal's law| pp. 44-64 |[ES-3](http://54.243.252.9/ce-3305-webroot/2-Exercises/ES3/ES3.html)||\n",
    "|26Jan24|7|<font color=\"blue\">[Fluid Statics](http://54.243.252.9/ce-3305-webroot/ce3305s24book/_build/html/lessons/04fluidstaticsandpressure/0fluidstaticsandpressure.html) <br> - Forces on planes | pp. 64-91 |||\n",
    "|29Jan24|8|<font color=\"blue\">[Fluid Statics](http://54.243.252.9/ce-3305-webroot/ce3305s24book/_build/html/lessons/04fluidstaticsandpressure/0fluidstaticsandpressure.html) <br> - Forces on submerged objects | pp. 64-91 |[ES-4](http://54.243.252.9/ce-3305-webroot/2-Exercises/ES4/ES4.html)||\n",
    "|31Jan24|9|<font color=\"blue\">[Fluid Statics](http://54.243.252.9/ce-3305-webroot/ce3305s24book/_build/html/lessons/04fluidstaticsandpressure)<br> - Bouyancy| pp. 64-91 |||\n",
    "|02Feb24|10|<font color=\"blue\">[Fluid Statics](http://54.243.252.9/ce-3305-webroot/ce3305s24book/_build/html/lessons/04fluidstaticsandpressure/0fluidstaticsandpressure.html)<br> - Stability| pp. 64-91 |[ES-5](http://54.243.252.9/ce-3305-webroot/2-Exercises/ES5/ES5.html)||\n",
    "|<font color=\"red\">**05Feb24**||<font color=\"blue\">[Exam 1](http://54.243.252.9/ce-3305-webroot/5-Exams/EX1/spring24/EX1.html) <br> - Fluid Properties <br> - Fluid Statics <br> - Pressure ||[Exam 1 - Solutions](http://54.243.252.9/ce-3305-webroot/5-Exams/EX1/spring24/sol-src/exam1-s24-solution.pdf)|</font>|\n",
    "|07Feb24||<font color=\"red\"> Job Fair <br> - Extra Credit if Proof of Attendance </font>|  |||\n",
    "|09Feb24|11|<font color=\"orange\">[Fluid Kinematics](http://54.243.252.9/ce-3305-webroot/ce3305s24book/_build/html/lessons/05aflowkinematics/0kinematics.html) <br> - Flow Patterns and Visualization <br> - Velocity Field; Eulerian and Lagrangian Description | pp. 91-177 <br> -  |[ES-6](http://54.243.252.9/ce-3305-webroot/2-Exercises/ES6/ES6.html)| |\n",
    "|12Feb24|12|<font color=\"orange\">[Flow and Mass Conservation](http://54.243.252.9/ce-3305-webroot/ce3305s24book/_build/html/lessons/06controlvolumes/0controlvolumeanalysis.html) <br> - Control Volumes <br> - Mass Flow | pp. 168-211 <br> -  |[ES-7](http://54.243.252.9/ce-3305-webroot/2-Exercises/ES7/ES7.html)| |\n",
    "|14Feb24|13|<font color=\"orange\">[Flow and Mass Conservation](http://54.243.252.9/ce-3305-webroot/ce3305s24book/_build/html/lessons/06controlvolumes/0controlvolumeanalysis.html) <br> - Reynolds Transport Theorem <br> - Conservation of Mass | pp. 168-211 <br> -  |[ES-8](http://54.243.252.9/ce-3305-webroot/2-Exercises/ES8/ES8.html)||\n",
    "|16Feb24|14|<font color=\"orange\">[Work and Energy](http://54.243.252.9/ce-3305-webroot/ce3305s24book/_build/html/lessons/05bernoulli/0bernoulli.html)  <br> - Euler's Equation <br> - Bernoulli's Equation | pp. 213-219 <br> -  |[ES-9](http://54.243.252.9/ce-3305-webroot/2-Exercises/ES9/ES9.html)||\n",
    "|19Feb24|15|<font color=\"orange\">[Work and Energy](http://54.243.252.9/ce-3305-webroot/ce3305s24book/_build/html/lessons/05bernoulli/0bernoulli.html) <br> - Energy Grade Line  <br> - Hydraulic Grade Line | pp. 233-242 <br> -  |[ES-10](http://54.243.252.9/ce-3305-webroot/2-Exercises/ES10/ES10.html)||\n",
    "|21Feb24|16|<font color=\"orange\">[Work and Energy](http://54.243.252.9/ce-3305-webroot/ce3305s24book/_build/html/lessons/07energy/0energy.html) <br> - Modified Bernoulli's (Energy) Equation <br> - Pumps <br> - Turbines | pp. XXX-XXX <br> -  |[ES-11](http://54.243.252.9/ce-3305-webroot/2-Exercises/ES11/ES11.html)||\n",
    "|23Feb24|17|<font color=\"orange\">[Momentum](http://54.243.252.9/ce-3305-webroot/ce3305s24book/_build/html/lessons/10momentum_linear/0momentum.html) <br> - Linear Momentum  <br> - sub2| pp. XXX-XXX <br> -  |[ES-XX](dummy)|Quiz X|\n",
    "|26Feb24|18|<font color=\"orange\">[Momentum](http://54.243.252.9/ce-3305-webroot/ce3305s24book/_build/html/lessons/10momentum_linear/0momentum.html) <br> - Linear Momentum  <br> - sub2  | pp. XXX-XXX <br> -  |[ES-XX](dummy)|Quiz X|\n",
    "|28Feb24|19|<font color=\"orange\">[Momentum](http://54.243.252.9/ce-3305-webroot/ce3305s24book/_build/html/lessons/11momentum_angular/0angular.html) <br> - Angular Momentum  <br> - sub2  | pp. XXX-XXX <br> -  |[ES-XX](dummy)|Quiz X|\n",
    "|01Mar24|20|<font color=\"orange\">[Momentum](http://54.243.252.9/ce-3305-webroot/ce3305s24book/_build/html/lessons/11momentum_angular/0angular.html) <br> - Angular Momentum  <br> - sub2 | pp. XXX-XXX <br> -  |[ES-XX](dummy)|Quiz X|\n",
    "|<font color=\"red\">**04Mar24**||<font color=\"orange\">[Exam 2](http://54.243.252.9/ce-3305-webroot/5-Exams/EX2/spring24/EX2.html) <br> - Mass <br> - Energy <br> - Momentum |||</font>|\n",
    "|06Mar24|21|<font color=\"brown\">Dimensional Analysis<br> - Dimensionless ($\\pi$) groups  <br> - Correlations <br> - Important dimensionless numbers  <br> - Buckingham Pi Theory | pp. 410-427 <br> -  |[ES-XX](dummy)|Quiz X|\n",
    "|08Mar24|22|<font color=\"brown\"><font color=\"brown\">Similitude <br> - Prototype/Model  <br> - Geometric Similarity <br> - Kinematic Similarity <br> - Dynamic Similarity | pp. 427-449 <br> -  |[ES-XX](dummmy)|Quiz X|\n",
    "|<font color=\"green\">**09-17Mar**||<font color=\"green\">Spring Break|||</font>|\n",
    "|18Mar24|23|<font color=\"brown\">Viscous Internal Flows <br> - Laminar Flow <br> - Parallel Plates <br> - Smooth Circular Conduit |pp. 450-462|[ES-12](http://54.243.252.9/ce-3305-webroot/2-Exercises/ES12/ES12.html)|Quiz X|\n",
    "|20Mar24|24|<font color=\"brown\">Viscous Internal Flows <br> - Turbulent Flow <br> - Reynolds Number <br> - Frictional Losses|pp. 462-473|[ES-XX](dummy)|Quiz X|\n",
    "|22Mar24|25|<font color=\"brown\">Closed Conduit Analysis <br> - Moody Chart <br> - Pipeline loss <br> - Fitting loss <br> - Single Pipeline Flow|pp. 473-524 |[ES-XX](dummy)|Quiz X|\n",
    "|25Mar24|26|<font color=\"brown\">Closed Conduit Analysis <br> - Pipe Systems <br> - Flow Measurement |pp. 524-551|[ES-XX](dummy)|Quiz X|\n",
    "|27Mar24|27|<font color=\"brown\">Fluid machines <br> - Pumps  <br> - Turbines <br> - Fans <br> - Compressors |pp. 785-809 |[ES-XX](dummy)|Quiz X|\n",
    "|29Mar24|28|<font color=\"brown\">[Pump Selection](https://192.168.1.93/ce-3305-webroot/ce3305s24book/_build/html/lessons/19PumpSelection/1fluidmachines.html#)  <br> - Performance curves  <br> - System curves |pp. 809-811|[ES-XX](dummy)|Quiz X|\n",
    "|<font color=\"green\">**01Apr24**||<font color=\"green\">No class|||</font>|\n",
    "|03Apr24|29|<font color=\"brown\">[Pump Selection](https://192.168.1.93/ce-3305-webroot/ce3305s24book/_build/html/lessons/19PumpSelection/1fluidmachines.html#pump-affinity-laws) <br> - Net Positive Suction head <br> - Similarity Laws| pp. 811-820 <br> -  |[ES-XX](dummy)|Quiz X|\n",
    "|05Apr24|29|<font color=\"brown\">[Pump Selection](https://192.168.1.93/ce-3305-webroot/ce3305s24book/_build/html/lessons/19PumpSelection/1fluidmachines.html#pump-affinity-laws) <br> - Suction head <br> - Turbomachine similarity|pp. 811-820 <br> -  |[ES-XX](dummy)|Quiz X|\n",
    "|08Apr24|30|<font color=\"magenta\">Computational Hydraulics <br> - Junction heads <br> - Conduit loss <br> - Equation systems| pp. 524-529 <br> -  |[ES-XX](dummy)|Quiz X|\n",
    "|10Apr24|31|<font color=\"magenta\">Computational Hydraulics <br> - Pipe Network Analysis <br> - Newton-Raphson Method| pp. 524-529 <br> -  |[ES-XX](dummy)|Quiz X|\n",
    "|<font color=\"red\">**12Apr24**||<font color=\"brown\">[Exam 3](http://54.243.252.9/ce-3305-webroot/5-Exams/EX3/spring24/EX3.html) <br> - Dimensional Analysis <br> - Similitude <br> - Closed Conduits <br> - Pumps |||</font>|\n",
    "|12Apr24|32|<font color=\"magenta\">Open Channels <br> - Flow Types <br> - Specific Energy| pp. XXX-XXX <br> - |[ES-XX](dummy)|Quiz X|\n",
    "|15Apr24|33|<font color=\"magenta\">Open Channels <br> - Bump <br> - Sluice Gate | pp. XXX-XXX <br> -  |[ES-XX](dummy)|Quiz X|\n",
    "|17Apr24|34|<font color=\"magenta\">Open Channels <br> - Gradually Varied Flow <br> - Water Surface Profile |pp. xxx-xxx|[ES-XX](dummy)|Quiz X|\n",
    "|19Apr24|35|<font color=\"magenta\">Open Channels <br> - Rapidly Varied Flow <br> - Hydraulic Jump <br> - Weirs| pp. XXX-XXX <br> -  |[ES-XX](dummy)|Quiz X|\n",
    "|22Apr24|37|<font color=\"magenta\">Computational Hydraulics <br> - GVF Backwater Curves <br> - GVF Frontwater Curves|[ES-XX](dummy)|Quiz X|\n",
    "|24Apr24|38|<font color=\"magenta\">Boundary Layers <br> – Laminar <br> - Turbulent <br> - Flow over Flat Plate |pp. xxxx |[ES-XX](dummy)|Quiz X|\n",
    "|26Apr24|39|<font color=\"magenta\">Boundary Layers <br> - Flow over Flat Plate|pp. 596-647|[ES-XX](dummy)|Quiz X|\n",
    "|29Apr24|40|<font color=\"magenta\">Drag and Lift <br> - Form Drag <br> - Flow around Cylinder|pp. 596-647|[ES-XX](dummy)|Quiz X|\n",
    "|<font color=\"red\">**XXMay24**||<font color=\"magenta\">[Exam 4](http://54.243.252.9/ce-3305-webroot/5-Exams/EX4/spring24/EX4.html) <br> - Open Channels <br> - Boundary Layers <br> - Computational Hydraulics (Pipes) <br> - Computational Hydraulics (Channels)  |||</font>|"
   ]
  },
  {
   "cell_type": "code",
   "execution_count": 1,
   "metadata": {},
   "outputs": [
    {
     "data": {
      "text/plain": [
       "100"
      ]
     },
     "execution_count": 1,
     "metadata": {},
     "output_type": "execute_result"
    }
   ],
   "source": [
    "16+18+18+20+15+8+5"
   ]
  },
  {
   "cell_type": "markdown",
   "metadata": {},
   "source": [
    "---\n",
    "## Course Assessment and Grading Criteria:\n",
    "There will be $\\approx$ 20 homework assignments, four tests, and occasional unannounced quizzes for the course.  \n",
    "<strong>Late</strong> assignments will be scored at 50% reduced value.\n",
    "\n",
    "<strong>Homework due dates are the dates on Blackboard</strong>\n",
    "\n",
    "Grades will be based on the following components; weighting is approximate:\n",
    "\n",
    "|Assessment Instrument|Weight(%)|\n",
    "|---|---:|\n",
    "|Test-1|16|\n",
    "|Test-2|18|\n",
    "|Test-3|18|\n",
    "|Test-4|20|\n",
    "|Homework|15|\n",
    "|Attendance|8|\n",
    "|Quizzes|5|\n",
    "|Overall total|100|\n",
    "\n",
    "Letter grades will be assigned using the following <strong>quantile</strong> proportions of all assessment instruments:\n",
    "\n",
    "|Quantile Range|Letter Grade|\n",
    "|:-|---:|\n",
    "|86-100|A| \n",
    "|71-85|B|\n",
    "|51-70|C|\n",
    "|31-50|D|\n",
    "|0 - 30|F|\n",
    "\n",
    "<!-- Scores as Quantiles Ranges\n",
    "|81-100|A| \n",
    "|61-80|B|\n",
    "|41-60|C|\n",
    "|21-40|D|\n",
    "|<= 0-20|F|\n",
    "-->\n"
   ]
  },
  {
   "cell_type": "markdown",
   "metadata": {},
   "source": [
    "## Classroom Policy:\n",
    "The following activities are not allowed in the classroom: Texting or talking on the cellphone or other electronic devices, and reading non-course related materials."
   ]
  },
  {
   "cell_type": "markdown",
   "metadata": {},
   "source": [
    "## Safety and Wellness Statement:\n",
    "\n",
    "The Texas Tech University (TTU) and Edward E. Whitacre Jr. College of Engineering are committed to the safety and wellness of our students by providing various services and resources. \n",
    "Make sure you register with [Tech Alert](https://appserv.itts.ttu.edu/emergencyalert) to get emergency notifications by phone call, text, or email. You are encouraged to review the [Emergency Action Plans (EAPs)](https://www.depts.ttu.edu/adminfinance/safety/emergency-management/action-plans/?gclid=EAIaIQobChMI_66xhsrp-AIVVGpvBB2SdwZiEAAYAiAAEgIYd_D_BwE) and watch the videos of [Know What To Do In Emergency Events](https://www.youtube.com/watch?v=4pTtmPSL4-I) and [Surviving an Active Shooter Event Training](https://www.depts.ttu.edu/ttpd/active_shooter.php) to be prepared for those emergency situations. Additionally, due to the nature of laboratory or design courses, it is mandatory for you to follow the [university safety policies](https://www.depts.ttu.edu/ehs/academicsafety/labsafetydocs/LabSafetyManual.pdf) and any additional safety training and protocols required by the course instructor(s). \n",
    "For your wellbeing, various services are available at [Student Counseling Center](https://www.depts.ttu.edu/scc/) and [Student Health Services](https://www.depts.ttu.edu/studenthealth/). The Student Wellness Center provides convenient walk-in services M-F from 8 AM to 5 PM. Furthermore, the Texas Tech Crisis HelpLine (806-742-5555) provides 24/7/365 assistance for students experiencing a crisis or distress. \n",
    "\n",
    "<!--![](PhoneNumbers.png)-->\n",
    "\n",
    "<BR><BR>\n",
    "<div style=\"text-align: center;\">\n",
    "    Emergency/Crisis Phone Number(s)\n",
    "   </div>\n",
    "   \n",
    "|Entity Name|Phone Number|\n",
    "|---|---|\n",
    "|TTU Police (UPD) Emergency|911 |\n",
    "|TTU Police (UPD) Non-Emergency|806.742.3931|\n",
    "|TTU Emergency Maintenance|806.742.4OPS (4677)|\n",
    "|TTU EHS (M-F, 8 am – 5 pm)|806.742.3876|\n",
    "|SafeRide|806.742.RIDE (7433)|\n",
    "|TTU Crisis HelpLine|806.742.5555|\n",
    "|Student Wellness Center <br> (From Urgent Care to a Full-Service Pharmacy on site)|806.742.2848|\n",
    "    \n",
    "## Safety Training Requirement \n",
    "As part of our commitment to maintaining a safe learning environment, students are required to complete safety training before participating in any lab work or practical exercises. The safety training matrix and online safety training module are available from the Texas Tech Department of Environmental Health and Safety. Additional safety training may be required by the course instructor(s).\n",
    "\n",
    "### Mandatory Safety Training\n",
    "\n",
    "- You MUST complete the mandatory safety training before performing any experiment in the lab\n",
    "- The Mandatory training for CE 3305 includes: \n",
    "   - **NONE**\n"
   ]
  },
  {
   "cell_type": "markdown",
   "metadata": {},
   "source": [
    "## ADA Statement (OP 34.22): \n",
    "Any student who, because of a disability, may require special arrangements in order to meet\n",
    "the course requirements should contact the instructor as soon as possible to make any\n",
    "necessary arrangements. Students should present appropriate verification from Student\n",
    "Disability Services during the instructor's office hours. Please note: instructors are not allowed\n",
    "to provide classroom accommodations to a student until appropriate verification from Student\n",
    "Disability Services has been provided. For additional information, please contact Student\n",
    "Disability Services in Weeks Hall or call 806-742-2405.\n",
    "\n",
    "Any student who, because of a disability, may require special arrangements in order to meet the course requirements should contact the instructor as soon as possible to make necessary arrangements.  Students must present appropriate verification from Student Disability Services during the instructor's office hours.  Please note that instructors are not allowed to provide classroom accommodation to a student until appropriate verification from Student Disability Services has been provided.  For additional information, please contact Student Disability Services \n",
    "office in 335 West Hall or call 806.742.2405.\n",
    "\n",
    "## Academic Integrity Statement (OP 34.12):\n",
    "Academic integrity is taking responsibility for one’s own class and/or course work, being individually accountable, and demonstrating intellectual honesty and ethical behavior.  Academic integrity is a personal choice to abide by the standards of intellectual honesty and responsibility.  Because education is a shared effort to achieve learning through the exchange of ideas, students, faculty, and staff have the collective responsibility to build mutual trust and respect.  Ethical behavior and independent thought are essential for the highest level of academic achievement, which then must be measured.  Academic achievement includes scholarship, teaching, and learning, all of which are shared endeavors.  Grades are a device used to quantify the successful accumulation of knowledge through learning.  Adhering to the standards of academic integrity ensures grades are earned honestly.  Academic integrity is the foundation upon which students, faculty, and staff build their educational and professional careers.  [Texas Tech University (“University”) Quality Enhancement Plan, Academic Integrity Task Force, 2010](https://www.depts.ttu.edu/tlpdc/Resources/NewFacultyResources/Student_Handbook_Academic_Integrity_Procedures.pdf).\n",
    "\n",
    "## Religious Holy Day Statement (OP 34.19): \n",
    "\n",
    "1. \"Religious holy day\" means a holy day observed by a religion whose places of worship are exempt from property taxation under Texas Tax Code §11.20.\n",
    "2. A student who intends to observe a religious holy day should make that intention known in writing to the instructor prior to the absence. A student who is absent from classes for the observance of a religious holy day shall be allowed to take an examination or complete an assignment scheduled for that day within a reasonable time after the absence.\n",
    "3. A student who is excused under section 2 may not be penalized for the absence; however, the instructor may respond appropriately if the student fails to complete the assignment satisfactorily\n",
    "\n",
    "## Ethical Conduct Policy:\n",
    "Cheating is prohibited, and the representation of the work of another person as your own will be grounds for receiving a failing grade in the course.  \n",
    "- Use of [Large Language Generative Models](https://www.depts.ttu.edu/tlpdc/AIUSeAllowedwithDisclosureUpdated.pdf) is acceptable provided the acknowledgement discussed in the link is included. \n",
    "- [Suggestion for citing use of Language Generative Models](https://ttu.blackboard.com/bbcswebdav/institution/Recommended%20Syllabus%20Statements/AI%20Use%20Allowed%20with%20Disclosure%20and%20Citation.pdf)\n",
    "\n",
    "## Additional Recommended Statements\n",
    "1. [Discrimination, Harassment, and Sexual Violence Statement](https://www.depts.ttu.edu/tlpdc/DiscriminationHarrasmentSexualViolenceStatement.pdf)\n",
    "2. [Civility in the Classroom Statement](https://www.depts.ttu.edu/tlpdc/CivilityInTheClassroomStatement.pdf)\n",
    "3. [Plagarism Statement](https://ttu.blackboard.com/bbcswebdav/institution/Recommended%20Syllabus%20Statements/Plagiarism.pdf)\n",
    "3. [Student Support Statement](https://www.depts.ttu.edu/tlpdc/StudentSupportStatement.pdf)\n",
    "4. [Statement About Food Insecurity](https://www.depts.ttu.edu/tlpdc/FoodInsecurityStatement.pdf)\n",
    "   "
   ]
  }
 ],
 "metadata": {
  "kernelspec": {
   "display_name": "Python 3",
   "language": "python",
   "name": "python3"
  },
  "language_info": {
   "codemirror_mode": {
    "name": "ipython",
    "version": 3
   },
   "file_extension": ".py",
   "mimetype": "text/x-python",
   "name": "python",
   "nbconvert_exporter": "python",
   "pygments_lexer": "ipython3",
   "version": "3.8.10"
  }
 },
 "nbformat": 4,
 "nbformat_minor": 4
}
