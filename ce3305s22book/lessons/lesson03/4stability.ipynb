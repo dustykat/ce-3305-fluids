{
 "cells": [
  {
   "cell_type": "markdown",
   "metadata": {},
   "source": [
    "# Stability\n",
    "\n",
    "A floating body is STABLE if, when it is displaced, it returns to equilibrium.\n",
    "A floating body is UNSTABLE if, when it is displaced, it continues to move to a new equilibrium.\n",
    "\n",
    "```{figure} stability-1.png\n",
    "---\n",
    "width: 400px\n",
    "name: stability-1\n",
    "---\n",
    "Object floating in some liquid; tilted a bit - if the bouyancy-weight couple tends to return to initial position, then stable - otherwise will continue to overturn.\n",
    "```\n",
    "\n",
    "Consider a floating body tilted by an angle $\\Delta \\Theta$, as shown in {numref}`stability-1`. For the untilted body the point G is\n",
    "the centre of gravity of the body where the body weight, W, acts. The point B is the center of buoyancy\n",
    "(the centroid of the displaced volume of fluid) where the upward buoyancy force, FB, acts.\n",
    "\n",
    "When the body is tilted the centre of buoyancy moves to a new position, B', because the shape of the\n",
    "displaced volume changes. A new point, M, may be defined, called the METACENTRE. This is the\n",
    "point where a vertical line drawn upwards from the new centre of buoyancy, B', of the tilted body\n",
    "intersects the line of symmetry of the body. The buoyancy force, FB, now acts through B'.\n",
    "\n",
    "From the center diagram in the figure we observe that W and FB generate a RESTORING MOMENT (Righting Moment) that\n",
    "rotates the body back to its untilted position. From the right hand diagram in the figure we can see that\n",
    "W and FB generate an OVERTURNING MOMENT that rotates the body even further in the tilted direction (the body gets too turnt!).\n",
    "\n",
    "Thus; if the metacenter, M, lies above the center of gravity, G, then the body is stable. In\n",
    "other words the METACENTRIC HEIGHT, MG, is positive ($MG = z_M - z_G > 0$). If the metacentre, M,\n",
    "lies below the centre of gravity, G, then the body is unstable. In other words the metacentric height, MG, is negative (MG < 0).\n",
    "\n",
    "```{figure} stability-2.png\n",
    "---\n",
    "width: 400px\n",
    "name: stability-2\n",
    "---\n",
    "Reference sketch for center of bouyancy and metacenter distances.\n",
    "```\n",
    "\n",
    "The metacentric height, MG, is given by $$ MG = MB - GB = \\frac{I}{V_s} - GB$$,\n",
    "where where I is the 2nd moment of area of the plan section of the body\n",
    "where it cuts the waterline (this is the solid plane surface you’d see\n",
    "if you cut horizontally through a solid body at the water surface\n",
    "lifted the top part up and looked at the bottom of it!), VS is the\n",
    "submerged volume (i.e. volume of fluid displaced) and GB is the\n",
    "distance between the centre of gravity and the centre of buoyancy\n",
    "($= z_G – z_B$). {numref}`stability-2` is a reference sketch for the various distances."
   ]
  },
  {
   "cell_type": "markdown",
   "metadata": {},
   "source": [
    "## Strategy for solving buoyancy/stability problems\n",
    "The usual problem solving protocol works fine, but the additional governing principles/solution algorithm include:\n",
    "\n",
    "1. From geometry of body and density of fluid and body equate; Weight of displaced fluid = Total weight of body. This gives the depth of immersion of the body or the weight of the body, whichever is unknown.\n",
    "2. To assess stability, first find the location of the centre of gravity G of the body.\n",
    "3. Then, find the location of the centre of buoyancy B (centroid of displaced volume). For a regularly shaped body this will be at half the height of the immersed portion of the body.\n",
    "4. Calculate the distance GB.\n",
    "5. Calculate MB, using MB = I / VS. Note $I = \\pi \\frac{D^4}{64}$ for a circular section body and $\\frac{bd^3}{12}$ for a rectangular section body (D is diameter, b and d are the sides of the rectangle).\n",
    "6. Calculate metacentric height, $MG (= z_M – z_G)$, from MG = MB – GB. If MG > 0 then body is stable. If MG < 0 then body is unstable."
   ]
  },
  {
   "cell_type": "markdown",
   "metadata": {},
   "source": [
    "## Example\n",
    "\n",
    "A solid cylindrical pine (SG=0.5) [spar buoy](https://norfloat.com/aids-to-navigation/navigation-buoys-intro/channel-marker-spar-buoys/) has a cylindrical lead (SG=11.3) weight attached as\n",
    "shown in {numref}`stability-example`. \n",
    "\n",
    "```{figure} stability-example.png\n",
    "---\n",
    "width: 400px\n",
    "name: stability-example\n",
    "---\n",
    "Schematic of a spar buoy.\n",
    "```\n",
    "\n",
    "Determine: \n",
    "1. The equilibrium position (i.e. depth of immersion) of the buoy in seawater (SG=1.03). \n",
    "2. The metacentric height and show that the buoy is stable."
   ]
  },
  {
   "cell_type": "code",
   "execution_count": null,
   "metadata": {},
   "outputs": [],
   "source": [
    "# sketch here"
   ]
  },
  {
   "cell_type": "code",
   "execution_count": null,
   "metadata": {},
   "outputs": [],
   "source": [
    "# list known quantities"
   ]
  },
  {
   "cell_type": "code",
   "execution_count": null,
   "metadata": {},
   "outputs": [],
   "source": [
    "# list unknown quantities"
   ]
  },
  {
   "cell_type": "markdown",
   "metadata": {},
   "source": [
    "### governing principles\n",
    "Weight of fluid displaced = Weight of body"
   ]
  },
  {
   "cell_type": "markdown",
   "metadata": {},
   "source": [
    "### solution (step-by-step)\n"
   ]
  },
  {
   "cell_type": "markdown",
   "metadata": {},
   "source": [
    "# discussion\n",
    "\n",
    "N\n",
    "become unstable? If the buoy is stable when MG > 0 and unstable when MG < 0, we can say that the\n",
    "limit between being stable or unstable is when MG = 0. In this case MB = GB. If you do the problem\n",
    "again, setting the length of the pine section as L (instead of 4.88m), and equating MB = GB, you can\n",
    "solve for L (by trial and error) to give the maximum length before instability sets in. "
   ]
  }
 ],
 "metadata": {
  "kernelspec": {
   "display_name": "Python 3",
   "language": "python",
   "name": "python3"
  },
  "language_info": {
   "codemirror_mode": {
    "name": "ipython",
    "version": 3
   },
   "file_extension": ".py",
   "mimetype": "text/x-python",
   "name": "python",
   "nbconvert_exporter": "python",
   "pygments_lexer": "ipython3",
   "version": "3.8.10"
  }
 },
 "nbformat": 4,
 "nbformat_minor": 4
}
