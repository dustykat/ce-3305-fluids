{
 "cells": [
  {
   "cell_type": "markdown",
   "metadata": {},
   "source": [
    "**Download** (right-click, save target as ...) this page as a Jupyterlab notebook from: [ES-8](http://54.243.252.9/ce-3305-webroot/2-Exercises/ES8/ES8.ipynb)\n",
    "\n",
    "___"
   ]
  },
  {
   "cell_type": "markdown",
   "metadata": {},
   "source": [
    "# <font color=darkblue>CE 3305 Engineering Fluid Mechanics <br> Summer 2022 Exercise Set 8</font>\n",
    "\n",
    "**LAST NAME, FIRST NAME**\n",
    "\n",
    "**R00000000**\n",
    "\n",
    "___\n",
    "\n",
    "### Purpose : \n",
    "Application of continunity to relate flow area and velocity to volumetric (or mass) flow rate.\n",
    "### Assessment Criteria : \n",
    "Completion, plausible solutions, use JupyterLab as a calculator.\n",
    "___"
   ]
  },
  {
   "cell_type": "markdown",
   "metadata": {},
   "source": [
    "### Problem 1.\n",
    "\n",
    "Figure 1 is a schematic of flow in a rectangular channel that is 1.2 m wide. The velocity distribution measured perpendicular from the channel\n",
    "bottom is shown on the figure. \n",
    "\n",
    "<figure align=\"center\">\n",
    "<!--<img src=\"./bridgepier.png\" width=\"300\" >-->\n",
    "<img src=\"http://54.243.252.9/ce-3305-webroot/2-Exercises/ES8/channel1.png\" width=\"300\" >\n",
    "<figcaption>Figure 1: Channel elevation view </figcaption>\n",
    "</figure>\n",
    "\n",
    "Estimate the discharge in the channel."
   ]
  },
  {
   "cell_type": "code",
   "execution_count": null,
   "metadata": {},
   "outputs": [],
   "source": [
    "# sketch here"
   ]
  },
  {
   "cell_type": "code",
   "execution_count": null,
   "metadata": {},
   "outputs": [],
   "source": [
    "# list known quantities"
   ]
  },
  {
   "cell_type": "code",
   "execution_count": null,
   "metadata": {},
   "outputs": [],
   "source": [
    "# list unknown quantities"
   ]
  },
  {
   "cell_type": "code",
   "execution_count": null,
   "metadata": {},
   "outputs": [],
   "source": [
    "# governing principles"
   ]
  },
  {
   "cell_type": "code",
   "execution_count": 14,
   "metadata": {},
   "outputs": [
    {
     "name": "stdout",
     "output_type": "stream",
     "text": [
      "Discharge in m^3/sec is 0.743\n"
     ]
    }
   ],
   "source": [
    "# solution (step-by-step)\n",
    "import math\n",
    "zstar = 1.0 #m\n",
    "ystar = zstar*math.cos(math.pi*30.0/180.0)\n",
    "width = 1.2 #m\n",
    "discharge = width*(3/4)*ystar**(4/3)\n",
    "print(\"Discharge in m^3/sec is\",round(discharge,3))"
   ]
  },
  {
   "cell_type": "code",
   "execution_count": null,
   "metadata": {},
   "outputs": [],
   "source": [
    "# discussion"
   ]
  },
  {
   "cell_type": "markdown",
   "metadata": {},
   "source": [
    "---"
   ]
  },
  {
   "cell_type": "markdown",
   "metadata": {},
   "source": [
    "### Problem 2\n",
    "\n",
    "Figure 2 is a cross section of a heat exchanger comprised of\n",
    "three circular pipes housed inside a larger circular pipe. The internal diameter of the\n",
    "three smaller pipes is 2.5 cm and the pipe wall thickness is 3 mm. The inside diameter\n",
    "of the larger pipe is 8 cm. \n",
    "\n",
    "<figure align=\"center\">\n",
    "<!--<img src=\"./bridgepier.png\" width=\"300\" >-->\n",
    "<img src=\"http://54.243.252.9/ce-3305-webroot/2-Exercises/ES8/heatexchange8.png\" width=\"300\" >\n",
    "<figcaption>Figure 2: Heat exchanger schematic </figcaption>\n",
    "</figure>\n",
    "\n",
    "If the velocity of the fluid in the region between the smaller\n",
    "pipes and the larger pipe is 10 m/s, what is the discharge in m3/s?"
   ]
  },
  {
   "cell_type": "code",
   "execution_count": null,
   "metadata": {},
   "outputs": [],
   "source": [
    "# sketch here"
   ]
  },
  {
   "cell_type": "code",
   "execution_count": null,
   "metadata": {},
   "outputs": [],
   "source": [
    "# list known quantities"
   ]
  },
  {
   "cell_type": "code",
   "execution_count": null,
   "metadata": {},
   "outputs": [],
   "source": [
    "# list unknown quantities"
   ]
  },
  {
   "cell_type": "code",
   "execution_count": null,
   "metadata": {},
   "outputs": [],
   "source": [
    "# governing principles"
   ]
  },
  {
   "cell_type": "code",
   "execution_count": 17,
   "metadata": {},
   "outputs": [
    {
     "name": "stdout",
     "output_type": "stream",
     "text": [
      "Discharge in m^3/sec is 0.028\n"
     ]
    }
   ],
   "source": [
    "# solution (step-by-step)\n",
    "import math\n",
    "Diameter = 8 #cm\n",
    "diameter = 3.1 #cm\n",
    "velocity = 10 #m/sec\n",
    "area = 0.25*math.pi*Diameter**2 - 3*0.25*math.pi*diameter**2\n",
    "area = area/(100**2)\n",
    "discharge = area*velocity\n",
    "print(\"Discharge in m^3/sec is\",round(discharge,3))"
   ]
  },
  {
   "cell_type": "code",
   "execution_count": null,
   "metadata": {},
   "outputs": [],
   "source": [
    "# discussion"
   ]
  },
  {
   "cell_type": "markdown",
   "metadata": {},
   "source": [
    "---"
   ]
  },
  {
   "cell_type": "markdown",
   "metadata": {},
   "source": [
    "### Problem 3\n",
    "\n",
    "Figure 3 is a schematic a tank with a drain in the bottom\n",
    "that has cross-sectional area of 0.0025 $m^2$ and an inlet line on the side with a cross-\n",
    "sectional area of 0.0025 $m^2$, as shown. The cross-sectional area of the tank is 0.1 $m^2$.\n",
    "The velocity of the liquid flowing out the bottom hole is V = $\\sqrt{2 gh}$, where h is the\n",
    "height of the water surface above the outlet. \n",
    "\n",
    "<figure align=\"center\">\n",
    "<!--<img src=\"./bridgepier.png\" width=\"300\" >-->\n",
    "<img src=\"http://54.243.252.9/ce-3305-webroot/2-Exercises/ES8/tankdrain8.png\" width=\"300\" >\n",
    "<figcaption>Figure 3: Surge tank schematic </figcaption>\n",
    "</figure>\n",
    "\n",
    "At an instant in time, the water level in\n",
    "the tank is 1 m and rising at the rate of 0.1 cm/s. The liquid is incompressible. Find\n",
    "the velocity of the liquid through the inlet."
   ]
  },
  {
   "cell_type": "code",
   "execution_count": null,
   "metadata": {},
   "outputs": [],
   "source": [
    "# sketch here"
   ]
  },
  {
   "cell_type": "code",
   "execution_count": null,
   "metadata": {},
   "outputs": [],
   "source": [
    "# list known quantities"
   ]
  },
  {
   "cell_type": "code",
   "execution_count": null,
   "metadata": {},
   "outputs": [],
   "source": [
    "# list unknown quantities"
   ]
  },
  {
   "cell_type": "code",
   "execution_count": null,
   "metadata": {},
   "outputs": [],
   "source": [
    "# governing principles"
   ]
  },
  {
   "cell_type": "code",
   "execution_count": 21,
   "metadata": {},
   "outputs": [
    {
     "name": "stdout",
     "output_type": "stream",
     "text": [
      "Inlet velocity in m/sec is  4.469\n"
     ]
    }
   ],
   "source": [
    "# solution (step-by-step)\n",
    "def vout(h):\n",
    "    vout = math.sqrt(2*9.81*h)\n",
    "    return vout\n",
    "\n",
    "asurf = 0.1\n",
    "ainlet = 0.0025\n",
    "aoutlet = 0.0025\n",
    "dhdt = 0.001\n",
    "h = 1\n",
    "vinlet = (asurf*dhdt+vout(h)*aoutlet)/ainlet\n",
    "print(\"Inlet velocity in m/sec is \",round(vinlet,3))\n"
   ]
  },
  {
   "cell_type": "code",
   "execution_count": null,
   "metadata": {},
   "outputs": [],
   "source": [
    "# discussion"
   ]
  },
  {
   "cell_type": "markdown",
   "metadata": {},
   "source": [
    "---"
   ]
  },
  {
   "cell_type": "markdown",
   "metadata": {},
   "source": [
    "### Problem 4.\n",
    "\n",
    "A pipe with a 2 m diameter carries water with mean section velocity of 4 m/s. \n",
    "What is the volumetric discharge in cubic meters per second?\n"
   ]
  },
  {
   "cell_type": "code",
   "execution_count": null,
   "metadata": {},
   "outputs": [],
   "source": [
    "# sketch here"
   ]
  },
  {
   "cell_type": "code",
   "execution_count": null,
   "metadata": {},
   "outputs": [],
   "source": [
    "# list known quantities"
   ]
  },
  {
   "cell_type": "code",
   "execution_count": null,
   "metadata": {},
   "outputs": [],
   "source": [
    "# list unknown quantities"
   ]
  },
  {
   "cell_type": "code",
   "execution_count": null,
   "metadata": {},
   "outputs": [],
   "source": [
    "# governing principles"
   ]
  },
  {
   "cell_type": "code",
   "execution_count": 22,
   "metadata": {},
   "outputs": [
    {
     "name": "stdout",
     "output_type": "stream",
     "text": [
      "Discharge in m^3/s 12.566\n"
     ]
    }
   ],
   "source": [
    "# solution (step-by-step)\n",
    "import math\n",
    "diameter = 2.0\n",
    "area = (math.pi*diameter**2)/4.0\n",
    "meanV = 4\n",
    "discharge = area*meanV\n",
    "print(\"Discharge in m^3/s\",round(discharge,3))"
   ]
  },
  {
   "cell_type": "code",
   "execution_count": null,
   "metadata": {},
   "outputs": [],
   "source": [
    "# discussion"
   ]
  },
  {
   "cell_type": "markdown",
   "metadata": {},
   "source": [
    "---"
   ]
  },
  {
   "cell_type": "markdown",
   "metadata": {},
   "source": [
    "### Problem 5.\n",
    "\n",
    "Water enters the lock of a ship canal through 180 ports, each port having a 2 ft (0.6 m) by 2 ft (0.6 m) cross section. \n",
    "The lock is 900 ft (274.4 m) long and 105 ft (32.01 m ) wide and 50 ft (15.24 m) deep.\n",
    "The lock is designed so that the water surface in it will rise at a maximum rate of 6 ft/min (1.83 m/min). \n",
    "For this condition, what is the mean section velocity in each port?"
   ]
  },
  {
   "cell_type": "code",
   "execution_count": null,
   "metadata": {},
   "outputs": [],
   "source": [
    "# sketch here"
   ]
  },
  {
   "cell_type": "code",
   "execution_count": null,
   "metadata": {},
   "outputs": [],
   "source": [
    "# list known quantities"
   ]
  },
  {
   "cell_type": "code",
   "execution_count": null,
   "metadata": {},
   "outputs": [],
   "source": [
    "# list unknown quantities"
   ]
  },
  {
   "cell_type": "code",
   "execution_count": null,
   "metadata": {},
   "outputs": [],
   "source": [
    "# governing principles"
   ]
  },
  {
   "cell_type": "code",
   "execution_count": 24,
   "metadata": {},
   "outputs": [
    {
     "name": "stdout",
     "output_type": "stream",
     "text": [
      "Inlet velocity in ft/sec 13.125\n"
     ]
    }
   ],
   "source": [
    "# solution (step-by-step)\n",
    "areas = 900*105\n",
    "dhdt = 6\n",
    "areai = 2*2\n",
    "howmanyports = 180\n",
    "velocityin = dhdt*areas/(180*areai)\n",
    "print(\"Inlet velocity in ft/sec\",round(velocityin/60,3))"
   ]
  },
  {
   "cell_type": "code",
   "execution_count": null,
   "metadata": {},
   "outputs": [],
   "source": [
    "# discussion"
   ]
  },
  {
   "cell_type": "markdown",
   "metadata": {},
   "source": [
    "---"
   ]
  }
 ],
 "metadata": {
  "kernelspec": {
   "display_name": "Python 3",
   "language": "python",
   "name": "python3"
  },
  "language_info": {
   "codemirror_mode": {
    "name": "ipython",
    "version": 3
   },
   "file_extension": ".py",
   "mimetype": "text/x-python",
   "name": "python",
   "nbconvert_exporter": "python",
   "pygments_lexer": "ipython3",
   "version": "3.8.10"
  }
 },
 "nbformat": 4,
 "nbformat_minor": 4
}
