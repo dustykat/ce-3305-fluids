{
 "cells": [
  {
   "cell_type": "markdown",
   "metadata": {},
   "source": [
    "# Introduction\n",
    "\n",
    ":::{admonition} Hints, Notes, and Warnings\n",
    "Throughout this book, sections like this one appear containing either \"Notes\", or some kind of \"Hint\".   \n",
    "Warnings are probably not relevant in this book, but are more useful for a operations manual.  There might be a few to caution against something dumb.\n",
    ":::\n",
    "\n",
    ":::{note}\n",
    "Here is a note. This Jupyter Book is a work in progress, but has the distinct advantage of being able to share working scripts, plus always be available as long as AWS is in business. \n",
    ":::\n",
    "\n",
    ":::{warning}\n",
    "Here is a warning block.  In the future, when I learn how, this Jupyter Book will be interactive so you can run the scripts directy on your browser.\n",
    ":::\n",
    "\n",
    "## Lesson Outline\n",
    "1. Syllabus overview\n",
    "2. Problem Solving and Documentation\n",
    "3. Computational Hydraulics\n",
    "4. What is Fluid Mechanics?\n",
    "5. Dimensions and Units\n",
    "\n",
    "### Syllabus Overview\n",
    "\n",
    "The working syllabus is located at [http://54.243.252.9/ce-3305-webroot/0-Syllabus/ce-3305-2022-2-syllabus.html](http://54.243.252.9/ce-3305-webroot/0-Syllabus/ce-3305-2022-2-syllabus.html). The overview summarizes the contents of the syllabus, and how to access through blackboard, and how to upload homeworks (demo in face-to-face class; on-line will have to suffice with the video).  The first quiz will ask for the URL to the instructor notes entry page.\n",
    "\n",
    "### Readings \n",
    "\n",
    "1. DF Elger, BC Williams, Crowe, CT and JA Roberson, *Engineering Fluid Mechanics 10th edition*, John Wiley & Sons, Inc., 2013. [Engineering Fluid Mechanics 10-th Ed. Chapter 1](http://54.243.252.9/ce-3305-webroot/3-Readings/EFM-1.pdf)\n",
    "\n",
    "2. Cleveland, T. G. (2014) *Fluid Mechanics Notes to Accompany CE 3305 at [Jade-Holshule](https://www.jade-hs.de/en/the-university/departments/engineering/)  (TTU Study Abroad 2015-2019)*, Department of Civil, Environmental, and Construction Engineering, Whitacre College of Engineering. [http://54.243.252.9/ce-3305-webroot/3-Readings/ce3305-lecture-002.1.pdf](http://54.243.252.9/ce-3305-webroot/3-Readings/ce3305-lecture-001.1.pdf)\n"
   ]
  },
  {
   "cell_type": "code",
   "execution_count": null,
   "metadata": {},
   "outputs": [],
   "source": []
  }
 ],
 "metadata": {
  "kernelspec": {
   "display_name": "Python 3",
   "language": "python",
   "name": "python3"
  },
  "language_info": {
   "codemirror_mode": {
    "name": "ipython",
    "version": 3
   },
   "file_extension": ".py",
   "mimetype": "text/x-python",
   "name": "python",
   "nbconvert_exporter": "python",
   "pygments_lexer": "ipython3",
   "version": "3.8.10"
  }
 },
 "nbformat": 4,
 "nbformat_minor": 4
}