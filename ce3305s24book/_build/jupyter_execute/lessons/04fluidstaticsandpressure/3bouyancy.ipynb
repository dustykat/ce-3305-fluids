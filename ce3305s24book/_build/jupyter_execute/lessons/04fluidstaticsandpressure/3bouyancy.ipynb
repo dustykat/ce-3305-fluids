{
 "cells": [
  {
   "cell_type": "markdown",
   "metadata": {},
   "source": [
    "# Bouyancy \n",
    "\n",
    "Buoyancy is the upward force exerted by a fluid on a partially or fully immersed object. In a column of liquid, pressure increases with depth as a result of the weight of the overlying liquid. Thus the pressure at the bottom of a column of liquid is greater than at the top of the column. Similarly, the pressure at the bottom of an object submerged in a liquid is greater than at the top of the object. The pressure difference results in a net upward force on the object. The magnitude of the force is proportional to the pressure difference, and (as explained by Archimedes' principle) is equivalent to the weight of the displaced fluid. "
   ]
  },
  {
   "cell_type": "markdown",
   "metadata": {},
   "source": [
    "## Will it float?\n",
    "\n",
    "[Will it float?](https://www.google.com/search?client=firefox-b-1-d&q=will+it+float) was a popular TV segment on Late Night with David Letterman.  It is a direct appeal to bouyancy in terms of everyday objects, of course its purpose was entertainment. \n",
    "\n",
    "We can use bouyancy principles to answer the question for most things (not nearly as fun as the TV show's way to answer the question).\n",
    "\n",
    "## Example\n",
    "\n",
    "Imagine a cube of material, 1-foot on each side.  Further imagine the cube has specific weight ($\\gamma = 40 \\frac{lbf}{ft^3}$).  The cube is placed in the \"will it float\" tank. The tank is filled with water.  How deep will it float (or will it sink)?\n",
    "\n",
    "Now recall our problem protocol.\n",
    "\n",
    "\n",
    "1. State the problem\n",
    "2. Sketch the situation (sketching no matter how ugly helps organize thoughts!). Identify (list) known quantities\n",
    "3. Identify (list) unknown quantities\n",
    "4. Identify (list) governing principles and equations that appear relevant to the problem\n",
    "5. Starting from one or more governing principles and the known quantities solve for the unknowns.\n",
    "6. Validate/discuss results\n",
    "\n",
    "#### State the problem\n",
    "\n",
    "```{figure} will-it-float-setup.png\n",
    "---\n",
    "width: 400px\n",
    "name: will-it-float-setup\n",
    "---\n",
    "Cube floating in water; problem statement\n",
    "```\n",
    "\n",
    "#### Sketch and list knowns\n",
    "\n",
    "```{figure} will-it-floatFBD.png\n",
    "---\n",
    "width: 200px\n",
    "name: will-it-floatFBD\n",
    "---\n",
    "Vertical force balance on the cube\n",
    "```\n",
    "The known values are:\n",
    "\n",
    "- $\\rho g = 40 \\frac{lbf}{ft^3}$\n",
    "- $V_{block} = (1ft)(1ft)(1ft) = 1 ft^3$\n",
    "\n",
    "#### Unknowns\n",
    "\n",
    "Draft of the block ($d$ in the drawing)\n",
    "\n",
    "#### Governing Principles\n",
    "\n",
    "```{figure} will-it-float-gov-eqn.png\n",
    "---\n",
    "width: 400px\n",
    "name: will-it-float-gov-eqn\n",
    "---\n",
    "Governing principles (vertical force balance, and definition of bouyant force)\n",
    "```\n",
    "\n",
    "#### Solve for unknowns\n",
    "```{figure} will-it-float-soln1.png\n",
    "---\n",
    "width: 400px\n",
    "name: will-it-float-soln1\n",
    "---\n",
    "Finding the volume displaced to make bouyant force and weight of block equal\n",
    "```\n",
    "\n",
    "```{figure} will-it-float-soln2.png\n",
    "---\n",
    "width: 400px\n",
    "name: will-it-float-soln2\n",
    "---\n",
    "Insert numerical values and compute draft\n",
    "```\n",
    "#### Validate/Discuss\n",
    "\n",
    "Now you can do \"will it float\" on your own, so if there is ever a revival of the sketch you can win serious prizes!\n",
    "\n",
    "This kind of computation is vital in near shore vessel (boat) operations to prevent running aground.  It also plays a role in offshore oil platforms in controlling their stability in rough seas."
   ]
  },
  {
   "cell_type": "markdown",
   "metadata": {},
   "source": [
    "## Videos\n",
    "\n",
    "1. [Bouyancy (YouTube)](https://www.youtube.com/watch?v=6UWx2LVy61g)"
   ]
  }
 ],
 "metadata": {
  "kernelspec": {
   "display_name": "Python 3",
   "language": "python",
   "name": "python3"
  },
  "language_info": {
   "codemirror_mode": {
    "name": "ipython",
    "version": 3
   },
   "file_extension": ".py",
   "mimetype": "text/x-python",
   "name": "python",
   "nbconvert_exporter": "python",
   "pygments_lexer": "ipython3",
   "version": "3.8.10"
  }
 },
 "nbformat": 4,
 "nbformat_minor": 4
}