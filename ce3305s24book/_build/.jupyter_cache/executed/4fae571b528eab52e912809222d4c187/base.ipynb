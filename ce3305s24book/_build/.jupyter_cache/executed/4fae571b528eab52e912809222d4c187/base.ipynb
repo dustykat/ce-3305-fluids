{
 "cells": [
  {
   "cell_type": "code",
   "execution_count": 1,
   "metadata": {},
   "outputs": [
    {
     "name": "stdout",
     "output_type": "stream",
     "text": [
      "1/4 inch tie rod strength =  7363.108 lbs\n"
     ]
    }
   ],
   "source": [
    "import math\n",
    "tensile = 150000 #psi\n",
    "diameter = 0.25 #inches\n",
    "area = 0.25*math.pi*diameter**2 #area in inches\n",
    "force = tensile*area\n",
    "print('1/4 inch tie rod strength = ', round(force,3), 'lbs')"
   ]
  },
  {
   "cell_type": "code",
   "execution_count": 2,
   "metadata": {},
   "outputs": [
    {
     "name": "stdout",
     "output_type": "stream",
     "text": [
      "1/2 inch tie rod strength =  11780.972 lbs\n"
     ]
    }
   ],
   "source": [
    "import math\n",
    "tensile = 60000 #psi\n",
    "diameter = 0.50 #inches\n",
    "area = 0.25*math.pi*diameter**2 #area in inches\n",
    "force = tensile*area\n",
    "print('1/2 inch tie rod strength = ', round(force,3), 'lbs')"
   ]
  }
 ],
 "metadata": {
  "kernelspec": {
   "display_name": "Python 3",
   "language": "python",
   "name": "python3"
  },
  "language_info": {
   "codemirror_mode": {
    "name": "ipython",
    "version": 3
   },
   "file_extension": ".py",
   "mimetype": "text/x-python",
   "name": "python",
   "nbconvert_exporter": "python",
   "pygments_lexer": "ipython3",
   "version": "3.8.10"
  }
 },
 "nbformat": 4,
 "nbformat_minor": 4
}