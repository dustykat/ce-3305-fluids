{
 "cells": [
  {
   "cell_type": "code",
   "execution_count": 1,
   "metadata": {},
   "outputs": [
    {
     "name": "stdout",
     "output_type": "stream",
     "text": [
      "Applied force is 2000 lbm-ft/s^2\n"
     ]
    }
   ],
   "source": [
    "mass = 20 #mass in pounds-mass\n",
    "acceleration = 100 #in ft/s/s\n",
    "force = mass*acceleration\n",
    "print(\"Applied force is\",round(force,2),\"lbm-ft/s^2\")"
   ]
  },
  {
   "cell_type": "code",
   "execution_count": 2,
   "metadata": {},
   "outputs": [
    {
     "name": "stdout",
     "output_type": "stream",
     "text": [
      "Applied force is 62.11 lbf\n"
     ]
    }
   ],
   "source": [
    "grabity = 32.2 #gravitational acceleration in US customary units\n",
    "force = force*(1.0/(1.0*grabity))\n",
    "print(\"Applied force is\",round(force,2),\"lbf\")"
   ]
  },
  {
   "cell_type": "code",
   "execution_count": null,
   "metadata": {},
   "outputs": [],
   "source": []
  }
 ],
 "metadata": {
  "kernelspec": {
   "display_name": "Python 3",
   "language": "python",
   "name": "python3"
  },
  "language_info": {
   "codemirror_mode": {
    "name": "ipython",
    "version": 3
   },
   "file_extension": ".py",
   "mimetype": "text/x-python",
   "name": "python",
   "nbconvert_exporter": "python",
   "pygments_lexer": "ipython3",
   "version": "3.8.10"
  }
 },
 "nbformat": 4,
 "nbformat_minor": 4
}