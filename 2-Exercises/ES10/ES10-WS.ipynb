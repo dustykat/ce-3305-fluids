{
 "cells": [
  {
   "cell_type": "markdown",
   "metadata": {},
   "source": [
    "# <font color=darkblue>CE 3305 Engineering Fluid Mechanics <br> Spring 2024 Exercise Set 10</font>\n",
    "\n",
    "**LAST NAME, FIRST NAME**\n",
    "\n",
    "**R00000000**\n",
    "\n",
    "___\n",
    "\n",
    "### Purpose : \n",
    "Application of mass and energy balances\n",
    "### Assessment Criteria : \n",
    "Completion, plausible solutions, use JupyterLab as a calculator.\n",
    "___"
   ]
  },
  {
   "cell_type": "markdown",
   "metadata": {},
   "source": [
    "### Problem 1.\n",
    "\n",
    "![](balloon.png)\n",
    "\n",
    "The figure is a schematic of a balloon rocket held in place by a force $F$.  \n",
    "The nozzle is a 0.8 $cm$ diameter tube, and an air jet exits the nozzle with a speed of 45 $m/s$ and a density of 1.2 $kg/m^3$.  \n",
    "\n",
    "Determine:\n",
    "1. The force $F$ needed to hold the balloon stationary.\n",
    "\n",
    "---"
   ]
  },
  {
   "cell_type": "markdown",
   "metadata": {},
   "source": [
    "**# sketch here**\n",
    "\n",
    "![](baloonCV.png)"
   ]
  },
  {
   "cell_type": "markdown",
   "metadata": {},
   "source": [
    "**# list known quantities**\n",
    "\n",
    "![](baloonKnonw.png)"
   ]
  },
  {
   "cell_type": "markdown",
   "metadata": {},
   "source": [
    "**# list unknown quantities**\n",
    "\n",
    "$F$"
   ]
  },
  {
   "cell_type": "markdown",
   "metadata": {},
   "source": [
    "**# governing principles**\n",
    "\n",
    "1. Continunity\n",
    "2. Conservation of momentum; the linear type"
   ]
  },
  {
   "cell_type": "markdown",
   "metadata": {},
   "source": [
    "**# solution (step-by-step)**\n",
    "\n",
    "1. Conservation-o-Momentum\n",
    "\n",
    "![](conservationM.png)\n",
    "\n",
    "Then some algerbra\n",
    "\n",
    "![](balloonAlgebra.png)"
   ]
  },
  {
   "cell_type": "code",
   "execution_count": 3,
   "metadata": {},
   "outputs": [
    {
     "name": "stdout",
     "output_type": "stream",
     "text": [
      "May the Force of : 0.122 N be with you!\n"
     ]
    }
   ],
   "source": [
    "import math\n",
    "rho = 1.2 #kg/m^3\n",
    "v_i = 45 #m/sec\n",
    "pie = math.pi\n",
    "fore = math.sqrt(16)\n",
    "diameter = 0.008 # meters\n",
    "farce = rho*(v_i**2)*(pie*diameter**2/fore)\n",
    "print(\"May the Force of :\",round(farce,3),\"N be with you!\")"
   ]
  },
  {
   "cell_type": "markdown",
   "metadata": {},
   "source": [
    "**# discussion**\n",
    "Other than the smartassery in the script above.  Relative straight forward application of momentum.  Obviously it only applies for a short time: from a solution circa 2014:\n",
    "\n",
    "![](balloonDiscussion.png)"
   ]
  },
  {
   "cell_type": "markdown",
   "metadata": {},
   "source": [
    "---\n",
    "\n",
    "### Problem 2.\n",
    "\n",
    "Below is a schematic of an elbow fitting in a pipe system.  \n",
    "\n",
    "![](elbow.png)\n",
    "\n",
    "The gage pressure throughout the horizontal 90$^o$ bend (the elbow lies in the horizontal plane -- the figure is a plan view of the bend) is 300 $kPa$. The pipe diameter is 1 $m$ and the water (at 10 $^oC$) flow rate is 10 $m^3/s$\n",
    "\n",
    "Determine:\n",
    "1. The $x-$component of force must be applied to the bend to hold in in place against the water action.\n",
    "\n",
    "\n",
    "---"
   ]
  },
  {
   "cell_type": "markdown",
   "metadata": {},
   "source": [
    "**# sketch here**\n",
    "\n",
    "![](elbowsketch.png)"
   ]
  },
  {
   "cell_type": "markdown",
   "metadata": {},
   "source": [
    "**# list known quantities**\n",
    "\n",
    "Q, diameter, pressure, $\\rho=1000$"
   ]
  },
  {
   "cell_type": "markdown",
   "metadata": {},
   "source": [
    "**# list unknown quantities**\n",
    "\n",
    "- $F_x$,$F_y$, Schrödinger's state."
   ]
  },
  {
   "cell_type": "markdown",
   "metadata": {},
   "source": [
    "**# governing principles**\n",
    "\n",
    "- momentum, continunity"
   ]
  },
  {
   "cell_type": "markdown",
   "metadata": {},
   "source": [
    "**# solution (step-by-step)**\n",
    "\n",
    "![](elbowSoln.png)"
   ]
  },
  {
   "cell_type": "code",
   "execution_count": 25,
   "metadata": {},
   "outputs": [
    {
     "name": "stdout",
     "output_type": "stream",
     "text": [
      "Flow :  10.0 m^3/s\n",
      "Velocity in :  12.732 m/s\n",
      "Force :  245619.4 N to the LEFT\n"
     ]
    }
   ],
   "source": [
    "rho = 1000 #kg/m^3\n",
    "diameter = 1.0 #m\n",
    "area = math.pi*diameter*diameter*0.25\n",
    "flow = 10.0 #m^3/s given\n",
    "pressure = 300e03 #Pa\n",
    "u_in=flow/area\n",
    "force_x=rho*(u_in*area)+(pressure*area) \n",
    "print(\"Flow : \",round(flow,3),\"m^3/s\")\n",
    "print(\"Velocity in : \",round(u_in,3),\"m/s\")\n",
    "print(\"Force : \",round(force_x,1),\"N to the LEFT\")"
   ]
  },
  {
   "cell_type": "markdown",
   "metadata": {},
   "source": [
    "**# discussion**\n",
    "\n",
    "Linear momentum as defined by RTT"
   ]
  },
  {
   "cell_type": "markdown",
   "metadata": {},
   "source": [
    "---\n",
    "\n",
    "### Problem 3.\n",
    "\n",
    "Figure 2 is a schematic of a pumped-storage system. How much power must be supplied to the water by the pump (in kilowatts) to pump water at $0.085~m^3/s$ at 20$^o$C from the lower to the upper reservoir?\n",
    "\n",
    "![](PumpUphill.png)\n",
    "\n",
    "The head loss in the pipes is $h_l = 0.018 \\frac{L}{D} \\frac{V^2}{2g}$ , where $L$ is the length of the pipe in meters, and $D$ is the diameter of the pipe in meters.\n",
    "\n",
    "Sketch the HGL and EGL for the system.\n",
    "\n",
    "---\n"
   ]
  },
  {
   "cell_type": "markdown",
   "metadata": {},
   "source": [
    "**# sketch here**"
   ]
  },
  {
   "cell_type": "markdown",
   "metadata": {},
   "source": [
    "**# list known quantities**\n",
    "- Pool elevations\n",
    "- Pipe lengths\n",
    "- Pipe diameters\n",
    "- $Q$\n",
    "- Head loss function"
   ]
  },
  {
   "cell_type": "markdown",
   "metadata": {},
   "source": [
    "**# list unknown quantities**\n",
    "- Added head\n",
    "- Power\n",
    "- EGL/HGL"
   ]
  },
  {
   "cell_type": "markdown",
   "metadata": {},
   "source": [
    "**# governing principles**\n",
    "- Continuinty\n",
    "- Modified bernoulli\n",
    "- Definition of flow work\n",
    "\n",
    "![](es10governingEqn.png)\n",
    "\n",
    "**# Solution**\n",
    "\n",
    "By hand <br>\n",
    "![](es10arithmetic.png)\n",
    "\n",
    "Using scripting language"
   ]
  },
  {
   "cell_type": "code",
   "execution_count": 12,
   "metadata": {},
   "outputs": [
    {
     "name": "stdout",
     "output_type": "stream",
     "text": [
      "Added head from pump :  57.783  meters at Q = : 0.085  m3/sec\n",
      "Power used : 48133.058  N-m/sec\n"
     ]
    }
   ],
   "source": [
    "# solution (step-by-step)\n",
    "import math\n",
    "flow = 0.085 #m^3/s\n",
    "diameter = 0.20 #m\n",
    "pie = math.pi\n",
    "gee = 9.8 #m/s/s\n",
    "#\n",
    "area = (pie*diameter**2)/4.0\n",
    "velocity = flow/area\n",
    "# guillotine function (head loss)\n",
    "def headloss(length,diameter,velocity,gee):\n",
    "    headloss = (0.018*length*velocity**2)/(2*diameter*gee)\n",
    "    return headloss\n",
    "length = 304+608\n",
    "pumphead = 42.7-15.2-(velocity**2)/(2*gee)+headloss(length,diameter,velocity,gee)\n",
    "print(\"Added head from pump : \",round(pumphead,3),\" meters at Q = :\",flow,\" m3/sec\")\n",
    "rho = 1000 #kg/m^3\n",
    "power = flow*rho*gee*pumphead\n",
    "print(\"Power used :\",round(power,3),\" N-m/sec\")"
   ]
  },
  {
   "cell_type": "markdown",
   "metadata": {},
   "source": [
    "Hand drawn\n",
    "\n",
    "![](es10EGL.png)"
   ]
  },
  {
   "cell_type": "markdown",
   "metadata": {},
   "source": [
    "**# discussion**\n",
    "\n",
    "Straight forward application of energy equation.  Note use of total head where possible - could have also used it at the left reservoir."
   ]
  },
  {
   "cell_type": "markdown",
   "metadata": {},
   "source": [
    "--- \n",
    "\n",
    "### Problem 4.\n",
    "\n",
    "Figure 1 is a schematic of a pipe with a series of holes used to sparge (introduce gas bubbles) gas into a larger volume. \n",
    "\n",
    "![](sparger10.png)\n",
    "\n",
    "The volumetric flow rate through each hole depends on the pressure difference across the hole and is given by\n",
    "$$Q = 0.67A_0(\\frac{2 \\Delta p}{\\rho})^{1/2} $$\n",
    "where $A_0$ is the area of the hole, $\\Delta p$ is the pressure difference across the hole, and $\\rho$ is the density of gas in the pipe. \n",
    "If the pipe is sufficiently large, the pressure will be uniform along the pipe. \n",
    "\n",
    "\n",
    "A distribution pipe for air at 20$^o~C$ is 0.5 meters in diameter and 10 m long. \n",
    "The gage pressure in the pipe is 100 Pa. The pressure outside the pipe is atmospheric at 1 bar. \n",
    "The hole diameter is 2.5 cm, and there are 50 holes per meter length of pipe. \n",
    "The pressure is constant in the pipe. \n",
    "\n",
    "Determine\n",
    "1. The velocity of air entering the pipe"
   ]
  },
  {
   "cell_type": "markdown",
   "metadata": {},
   "source": [
    "**# sketch here**\n",
    "\n",
    "![](sparger.png)"
   ]
  },
  {
   "cell_type": "markdown",
   "metadata": {},
   "source": [
    "**# discussion**\n",
    "\n",
    "A continunity, and PVNRT problem.  Some geometry too"
   ]
  },
  {
   "cell_type": "markdown",
   "metadata": {},
   "source": [
    "---"
   ]
  }
 ],
 "metadata": {
  "kernelspec": {
   "display_name": "Python 3",
   "language": "python",
   "name": "python3"
  },
  "language_info": {
   "codemirror_mode": {
    "name": "ipython",
    "version": 3
   },
   "file_extension": ".py",
   "mimetype": "text/x-python",
   "name": "python",
   "nbconvert_exporter": "python",
   "pygments_lexer": "ipython3",
   "version": "3.8.10"
  }
 },
 "nbformat": 4,
 "nbformat_minor": 4
}
