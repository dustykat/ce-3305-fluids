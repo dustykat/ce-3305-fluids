{
 "cells": [
  {
   "cell_type": "markdown",
   "metadata": {},
   "source": [
    "# <font color=darkblue>CE 3305 Engineering Fluid Mechanics <br> Spring 2024 Exercise Set 12</font>\n",
    "\n",
    "**LAST NAME, FIRST NAME**\n",
    "\n",
    "**R00000000**\n",
    "\n",
    "___\n",
    "\n",
    "### Purpose : \n",
    "Application of Dimensional Analysis and Similitude.\n",
    "### Assessment Criteria : \n",
    "Completion, plausible solutions, use JupyterLab or equivalent as a calculator.\n",
    "___"
   ]
  },
  {
   "cell_type": "markdown",
   "metadata": {},
   "source": [
    "### Problem 1. (Problem 8-19 pg.441)\n",
    "\n",
    "The discharge, $Q$, over the weir $A$ depends on the width, $b$, of the weir, the head, $H$ above the weir crest, and the gravitational acceleration constant, $g$.\n",
    "\n",
    "![](weir.png)\n",
    "\n",
    "For the case(s) where $Q$ is known to be directly proportional to $b$,\n",
    "\n",
    "Determine:\n",
    "1. The relation between $Q$ and these parameters.\n",
    "2. The resulting value for $Q$ if $H$ is doubled.\n",
    "\n",
    "---"
   ]
  },
  {
   "cell_type": "markdown",
   "metadata": {},
   "source": [
    "**sketch here**"
   ]
  },
  {
   "cell_type": "markdown",
   "metadata": {},
   "source": [
    "**list known quantities**\n",
    "\n",
    "$Q$,$b$,$H$,$g$"
   ]
  },
  {
   "cell_type": "markdown",
   "metadata": {},
   "source": [
    "**list unknown quantities**\n",
    "\n",
    "$pi$ groups relating $Q \\propto f(b,H,g) $"
   ]
  },
  {
   "cell_type": "markdown",
   "metadata": {},
   "source": [
    "**governing principles**\n",
    "\n",
    "Buckingham $\\Pi$ , exponent method\n"
   ]
  },
  {
   "cell_type": "markdown",
   "metadata": {},
   "source": [
    "**solution (step-by-step)**\n",
    "\n",
    "1. Buckingham Pi theorem: $n=4$ and $m=3$, therefore a single $\\Pi$ group will emerge\n",
    "1. $[Q] = [b]^a[H]^b[g]^c$  as dimensionalites: $[\\frac{L^3}{T}]=[L]^a[L]^b[\\frac{L}{T^2}]^c$\n",
    "2. Algebraic results for $[L]$ is $3=a+b+c$ and for $[T]$ is $2c = 1$\n",
    "3. Set values: $c=1/2$, $a=1$, $b=1+1/2$\n",
    "4. Construct $\\pi$ group: $\\frac{Q}{bH\\sqrt{gH}}=\\pi_1$\n",
    "5. Can express as $Q = \\pi_1 bH\\sqrt{gH}$\n",
    "6. Experiments to find $\\pi_1$"
   ]
  },
  {
   "cell_type": "code",
   "execution_count": 9,
   "metadata": {},
   "outputs": [
    {
     "name": "stdout",
     "output_type": "stream",
     "text": [
      "Q =  3.162  for H =  1.0\n",
      "Q =  8.944  for H =  2.0\n",
      "Ratio Q2/Q1 =  2.828  for ratio H2/H1 =  2.0\n"
     ]
    }
   ],
   "source": [
    "# code cell(s) here\n",
    "pi=1.0\n",
    "b=1.0\n",
    "H1=1.0\n",
    "g=10.0\n",
    "Q1 = pi*b*H1*(g*H1)**(1/2)\n",
    "print(\"Q = \",round(Q1,3),\" for H = \",round(H1,3))\n",
    "# double H\n",
    "H2=2.0*H1\n",
    "Q2 = pi*b*H2*(g*H2)**(1/2)\n",
    "print(\"Q = \",round(Q2,3),\" for H = \",round(H2,3))\n",
    "print(\"Ratio Q2/Q1 = \",round(Q2/Q1,3),\" for ratio H2/H1 = \",round(H2/H1,3))"
   ]
  },
  {
   "cell_type": "markdown",
   "metadata": {},
   "source": [
    "**discussion**\n",
    "\n",
    "Flow ratio increases superlinear compared to depth ratio.\n",
    "Flow ratio linear with width ratio."
   ]
  },
  {
   "cell_type": "markdown",
   "metadata": {},
   "source": [
    "---\n",
    "\n",
    "### Problem 2. (Problem 8-53 pg. 446)\n",
    "\n",
    "The flow of water around a bridge pier is to be studied with a $\\frac{1}{15}$ scale model.  \n",
    "\n",
    "![](bridge-pier-2.png)\n",
    "\n",
    "The anticipated river (prototype) velocity is 0.8 m/s.\n",
    "\n",
    "Determine:\n",
    "\n",
    "1. The water velocity in the model at the same temperature. \n",
    "\n",
    "---"
   ]
  },
  {
   "cell_type": "markdown",
   "metadata": {},
   "source": [
    "**sketch here**"
   ]
  },
  {
   "cell_type": "markdown",
   "metadata": {},
   "source": [
    "**list known quantities**"
   ]
  },
  {
   "cell_type": "markdown",
   "metadata": {},
   "source": [
    "**list unknown quantities**"
   ]
  },
  {
   "cell_type": "markdown",
   "metadata": {},
   "source": [
    "**governing principles**"
   ]
  },
  {
   "cell_type": "markdown",
   "metadata": {},
   "source": [
    "**solution (step-by-step)**"
   ]
  },
  {
   "cell_type": "code",
   "execution_count": 1,
   "metadata": {},
   "outputs": [],
   "source": [
    "# code cell(s) here"
   ]
  },
  {
   "cell_type": "markdown",
   "metadata": {},
   "source": [
    "**discussion**"
   ]
  },
  {
   "cell_type": "markdown",
   "metadata": {},
   "source": [
    "---\n",
    "\n",
    "### Problem 3. \n",
    "\n",
    "A smooth pipe prototype designed to carry crude oil:\n",
    "\n",
    "- $D = 47$ inches\n",
    "- $\\rho= 1.75$ slugs/$ft^3$\n",
    "- $\\mu= 4 \\times 10^{−4}~ lbf − s/ft^2$\n",
    "\n",
    "is to be modeled with a smooth pipe 4 inches in diameter carrying water (T =60$^o$F ).\n",
    "If the mean velocity in the prototype is to be 2 ft/s, what should be the mean velocity of the water in the model to ensure dynamically similar conditions?"
   ]
  },
  {
   "cell_type": "markdown",
   "metadata": {},
   "source": [
    "**sketch here**"
   ]
  },
  {
   "cell_type": "markdown",
   "metadata": {},
   "source": [
    "**list known quantities**"
   ]
  },
  {
   "cell_type": "markdown",
   "metadata": {},
   "source": [
    "**list unknown quantities**"
   ]
  },
  {
   "cell_type": "markdown",
   "metadata": {},
   "source": [
    "**governing principles**"
   ]
  },
  {
   "cell_type": "markdown",
   "metadata": {},
   "source": [
    "**solution (step-by-step)**"
   ]
  },
  {
   "cell_type": "code",
   "execution_count": 1,
   "metadata": {},
   "outputs": [],
   "source": [
    "# code cell(s) here"
   ]
  },
  {
   "cell_type": "markdown",
   "metadata": {},
   "source": [
    "**discussion**"
   ]
  }
 ],
 "metadata": {
  "kernelspec": {
   "display_name": "Python 3",
   "language": "python",
   "name": "python3"
  },
  "language_info": {
   "codemirror_mode": {
    "name": "ipython",
    "version": 3
   },
   "file_extension": ".py",
   "mimetype": "text/x-python",
   "name": "python",
   "nbconvert_exporter": "python",
   "pygments_lexer": "ipython3",
   "version": "3.8.10"
  }
 },
 "nbformat": 4,
 "nbformat_minor": 4
}
