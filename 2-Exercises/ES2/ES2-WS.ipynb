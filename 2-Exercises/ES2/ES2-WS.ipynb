{
 "cells": [
  {
   "cell_type": "markdown",
   "metadata": {},
   "source": [
    "**Download** (right-click, save target as ...) this page as a Jupyterlab notebook from: [ES-2](http://54.243.252.9/ce-3305-webroot/2-Exercises/ES2/ES2.ipynb)\n",
    "\n",
    "___"
   ]
  },
  {
   "cell_type": "markdown",
   "metadata": {},
   "source": [
    "# <font color=darkblue>CE 3305 Engineering Fluid Mechanics <br> Summer 2022 Exercise Set 2</font>\n",
    "\n",
    "**LAST NAME, FIRST NAME**\n",
    "\n",
    "**R00000000**\n",
    "\n",
    "___\n",
    "\n",
    "### Purpose : \n",
    "Use compressibility to relate pressure change to volume change. Apply definition\n",
    "of viscosity in Newtonian fluid.\n",
    "### Assessment Criteria : \n",
    "Completion, plausible solutions, use Jupyter Notebook as a calculator\n",
    "\n",
    "___"
   ]
  },
  {
   "cell_type": "markdown",
   "metadata": {},
   "source": [
    "### Problem 1.\n",
    "Calculate the pressure increase (∆p) required to reduce the volume of a mass of water by 2-percent (2 %)"
   ]
  },
  {
   "cell_type": "code",
   "execution_count": 2,
   "metadata": {},
   "outputs": [],
   "source": [
    "# sketch here"
   ]
  },
  {
   "cell_type": "markdown",
   "metadata": {},
   "source": [
    "# list known quantities\n",
    "$\\Delta V$ = $0.02 V$"
   ]
  },
  {
   "cell_type": "markdown",
   "metadata": {},
   "source": [
    "# list unknown quantities\n",
    "$\\Delta p$ "
   ]
  },
  {
   "cell_type": "markdown",
   "metadata": {},
   "source": [
    "# governing principles\n",
    "$E = - \\Delta p \\frac{\\Delta V}{V}$"
   ]
  },
  {
   "cell_type": "markdown",
   "metadata": {},
   "source": [
    "# analysis\n",
    "$\\Delta p= - E \\frac{\\Delta V}{V} = -E \\frac{0.02 V}{V}$"
   ]
  },
  {
   "cell_type": "code",
   "execution_count": 2,
   "metadata": {},
   "outputs": [
    {
     "name": "stdout",
     "output_type": "stream",
     "text": [
      "Pressure change required =  44.0  MPa \n"
     ]
    }
   ],
   "source": [
    "# solution (step-by-step)\n",
    "compressibility = 2.2e09 # Pascals\n",
    "percent_change = -2.0 # Percent change\n",
    "deltaV = percent_change/100\n",
    "deltaP = -compressibility*deltaV\n",
    "print(\"Pressure change required = \",round(deltaP/1e06,3),\" MPa \")"
   ]
  },
  {
   "cell_type": "code",
   "execution_count": 7,
   "metadata": {},
   "outputs": [],
   "source": [
    "# discussion"
   ]
  },
  {
   "cell_type": "markdown",
   "metadata": {},
   "source": [
    "---"
   ]
  },
  {
   "cell_type": "markdown",
   "metadata": {},
   "source": [
    "### Problem 2.\n",
    "Figure 1 is a schematic of a sliding plate viscometer used to\n",
    "measure the viscosity of a fluid. The top plate is moving to the right with a constant\n",
    "velocity of 10 meters per second in response to a force of 3 Newtons. What is the\n",
    "viscosity of the fluid?\n",
    "\n",
    "<figure align=\"center\">\n",
    "<!-- <img src=\"./SlidingPlateViscosity.png\" width=\"400\" > -->\n",
    "<img src=\"http://54.243.252.9/ce-3305-webroot/2-Exercises/ES2/SlidingPlateViscosity.png\" width=\"400\" > \n",
    "<figcaption>Figure 1. Sliding Plate Viscosimeter.</figcaption>\n",
    "</figure>\n"
   ]
  },
  {
   "cell_type": "code",
   "execution_count": 2,
   "metadata": {},
   "outputs": [],
   "source": [
    "# sketch here"
   ]
  },
  {
   "cell_type": "code",
   "execution_count": 3,
   "metadata": {},
   "outputs": [],
   "source": [
    "# list known quantities"
   ]
  },
  {
   "cell_type": "code",
   "execution_count": 4,
   "metadata": {},
   "outputs": [],
   "source": [
    "# list unknown quantities"
   ]
  },
  {
   "cell_type": "code",
   "execution_count": 5,
   "metadata": {},
   "outputs": [],
   "source": [
    "# governing principles"
   ]
  },
  {
   "cell_type": "code",
   "execution_count": 10,
   "metadata": {},
   "outputs": [
    {
     "name": "stdout",
     "output_type": "stream",
     "text": [
      "Viscosity =  0.06 N*sec/m^2\n"
     ]
    }
   ],
   "source": [
    "# solution (step-by-step)\n",
    "force = 3 #newtons\n",
    "length = 100 #mm\n",
    "width = 50 #mm\n",
    "area = length*width/(1000*1000) # in m^2\n",
    "tau = force/area\n",
    "du = 10 # m/s\n",
    "dy = 1/1000 #m\n",
    "dudy = du/dy\n",
    "viscosity = tau/dudy\n",
    "print(\"Viscosity = \",round(viscosity,3),\"N*sec/m^2\")"
   ]
  },
  {
   "cell_type": "code",
   "execution_count": 7,
   "metadata": {},
   "outputs": [],
   "source": [
    "# discussion"
   ]
  },
  {
   "cell_type": "markdown",
   "metadata": {},
   "source": [
    "---"
   ]
  },
  {
   "cell_type": "markdown",
   "metadata": {},
   "source": [
    "### Problem 3. (Application of ENGR-1330 Computational Thinking)\n",
    "\n",
    "Develop a Jupyter Notebook to calculate dynamic and kinematic viscosities of air using Sutherland's equation below.\n",
    "\n",
    "$$ \\frac{\\mu}{\\mu_0} = {(\\frac{T}{T_0})}^{3/2} (\\frac{T_0 + S}{T + S}) $$\n",
    "\n",
    "where $\\mu_0$ is the viscosity at temperature $T_0$ and $S$ is Sutherland's constant.  The Sutherland's constant for air is $S=111~K$\n",
    "Use your tool to estimate viscosities at $0^o~C$ to $120^o~C$ in $20^o~C$ increments. The reference values are:\n",
    "$T_0 = 15^o~C$, $\\mu_0 = 1.46 \\times 10^{-5}$"
   ]
  },
  {
   "cell_type": "code",
   "execution_count": 28,
   "metadata": {},
   "outputs": [],
   "source": [
    "# list input quantities/specifications"
   ]
  },
  {
   "cell_type": "code",
   "execution_count": 29,
   "metadata": {},
   "outputs": [],
   "source": [
    "# list output quantities/specifications"
   ]
  },
  {
   "cell_type": "code",
   "execution_count": 30,
   "metadata": {},
   "outputs": [],
   "source": [
    "# governing principles/equations"
   ]
  },
  {
   "cell_type": "code",
   "execution_count": 31,
   "metadata": {},
   "outputs": [],
   "source": [
    "# solution (step-by-step) algorithm (aka code)"
   ]
  },
  {
   "cell_type": "code",
   "execution_count": 24,
   "metadata": {},
   "outputs": [
    {
     "name": "stdout",
     "output_type": "stream",
     "text": [
      "Temp C  Temp K kinematic (m^2/s) dynamic (N-s/m^2)\n",
      "0 273 1.4001e-05 1.7151e-05\n",
      "20 293 1.4796e-05 1.8126e-05\n",
      "40 313 1.5566e-05 1.9069e-05\n",
      "60 333 1.6312e-05 1.9983e-05\n",
      "80 353 1.7037e-05 2.087e-05\n",
      "100 373 1.774e-05 2.1732e-05\n",
      "120 393 1.8424e-05 2.257e-05\n"
     ]
    }
   ],
   "source": [
    "# application\n",
    "# prototype functions\n",
    "def CtoK(tempC):\n",
    "    tempK = tempC + 273\n",
    "    return(tempK)\n",
    "\n",
    "def mu_adj(tempIN,tempREF,S,mu_0):\n",
    "    mu_adj = mu_0*((tempIN/tempREF)**(3/2))*((tempREF+S)/(tempIN+S))\n",
    "    return(mu_adj)\n",
    "\n",
    "# inputs\n",
    "mu_0 = 1.46e-05 #reference viscosity\n",
    "temp_0 = 15 #reference temperature in celsius\n",
    "S = 111 #Sutherland's constant in Kelvins\n",
    "rho = 1.225 #kg/m^3\n",
    "\n",
    "# \n",
    "temp = [0,20,40,60,80,100,120]\n",
    "kelvin = []\n",
    "viscosity = []\n",
    "kinematic = []\n",
    "\n",
    "for i in range(len(temp)):\n",
    "    kelvin.append(CtoK(temp[i]))\n",
    "    viscosity.append(mu_adj(kelvin[i],CtoK(temp_0),S,mu_0))\n",
    "    kinematic.append(viscosity[i]*rho)\n",
    "    \n",
    "print(\"Temp C \",\"Temp K\",\"kinematic (m^2/s)\",\"dynamic (N-s/m^2)\")\n",
    "for i in range(len(temp)):\n",
    "    print(temp[i],kelvin[i],round(viscosity[i],9),round(kinematic[i],9))"
   ]
  },
  {
   "cell_type": "code",
   "execution_count": null,
   "metadata": {},
   "outputs": [],
   "source": [
    "# discussion of results"
   ]
  }
 ],
 "metadata": {
  "kernelspec": {
   "display_name": "Python 3",
   "language": "python",
   "name": "python3"
  },
  "language_info": {
   "codemirror_mode": {
    "name": "ipython",
    "version": 3
   },
   "file_extension": ".py",
   "mimetype": "text/x-python",
   "name": "python",
   "nbconvert_exporter": "python",
   "pygments_lexer": "ipython3",
   "version": "3.8.10"
  }
 },
 "nbformat": 4,
 "nbformat_minor": 4
}
