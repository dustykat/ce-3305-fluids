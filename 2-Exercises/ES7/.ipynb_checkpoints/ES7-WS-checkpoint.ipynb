{
 "cells": [
  {
   "cell_type": "markdown",
   "metadata": {},
   "source": [
    "**Download** (right-click, save target as ...) this page as a Jupyterlab notebook from: [ES-7](http://54.243.252.9/ce-3305-webroot/2-Exercises/ES7/ES7.ipynb)\n",
    "\n",
    "___"
   ]
  },
  {
   "cell_type": "markdown",
   "metadata": {},
   "source": [
    "# <font color=darkblue>CE 3305 Engineering Fluid Mechanics <br> Summer 2022 Exercise Set 7</font>\n",
    "\n",
    "**LAST NAME, FIRST NAME**\n",
    "\n",
    "**R00000000**\n",
    "\n",
    "___\n",
    "\n",
    "### Purpose : \n",
    "Application of Bernoulli equation.\n",
    "### Assessment Criteria : \n",
    "Completion, plausible solutions, use JupyterLab as a calculator.\n",
    "___"
   ]
  },
  {
   "cell_type": "markdown",
   "metadata": {},
   "source": [
    "### Problem 1.\n",
    "\n",
    "<figure align=\"center\">\n",
    "<!--<img src=\"./Fountain.png\" width=\"300\" >-->\n",
    "<img src=\"http://54.243.252.9/ce-3305-webroot/2-Exercises/ES7/PitotTube.png\" width=\"300\" >\n",
    "<figcaption>Figure 1: Tube for measuring velocity head</figcaption>\n",
    "</figure>\n",
    "\n",
    "Figure 1 is a schematic of a glass tube inserted into a flowing\n",
    "stream of water with one opening directed upstream and the other end vertical. If the\n",
    "water velocity is 4 m/s, how high will the water rise in the vertical leg relative to the\n",
    "level of the water surface of the stream?"
   ]
  },
  {
   "cell_type": "code",
   "execution_count": null,
   "metadata": {},
   "outputs": [],
   "source": [
    "# sketch here"
   ]
  },
  {
   "cell_type": "code",
   "execution_count": null,
   "metadata": {},
   "outputs": [],
   "source": [
    "# list known quantities"
   ]
  },
  {
   "cell_type": "code",
   "execution_count": null,
   "metadata": {},
   "outputs": [],
   "source": [
    "# list unknown quantities"
   ]
  },
  {
   "cell_type": "code",
   "execution_count": null,
   "metadata": {},
   "outputs": [],
   "source": [
    "# governing principles"
   ]
  },
  {
   "cell_type": "code",
   "execution_count": 3,
   "metadata": {},
   "outputs": [
    {
     "name": "stdout",
     "output_type": "stream",
     "text": [
      "Rise in meters is 0.815\n"
     ]
    }
   ],
   "source": [
    "# solution (step-by-step)\n",
    "velocity = 4\n",
    "gravity = 9.81\n",
    "ell = (velocity**2)/(2*gravity)\n",
    "print(\"Rise in meters is\",round(ell,3))"
   ]
  },
  {
   "cell_type": "code",
   "execution_count": null,
   "metadata": {},
   "outputs": [],
   "source": [
    "# discussion"
   ]
  },
  {
   "cell_type": "markdown",
   "metadata": {},
   "source": [
    "---"
   ]
  },
  {
   "cell_type": "markdown",
   "metadata": {},
   "source": [
    "### Problem 2.\n",
    "\n",
    "Figure 2 is a schematic of a reservoir draining into a pipe. The\n",
    "velocity in the outlet pipe is 8 m/s and h=19m. Because of the rounded entrance to\n",
    "the pipe, the flow is assumed to be irrotational. What is the pressure at A?\n",
    "\n",
    "<figure align=\"center\">\n",
    "<!--<img src=\"./Fountain.png\" width=\"300\" >-->\n",
    "<img src=\"http://54.243.252.9/ce-3305-webroot/2-Exercises/ES7/TankDrain.png\" width=\"300\" >\n",
    "<figcaption>Figure 2: Reservoir draining into a penstock (pipe)</figcaption>\n",
    "</figure>"
   ]
  },
  {
   "cell_type": "code",
   "execution_count": null,
   "metadata": {},
   "outputs": [],
   "source": [
    "# sketch here"
   ]
  },
  {
   "cell_type": "code",
   "execution_count": null,
   "metadata": {},
   "outputs": [],
   "source": [
    "# list known quantities"
   ]
  },
  {
   "cell_type": "code",
   "execution_count": null,
   "metadata": {},
   "outputs": [],
   "source": [
    "# list unknown quantities"
   ]
  },
  {
   "cell_type": "code",
   "execution_count": null,
   "metadata": {},
   "outputs": [],
   "source": [
    "# governing principles"
   ]
  },
  {
   "cell_type": "code",
   "execution_count": null,
   "metadata": {},
   "outputs": [],
   "source": [
    "# solution (step-by-step)"
   ]
  },
  {
   "cell_type": "code",
   "execution_count": null,
   "metadata": {},
   "outputs": [],
   "source": [
    "# discussion"
   ]
  },
  {
   "cell_type": "markdown",
   "metadata": {},
   "source": [
    "---"
   ]
  },
  {
   "cell_type": "markdown",
   "metadata": {},
   "source": [
    "### Problem 3.\n",
    "\n",
    "Figure 3 is a water jet issuing vertically from a nozzle The water\n",
    "velocity as it exits the nozzle is 18 m/s. Calculate how high h the jet will rise. \n",
    "\n",
    "<figure align=\"center\">\n",
    "<!--<img src=\"./Fountain.png\" width=\"300\" >-->\n",
    "<img src=\"http://54.243.252.9/ce-3305-webroot/2-Exercises/ES7/Fountain.png\" width=\"300\" >\n",
    "<figcaption>Figure 3: Vertical jet fountain</figcaption>\n",
    "</figure>"
   ]
  },
  {
   "cell_type": "code",
   "execution_count": null,
   "metadata": {},
   "outputs": [],
   "source": [
    "# sketch here"
   ]
  },
  {
   "cell_type": "code",
   "execution_count": null,
   "metadata": {},
   "outputs": [],
   "source": [
    "# list known quantities"
   ]
  },
  {
   "cell_type": "code",
   "execution_count": null,
   "metadata": {},
   "outputs": [],
   "source": [
    "# list unknown quantities"
   ]
  },
  {
   "cell_type": "code",
   "execution_count": null,
   "metadata": {},
   "outputs": [],
   "source": [
    "# governing principles"
   ]
  },
  {
   "cell_type": "code",
   "execution_count": null,
   "metadata": {},
   "outputs": [],
   "source": [
    "# solution (step-by-step)"
   ]
  },
  {
   "cell_type": "code",
   "execution_count": null,
   "metadata": {},
   "outputs": [],
   "source": [
    "# discussion"
   ]
  },
  {
   "cell_type": "markdown",
   "metadata": {},
   "source": [
    "---"
   ]
  }
 ],
 "metadata": {
  "kernelspec": {
   "display_name": "Python 3",
   "language": "python",
   "name": "python3"
  },
  "language_info": {
   "codemirror_mode": {
    "name": "ipython",
    "version": 3
   },
   "file_extension": ".py",
   "mimetype": "text/x-python",
   "name": "python",
   "nbconvert_exporter": "python",
   "pygments_lexer": "ipython3",
   "version": "3.8.10"
  }
 },
 "nbformat": 4,
 "nbformat_minor": 4
}
