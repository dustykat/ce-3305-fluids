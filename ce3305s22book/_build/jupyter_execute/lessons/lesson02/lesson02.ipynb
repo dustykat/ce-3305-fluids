{
 "cells": [
  {
   "cell_type": "markdown",
   "metadata": {},
   "source": [
    "# Fluid Statics and Pressure (1/2)\n",
    "\n",
    "## Lesson Outline\n",
    "1. Hydrostatic Equation\n",
    "2. Measuring Devices (Pressure)\n",
    "3. Force on a Plane Surface"
   ]
  },
  {
   "cell_type": "markdown",
   "metadata": {},
   "source": [
    "## Fluid Statics\n",
    "\n",
    "Fluid statics deals with forces in fluids that are have no relative motion within the fluid.  The vessel containing the fluid may be at non-zero velocity or acceleration, but the fluid body within the vessel has no relative motion.\n",
    "\n",
    "Two principal types of forces involved are body and surface forces as shown in {numref}`FluidStatics` \n",
    "\n",
    "```{figure} FluidStatics.png\n",
    "---\n",
    "width: 500px\n",
    "name: FluidStatics\n",
    "---\n",
    "A sphere of some fluid, depicting a local coordinate system, differential area and a normal and tangential force pair\n",
    "```\n",
    "Body forces are developed without contact and are distributed over the entire volume of a fluid.  In the sketch the weight of the sphere is a body force.\n",
    "\n",
    "Surface forces act at boundaries of a medium through contant.  The normal force in the sketch (which is the product of pressure and area) is a surface force, defined on the surface of the sphere.\n",
    "\n",
    "Stress is the limiting value of $\\frac{dF}{dA}$; in the sketch there are two stresses: a normal stress (usually called pressure), and a tangential stress (usually called shear).\n",
    "\n",
    "Shear stresses are formed by friction, no-slip assumption, and other practically occuring situations."
   ]
  },
  {
   "cell_type": "markdown",
   "metadata": {},
   "source": [
    "```{figure} Stresses.png\n",
    "---\n",
    "width: 500px\n",
    "name: Stresses\n",
    "---\n",
    "Shear and normal stresses on a plane parallel to x-y coordinate plane, at some value z.\n",
    "```\n",
    "{numref}`Stresses` is a diagram of a small planar element in a 3-D cartesian coordinate system that illustrate normal and shear stresses.  The tensor-like naming system is also indicated.  \n",
    "\n",
    "A conventional notation is $\\sigma_{n,i-k}$ for normal stress, and $\\tau_{n,i-k}$ for shear stress.  The first subscript is the direction of the outward pointing normal vector from the application plane (in the drawing +z), the second subscript is the direction of force application, with the normal stress positive into the plane.  In the drawing the three stresses are $\\sigma_{z,z}$,$\\tau_{z,x}$, and $\\tau_{z,y}$.\n",
    "\n"
   ]
  }
 ],
 "metadata": {
  "kernelspec": {
   "display_name": "Python 3",
   "language": "python",
   "name": "python3"
  },
  "language_info": {
   "codemirror_mode": {
    "name": "ipython",
    "version": 3
   },
   "file_extension": ".py",
   "mimetype": "text/x-python",
   "name": "python",
   "nbconvert_exporter": "python",
   "pygments_lexer": "ipython3",
   "version": "3.8.10"
  }
 },
 "nbformat": 4,
 "nbformat_minor": 4
}