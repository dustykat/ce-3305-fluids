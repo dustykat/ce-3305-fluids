{
 "cells": [
  {
   "cell_type": "markdown",
   "metadata": {},
   "source": [
    "**Download** (right-click, save target as ...) this page as a Jupyterlab notebook from: [ES-1](http://54.243.252.9/ce-3305-webroot/2-Exercises/ES1/ES1.ipynb)\n",
    "\n",
    "___"
   ]
  },
  {
   "cell_type": "markdown",
   "metadata": {},
   "source": [
    "# <font color=darkblue>CE 3305 Engineering Fluid Mechanics <br> Summer 2022 Exercise Set 1</font>\n",
    "\n",
    "**Bear, P. Olar**\n",
    "\n",
    "**RBURRRRRR**\n",
    "\n",
    "___\n",
    "\n",
    "### Purpose : \n",
    "Apply the ideal gas law under isothermal conditions. Perform analysis in absolute and gage pressures.\n",
    "### Assessment Criteria : \n",
    "Completion, results plausible, format correct, calculations (Jupyter Notebook) are shown.  \n",
    "\n",
    "___"
   ]
  },
  {
   "cell_type": "markdown",
   "metadata": {},
   "source": [
    "### Problem 1:\n",
    "Natural gas is stored in a spherical tank at a temperature of 10oC.\n",
    "At a given initial time, the pressure in the tank is 100 kPa–gage, and the atmospheric\n",
    "pressure is 100 kPa–absolute. Some time later, after more gas has been compressed\n",
    "into the tank, the pressure in the tank is 200 kPa–gage, and the temperature is still\n",
    "10$^o$C. What is the mass ratio of gas in the tank when p= 200 kPa–gage, to when the\n",
    "pressure was 100 kPa–gage?\n",
    "\n",
    "> Use a Jupyter Notebook to create a script to handle the computations and show the results of the script. \n",
    "> Upload your completed Notebook as a PDF to Blackboard.  In ENGR-1330 you were taught how to export a notebook as `HTML` then use the on-line [https://html2pdf.com/](https://html2pdf.com/) converter"
   ]
  },
  {
   "cell_type": "markdown",
   "metadata": {},
   "source": [
    "# sketch here\n",
    "\n",
    "<figure align=\"center\">\n",
    "<!--<img src=\"./tanksyourewelcome.png\" width=\"400\" > -->\n",
    "<img src=\"https://75.3.84.227/ce-3305-webroot/2-Exercises/ES1/tanksyourewelcome.png\" width=\"400\" > \n",
    "<figcaption>Figure 1. Gas Storage Tanks</figcaption>\n",
    "</figure>"
   ]
  },
  {
   "cell_type": "markdown",
   "metadata": {},
   "source": [
    "# list known quantities\n",
    "\n",
    "$p_0=100~kPa_{gage}$;   $T_0=10^o~C$; <br>\n",
    "$p_L=200~kPa_{gage}$;   $T_L=10^o~C$; <br>\n",
    "$p_{atm}=100~kPa_{gage}$ <br>\n",
    "\n",
    "$p_0=200~kPa_{abs}$;   $T_0=283^o~K$; <br>\n",
    "$p_L=300~kPa_{abs}$;   $T_L=283^o~K$; <br>"
   ]
  },
  {
   "cell_type": "markdown",
   "metadata": {},
   "source": [
    "# list unknown quantities\n",
    "\n",
    "$m_{ratio} = \\frac{m_{later}}{m_{0}}$"
   ]
  },
  {
   "cell_type": "markdown",
   "metadata": {},
   "source": [
    "# governing principles\n",
    "\n",
    "Equation of state (ideal gas law)\n",
    "\n",
    "$pV = \\frac{m}{M}RT$"
   ]
  },
  {
   "cell_type": "markdown",
   "metadata": {},
   "source": [
    "# solution (step-by-step)\n",
    "$\\frac{p_L V_L}{p_0 V_0} = \\frac{\\frac{m_L}{M}RT_L}{\\frac{m_0}{M}RT_0}$\n",
    "\n",
    "Simplify as\n",
    "\n",
    "$m_{ratio} = \\frac{p_{later}}{p_{0}}$"
   ]
  },
  {
   "cell_type": "code",
   "execution_count": 3,
   "metadata": {},
   "outputs": [
    {
     "name": "stdout",
     "output_type": "stream",
     "text": [
      "mass ratio =  1.5\n"
     ]
    }
   ],
   "source": [
    "p_later = 300\n",
    "p_now = 200\n",
    "m_ratio = p_later/p_now\n",
    "print(\"mass ratio = \",round(m_ratio,3) )"
   ]
  },
  {
   "cell_type": "markdown",
   "metadata": {},
   "source": [
    "# discussion\n",
    "- Cancelled common constants\n",
    "- result is a mole ratio\n",
    "- would modify the script if non iso-thermal,non iso-volume"
   ]
  },
  {
   "cell_type": "markdown",
   "metadata": {},
   "source": [
    "---"
   ]
  },
  {
   "cell_type": "markdown",
   "metadata": {},
   "source": [
    "---\n",
    "\n",
    "### Problem 2:\n",
    "A design team is developing a $CO_2$ cartridge for a rubber raft as part of [ETOPS](https://en.wikipedia.org/wiki/ETOPS) compliance.  The cartridge will allow a flight crew to rapidly inflate the raft to escape a downed and sinking aircraft. The raft is shown in Figure 2.  The raft can be conceptualized as two parallel long tubes, and four parallel short tubes. The desired inflation pressure is 3 psig.  \n",
    "\n",
    "<figure align=\"center\">\n",
    "<!--<img src=\"./raft.png\" width=\"400\" > -->\n",
    "<img src=\"https://75.3.84.227/ce-3305-webroot/2-Exercises/ES1/raft.png\" width=\"400\" > \n",
    "<figcaption>Figure 2. Aircrew escape raft</figcaption>\n",
    "</figure>\n",
    "\n",
    "Estimate the raft volume when inflated and the mass of $CO_2$ required, in grams, in the cartridge."
   ]
  },
  {
   "cell_type": "markdown",
   "metadata": {},
   "source": [
    "# sketch here\n",
    "\n",
    "<figure align=\"center\">\n",
    "<!--<img src=\"./raftschematic.png\" width=\"400\" > -->\n",
    "<img src=\"https://75.3.84.227/ce-3305-webroot/2-Exercises/ES1/raftschematic.png\" width=\"400\" > \n",
    "<figcaption>Figure 2.1 Raft Conceptualization </figcaption>\n",
    "</figure>"
   ]
  },
  {
   "cell_type": "markdown",
   "metadata": {},
   "source": [
    "# list known quantities\n",
    "- dimensions (in sketch above)\n",
    "- $p = 3~psig$\n",
    "- $M_{CO_2}$ = 44 g/mol\n",
    "- $T = 20^oC = 293^oK$"
   ]
  },
  {
   "cell_type": "markdown",
   "metadata": {},
   "source": [
    "# list unknown quantities\n",
    "\n",
    "- $m_{CO_2}$"
   ]
  },
  {
   "cell_type": "markdown",
   "metadata": {},
   "source": [
    "# governing principles\n",
    "\n",
    "1. $pV = \\frac{m}{M}RT$\n",
    "2. $V_{cyl} = \\frac{\\pi D^2}{4}*L$"
   ]
  },
  {
   "cell_type": "markdown",
   "metadata": {},
   "source": [
    "# solution (step-by-step)\n",
    "$V_{raft} = V_{long} + V_{short}= 2*[\\frac{\\pi D_{long}^2}{4}*L_{long}] + 4*[\\frac{\\pi D_{short}^2}{4}*L_{short}]$\n",
    "\n",
    "$m_{CO_2} = \\frac{pV}{RT}M_{CO_2}$"
   ]
  },
  {
   "cell_type": "code",
   "execution_count": 4,
   "metadata": {},
   "outputs": [
    {
     "name": "stdout",
     "output_type": "stream",
     "text": [
      "design pressure is 1.203  atmospheres absolute\n",
      "mass CO2 required is  5601.2264 grams\n"
     ]
    }
   ],
   "source": [
    "import math\n",
    "R = 0.0821 #Univ Gas Constant\n",
    "temperature = 293 #temp in Kelvin\n",
    "design_pressure = 3 #design pressure in psi\n",
    "p_abs = 1+ design_pressure/14.75\n",
    "molecular_weight = 44 #MW of gas\n",
    "diameter = 0.45 #tube diameter in meters\n",
    "long = 4 #long tube length in meters\n",
    "short = 2 #short tube length in meters\n",
    "volumeshort=short*(math.pi*diameter**2)/4\n",
    "volumelong=long*(math.pi*diameter**2)/4\n",
    "Vraft = 2*volumelong+4*volumeshort\n",
    "massCO2 = (p_abs*(Vraft*1000)*molecular_weight)/(R*temperature)\n",
    "print(\"design pressure is\",round(p_abs,3),\" atmospheres absolute\")\n",
    "print(\"mass CO2 required is \",round(massCO2,4),\"grams\")"
   ]
  },
  {
   "cell_type": "markdown",
   "metadata": {},
   "source": [
    "# discussion\n",
    "- Cartridge is 5.6 kg about size of a typ. fire extinguisher.\n",
    "- express pressure in terms of R\n",
    "- Script to explore changes in p and T to help choose size"
   ]
  }
 ],
 "metadata": {
  "kernelspec": {
   "display_name": "Python 3",
   "language": "python",
   "name": "python3"
  },
  "language_info": {
   "codemirror_mode": {
    "name": "ipython",
    "version": 3
   },
   "file_extension": ".py",
   "mimetype": "text/x-python",
   "name": "python",
   "nbconvert_exporter": "python",
   "pygments_lexer": "ipython3",
   "version": "3.8.10"
  }
 },
 "nbformat": 4,
 "nbformat_minor": 4
}
