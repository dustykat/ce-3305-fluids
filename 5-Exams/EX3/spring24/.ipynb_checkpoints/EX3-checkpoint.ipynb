{
 "cells": [
  {
   "cell_type": "markdown",
   "metadata": {},
   "source": [
    "**Download** (right-click, save target as ...) this page as a Jupyterlab notebook from: [EX-3](http://54.243.252.9/ce-3305-webroot/5-Exams/EX3/EX3.ipynb)\n",
    "\n",
    "___"
   ]
  },
  {
   "cell_type": "markdown",
   "metadata": {},
   "source": [
    "# <font color=darkblue>CE 3305 Engineering Fluid Mechanics <br> Spring 2024 Exam 3</font>\n",
    "\n",
    "**LAST NAME, FIRST NAME**\n",
    "\n",
    "**R00000000**\n",
    "\n",
    "___\n",
    "\n",
    "### Purpose : \n",
    "Demonstrate ability to apply fluid mechanics and problem solving principles covering topics such as: Dimensional analysis and similitude; turbulent flow in closed conduits; pump system performance.\n"
   ]
  },
  {
   "cell_type": "markdown",
   "metadata": {},
   "source": [
    "___\n",
    "\n",
    "### Problem 1\n",
    "\n",
    "A smooth pipe prototype designed to carry crude oil:\n",
    "\n",
    "- $D = 47$ inches\n",
    "- $\\rho= 1.75$ slugs/$ft^3$\n",
    "- $\\mu= 4 \\times 10^{−4}~ lbf − s/ft^2$ \n",
    "\n",
    "is to be modeled with a smooth pipe 4 inches in diameter carrying water (T =60$^o$F ). \n",
    "\n",
    "\n",
    "\n",
    " \n",
    "\n",
    "Determine:\n",
    "1.  The mean velocity of the water in the model to ensure dynamically similar conditions, if the mean velocity in the prototype is to be 2 ft/s,?"
   ]
  },
  {
   "cell_type": "markdown",
   "metadata": {},
   "source": [
    "---\n",
    "\n",
    "**sketch(s) here**"
   ]
  },
  {
   "cell_type": "markdown",
   "metadata": {},
   "source": [
    "**list known quantities**"
   ]
  },
  {
   "cell_type": "markdown",
   "metadata": {},
   "source": [
    "**list unknown quantities**"
   ]
  },
  {
   "cell_type": "markdown",
   "metadata": {},
   "source": [
    "**governing principles**"
   ]
  },
  {
   "cell_type": "markdown",
   "metadata": {},
   "source": [
    "**solution (step-by-step)** "
   ]
  },
  {
   "cell_type": "code",
   "execution_count": 2,
   "metadata": {},
   "outputs": [],
   "source": [
    "# script (code) here"
   ]
  },
  {
   "cell_type": "markdown",
   "metadata": {
    "jupyter": {
     "source_hidden": true
    }
   },
   "source": [
    "**discussion**"
   ]
  },
  {
   "cell_type": "markdown",
   "metadata": {},
   "source": [
    "---\n",
    "\n",
    "### Problem 2:\n",
    "\n",
    "Experiments are performed to measure the pressure drop in a pipe with water at 20$^oC$ and crude oil at the same temperature. Data was gathered with pipes of two diameters, 5 cm and 10 cm for pressure drop per unit length of pipe, and are tabulated below:\n",
    "\n",
    "|Liquid|Pipe Diameter (cm)|Velocity (m/s)|Pressure Drop (N/m$^3$)|\n",
    "|:---|---:|---:|---:|\n",
    "|Water|5|1|210|\n",
    "|Water|5|2|730|\n",
    "|Water|5|5|3750|\n",
    "|Water|10|1|86|\n",
    "|Water|10|2|320|\n",
    "|Water|10|5|1650|\n",
    "|Oil|5|1|310|\n",
    "|Oil|5|2|1040|\n",
    "|Oil|5|5|5300|\n",
    "|Oil|10|1|130|\n",
    "|Oil|10|2|450|\n",
    "|Oil|10|5|2210|\n",
    "\n",
    "The presure drop per unit length is postulated to be a function of pipe diameter, liquid density, liquid viscosity, and flow velocity as:\n",
    "\n",
    "$$\\frac{\\Delta p}{L}=f(\\rho,\\mu,V,D)$$\n",
    "\n",
    "Perform a dimensional analysis to identify suitable $\\pi-$groups and create a Jupyter Notebook to reduce the data and plot the results using the dimensionless values.  Select an appropriate data model based on the plot.\n",
    "\n",
    "Determine:\n",
    "1. Suitable $\\pi-$groups to reduce the data to dimensionless values\n",
    "2. Plot the results using the dimensionless values.\n",
    "3. Propose an appropriate (linear, log-linear, parabolic, ...) data model based on the plot."
   ]
  },
  {
   "cell_type": "markdown",
   "metadata": {},
   "source": [
    "---\n",
    "\n",
    "**sketch(s) here**"
   ]
  },
  {
   "cell_type": "markdown",
   "metadata": {},
   "source": [
    "**list known quantities**"
   ]
  },
  {
   "cell_type": "markdown",
   "metadata": {},
   "source": [
    "**list unknown quantities**"
   ]
  },
  {
   "cell_type": "markdown",
   "metadata": {},
   "source": [
    "**governing principles**"
   ]
  },
  {
   "cell_type": "markdown",
   "metadata": {},
   "source": [
    "**solution (step-by-step)** "
   ]
  },
  {
   "cell_type": "code",
   "execution_count": 2,
   "metadata": {},
   "outputs": [],
   "source": [
    "# script (code) here"
   ]
  },
  {
   "cell_type": "markdown",
   "metadata": {
    "jupyter": {
     "source_hidden": true
    }
   },
   "source": [
    "**discussion**"
   ]
  },
  {
   "cell_type": "markdown",
   "metadata": {},
   "source": [
    "---\n",
    "\n",
    "### Problem 3:\n",
    "\n",
    "The figure below is a schematic of a pumped-storage system. Water is pumped between the two reservoirs in a pipeline with the following characteristics: D = 300 mm, L = 50 m, f = 0.025, ΣK = 4.0. The radial-flow pump characteristic curve for a single pump is $H_p = 22.9 + 10.7Q -111Q^2$ where $H_p$ is in meters and $Q$ is in $\\frac{m^3}{sec}$. \n",
    "\n",
    "![](pss-2.png)\n",
    "\n",
    "Determine:\n",
    "1.  The discharge $Q_D$ and pump added head $H_D$ if $z_2 - z_1 = 40~m$ with three identical pumps operating in series."
   ]
  },
  {
   "cell_type": "markdown",
   "metadata": {},
   "source": [
    "---\n",
    "\n",
    "**sketch(s) here**"
   ]
  },
  {
   "cell_type": "markdown",
   "metadata": {},
   "source": [
    "**list known quantities**"
   ]
  },
  {
   "cell_type": "markdown",
   "metadata": {},
   "source": [
    "**list unknown quantities**"
   ]
  },
  {
   "cell_type": "markdown",
   "metadata": {},
   "source": [
    "**governing principles**"
   ]
  },
  {
   "cell_type": "markdown",
   "metadata": {},
   "source": [
    "**solution (step-by-step)** "
   ]
  },
  {
   "cell_type": "code",
   "execution_count": 2,
   "metadata": {},
   "outputs": [],
   "source": [
    "# script (code) here"
   ]
  },
  {
   "cell_type": "markdown",
   "metadata": {},
   "source": [
    "**discussion**"
   ]
  },
  {
   "cell_type": "markdown",
   "metadata": {},
   "source": [
    "---\n",
    "\n",
    "### Problem 4:\n",
    "\n",
    "In the design of a lift station, a bypass line is often installed parallel to the pump so some liquid recirculates as shown on Figure 1.  The bypass valve then controls the flow rate in the system.\n",
    "\n",
    "![](pump-bypass.png)\n",
    "\n",
    "The pump performance function is $$h_p = 100 - 100Q$$ <br>where $h_p$ is in meters, and $Q$ is in $\\frac{m^3}{sec}$. \n",
    "The bypass line is 10 cm in diameter.  The valve setting produces a loss coefficient of 0.2 and the valve loss is the only head loss at the lift station.  \n",
    "\n",
    "For a discharge leaving the lift station of 0.2 $\\frac{m^3}{sec}$ \n",
    "\n",
    "Determine:\n",
    "1. The discharge through the pump\n",
    "2. The discharge through the bypass line"
   ]
  },
  {
   "cell_type": "markdown",
   "metadata": {},
   "source": [
    "---\n",
    "\n",
    "**sketch(s) here**"
   ]
  },
  {
   "cell_type": "markdown",
   "metadata": {},
   "source": [
    "**list known quantities**"
   ]
  },
  {
   "cell_type": "markdown",
   "metadata": {},
   "source": [
    "**list unknown quantities**"
   ]
  },
  {
   "cell_type": "markdown",
   "metadata": {},
   "source": [
    "**governing principles**"
   ]
  },
  {
   "cell_type": "markdown",
   "metadata": {},
   "source": [
    "**solution (step-by-step)** "
   ]
  },
  {
   "cell_type": "code",
   "execution_count": 2,
   "metadata": {},
   "outputs": [],
   "source": [
    "# script (code) here"
   ]
  },
  {
   "cell_type": "markdown",
   "metadata": {
    "jupyter": {
     "source_hidden": true
    }
   },
   "source": [
    "**discussion**"
   ]
  },
  {
   "cell_type": "markdown",
   "metadata": {},
   "source": [
    "___\n",
    "\n",
    "### Problem 5: \n",
    "\n",
    "The figure below is a schematic of a parallel pipe system.  Flow occurs from A to B as shown. To augment the flow a pump is located between C and C'. The network is on a plane (flat) surface; all the junction elevations are the same. The pipes are commercial steel.\n",
    "\n",
    "![](network-layout.png)\n",
    "\n",
    "The pump characteristic curve is shown below:\n",
    "\n",
    "![](pump-curve-ex4.png)\n",
    "\n",
    "Total discharge is 0.60 $\\frac{m^3}{sec}$ \n",
    "\n",
    "Determine:\n",
    "1. The division of flow between pipes A-B and A-C-B\n",
    "2. The head loss in pipe A-B\n",
    "3. The head loss in pipe A-C\n",
    "4. The head loss in pipe C'-B\n",
    "5. The pump operating conditions.\n"
   ]
  },
  {
   "cell_type": "markdown",
   "metadata": {},
   "source": [
    "---\n",
    "\n",
    "**sketch(s) here**"
   ]
  },
  {
   "cell_type": "markdown",
   "metadata": {},
   "source": [
    "**list known quantities**"
   ]
  },
  {
   "cell_type": "markdown",
   "metadata": {},
   "source": [
    "**list unknown quantities**"
   ]
  },
  {
   "cell_type": "markdown",
   "metadata": {},
   "source": [
    "**governing principles**"
   ]
  },
  {
   "cell_type": "markdown",
   "metadata": {},
   "source": [
    "**solution (step-by-step)** "
   ]
  },
  {
   "cell_type": "code",
   "execution_count": 2,
   "metadata": {},
   "outputs": [],
   "source": [
    "# script (code) here"
   ]
  },
  {
   "cell_type": "markdown",
   "metadata": {
    "jupyter": {
     "source_hidden": true
    }
   },
   "source": [
    "**discussion**"
   ]
  }
 ],
 "metadata": {
  "kernelspec": {
   "display_name": "Python 3",
   "language": "python",
   "name": "python3"
  },
  "language_info": {
   "codemirror_mode": {
    "name": "ipython",
    "version": 3
   },
   "file_extension": ".py",
   "mimetype": "text/x-python",
   "name": "python",
   "nbconvert_exporter": "python",
   "pygments_lexer": "ipython3",
   "version": "3.8.10"
  }
 },
 "nbformat": 4,
 "nbformat_minor": 4
}
