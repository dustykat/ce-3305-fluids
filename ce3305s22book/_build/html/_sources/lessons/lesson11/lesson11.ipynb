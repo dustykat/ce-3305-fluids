{
 "cells": [
  {
   "cell_type": "markdown",
   "metadata": {},
   "source": [
    "# Conservation of Energy\n",
    "\n",
    "## Lesson Outline\n",
    "- Definition of angular momentum\n",
    "- Example appliocation"
   ]
  },
  {
   "cell_type": "markdown",
   "metadata": {},
   "source": [
    "### Background\n",
    "\n",
    "Energy is a measure of the ability to do work.  \n",
    "\n",
    "\n",
    "```{figure} energy-p1-1.png\n",
    "---\n",
    "width: 600px\n",
    "name: energy-p1-1\n",
    "---\n",
    "Caption\n",
    "```\n",
    "\n",
    "Some examples include:\n",
    "\n",
    "- water stored behind a dam\n",
    "- wind blowing across a propeller\n",
    "- gasoline burned in a cylinder to push against a piston\n",
    "\n",
    "### Energy\n",
    "\n",
    "Energy is classified as:\n",
    "\n",
    "- mechanical energy associated with potion or position in a force field\n",
    "- thermal energy is associated with $\\Delta T$ and/or phasse change\n",
    "- chemical energy is associated with breaking chemical bonds to release energy (or creating bonds to absorb energy)\n",
    "- electrical energy is associated with electrical charge in an electric field\n",
    "- nuclear energy is associated with radioactive decay\n",
    "\n",
    "Units of energy are force\\*distance:\n",
    "\n",
    "- Joule, $J = N \\cdot m$\n",
    "- Foot-pound, $ 1 Lb \\cdot foot$\n",
    "\n",
    "Power is energy per unit time\n",
    "\n",
    "- Watt, $W = \\frac{J}{s}$\n",
    "- Horsepower $hp = 550 \\frac{ft \\cdot lbf}{s}$\n",
    "\n",
    "\n",
    "\n",
    "```{figure} energy-p1-2.png\n",
    "---\n",
    "width: 600px\n",
    "name: energy-p1-2\n",
    "---\n",
    "Caption\n",
    "```\n",
    "\n",
    "\n"
   ]
  },
  {
   "cell_type": "markdown",
   "metadata": {},
   "source": [
    "## Example 1: "
   ]
  },
  {
   "cell_type": "code",
   "execution_count": 4,
   "metadata": {},
   "outputs": [
    {
     "name": "stdout",
     "output_type": "stream",
     "text": [
      "Power  62360.77  Newton-meters/sec    \n"
     ]
    }
   ],
   "source": [
    "# computational thinning\n",
    "import math\n",
    "q = 0.1 #discharge\n",
    "v_jet = 50.0\n",
    "omega = 500*2*math.pi/60\n",
    "radius = 0.5\n",
    "rho = 1000.0\n",
    "power = rho*q*v_jet*radius*omega - rho*q*omega**2*radius**2\n",
    "print(\"Power \",round(power,2),\" Newton-meters/sec    \")"
   ]
  },
  {
   "cell_type": "markdown",
   "metadata": {},
   "source": [
    "## Example 2: "
   ]
  },
  {
   "cell_type": "code",
   "execution_count": null,
   "metadata": {},
   "outputs": [],
   "source": []
  },
  {
   "cell_type": "markdown",
   "metadata": {},
   "source": [
    "\n",
    "## Readings\n",
    "\n",
    "1. CE-3305-2022-1 Syllabus. [http://54.243.252.9/ce-3305-webroot/0-Syllabus/ce-3305-2022-1-syllabus.html](http://54.243.252.9/ce-3305-webroot/0-Syllabus/ce-3305-2022-1-syllabus.html)\n",
    "\n",
    "2. Hibbeler, R.C, Fluid Mechanics, 2ed. Prentice Hall, 2018. ISBN: 9780134655413 pp. 293-355\n",
    "\n",
    "3. DF Elger, BC Williams, Crowe, CT and JA Roberson, *Engineering Fluid Mechanics 10th edition*, John Wiley & Sons, Inc., 2013.  (placeholder file to get links working). [http://54.243.252.9/ce-3305-webroot/3-Readings/EFM-10.pdf](http://54.243.252.9/ce-3305-webroot/3-Readings/EFM-10.pdf)\n",
    "\n",
    "4. Cleveland, T. G. (2014) *Fluid Mechanics Notes to Accompany CE 3305 at Jade-Holshule (TTU Study Abroad 2015-2019)*, Department of Civil, Environmental, and Construction Engineering, Whitacre College of Engineering. [http://54.243.252.9/ce-3305-webroot/3-Readings/ce3305-lecture10.pdf](http://54.243.252.9/ce-3305-webroot/3-Readings/ce3305-lecture10.pdf)\n"
   ]
  },
  {
   "cell_type": "code",
   "execution_count": null,
   "metadata": {},
   "outputs": [],
   "source": []
  }
 ],
 "metadata": {
  "kernelspec": {
   "display_name": "Python 3",
   "language": "python",
   "name": "python3"
  },
  "language_info": {
   "codemirror_mode": {
    "name": "ipython",
    "version": 3
   },
   "file_extension": ".py",
   "mimetype": "text/x-python",
   "name": "python",
   "nbconvert_exporter": "python",
   "pygments_lexer": "ipython3",
   "version": "3.8.10"
  }
 },
 "nbformat": 4,
 "nbformat_minor": 4
}
