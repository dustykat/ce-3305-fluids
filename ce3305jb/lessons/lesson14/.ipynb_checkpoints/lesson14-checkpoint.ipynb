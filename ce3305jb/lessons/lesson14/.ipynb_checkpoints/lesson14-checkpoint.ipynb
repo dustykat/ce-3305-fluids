{
 "cells": [
  {
   "cell_type": "markdown",
   "metadata": {},
   "source": [
    "# Closed Conduit (Pipe) Flow\n",
    "\n",
    "## Lesson Outline\n",
    "- Analyze and design pipe systems with various fittings and connections\n",
    "- topic"
   ]
  },
  {
   "cell_type": "markdown",
   "metadata": {},
   "source": [
    "### Background\n",
    "\n",
    "\n",
    "```{note}\n",
    "Energy (head) losses in conduits (pipes) arise from frictional losses at the pipe wall (major loss), and additional losses from fittings (minor losses).  \n",
    "Major and minor refer to the distances over which the losses occur, and not the magnitude.\n",
    "```\n",
    "\n",
    "Recall the modified bernoulli equation for a pipeline system\n",
    "\n",
    "$$\\frac{p_1}{\\rho g}+\\frac{V_1^2}{2g}+z_1+h_p = \\frac{p_2}{\\rho g}+\\frac{V_2^2}{2g}+z_2+h_T +h_{loss}$$\n",
    "\n",
    "Examine the $h_{loss}$ term:\n",
    "\n",
    "$$h_{loss} = f\\frac{L}{D}\\frac{V^2}{2g} + \\sum_{i=1}^{n_{fit}} K_i \\frac{V_i^2}{2g} $$\n",
    "\n",
    "The first part is the pipeline (major) loss (using the Darcy-Weisbach head loss model), the second part is the fitting losses.\n",
    "\n",
    "The kinds of fittings include:\n",
    "\n",
    "- Entrances and exits as depicted below\n",
    "\n",
    "```{figure} entrance-effects.png\n",
    "---\n",
    "width: 400px\n",
    "name: entrance-effects\n",
    "---\n",
    "Entrances and exits\n",
    "```\n",
    "\n",
    "- Bends, transitions, and valves\n",
    "\n",
    "```{figure} fittings.png\n",
    "---\n",
    "width: 400px\n",
    "name: fittings\n",
    "---\n",
    "Classes of fittings\n",
    "```\n",
    "\n",
    "The loss coefficients are tabulated and nearly always require some kind of table look-up.  Here are a few examples:\n",
    "\n",
    "- [K-values neutrium.net](https://neutrium.net/fluid-flow/pressure-loss-from-fittings-excess-head-k-method/)\n",
    "- [K-values metropumps.com](http://www.metropumps.com/ResourcesFrictionLossData.pdf)\n",
    "- [K-values powderprocess.net](https://powderprocess.net/Tools_html/Piping/Pressure_Drop_Key_Piping_Elements_K_Coefficient.html)"
   ]
  },
  {
   "cell_type": "markdown",
   "metadata": {},
   "source": [
    "## Example 1: \n",
    "\n",
    "(Pg 532 Hibbler) The 6-inch diameter galvanized iron pipe depicted below transports water from a reservoir at a temperature of 100$^o~F$.  Determine the head loss and pressure drop in 200 feet of pipe for a discharge of $Q=400~gpm$\n",
    "\n",
    "```{figure} IMG-6180.png\n",
    "---\n",
    "width: 400px\n",
    "name: IMG-6180\n",
    "---\n",
    "Sketch of pipeline situation\n",
    "```\n",
    "\n",
    "### Sketch\n",
    "\n",
    "Above \n",
    "\n",
    "### Known\n",
    "\n",
    "$Q=400~gpm$<br>\n",
    "$D=0.5~ft$<br>\n",
    "material = \"galvanized iron pipe\" (use to find roughness height)<br>\n",
    "$L=200~ft$<br>\n",
    "$T=100^o~F$<br>\n",
    "\n",
    "### Unknown\n",
    "\n",
    "$h_f$<br>\n",
    "$\\Delta p$<br>\n",
    "\n",
    "### Governing Equations\n",
    "\n",
    "- Darcy-Wiseass head loss model $h_f=f\\frac{L}{D}\\frac{V^2}{2g}$ \n",
    "- Reynolds' number $Re_d = \\frac{VD}{\\nu}$\n",
    "- Modified bernoulli equation (to find $\\Delta p$)\n",
    "\n",
    "### Analysis (Solution)\n",
    "\n",
    "- Starting with the given temperature find the necessary water properties; easiest to use an on-line resource such as [http://54.243.252.9/toolbox/fluidmechanics/WaterPropertiesUS/WaterPropertiesUS.html](http://54.243.252.9/toolbox/fluidmechanics/WaterPropertiesUS/WaterPropertiesUS.html)\n",
    "\n",
    "The relevant properties are displayed below \n",
    "\n",
    "```{figure} fluid-properties14.png\n",
    "---\n",
    "width: 400px\n",
    "name: fluid-properties14\n",
    "---\n",
    "Fluid Properties On-line Database\n",
    "```\n",
    "\n",
    "Now we can compute the Reynolds number as depicted below; first a prototype function."
   ]
  },
  {
   "cell_type": "code",
   "execution_count": 1,
   "metadata": {},
   "outputs": [],
   "source": [
    "# reynolds number function - execute this cell to prototype the function\n",
    "def reynolds(velocity,diameter,viscosity):\n",
    "    reynolds = velocity*diameter/viscosity\n",
    "    return(reynolds)"
   ]
  },
  {
   "cell_type": "markdown",
   "metadata": {},
   "source": [
    "Then the actual computations"
   ]
  },
  {
   "cell_type": "code",
   "execution_count": 7,
   "metadata": {},
   "outputs": [
    {
     "name": "stdout",
     "output_type": "stream",
     "text": [
      "Reynolds number: 307116.266  flow is turbulent\n"
     ]
    }
   ],
   "source": [
    "# compute the reynolds number\n",
    "gpm = 400\n",
    "diam = 0.5\n",
    "# gpm to cfs\n",
    "cfs = gpm*(1/60)*(1/7.48)\n",
    "import math\n",
    "area = 0.25*math.pi*diam**2\n",
    "vel = cfs/area\n",
    "nu = 7.39e-06 # from the database lookup\n",
    "Re = reynolds(vel,diam,nu)\n",
    "if Re > 2300:\n",
    "    print(\"Reynolds number:\",round(Re,3),\" flow is turbulent\")\n",
    "if Re >= 2000 and Re <=2300:\n",
    "    print(\"Reynolds number:\",round(Re,3),\" flow is transitional\")\n",
    "if Re < 2000:\n",
    "    print(\"Reynolds number:\",round(Re,3),\" flow is laminar\")"
   ]
  },
  {
   "cell_type": "markdown",
   "metadata": {},
   "source": [
    "Next we need to find the roughness height from the material describtion, again an on-line tool is helpful [http://54.243.252.9/toolbox/Databases/RoughnessHeight/RoughnessHeight.html](http://54.243.252.9/toolbox/Databases/RoughnessHeight/RoughnessHeight.html)\n",
    "\n",
    "```{figure} roughness14.png\n",
    "---\n",
    "width: 400px\n",
    "name: roughness14\n",
    "---\n",
    "Galvanized Iron Roughness from On-line Database\n",
    "```\n",
    "\n",
    "With the roughness height we can complete the analysis."
   ]
  },
  {
   "cell_type": "code",
   "execution_count": 8,
   "metadata": {},
   "outputs": [
    {
     "name": "stdout",
     "output_type": "stream",
     "text": [
      "Relative roughness 0.000984251968503937\n"
     ]
    }
   ],
   "source": [
    "roughness = 0.15 #mm\n",
    "roughness = roughness/25.4/12 #mm to inches, inches to feet\n",
    "relative_roughness = roughness/diam\n",
    "print(\"Relative roughness\",relative_roughness)"
   ]
  },
  {
   "cell_type": "markdown",
   "metadata": {},
   "source": [
    "Use this value to find a friction factor, easiest to use the Jain equation(s)\n",
    "\n",
    "$$f = \\frac{0.25}{[log_{10}(\\frac{K_s}{3.7D} + \\frac{5.74}{Re^{0.9}}]^2}$$"
   ]
  },
  {
   "cell_type": "markdown",
   "metadata": {},
   "source": [
    "### Discussion of Results"
   ]
  },
  {
   "cell_type": "markdown",
   "metadata": {},
   "source": []
  },
  {
   "cell_type": "markdown",
   "metadata": {},
   "source": [
    "## Example 2: "
   ]
  },
  {
   "cell_type": "code",
   "execution_count": null,
   "metadata": {},
   "outputs": [],
   "source": []
  },
  {
   "cell_type": "code",
   "execution_count": null,
   "metadata": {},
   "outputs": [],
   "source": []
  },
  {
   "cell_type": "markdown",
   "metadata": {},
   "source": [
    "\n",
    "## Readings\n",
    "\n",
    "1. CE-3305-2022-1 Syllabus. [http://54.243.252.9/ce-3305-webroot/0-Syllabus/ce-3305-2022-1-syllabus.html](http://54.243.252.9/ce-3305-webroot/0-Syllabus/ce-3305-2022-1-syllabus.html)\n",
    "\n",
    "2. Hibbeler, R.C, Fluid Mechanics, 2ed. Prentice Hall, 2018. ISBN: 9780134655413 pp. 517-539\n",
    "\n",
    "3. DF Elger, BC Williams, Crowe, CT and JA Roberson, *Engineering Fluid Mechanics 10th edition*, John Wiley & Sons, Inc., 2013. [http://54.243.252.9/ce-3305-webroot/3-Readings/EFM-13.pdf](http://54.243.252.9/ce-3305-webroot/3-Readings/EFM-13.pdf)\n",
    "\n",
    "4. Cleveland, T. G. (2014) *Fluid Mechanics Notes to Accompany CE 3305 at Jade-Holshule (TTU Study Abroad 2015-2019)*, Department of Civil, Environmental, and Construction Engineering, Whitacre College of Engineering. [http://54.243.252.9/ce-3305-webroot/3-Readings/ce3305-lecture13.pdf](http://54.243.252.9/ce-3305-webroot/3-Readings/ce3305-lecture13.pdf)\n",
    "\n",
    " "
   ]
  },
  {
   "cell_type": "code",
   "execution_count": null,
   "metadata": {},
   "outputs": [],
   "source": []
  },
  {
   "cell_type": "code",
   "execution_count": null,
   "metadata": {},
   "outputs": [],
   "source": []
  }
 ],
 "metadata": {
  "kernelspec": {
   "display_name": "Python 3",
   "language": "python",
   "name": "python3"
  },
  "language_info": {
   "codemirror_mode": {
    "name": "ipython",
    "version": 3
   },
   "file_extension": ".py",
   "mimetype": "text/x-python",
   "name": "python",
   "nbconvert_exporter": "python",
   "pygments_lexer": "ipython3",
   "version": "3.8.10"
  }
 },
 "nbformat": 4,
 "nbformat_minor": 4
}
