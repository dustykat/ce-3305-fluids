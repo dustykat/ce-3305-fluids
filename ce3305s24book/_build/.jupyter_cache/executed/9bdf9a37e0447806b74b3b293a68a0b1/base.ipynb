{
 "cells": [
  {
   "cell_type": "code",
   "execution_count": 1,
   "metadata": {},
   "outputs": [
    {
     "name": "stdout",
     "output_type": "stream",
     "text": [
      "Computed Drag Force =  139.14805320726128 Target Force =  139.44664031620553\n",
      "Computed Reynolds Number =  1322682.2530656245\n"
     ]
    }
   ],
   "source": [
    "def drag(cd,area,rho,vel):\n",
    "    drag = cd*area*rho*vel*vel*0.5\n",
    "    return(drag)\n",
    "\n",
    "def reynolds(velocity,diameter,viscosity,rho):\n",
    "    reynolds = rho*velocity*diameter/viscosity\n",
    "    return(reynolds)\n",
    "######## problem data ###########\n",
    "weightus = 48 # lbs, given\n",
    "weightsi = weightus/2.2 # kilos\n",
    "gravity  = 9.8 # ft/sec*sec\n",
    "mass = weightsi\n",
    "height = (34.5/12)/3.28 # meters\n",
    "diameter = (22.5/12)/3.28 # meters\n",
    "rho = 1.2 #kg/cu.m.\n",
    "air_viscosity = 1.81e-05 #m^2/s\n",
    "######### trial-error-correction ############\n",
    "target = mass*gravity*(diameter/height)\n",
    "area = diameter*height\n",
    "cd = 0.38\n",
    "vel = 34.9\n",
    "print(\"Computed Drag Force = \",drag(cd,area,rho,vel),\"Target Force = \",target)\n",
    "print(\"Computed Reynolds Number = \",reynolds(vel,diameter,air_viscosity,rho))"
   ]
  },
  {
   "cell_type": "code",
   "execution_count": 2,
   "metadata": {},
   "outputs": [
    {
     "name": "stdout",
     "output_type": "stream",
     "text": [
      "Estimated Velocity to Tip Barrel  78.049  mph\n"
     ]
    }
   ],
   "source": [
    "velmph = vel*3.28*3600/5280 # report in miles/hour\n",
    "print(\"Estimated Velocity to Tip Barrel \",round(velmph,3),\" mph\")"
   ]
  },
  {
   "cell_type": "code",
   "execution_count": null,
   "metadata": {},
   "outputs": [],
   "source": []
  }
 ],
 "metadata": {
  "kernelspec": {
   "display_name": "Python 3",
   "language": "python",
   "name": "python3"
  },
  "language_info": {
   "codemirror_mode": {
    "name": "ipython",
    "version": 3
   },
   "file_extension": ".py",
   "mimetype": "text/x-python",
   "name": "python",
   "nbconvert_exporter": "python",
   "pygments_lexer": "ipython3",
   "version": "3.8.10"
  }
 },
 "nbformat": 4,
 "nbformat_minor": 4
}