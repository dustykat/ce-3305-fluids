{
 "cells": [
  {
   "cell_type": "markdown",
   "metadata": {},
   "source": [
    "**Download** (right-click, save target as ...) this page as a Jupyterlab notebook from: [EX-3](http://54.243.252.9/ce-3305-webroot/5-Exams/EX3/EX3.ipynb)\n",
    "\n",
    "___"
   ]
  },
  {
   "cell_type": "markdown",
   "metadata": {},
   "source": [
    "# <font color=darkblue>CE 3305 Engineering Fluid Mechanics <br> Spring 2022 Exam 3</font>\n",
    "\n",
    "**LAST NAME, FIRST NAME**\n",
    "\n",
    "**R00000000**\n",
    "\n",
    "___\n",
    "\n",
    "### Purpose : \n",
    "Demonstrate ability to apply fluid mechanics and problem solving principles covering topics such as: Bernoulli's equation, Conservation of Mass, Control Volume Analysis, Conservation of Linear Momentum, and applications in closed conduit systems.\n"
   ]
  },
  {
   "cell_type": "markdown",
   "metadata": {},
   "source": [
    "___\n",
    "\n",
    "### Problem 1\n",
    "\n",
    "Figure 1 depicts a reservoir draining through a valve used to\n",
    "control the flow rate. The head loss across the valve is $h_l = 4 \\frac{V^2}{2g}$ , where V is the velocity\n",
    "in the pipe. The cross-sectional area of the pipe is $8~cm^2$. The elevation of the water level in the reservoir above the pipe outlet is 9 m.\n",
    "\n",
    "<figure align=\"center\"> \n",
    "<!--<img src=\"./TankDrainB.png\" width=\"400\" >-->\n",
    "<img src=\"http://54.243.252.9/ce-3305-webroot/5-Exams/EX3/TankDrainB.png\" width=\"400\" >\n",
    "<figcaption>Figure 1. Tank draining through a valve</figcaption>\n",
    "</figure>\n",
    "\n",
    "Assuming all loss occurs in the valve. Find the discharge in the pipe; assume α = 1.0 at all locations in the system."
   ]
  },
  {
   "cell_type": "code",
   "execution_count": 25,
   "metadata": {},
   "outputs": [
    {
     "name": "stdout",
     "output_type": "stream",
     "text": [
      "/home/sensei/ce-3305-webroot/5-Exams/EX3\n"
     ]
    }
   ],
   "source": [
    "# sketch(s) here\n",
    "! pwd"
   ]
  },
  {
   "cell_type": "code",
   "execution_count": 2,
   "metadata": {},
   "outputs": [],
   "source": [
    "# list known quantities"
   ]
  },
  {
   "cell_type": "code",
   "execution_count": 3,
   "metadata": {},
   "outputs": [],
   "source": [
    "# list unknown quantities"
   ]
  },
  {
   "cell_type": "code",
   "execution_count": 4,
   "metadata": {},
   "outputs": [],
   "source": [
    "# governing principles"
   ]
  },
  {
   "cell_type": "code",
   "execution_count": 5,
   "metadata": {},
   "outputs": [],
   "source": [
    "# solution (step-by-step) "
   ]
  },
  {
   "cell_type": "code",
   "execution_count": 6,
   "metadata": {},
   "outputs": [],
   "source": [
    "# discussion"
   ]
  },
  {
   "cell_type": "markdown",
   "metadata": {},
   "source": [
    "---\n",
    "\n",
    "### Problem 2:\n",
    "\n",
    "Figure 2 is a schematic of water (15$^o$C) flowing from a tank through a tube and discharging into ambient conditions (a jet at the outlet). \n",
    "\n",
    "<figure align=\"center\">\n",
    "<!-- <img src=\"./ex2-tanks.png\" width=\"400\" > -->\n",
    "<img src=\"http://54.243.252.9/ce-3305-webroot/5-Exams/EX3/TankDrainC.png\" width=\"500\" >\n",
    "<figcaption>Figure 2. Tank draining through a tube.</figcaption>\n",
    "</figure>\n",
    "\n",
    "The tube has an inside diameter of $8~mm$ and a length of $L=6~m$, and the frictional resistance coefficient is $f =0.015$. \n",
    "Assuming only pipeline head loss in the tube (ignoring any minor losses), find:\n",
    "\n",
    "1. The exit velocity in m/s if the water level is H=3m.\n",
    "2. The discharge in L/s.\n",
    "3. Sketch the HGL and the EGL.\n"
   ]
  },
  {
   "cell_type": "code",
   "execution_count": 7,
   "metadata": {},
   "outputs": [],
   "source": [
    "# sketch here"
   ]
  },
  {
   "cell_type": "code",
   "execution_count": 8,
   "metadata": {},
   "outputs": [],
   "source": [
    "# list known quantities"
   ]
  },
  {
   "cell_type": "code",
   "execution_count": 9,
   "metadata": {},
   "outputs": [],
   "source": [
    "# list unknown quantities"
   ]
  },
  {
   "cell_type": "code",
   "execution_count": 10,
   "metadata": {},
   "outputs": [],
   "source": [
    "# governing principles"
   ]
  },
  {
   "cell_type": "code",
   "execution_count": 11,
   "metadata": {},
   "outputs": [],
   "source": [
    "# solution (step-by-step)"
   ]
  },
  {
   "cell_type": "code",
   "execution_count": 12,
   "metadata": {},
   "outputs": [],
   "source": [
    "# discussion"
   ]
  },
  {
   "cell_type": "markdown",
   "metadata": {},
   "source": [
    "---\n",
    "\n",
    "### Problem 3\n",
    "\n",
    "Figure 3 is a schematic of a pumped-storage system. If a flow of $0.10~m^3/s$ of water is to be maintained in the system shown, what power must be added to the water by the pump? The pipe is made of steel and is $15~cm$ in diameter.\n",
    "\n",
    "<figure align=\"center\">\n",
    "<!--<img src=\"./ex2-tee.png\" width=\"400\" > -->\n",
    "<img src=\"http://54.243.252.9/ce-3305-webroot/5-Exams/EX3/PumpStorageB.png\" width=\"600\" >\n",
    "<figcaption>Figure 3. Pump-Storage System </figcaption>\n",
    "</figure>\n",
    "\n"
   ]
  },
  {
   "cell_type": "code",
   "execution_count": 13,
   "metadata": {},
   "outputs": [],
   "source": [
    "# sketch(s) here"
   ]
  },
  {
   "cell_type": "code",
   "execution_count": 14,
   "metadata": {},
   "outputs": [],
   "source": [
    "# list known quantities"
   ]
  },
  {
   "cell_type": "code",
   "execution_count": 15,
   "metadata": {},
   "outputs": [],
   "source": [
    "# list unknown quantities"
   ]
  },
  {
   "cell_type": "code",
   "execution_count": 16,
   "metadata": {},
   "outputs": [],
   "source": [
    "# governing principles"
   ]
  },
  {
   "cell_type": "code",
   "execution_count": 17,
   "metadata": {},
   "outputs": [],
   "source": [
    "# solution (step-by-step) (Put the plot here, or in discussion)"
   ]
  },
  {
   "cell_type": "code",
   "execution_count": 18,
   "metadata": {},
   "outputs": [],
   "source": [
    "# discussion"
   ]
  },
  {
   "cell_type": "markdown",
   "metadata": {},
   "source": [
    "---\n",
    "\n",
    "### Problem 4\n",
    "\n",
    "The pressure drop over 150 m of 10-cm-diameter galvanized iron pipe is measured to be $100~kPa$. Roughness height is $k_s = 0.20~mm$. The viscosity of water is $\\nu = 10^{−6}~m^2/sec$.\n",
    "\n",
    "<figure align=\"center\">\n",
    "<!--<img src=\"./ex2-tee.png\" width=\"400\" > -->\n",
    "<img src=\"http://54.243.252.9/ce-3305-webroot/5-Exams/EX3/PipelineSketch.png\" width=\"600\" >\n",
    "<figcaption>Figure 4-1. Pipeline Sketch </figcaption>\n",
    "</figure>\n",
    "\n",
    "If the pipe is horizontal, estimate the flow rate of water using the Moody chart below.\n",
    "\n",
    "<figure align=\"center\">\n",
    "<!--<img src=\"./ex2-tee.png\" width=\"400\" > -->\n",
    "<img src=\"http://54.243.252.9/ce-3305-webroot/5-Exams/EX3/Moody.png\" width=\"600\" >\n",
    "<figcaption>Figure 4-2. Moody (Blue) Chart </figcaption>\n",
    "</figure>\n",
    "\n",
    "Express the result in Liters per second. "
   ]
  },
  {
   "cell_type": "code",
   "execution_count": 19,
   "metadata": {},
   "outputs": [],
   "source": [
    "# sketch(s) here"
   ]
  },
  {
   "cell_type": "code",
   "execution_count": 20,
   "metadata": {},
   "outputs": [],
   "source": [
    "# list known quantities"
   ]
  },
  {
   "cell_type": "code",
   "execution_count": 21,
   "metadata": {},
   "outputs": [],
   "source": [
    "# list unknown quantities"
   ]
  },
  {
   "cell_type": "code",
   "execution_count": 22,
   "metadata": {},
   "outputs": [],
   "source": [
    "# governing principles"
   ]
  },
  {
   "cell_type": "code",
   "execution_count": 23,
   "metadata": {},
   "outputs": [],
   "source": [
    "# solution (step-by-step) "
   ]
  },
  {
   "cell_type": "code",
   "execution_count": 24,
   "metadata": {},
   "outputs": [],
   "source": [
    "# discussion"
   ]
  },
  {
   "cell_type": "markdown",
   "metadata": {},
   "source": []
  },
  {
   "cell_type": "markdown",
   "metadata": {},
   "source": [
    "---\n",
    "\n",
    "### Problem 5\n",
    "\n",
    "The pressure drop over 150 m of 10-cm-diameter galvanized iron pipe is measured to be $100~kPa$. Roughness height is $k_s = 0.20~mm$. The viscosity of water is $\\nu = 10^{−6}~m^2/sec$.\n",
    "\n",
    "<figure align=\"center\">\n",
    "<!--<img src=\"./ex2-tee.png\" width=\"400\" > -->\n",
    "<img src=\"http://54.243.252.9/ce-3305-webroot/5-Exams/EX3/PipelineSketch.png\" width=\"600\">\n",
    "<figcaption>Figure 5. Pipeline Sketch </figcaption>\n",
    "</figure>\n",
    "\n",
    "If the pipe is horizontal, estimate the flow rate of water using the Jain friction factor formula.\n",
    "\n",
    "$$f = \\frac{0.25}{[log_{10}(\\frac{K_s}{3.7D} + \\frac{5.74}{Re^{0.9}})]^2}$$\n",
    "\n",
    "Express the result in $m^3/s$. "
   ]
  },
  {
   "cell_type": "code",
   "execution_count": 12,
   "metadata": {},
   "outputs": [],
   "source": [
    "# sketch(s) here"
   ]
  },
  {
   "cell_type": "code",
   "execution_count": 2,
   "metadata": {},
   "outputs": [],
   "source": [
    "# list known quantities"
   ]
  },
  {
   "cell_type": "code",
   "execution_count": 3,
   "metadata": {},
   "outputs": [],
   "source": [
    "# list unknown quantities"
   ]
  },
  {
   "cell_type": "code",
   "execution_count": 4,
   "metadata": {},
   "outputs": [],
   "source": [
    "# governing principles"
   ]
  },
  {
   "cell_type": "code",
   "execution_count": 5,
   "metadata": {},
   "outputs": [],
   "source": [
    "# solution (step-by-step) "
   ]
  },
  {
   "cell_type": "code",
   "execution_count": 7,
   "metadata": {},
   "outputs": [],
   "source": [
    "# discussion"
   ]
  }
 ],
 "metadata": {
  "kernelspec": {
   "display_name": "Python 3",
   "language": "python",
   "name": "python3"
  },
  "language_info": {
   "codemirror_mode": {
    "name": "ipython",
    "version": 3
   },
   "file_extension": ".py",
   "mimetype": "text/x-python",
   "name": "python",
   "nbconvert_exporter": "python",
   "pygments_lexer": "ipython3",
   "version": "3.8.10"
  }
 },
 "nbformat": 4,
 "nbformat_minor": 4
}
