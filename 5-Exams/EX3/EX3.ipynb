{
 "cells": [
  {
   "cell_type": "markdown",
   "metadata": {},
   "source": [
    "**Download** (right-click, save target as ...) this page as a Jupyterlab notebook from: [EX-3](http://54.243.252.9/ce-3305-webroot/5-Exams/EX3/EX3.ipynb)\n",
    "\n",
    "___"
   ]
  },
  {
   "cell_type": "markdown",
   "metadata": {},
   "source": [
    "# <font color=darkblue>CE 3305 Engineering Fluid Mechanics <br> Summer 2022 Exam 3</font>\n",
    "\n",
    "**LAST NAME, FIRST NAME**\n",
    "\n",
    "**R00000000**\n",
    "\n",
    "___\n",
    "\n",
    "### Purpose : \n",
    "Demonstrate ability to apply fluid mechanics and problem solving principles covering topics such as: Bernoulli's equation, Conservation of Mass, Control Volume Analysis, Conservation of Linear Momentum.\n"
   ]
  },
  {
   "cell_type": "markdown",
   "metadata": {},
   "source": [
    "___\n",
    "\n",
    "### Problem 1\n",
    "\n",
    "<figure align=\"center\">\n",
    "<!--<img src=\"./Fountain.png\" width=\"300\" >-->\n",
    "<img src=\"http://54.243.252.9/ce-3305-webroot/5-Exams/EX3/balloon.png\" width=\"300\" >\n",
    "<figcaption>Figure 1: Balloon rocket</figcaption>\n",
    "</figure>\n",
    "\n",
    "Figure 1 is a balloon rocket held in place by a force $F$.  \n",
    "The nozzle is a 0.8 $cm$ diameter tube, and an air jet exits the nozzle with a speed of 45 $m/s$ and a density of 1.2 $kg/m^3$.  \n",
    "\n",
    "Determine:\n",
    "- The force $F$ needed to hold the balloon stationary."
   ]
  },
  {
   "cell_type": "code",
   "execution_count": 1,
   "metadata": {},
   "outputs": [],
   "source": [
    "# sketch(s) here"
   ]
  },
  {
   "cell_type": "code",
   "execution_count": 2,
   "metadata": {},
   "outputs": [],
   "source": [
    "# list known quantities"
   ]
  },
  {
   "cell_type": "code",
   "execution_count": 3,
   "metadata": {},
   "outputs": [],
   "source": [
    "# list unknown quantities"
   ]
  },
  {
   "cell_type": "code",
   "execution_count": 4,
   "metadata": {},
   "outputs": [],
   "source": [
    "# governing principles"
   ]
  },
  {
   "cell_type": "code",
   "execution_count": 5,
   "metadata": {},
   "outputs": [],
   "source": [
    "# solution (step-by-step) "
   ]
  },
  {
   "cell_type": "code",
   "execution_count": 7,
   "metadata": {},
   "outputs": [],
   "source": [
    "# discussion"
   ]
  },
  {
   "cell_type": "markdown",
   "metadata": {},
   "source": [
    "---\n",
    "\n",
    "### Problem 2:\n",
    "\n",
    "A cylindrical tank of water is being filled from a tremmie-pipe as shown.  The velocity of flow from the pipe is 10 ft/s.\n",
    "\n",
    "<figure align=\"center\">\n",
    "<!--<img src=\"./Fountain.png\" width=\"300\" >-->\n",
    "<img src=\"http://54.243.252.9/ce-3305-webroot/5-Exams/EX3/tankfill.png\" width=\"300\" >\n",
    "<figcaption>Figure 2: Schematic of tank filling operation </figcaption>\n",
    "</figure>\n",
    "\n",
    "Determine:\n",
    "- The speed of the rising water surface\n",
    "- The time required to fill the tank from empty to a depth of 11 feet"
   ]
  },
  {
   "cell_type": "code",
   "execution_count": 6,
   "metadata": {},
   "outputs": [],
   "source": [
    "# sketch here"
   ]
  },
  {
   "cell_type": "code",
   "execution_count": 7,
   "metadata": {},
   "outputs": [],
   "source": [
    "# list known quantities"
   ]
  },
  {
   "cell_type": "code",
   "execution_count": 8,
   "metadata": {},
   "outputs": [],
   "source": [
    "# list unknown quantities"
   ]
  },
  {
   "cell_type": "code",
   "execution_count": 9,
   "metadata": {},
   "outputs": [],
   "source": [
    "# governing principles"
   ]
  },
  {
   "cell_type": "code",
   "execution_count": 10,
   "metadata": {},
   "outputs": [],
   "source": [
    "# solution (step-by-step)"
   ]
  },
  {
   "cell_type": "code",
   "execution_count": 11,
   "metadata": {},
   "outputs": [],
   "source": [
    "# discussion"
   ]
  },
  {
   "cell_type": "markdown",
   "metadata": {},
   "source": [
    "---\n",
    "\n",
    "### Problem 3\n",
    "\n",
    "Figure 3 is a schematic of a turbofan engine. On an airframe the engine takes in air, a portion of which passes through the compressor into the combustion chamber where fuel is added and ignited, and out through the turbine; the remainder of the air bypasses the compressor and is accelerated by the fans. The mass flow rate of bypass air to the mass flow rate through the compressor-combuster-turbine path is called the “bypass ratio.”\n",
    "The total flow rate of air entering the turbofan engine is 412 kg/s with a velocity relative to the engine of 400 m/s. The engine has a bypass ratio of 6.1:2. The bypass air exits at 660 m/s, whereas the air through the compressor-combustor-turbine path exits at 990 m/s.\n",
    "\n",
    "<figure align=\"center\">\n",
    "<!-- <img src=\"./jetengine.png\" width=\"400\" > -->\n",
    "<img src=\"http://54.243.252.9/ce-3305-webroot/5-Exams/EX3/jetengine.png\" width=\"400\" >\n",
    "<figcaption>Figure 3. Axial-Flow Jet Engine Schematic  </figcaption>\n",
    "</figure>\n",
    "\n",
    "Determine:\n",
    "- The thrust (in Newtons) generated by the turbofan engine?"
   ]
  },
  {
   "cell_type": "code",
   "execution_count": 12,
   "metadata": {},
   "outputs": [],
   "source": [
    "# sketch(s) here"
   ]
  },
  {
   "cell_type": "code",
   "execution_count": 2,
   "metadata": {},
   "outputs": [],
   "source": [
    "# list known quantities"
   ]
  },
  {
   "cell_type": "code",
   "execution_count": 3,
   "metadata": {},
   "outputs": [],
   "source": [
    "# list unknown quantities"
   ]
  },
  {
   "cell_type": "code",
   "execution_count": 4,
   "metadata": {},
   "outputs": [],
   "source": [
    "# governing principles"
   ]
  },
  {
   "cell_type": "code",
   "execution_count": 5,
   "metadata": {},
   "outputs": [],
   "source": [
    "# solution (step-by-step) (Put the plot here, or in discussion)"
   ]
  },
  {
   "cell_type": "code",
   "execution_count": 7,
   "metadata": {},
   "outputs": [],
   "source": [
    "# discussion"
   ]
  },
  {
   "cell_type": "markdown",
   "metadata": {},
   "source": [
    "---\n",
    "\n",
    "### Problem 4\n",
    "\n",
    "Figure 4 is a vertical bend in a pipe with a 2 foot diameter.  It conveys water ($\\rho=62.4 \\frac{lbm}{ft^3}$) at a rate of 31.4 $\\frac{ft^3}{s}$.  \n",
    "\n",
    "<figure align=\"center\">\n",
    "<!--<img src=\"./ex2-bend.png\" width=\"400\" > --> \n",
    "<img src=\"http://54.243.252.9/ce-3305-webroot/5-Exams/EX2/ex2-bend.png\" width=\"600\" >\n",
    "<figcaption>Figure 4. Vertical pipe bend </figcaption>\n",
    "</figure>\n",
    "\n",
    "The pressure $p_1$ is 10 $psi$ at the lower end of the bend where the elevation is 100 feet.\n",
    "The pressure $p_2$ is 8.5 $psi$ at the upper end of the bend where the elevation is 103 feet.\n",
    "\n",
    "Determine:\n",
    "- The vertical component of force that must be exherted by the anchor block on the bend to hold it in place.  The fitting itself weighs 300 lbf and the length $L$ is 4 feet."
   ]
  },
  {
   "cell_type": "code",
   "execution_count": 12,
   "metadata": {},
   "outputs": [],
   "source": [
    "# sketch(s) here"
   ]
  },
  {
   "cell_type": "code",
   "execution_count": 2,
   "metadata": {},
   "outputs": [],
   "source": [
    "# list known quantities"
   ]
  },
  {
   "cell_type": "code",
   "execution_count": 3,
   "metadata": {},
   "outputs": [],
   "source": [
    "# list unknown quantities"
   ]
  },
  {
   "cell_type": "code",
   "execution_count": 4,
   "metadata": {},
   "outputs": [],
   "source": [
    "# governing principles"
   ]
  },
  {
   "cell_type": "code",
   "execution_count": 5,
   "metadata": {},
   "outputs": [],
   "source": [
    "# solution (step-by-step) "
   ]
  },
  {
   "cell_type": "code",
   "execution_count": 7,
   "metadata": {},
   "outputs": [],
   "source": [
    "# discussion"
   ]
  },
  {
   "cell_type": "markdown",
   "metadata": {},
   "source": []
  },
  {
   "cell_type": "markdown",
   "metadata": {},
   "source": [
    "---\n",
    "\n",
    "### Problem 5\n",
    "\n",
    "A firehose on a boat is producing a 5-in. diameter, <strong>horizontal</strong>, water jet with a speed of V=\n",
    "55 mph. The boat is held stationary by a cable attached to a pier. The water temperature\n",
    "is 44$^o$F. \n",
    "\n",
    "Determine:\n",
    "- The tension in the cable"
   ]
  },
  {
   "cell_type": "code",
   "execution_count": 12,
   "metadata": {},
   "outputs": [],
   "source": [
    "# sketch(s) here"
   ]
  },
  {
   "cell_type": "code",
   "execution_count": 2,
   "metadata": {},
   "outputs": [],
   "source": [
    "# list known quantities"
   ]
  },
  {
   "cell_type": "code",
   "execution_count": 3,
   "metadata": {},
   "outputs": [],
   "source": [
    "# list unknown quantities"
   ]
  },
  {
   "cell_type": "code",
   "execution_count": 4,
   "metadata": {},
   "outputs": [],
   "source": [
    "# governing principles"
   ]
  },
  {
   "cell_type": "code",
   "execution_count": 5,
   "metadata": {},
   "outputs": [],
   "source": [
    "# solution (step-by-step) "
   ]
  },
  {
   "cell_type": "code",
   "execution_count": 7,
   "metadata": {},
   "outputs": [],
   "source": [
    "# discussion"
   ]
  }
 ],
 "metadata": {
  "kernelspec": {
   "display_name": "Python 3",
   "language": "python",
   "name": "python3"
  },
  "language_info": {
   "codemirror_mode": {
    "name": "ipython",
    "version": 3
   },
   "file_extension": ".py",
   "mimetype": "text/x-python",
   "name": "python",
   "nbconvert_exporter": "python",
   "pygments_lexer": "ipython3",
   "version": "3.8.10"
  }
 },
 "nbformat": 4,
 "nbformat_minor": 4
}
