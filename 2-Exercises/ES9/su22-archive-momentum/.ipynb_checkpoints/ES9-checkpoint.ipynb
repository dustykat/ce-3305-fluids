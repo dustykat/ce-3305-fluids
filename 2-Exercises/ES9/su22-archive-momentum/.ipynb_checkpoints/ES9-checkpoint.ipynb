{
 "cells": [
  {
   "cell_type": "markdown",
   "metadata": {},
   "source": [
    "**Download** (right-click, save target as ...) this page as a Jupyterlab notebook from: [ES-9](http://54.243.252.9/ce-3305-webroot/2-Exercises/ES9/ES9.ipynb)\n",
    "\n",
    "___"
   ]
  },
  {
   "cell_type": "markdown",
   "metadata": {},
   "source": [
    "# <font color=darkblue>CE 3305 Engineering Fluid Mechanics <br> Summer 2022 Exercise Set 9</font>\n",
    "\n",
    "**LAST NAME, FIRST NAME**\n",
    "\n",
    "**R00000000**\n",
    "\n",
    "___\n",
    "\n",
    "### Purpose : \n",
    "Application of Momentum Principles.\n",
    "### Assessment Criteria : \n",
    "Completion, plausible solutions, use JupyterLab as a calculator.\n",
    "___"
   ]
  },
  {
   "cell_type": "markdown",
   "metadata": {},
   "source": [
    "### Problem 1.\n",
    "\n",
    "<figure align=\"center\">\n",
    "<!--<img src=\"./Fountain.png\" width=\"300\" >-->\n",
    "<img src=\"http://54.243.252.9/ce-3305-webroot/2-Exercises/ES9/balloon.png\" width=\"300\" >\n",
    "<figcaption>Figure 1: Balloon rocket</figcaption>\n",
    "</figure>\n",
    "\n",
    "Figure 1 is a balloon rocket held in place by a force $F$.  \n",
    "The nozzle is a 0.8 $cm$ diameter tube, and an air jet exits the nozzle with a speed of 45 $m/s$ and a density of 1.2 $kg/m^3$.  Find the force $F$ needed to hold the balloon stationary."
   ]
  },
  {
   "cell_type": "code",
   "execution_count": null,
   "metadata": {},
   "outputs": [],
   "source": [
    "# list known quantities"
   ]
  },
  {
   "cell_type": "code",
   "execution_count": null,
   "metadata": {},
   "outputs": [],
   "source": [
    "# list unknown quantities"
   ]
  },
  {
   "cell_type": "code",
   "execution_count": null,
   "metadata": {},
   "outputs": [],
   "source": [
    "# governing principles"
   ]
  },
  {
   "cell_type": "code",
   "execution_count": null,
   "metadata": {},
   "outputs": [],
   "source": [
    "# solution (step-by-step)"
   ]
  },
  {
   "cell_type": "code",
   "execution_count": null,
   "metadata": {},
   "outputs": [],
   "source": [
    "# sketch here"
   ]
  },
  {
   "cell_type": "code",
   "execution_count": null,
   "metadata": {},
   "outputs": [],
   "source": [
    "# discussion"
   ]
  },
  {
   "cell_type": "markdown",
   "metadata": {},
   "source": [
    "---"
   ]
  },
  {
   "cell_type": "markdown",
   "metadata": {},
   "source": [
    "### Problem 2.\n",
    "\n",
    "Figure 2 is a schematic of an elbow fitting in a pipe system.  The gage pressure throughout the horizontal 90$^o$ bend (the elbow lies in the horizontal plane -- the figure is a plan view of the bend) is 300 $kPa$.  \n",
    "If the pipe diameter is 1 $m$ and the water (at 10 $^oC$) flow rate is 10 $m^3/s$, what $x-$component of force must be applied to the bend to hold in in place against the water action.\n",
    "\n",
    "<figure align=\"center\">\n",
    "<!--<img src=\"./Fountain.png\" width=\"300\" >-->\n",
    "<img src=\"http://54.243.252.9/ce-3305-webroot/2-Exercises/ES9/elbow.png\" width=\"300\" >\n",
    "<figcaption>Figure 2: Pipe elbow</figcaption>\n",
    "</figure>"
   ]
  },
  {
   "cell_type": "code",
   "execution_count": null,
   "metadata": {},
   "outputs": [],
   "source": [
    "# sketch here"
   ]
  },
  {
   "cell_type": "code",
   "execution_count": null,
   "metadata": {},
   "outputs": [],
   "source": [
    "# list known quantities"
   ]
  },
  {
   "cell_type": "code",
   "execution_count": null,
   "metadata": {},
   "outputs": [],
   "source": [
    "# list unknown quantities"
   ]
  },
  {
   "cell_type": "code",
   "execution_count": null,
   "metadata": {},
   "outputs": [],
   "source": [
    "# governing principles"
   ]
  },
  {
   "cell_type": "code",
   "execution_count": null,
   "metadata": {},
   "outputs": [],
   "source": [
    "# solution (step-by-step)"
   ]
  },
  {
   "cell_type": "code",
   "execution_count": null,
   "metadata": {},
   "outputs": [],
   "source": [
    "# discussion"
   ]
  },
  {
   "cell_type": "markdown",
   "metadata": {},
   "source": [
    "---\n",
    "\n",
    "### Problem 3.\n",
    "\n",
    "<figure align=\"center\">\n",
    "<!--<img src=\"./Fountain.png\" width=\"300\" >-->\n",
    "<img src=\"http://54.243.252.9/ce-3305-webroot/2-Exercises/ES9/es11-1.png\" width=\"300\" >\n",
    "<figcaption>Figure 3: Jet exiting a tank</figcaption>\n",
    "</figure>\n",
    "\n",
    "Figure 3 is a schematic of a horizontal water jet from a tank at 70 $^oF$ exits from a circular orifice and strikes a vertical plate that is normal to the axis of the jet. A 600 lbf force is required to hold the plate in place against the jet; the pressure in the tank at point A is 25 psig. What is the diameter of the jet downstream of the orifice?"
   ]
  },
  {
   "cell_type": "code",
   "execution_count": null,
   "metadata": {},
   "outputs": [],
   "source": [
    "# sketch here"
   ]
  },
  {
   "cell_type": "code",
   "execution_count": null,
   "metadata": {},
   "outputs": [],
   "source": [
    "# list known quantities"
   ]
  },
  {
   "cell_type": "code",
   "execution_count": null,
   "metadata": {},
   "outputs": [],
   "source": [
    "# list unknown quantities"
   ]
  },
  {
   "cell_type": "code",
   "execution_count": null,
   "metadata": {},
   "outputs": [],
   "source": [
    "# governing principles"
   ]
  },
  {
   "cell_type": "code",
   "execution_count": null,
   "metadata": {},
   "outputs": [],
   "source": [
    "# solution (step-by-step)"
   ]
  },
  {
   "cell_type": "code",
   "execution_count": null,
   "metadata": {},
   "outputs": [],
   "source": [
    "# discussion"
   ]
  },
  {
   "cell_type": "markdown",
   "metadata": {},
   "source": [
    "---"
   ]
  }
 ],
 "metadata": {
  "kernelspec": {
   "display_name": "Python 3",
   "language": "python",
   "name": "python3"
  },
  "language_info": {
   "codemirror_mode": {
    "name": "ipython",
    "version": 3
   },
   "file_extension": ".py",
   "mimetype": "text/x-python",
   "name": "python",
   "nbconvert_exporter": "python",
   "pygments_lexer": "ipython3",
   "version": "3.8.10"
  }
 },
 "nbformat": 4,
 "nbformat_minor": 4
}
