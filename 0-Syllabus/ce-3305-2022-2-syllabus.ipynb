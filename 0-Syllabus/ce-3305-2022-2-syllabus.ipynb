{
 "cells": [
  {
   "cell_type": "markdown",
   "metadata": {},
   "source": [
    "# CE 3305 Mechanics of Fluids\n",
    "\n",
    "## Course Catalog Description: \n",
    "\n",
    "CE 3305: Mechanics of Fluids (3:3:0). Prerequisites: CE 2301. Hydrostatics; dynamics of viscous and nonviscous fluids; resistance to flow; flow in pipes and open channels.\n",
    "\n",
    "## Prerequisites: \n",
    "Engineering Mechanics - Statics (CE 2301) or equivalent<br>\n",
    "Computational Thinking with Data Science (ENGR 1330) or equivalent"
   ]
  },
  {
   "cell_type": "markdown",
   "metadata": {},
   "source": [
    "## Course Sections\n",
    "Lesson time, days, and location: \n",
    "\n",
    "<!--1. Section 001; CRN 29622; 0800-0920 T-Th ; Mechanical Engineering North 00132-->\n",
    "1. Section 201; CRN 72324; 1200-1350 M,T,W,Th,F ; CE 205\n",
    "\n",
    "## Course Instructor:\n",
    "\n",
    "Instructor: Theodore G. Cleveland, Ph.D., P.E., M. ASCE, F. EWRI\n",
    "\n",
    "Email: theodore.cleveland@ttu.edu  (put CE 3305-003 into the subject line for email related to this class)\n",
    "\n",
    "Office location: CECE 203F\n",
    "\n",
    "Office hours: 1400-1500 M,T,W,Th,F ; CE 203F\n",
    "\n",
    "## Teaching Assistant:\n",
    "\n",
    "Teaching Assistant: none authorized\n",
    "\n",
    "Email : \n",
    "\n",
    "Office location: \n",
    "\n",
    "Office hours: "
   ]
  },
  {
   "cell_type": "markdown",
   "metadata": {},
   "source": [
    "## Textbook: \n",
    "\n",
    "Elger D.F., LeBret B.A., Crowe C.T., Roberson J.A. (2019) *Engineering Fluid Mechanics 12th Edition* John Wiley & Sons Inc. Hoboken, New Jersey. *ISBN-13: 978-1119723509* \n",
    "- [Amazon New EFM 12th Edition](https://www.amazon.com/Engineering-Fluid-Mechanics-Donald-Elger/dp/1119723507/ref=asc_df_1119723507/?tag=hyprod-20&linkCode=df0&hvadid=459640465657&hvpos=&hvnetw=g&hvrand=16030757883077041011&hvpone=&hvptwo=&hvqmt=&hvdev=c&hvdvcmdl=&hvlocint=&hvlocphy=1026578&hvtargid=pla-947323559251&psc=1&asin=1119723507&revisionId=&format=4&depth=1)<br>\n",
    "- [TTU Bookstore](https://www.depts.ttu.edu/bookstore/)\n",
    "\n",
    "<font color=\"red\">The Follett Discover (Blackboard) edition is the 11-th edition which is also available from [Amazon Used EFM 11th Edition](https://www.amazon.com/Engineering-Fluid-Mechanics-Binder-Version/dp/1118880684/ref=sr_1_1?crid=13AED7NSX4O5A&keywords=Engineering+Fluid+Mechanics+11th+Edition&qid=1648766100&s=books&sprefix=engineering+fluid+mechanics+11th+edition%2Cstripbooks%2C92&sr=1-1). </font>\n",
    "\n",
    "<font color=\"green\">**The instructor notes below are based on the 8-th edition, if you can find one of these used go ahead and buy it [Amazon Used EFM 8th Edition](https://www.amazon.com/Engineering-Fluid-Mechanics-Clayton-Crowe/dp/0470086394/ref=sr_1_3?crid=2ZI22V998TMSU&keywords=Engineering+Fluid+Mechanics+8th+Edition&qid=1648765818&s=books&sprefix=engineering+fluid+mechanics+8th+edition%2Cstripbooks%2C97&sr=1-3)** The current edition is fine; chapters are about the same, there is an added chapter on computational fluid dynamics.</font>\n",
    "\n",
    "**Any of the editions above will be sufficient**; exercise problems will be a bit different, but all the versions are fine for the class.\n",
    "\n",
    "## Instructor's Notes:\n",
    "\n",
    "Cleveland, T. G. (2021) *Fluid Mechanics Notes to Accompany CE 3305 at TTU*, Department of Civil, Environmental, and Construction Engineering, Whitacre College of Engineering, DOI (pending) [http://54.243.252.9/ce-3305-webroot-su22/ce3305jb/_build/html/intro.html](http://54.243.252.9/ce-3305-webroot-su22/ce3305jb/_build/html/intro.html)"
   ]
  },
  {
   "cell_type": "markdown",
   "metadata": {},
   "source": [
    "## Course Objectives: \n",
    "The purpose of this required course is to provide engineering students with the fundamentals of fluid mechanics. Students should be able to use this foundation for the more in-depth courses to follow. This course shall provide students with a set of tools and concepts that are directly applicable to pipe systems, open channels, pumping plants, and measurement of fluid flows as well as other related problems that may be encountered as practicing engineers."
   ]
  },
  {
   "cell_type": "markdown",
   "metadata": {},
   "source": [
    "## Knowledge, Skills, Abilities (KSA) :\n",
    "Upon sucessful completion of this course, students will have demonstrated the Knowledge, Skill, and Ability (KSA) to:\n",
    "\n",
    "1. Identify and apply fluid properties to analyze and solve fluid mechanics problems\n",
    "2. Interpret conservation laws and apply them to analyze problems in hydrodynamics\n",
    "3. Identify and apply systems and control volume methods based on conservation principles\n",
    "4. Analyze steady pipe flow in networks using associated concepts and Computational Thinking (ENGR 1330) tools\n",
    "5. Differentiate and apply principles of dimensional homogeneity\n",
    "6. Analyze boundary layer flows and drag for hydraulic analysis\n",
    "7. Apply Computational Thinking (ENGR 1330) methods to analyze data and create mathematical models\n",
    "8. Recognize how specific sensors and instruments in fluid mechanics work\n",
    "9. Characterize, analyze and design open channels for steady one-dimensional flow"
   ]
  },
  {
   "cell_type": "markdown",
   "metadata": {},
   "source": [
    "## ABET Student Outcomes\n",
    "* Engineering:\n",
    "    1. An ability to identify, formulate, and solve complex engineering problems by applying principles of engineering, science, and mathematics.\n",
    "    2. An ability to acquire and apply new knowledge as needed, using appropriate learning strategies. \n",
    " "
   ]
  },
  {
   "cell_type": "markdown",
   "metadata": {},
   "source": [
    "## Resources/Tools\n",
    "\n",
    "Computational tools equivalent to those used in ENGR 1330 (Jupyter Notebooks accessed using Anaconda) are expected.  \n",
    "\n",
    "### Hardware Requirements\n",
    "The college of engineering has specific laptop requirements for courses that are listed at https://www.depts.ttu.edu/coe/dean/engineeringitservices/buyingtherightcomputer.php\n",
    "\n",
    "### Learning Management System\n",
    "Blackboard(BB) is used as the learning management system (LMS) for this class and all exercises are to be uploaded to BB.  Late submissions are accepted, but scores are automatically reduced 50% \n",
    "\n",
    "### Website\n",
    "The course website **for this section** is located at [http://54.243.252.9/ce-3305-webroot-su22/](http://54.243.252.9/ce-3305-webroot-su22/); the website is not intended as a primary access to course content, but will work when BB fails.  The webbook (below) and exercises, and exams are stored on the website.\n",
    "\n",
    "### Instructor Notes \n",
    "The course notes are located in a webbook at [http://54.243.252.9/ce-3305-webroot-su22/ce3305jb/_build/html/intro.html](http://54.243.252.9/ce-3305-webroot-su22/ce3305jb/_build/html/intro.html)"
   ]
  },
  {
   "cell_type": "code",
   "execution_count": 1,
   "metadata": {},
   "outputs": [
    {
     "data": {
      "text/html": [
       "<style> table {margin-left: 0 !important;} </style>\n"
      ],
      "text/plain": [
       "<IPython.core.display.HTML object>"
      ]
     },
     "metadata": {},
     "output_type": "display_data"
    }
   ],
   "source": [
    "%%html\n",
    "<style> table {margin-left: 0 !important;} </style>"
   ]
  },
  {
   "cell_type": "markdown",
   "metadata": {},
   "source": [
    "## Course Schedule ##"
   ]
  },
  {
   "cell_type": "markdown",
   "metadata": {},
   "source": [
    "## Course Schedule\n",
    "\n",
    "Each lesson is $\\approx 1.5$ hours; reading needs to be completed in advance\n",
    "\n",
    "---\n",
    "\n",
    "\n",
    "|date|lesson|topic|reading|homework|quiz|\n",
    "|:---|:---|:---|:---|:---|:---|\n",
    "|5Jul22|1|Introduction <br> - Syllabus  <br> - On-Line Resources  <br> - Problem Solving Strategy <br> - Dimensions <br> - Units| pp. 2-8 <br> -  |none|Quiz 1 (Blackboard competence)|\n",
    "|6Jul22|2|Intensive and Extensive Fluid Properties <br> - Basic Fluid Properties <br> - Viscosimiters <br> - Vapor Pressure |pp. 9-30|[ES-1](http://54.243.252.9/ce-3305-webroot/2-Exercises/ES1/ES1.html)<br>- IGL|Quiz 2 (Fluid Properties)|\n",
    "|7Jul22|3|Fluid Statics and Pressure <br> - Hydrostatic Equation <br> - Measuring Devices <br> - Force on a plane surface|pp. 31-46|[ES-2](http://54.243.252.9/ce-3305-webroot/2-Exercises/ES2/ES2.html)<br>- Compressibility|Quiz 3 (Capillary Forces)|\n",
    "|8Jul22|4|Fluid Statics and Pressure <br> - Forces on submerged objects <br> - Bouyancy <br> - Stability <br> - Manometry|pp. 47-80|[ES-3](http://54.243.252.9/ce-3305-webroot/2-Exercises/ES3/ES3.html)<br>- Dalton's law|Quiz 4 (Breath Hold Dive)|\n",
    "|10Jul22|[<font color=\"red\">Test 1 due on Blackboard</font>](http://54.243.252.9/ce-3305-webroot/5-Exams/EX1/EX1.html)|basic properties,viscosity,pressure|||\n",
    "|11Jul22|5|Kinematics <br> - Eulerian Coordinates <br> - Lagrangian Coordinates <br> - Acceleration <br> |pp. 81-113|[ES-4](http://54.243.252.9/ce-3305-webroot/2-Exercises/ES4/ES4.html)<br>- Manometry|\n",
    "|12Jul22|6|Euler Equation <br> - Constant Acceleration, Translation <br> -  Constant Velocity, Rotation|pp. 96-113|[ES-5](http://54.243.252.9/ce-3305-webroot/2-Exercises/ES5/ES5.html)<br>- Forces on Objects\n",
    "|13Jul22|7|Bernoulli Equation  <br> - Energy (Modified Bernoulli) Equation <br> |pp. 99-117|[ES-6](http://54.243.252.9/ce-3305-webroot/2-Exercises/ES6/ES6.html)<br>- Flow Kinematics|\n",
    "|14Jul22|8|Control Volume Approach <br> - Reynold’s Transport Theorem <br> - Conservation of Mass |pp. 99-117|[ES-7](http://54.243.252.9/ce-3305-webroot/2-Exercises/ES7/ES7.html) <br>- Bernoulli Applications|\n",
    "|15Jul22|9|Reynold’s Transport Theorem <br> - Linear Momentum <br> - Angular Momentum |pp. 293-355|[ES-8](http://54.243.252.9/ce-3305-webroot/2-Exercises/ES8/ES8.html)<br>- Mass Balance|\n",
    "|17Jul22|<font color=\"red\">Test 2 due on Blackboard</font>|forces on submerged objects,euler equation,bernoulli equation,RTT mass|||\n",
    "|18Jul22|10|Reynold’s Transport Theorem <br> - Energy  |pp. 223-293 |[ES-9](http://54.243.252.9/ce-3305-webroot/2-Exercises/ES9/ES9.html)<br>- Momentum Balance|\n",
    "|19Jul22|11|Dimensional Analysis and Similitude <br> - Pi groups <br> – Correlation Functions <br> - Geometric Similarity <br> - Kinematic Similarity <br> - Dynamic Similarity |pp. 429-469 |[ES-10](http://54.243.252.9/ce-3305-webroot/2-Exercises/ES10/ES10.html)<br>- Energy Balance|\n",
    "|20Jul22|12|Closed Conduit Analysis <br> - Pipeline loss <br> - Fitting loss <br> - Single Pipeline Flow <br> - Drag Reducing Agents|pp. 517-540 |[ES-11](http://54.243.252.9/ce-3305-webroot/2-Exercises/ES11/ES11.html)<br>- IDK?|\n",
    "|21Jul22|13|Pipe Network Analysis <br> - Junction heads <br> - Conduit loss <br> - Equation systems|pp. 540-569|[ES-12](http://54.243.252.9/ce-3305-webroot/2-Exercises/ES12/ES12.html)<br> - Similitude|\n",
    "|22Jul22|14|Computational Hydraulics <br> - Pipe Network Analysis <br> - Newton-Raphson Method|pp. 540-569|ES-13|\n",
    "|24Jul22|<font color=\"red\">Test 3 due on Blackboard</font>|pressure measurement, RTT momentum, Energy, Dimensional Analysis|||\n",
    "|25Jul22|15|Fluid Machinery <br> - Pumps <br> - Turbines <br> - Fans <br> - Compressors |ppXX-XX|ES-13|\n",
    "|26Jul22|16|Pump Selection |ppXX-XX|ES-14|\n",
    "|27Jul22|17|Open Conduits <br> - Flow Types <br> - Specific Energy|pp. 647-666|ES-15|\n",
    "|28Jul22|18|Steady Flows <br> - Uniform Flow <br> - Gradually Varied Flow |pp. 666-680|ES-16|\n",
    "|29Jul22|19|Steady Flows <br> - Rapidly Varied Flow <br> - Hydraulic Jump <br> - Weirs|pp. 680-707|ES-17|\n",
    "|31Jul22|<font color=\"red\">Test 4 due on Blackboard</font>|Similarity, Viscous Flow, Pipelines, Networks|||\n",
    "|1Aug22|20|Computational Hydraulics <br> - GVF Backwater Curves <br> - GVF Frontwater Curves|ppXX-XX|ES-18|\n",
    "|2Aug22|21|Boundary Layers <br> – Laminar <br> - Turbulent <br> - Flow over Flat Plate |pp. 569-596|ES-19|\n",
    "|3Aug22|22|Drag and Lift <br> - Form Drag <br> - Flow around Cylinder|pp. 596-647|ES-20|\n",
    "|4Aug22|23|Applications <br> - Force on Pier <br> - Mobile Gravel Bed |pp. 647-666|ES-21|\n",
    "|5Aug22|<font color=\"red\">Test 5 due on Blackboard</font>|Open channel flow, Drag forces|<font color=\"red\">All Homework Must Be Uploaded for Scoring</font>|none|\n",
    "\n",
    "<!--||<font color=\"red\">Test 5 due on Blackboard</font>|||\n",
    "|25|Steady Flows (continued) <br> - Rapidly Varied Flow <br> - Hydraulic Jump <br> - Weirs|pp. 680-707|ES-23|\n",
    "|26|Computational Hydraulics <br> - GVF Backwater Curves <br> - GVF Frontwater Curves|ppXX-XX|ES-24|\n",
    "|27|Fluid machines <br> - Fans <br> - Compressors |ppXX-XX|ES-25|\n",
    "|28|Fluid machines <br> - Pumps  |ppXX-XX|ES-26|\n",
    "|29|Computational Hydraulics <br> - Pipeline with Pumps <br> - Pipe network with pumps|ppXX-XX|ES-27|\n",
    "|30|Compressible Flow <br> - Types <br> - Nozzles|ppXX-XX|none|\n",
    "|31|Compressible Flow <br> - Heat Transfer <br> - Shock Waves <br> - Measurement <br> Unsteady Flow in Pipelines <br> - Rigid Column Theory <br> -  Elastic Theory|ppXX-XX|ES-28|\n",
    "|26Jul22|16|Viscous Internal Flows <br> - Parallel Plates <br> |pp. 469-480|ES-14|\n",
    "|27Jul22|17|Viscous Internal Flows <br> - Smooth Circular Conduit <br> - Reynolds Number|pp. 480-517|ES-15|-->"
   ]
  },
  {
   "cell_type": "markdown",
   "metadata": {},
   "source": [
    "---\n",
    "## Course Assessment and Grading Criteria:\n",
    "There will be $\\approx$ 15 homework assignments, five tests, and a final project report and presentation for this course.  \n",
    "<strong>Late</strong> assignments will be scored at 50% reduced value \n",
    "\n",
    "Grades will be based on the following components; weighting is approximate:\n",
    "\n",
    "|Assessment Instrument|Weight(%)|\n",
    "|---|---:|\n",
    "|Test-1|10|\n",
    "|Test-2|10|\n",
    "|Test-3|10|\n",
    "|Test-4|10|\n",
    "|Test-5|10|\n",
    "|Homework|30|\n",
    "|Attendance|5|\n",
    "|Quizzes|15|\n",
    "|Overall total|100|\n",
    "\n",
    "Letter grades will be assigned using the following quantile proportions of all assessment instruments:\n",
    "\n",
    "|Quantile Range|Letter Grade|\n",
    "|:-|---:|\n",
    "|90-100|A| \n",
    "|71-89|B|\n",
    "|51-70|C|\n",
    "|31-50|D|\n",
    "|0 - 30|F|\n",
    "\n",
    "<!-- Scores as Quantiles Ranges\n",
    "|81-100|A| \n",
    "|61-80|B|\n",
    "|41-60|C|\n",
    "|21-40|D|\n",
    "|<= 0-20|F|\n",
    "-->\n"
   ]
  },
  {
   "cell_type": "markdown",
   "metadata": {},
   "source": [
    "## Classroom Policy:\n",
    "The following activities are not allowed in the classroom: Texting or talking on the cellphone or other electronic devices, and reading non-course related materials.\n",
    "### Telepresence (On-line) Courses\n",
    "Obviously electronic devices are vital; disrupting the conference is prohibited, please mute your microphone unless you have a question - consider typing your question into the chat window as well. Be aware of bandwidth issues and remember most lessons and laboratory sessions are recorded and posted on youtube.  Recording, editing, and rendering takes awhile, so expect 24-36 hour delay before video is available. "
   ]
  },
  {
   "cell_type": "markdown",
   "metadata": {},
   "source": [
    "---\n",
    "## ADA Statement: \n",
    "Any student who, because of a disability, may require special arrangements in order to meet the course requirements should contact the instructor as soon as possible to make necessary arrangements.  Students must present appropriate verification from Student Disability Services during the instructor's office hours.  Please note that instructors are not allowed to provide classroom accommodation to a student until appropriate verification from Student Disability Services has been provided.  For additional information, please contact Student Disability Services \n",
    "office in 335 West Hall or call 806.742.2405.\n",
    "\n",
    "## Academic Integrity Statement:\n",
    "Academic integrity is taking responsibility for one’s own class and/or course work, being individually accountable, and demonstrating intellectual honesty and ethical behavior.  Academic integrity is a personal choice to abide by the standards of intellectual honesty and responsibility.  Because education is a shared effort to achieve learning through the exchange of ideas, students, faculty, and staff have the collective responsibility to build mutual trust and respect.  Ethical behavior and independent thought are essential for the highest level of academic achievement, which then must be measured.  Academic achievement includes scholarship, teaching, and learning, all of which are shared endeavors.  Grades are a device used to quantify the successful accumulation of knowledge through learning.  Adhering to the standards of academic integrity ensures grades are earned honestly.  Academic integrity is the foundation upon which students, faculty, and staff build their educational and professional careers.  [Texas Tech University (“University”) Quality Enhancement Plan, Academic Integrity Task Force, 2010].\n",
    "\n",
    "## Religious Holy Day Statement: \n",
    "“Religious holy day” means a holy day observed by a religion whose places of worship are exempt from property taxation under Texas Tax Code §11.20.  A student who intends to observe a religious holy day should make that intention known to the instructor prior to the absence.  A student who is absent from classes for the observance of a religious holy day shall be allowed to take an examination or complete an assignment scheduled for that day within a reasonable time after the absence.  A student who is excused may not be penalized for the absence; however, the instructor may respond appropriately if the student fails to complete the assignment satisfactorily.\n",
    "\n",
    "## Ethical Conduct Policy:\n",
    "Cheating is prohibited, and the representation of the work of another person as your own will be grounds for receiving a failing grade in the course.\n",
    "\n",
    "**DISCRIMINATION, HARASSMENT, AND SEXUAL VIOLENCE STATEMENT:**\n",
    "Texas Tech University is committed to providing and strengthening an educational, working, and living environment where students, faculty, staff, and visitors are free from gender and/or sex discrimination of any kind. Sexual assault, discrimination, harassment, and other Title IX violations are not tolerated by the University. Report any incidents to the Office for Student Rights & Resolution, (806)-742-SAFE (7233) or file a report online at titleix.ttu.edu/students. Faculty and staff members at TTU are committed to connecting you to resources on campus. Some of these available resources are: TTU Student Counseling Center, 806- 742-3674, https://www.depts.ttu.edu/scc/(Provides confidential support on campus.) TTU 24-hour Crisis Helpline, 806-742-5555, (Assists students who are experiencing a mental health or interpersonal violence crisis. If you call the helpline, you will speak with a mental health counselor.) Voice of Hope Lubbock Rape Crisis Center, 806-763-7273, voiceofhopelubbock.org (24-hour hotline that provides support for survivors of sexual violence.) The Risk, Intervention, Safety and Education (RISE) Office, 806-742-2110,  https://www.depts.ttu.edu/rise/ (Provides a range of resources and support options focused on prevention education and student wellness.) Texas Tech Police Department, 806-742- 3931,http://www.depts.ttu.edu/ttpd/ (To report criminal activity that occurs on or near Texas Tech campus.)\n",
    "\n",
    "**CIVILITY IN THE CLASSROOM STATEMENT:**\n",
    "Texas Tech University is a community of faculty, students, and staff that enjoys an expectation of cooperation, professionalism, and civility during the conduct of all forms of university business, including the conduct of student–student and student–faculty interactions in and out of the classroom. Further, the classroom is a setting in which an exchange of ideas and creative thinking should be encouraged and where intellectual growth and development are fostered. Students who disrupt this classroom mission by rude, sarcastic, threatening, abusive or obscene language and/or behavior will be subject to appropriate sanctions according to university policy. Likewise, faculty members are expected to maintain the highest standards of professionalism in all interactions with all constituents of the university.\n",
    "To ensure that you are fully engaged in class discussions and account team meetings during class time, you are expected to do the following:\n",
    "- Maintain the same level of civility and professionalism that would be expected in a face-to-face classroom setting.\n",
    "- Attend all classes regularly.\n",
    "- Log into the video conference on time and remain logged in for the duration of the class period.\n",
    "- Activate your camera so that you are visible to the instructor and other students in the class. If you have concerns about leaving your camera on (such as childcare obligations, privacy issues, or a particular circumstance during a class period), please talk to the instructor.\n",
    "- Refrain from engaging in non-class related activities during class time that create a distraction for other students in the class and/or limit your ability to engage in the course.\n",
    "Failure to meet these expectations may result in the following consequences:\n",
    "1. Being counted as absent for the class meeting.\n",
    "2. Not receiving credit for class participation for that class period.\n",
    "3. Other consequences as stipulated in the syllabus, Texas Tech Code of Student Conduct, or other university policy.\n",
    "Repeated failure to meet expectations (e.g., attendance, participation in class, etc.), in addition to the above consequences, may result in the one or more of the following consequences:\n",
    "1. Referral to the appropriate Associate Dean.\n",
    "2. Academic penalty, ranging from a warning to failure of the course.\n",
    "(www.depts.ttu.edu/ethics/matadorchallenge/ethicalprinciples.php).\n",
    "\n",
    "**LGBTQIA SUPPORT STATEMENT:**\n",
    "I identify as an ally to the lesbian, gay, bisexual, transgender, queer, intersex, and asexual (LGBTQIA) community, and I am available to listen and support you in an affirming manner. I can assist in connecting you with resources on campus to address problems you may face pertaining to sexual orientation and/or gender identity that could interfere with your success at Texas Tech. Please note that additional resources are available through the Office of LGBTQIA within the Center for Campus Life, Student Union Building Room 201, www.lgbtqia.ttu.edu, 806.742.5433.”\n",
    "\n",
    "Office of LGBTQIA, Student Union Building Room 201, www.lgbtqia.ttu.edu, 806.742.5433\n",
    "Within the Center for Campus Life, the Office serves the Texas Tech community through facilitation and leadership of programming and advocacy efforts. This work is aimed at strengthening the lesbian, gay, bisexual, transgender, queer, intersex, and asexual (LGBTQIA) community and sustaining an inclusive campus that welcomes people of all sexual orientations, gender identities, and gender expressions.\n"
   ]
  },
  {
   "cell_type": "code",
   "execution_count": null,
   "metadata": {},
   "outputs": [],
   "source": []
  },
  {
   "cell_type": "code",
   "execution_count": null,
   "metadata": {},
   "outputs": [],
   "source": []
  }
 ],
 "metadata": {
  "kernelspec": {
   "display_name": "Python 3",
   "language": "python",
   "name": "python3"
  },
  "language_info": {
   "codemirror_mode": {
    "name": "ipython",
    "version": 3
   },
   "file_extension": ".py",
   "mimetype": "text/x-python",
   "name": "python",
   "nbconvert_exporter": "python",
   "pygments_lexer": "ipython3",
   "version": "3.8.10"
  }
 },
 "nbformat": 4,
 "nbformat_minor": 4
}
