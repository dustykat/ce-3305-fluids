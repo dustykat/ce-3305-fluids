{
 "cells": [
  {
   "cell_type": "markdown",
   "metadata": {},
   "source": [
    "**Download** (right-click, save target as ...) this page as a Jupyterlab notebook from: [EX-3](http://54.243.252.9/ce-3305-webroot/5-Exams/EX3/EX3.ipynb)\n",
    "\n",
    "___"
   ]
  },
  {
   "cell_type": "markdown",
   "metadata": {},
   "source": [
    "# <font color=darkblue>CE 3305 Engineering Fluid Mechanics <br> Spring 2022 Exam 4</font>\n",
    "\n",
    "**LAST NAME, FIRST NAME**\n",
    "\n",
    "**R00000000**\n",
    "\n",
    "___\n",
    "\n",
    "### Purpose : \n",
    "Demonstrate ability to apply fluid mechanics and problem solving principles covering topics such as: Bernoulli's equation, Conservation of Mass, Control Volume Analysis, Conservation of Linear Momentum, and applications in closed conduit systems.\n"
   ]
  },
  {
   "cell_type": "markdown",
   "metadata": {},
   "source": [
    "___\n",
    "\n",
    "### Problem 1\n",
    "\n",
    "Figure 1 depicts a 350-cm-diameter emergency medicine parachute that lowers a mass of 20\n",
    "kilograms. It is deployed (somewhere in South Florida) and falls in air which has density of 1.25 kg/m$^3$. Estimate\n",
    "the terminal velocity of the system, using the projected area based on the parachute\n",
    "diameter.\n",
    "\n",
    "<figure align=\"center\"> \n",
    "<!--<img src=\"./parachute.png\" width=\"200\" >-->\n",
    "<img src=\"http://54.243.252.9/ce-3305-webroot/5-Exams/EX4/parachute.png\" width=\"200\" >\n",
    "<figcaption>Figure 1. Medical parachute system</figcaption>\n",
    "</figure>\n",
    "\n"
   ]
  },
  {
   "cell_type": "code",
   "execution_count": null,
   "metadata": {},
   "outputs": [],
   "source": [
    "# sketch(s) here"
   ]
  },
  {
   "cell_type": "code",
   "execution_count": null,
   "metadata": {},
   "outputs": [],
   "source": [
    "# list known quantities"
   ]
  },
  {
   "cell_type": "code",
   "execution_count": null,
   "metadata": {},
   "outputs": [],
   "source": [
    "# list unknown quantities"
   ]
  },
  {
   "cell_type": "code",
   "execution_count": null,
   "metadata": {},
   "outputs": [],
   "source": [
    "# governing principles"
   ]
  },
  {
   "cell_type": "code",
   "execution_count": null,
   "metadata": {},
   "outputs": [],
   "source": [
    "# solution (step-by-step) "
   ]
  },
  {
   "cell_type": "code",
   "execution_count": null,
   "metadata": {},
   "outputs": [],
   "source": [
    "# discussion"
   ]
  },
  {
   "cell_type": "markdown",
   "metadata": {},
   "source": [
    "---\n",
    "\n",
    "### Problem 2:\n",
    "\n",
    "High-speed rail (HSR) trains are streamlined to reduce shear force. The cross section of a HSR car is shown in Figure 2. \n",
    "\n",
    "<figure align=\"center\">\n",
    "<!-- <img src=\"./HSRcar.png\" width=\"300\" >  -->\n",
    "<img src=\"http://54.243.252.9/ce-3305-webroot/5-Exams/EX4/HSRcar.png\" width=\"300\" >\n",
    "<figcaption>Figure 2. High-Speed Rail Car.</figcaption>\n",
    "</figure>\n",
    "\n",
    "For a 204 meter long train, estimate:\n",
    "1. The shear force on the car skin as 110 km/hr.\n",
    "2. The shear force on the car skin as 290 km/hr.\n",
    "3. The power (in kilowatts) required to just to overcome the frictional shear force at 110 km/hr.\n",
    "4. The power (in kilowatts) required to just to overcome the frictional shear force at 290 km/hr.\n"
   ]
  },
  {
   "cell_type": "code",
   "execution_count": null,
   "metadata": {},
   "outputs": [],
   "source": [
    "# sketch here"
   ]
  },
  {
   "cell_type": "code",
   "execution_count": null,
   "metadata": {},
   "outputs": [],
   "source": [
    "# list known quantities"
   ]
  },
  {
   "cell_type": "code",
   "execution_count": null,
   "metadata": {},
   "outputs": [],
   "source": [
    "# list unknown quantities"
   ]
  },
  {
   "cell_type": "code",
   "execution_count": null,
   "metadata": {},
   "outputs": [],
   "source": [
    "# governing principles"
   ]
  },
  {
   "cell_type": "code",
   "execution_count": null,
   "metadata": {},
   "outputs": [],
   "source": [
    "# solution (step-by-step)"
   ]
  },
  {
   "cell_type": "code",
   "execution_count": null,
   "metadata": {},
   "outputs": [],
   "source": [
    "# discussion"
   ]
  },
  {
   "cell_type": "markdown",
   "metadata": {},
   "source": [
    "---\n",
    "\n",
    "### Problem 3\n",
    "\n",
    "Figure 3 is a schematic of a turbofan engine. On an airframe the engine takes in air, a portion of which passes through the compressor into the combustion chamber where fuel is added and ignited, and out through the turbine; the remainder of the air bypasses the compressor and is accelerated by the fans. The mass flow rate of bypass air to the mass flow rate through the compressor-combuster-turbine path is called the “bypass ratio.”\n",
    "The total flow rate of air entering the turbofan engine is 412 kg/s with a velocity relative to the engine of 400 m/s. The engine has a bypass ratio of 3:1. The bypass air exits at 660 m/s, whereas the air through the compressor-combustor-turbine path exits at 990 m/s.\n",
    "\n",
    "<figure align=\"center\">\n",
    "<!--<img src=\"./jetengine.png\" width=\"400\" > -->\n",
    "<img src=\"http://54.243.252.9/ce-3305-webroot/5-Exams/EX4/jetengine.png\" width=\"400\" >\n",
    "<figcaption>Figure 3. Axial-Flow Jet Engine Schematic  </figcaption>\n",
    "</figure>\n",
    "\n",
    "What is the thrust (in Newtons) generated by the turbofan engine?"
   ]
  },
  {
   "cell_type": "code",
   "execution_count": null,
   "metadata": {},
   "outputs": [],
   "source": [
    "# sketch(s) here"
   ]
  },
  {
   "cell_type": "code",
   "execution_count": null,
   "metadata": {},
   "outputs": [],
   "source": [
    "# list known quantities"
   ]
  },
  {
   "cell_type": "code",
   "execution_count": null,
   "metadata": {},
   "outputs": [],
   "source": [
    "# list unknown quantities"
   ]
  },
  {
   "cell_type": "code",
   "execution_count": null,
   "metadata": {},
   "outputs": [],
   "source": [
    "# governing principles"
   ]
  },
  {
   "cell_type": "code",
   "execution_count": null,
   "metadata": {},
   "outputs": [],
   "source": [
    "# solution (step-by-step) (Put the plot here, or in discussion)"
   ]
  },
  {
   "cell_type": "code",
   "execution_count": null,
   "metadata": {},
   "outputs": [],
   "source": [
    "# discussion"
   ]
  },
  {
   "cell_type": "markdown",
   "metadata": {},
   "source": [
    "---\n",
    "\n",
    "### Problem 4\n",
    "\n",
    "A simple centrifugal pump consists of a 10 cm disk with radial ports as shown in Figure 4. Water is pumped from a reservoir through a central tube on the axis. The wheel spins at 1000 rev/min, and the liquid discharges to atmospheric pressure. To establish the maximum height for operation of the pump (called the shutoff height), assume the flow rate is nearly zero and the pressure at the pump sump pool is atmospheric. \n",
    "\n",
    "<figure align=\"center\">\n",
    "<!--<img src=\"./discpump.png\" width=\"400\" > -->\n",
    "<img src=\"http://54.243.252.9/ce-3305-webroot/5-Exams/EX4/discpump.png\" width=\"400\" >\n",
    "<figcaption>Figure 4. Simple Horizontal-Disk Pump </figcaption>\n",
    "</figure>\n",
    "\n",
    "Estimate the maximum operational height z for the pump."
   ]
  },
  {
   "cell_type": "code",
   "execution_count": null,
   "metadata": {},
   "outputs": [],
   "source": [
    "# sketch(s) here"
   ]
  },
  {
   "cell_type": "code",
   "execution_count": null,
   "metadata": {},
   "outputs": [],
   "source": [
    "# list known quantities"
   ]
  },
  {
   "cell_type": "code",
   "execution_count": null,
   "metadata": {},
   "outputs": [],
   "source": [
    "# list unknown quantities"
   ]
  },
  {
   "cell_type": "code",
   "execution_count": null,
   "metadata": {},
   "outputs": [],
   "source": [
    "# governing principles"
   ]
  },
  {
   "cell_type": "code",
   "execution_count": null,
   "metadata": {},
   "outputs": [],
   "source": [
    "# solution (step-by-step) "
   ]
  },
  {
   "cell_type": "code",
   "execution_count": null,
   "metadata": {},
   "outputs": [],
   "source": [
    "# discussion"
   ]
  },
  {
   "cell_type": "markdown",
   "metadata": {},
   "source": []
  },
  {
   "cell_type": "markdown",
   "metadata": {},
   "source": [
    "---\n",
    "\n",
    "### Problem 5\n",
    "\n",
    "Figure 1 is a schematic of wind blowing on a traffic barrier drum (A 55-gallon drum painted orange). Estimate the wind speed needed to tip the drum over. The empty mass of the drum is 24 lbm, the diameter is 22.5 inches, and the height is 34.5 inches.\n",
    "\n",
    "<figure align=\"center\">\n",
    "<!--<img src=\"./trafficdrum.png\" width=\"400\" > -->\n",
    "<img src=\"http://54.243.252.9/ce-3305-webroot/5-Exams/EX4/trafficdrum.png\" width=\"400\">\n",
    "<figcaption>Figure 5. Traffic Barrier Drum </figcaption>\n",
    "</figure>\n",
    "\n",
    "What volume of water is required to keep the drum from tipping over in a wind with sustained gusts of 90 miles/hour? \n",
    "\n",
    "> Assume the wall thickness is small, so the dimensions above closely approximate the inside dimensions of the drum."
   ]
  },
  {
   "cell_type": "code",
   "execution_count": null,
   "metadata": {},
   "outputs": [],
   "source": [
    "# sketch(s) here"
   ]
  },
  {
   "cell_type": "code",
   "execution_count": null,
   "metadata": {},
   "outputs": [],
   "source": [
    "# list known quantities"
   ]
  },
  {
   "cell_type": "code",
   "execution_count": null,
   "metadata": {},
   "outputs": [],
   "source": [
    "# list unknown quantities"
   ]
  },
  {
   "cell_type": "code",
   "execution_count": null,
   "metadata": {},
   "outputs": [],
   "source": [
    "# governing principles"
   ]
  },
  {
   "cell_type": "code",
   "execution_count": null,
   "metadata": {},
   "outputs": [],
   "source": [
    "# solution (step-by-step) "
   ]
  },
  {
   "cell_type": "code",
   "execution_count": null,
   "metadata": {},
   "outputs": [],
   "source": [
    "# discussion"
   ]
  },
  {
   "cell_type": "markdown",
   "metadata": {},
   "source": [
    "---\n",
    "\n",
    "### Bonus Problem 1\n",
    "\n",
    "Figure B1 is a steel pipe that carries a discharge of 0.0283m$^3$/sec of water. The head loss\n",
    "between locations (1) and (2) is 25.61 meters. The total head at (2) is 53.58 meters\n",
    "\n",
    "<figure align=\"center\">\n",
    "<!--<img src=\"./pipeline.png\" width=\"400\" > -->\n",
    "<img src=\"http://54.243.252.9/ce-3305-webroot/5-Exams/EX4/pipeline.png\" width=\"400\">\n",
    "<figcaption>Figure B1. Pipeline Sketch </figcaption>\n",
    "</figure>\n",
    "\n",
    "1. What is the velocity head at location (2)?\n",
    "2. What is the elevation head at location (2)?\n",
    "3. What is the pressure head at location (2)?\n",
    "4. What is the total head at location (1)?\n",
    "5. What is the velocity head at location (1)?\n",
    "6. What is the elevation head at location (1)?\n",
    "7. What is the pressure head at location (1)?"
   ]
  },
  {
   "cell_type": "code",
   "execution_count": null,
   "metadata": {},
   "outputs": [],
   "source": [
    "# sketch(s) here"
   ]
  },
  {
   "cell_type": "code",
   "execution_count": null,
   "metadata": {},
   "outputs": [],
   "source": [
    "# list known quantities"
   ]
  },
  {
   "cell_type": "code",
   "execution_count": null,
   "metadata": {},
   "outputs": [],
   "source": [
    "# list unknown quantities"
   ]
  },
  {
   "cell_type": "code",
   "execution_count": null,
   "metadata": {},
   "outputs": [],
   "source": [
    "# governing principles"
   ]
  },
  {
   "cell_type": "code",
   "execution_count": null,
   "metadata": {},
   "outputs": [],
   "source": [
    "# solution (step-by-step) "
   ]
  },
  {
   "cell_type": "code",
   "execution_count": null,
   "metadata": {},
   "outputs": [],
   "source": [
    "# discussion"
   ]
  },
  {
   "cell_type": "markdown",
   "metadata": {},
   "source": [
    "---\n",
    "\n",
    "### Bonus Problem 2\n",
    "\n",
    "Figure B2 is a sketch of an engineered channel looking downstream. The right side of the channel has a bench (like a bike path, or river walk). The longitudinal (in direction of flow) slope is 0.001, Manning's $n$ for the channel is 0.025.\n",
    "\n",
    "<figure align=\"center\">\n",
    "<!--<img src=\"./channel.png\" width=\"400\" > -->\n",
    "<img src=\"http://54.243.252.9/ce-3305-webroot/5-Exams/EX4/channel.png\" width=\"400\">\n",
    "<figcaption>Figure B2. Channel cross section at a bridge </figcaption>\n",
    "</figure>\n",
    "\n",
    "Use the sketch and channel properties to complete Table 1 below.\n",
    "\n",
    "|Depth (ft)|Flow Area (ft$^2$)|Wetted Perimeter (ft)|Hydraulic Radius (ft)|Discharge ($cfs$)|\n",
    "|:---|:---|:---|:---|:---|\n",
    "|0.0|0.0|0.0|0.0|0.0|\n",
    "|3.0|90.0|36.0|2.5||\n",
    "|6.0||||900.0|\n",
    "|8.0|||||\n",
    "|9.0|||||\n",
    "|20.0|||||\n",
    "\n",
    "What are the normal and critical flow depths in the channel when the discharge is $900~cfs$?"
   ]
  },
  {
   "cell_type": "code",
   "execution_count": null,
   "metadata": {},
   "outputs": [],
   "source": [
    "# sketch(s) here"
   ]
  },
  {
   "cell_type": "code",
   "execution_count": null,
   "metadata": {},
   "outputs": [],
   "source": [
    "# list known quantities"
   ]
  },
  {
   "cell_type": "code",
   "execution_count": null,
   "metadata": {},
   "outputs": [],
   "source": [
    "# list unknown quantities"
   ]
  },
  {
   "cell_type": "code",
   "execution_count": null,
   "metadata": {},
   "outputs": [],
   "source": [
    "# governing principles"
   ]
  },
  {
   "cell_type": "code",
   "execution_count": null,
   "metadata": {},
   "outputs": [],
   "source": [
    "# solution (step-by-step) "
   ]
  },
  {
   "cell_type": "code",
   "execution_count": null,
   "metadata": {},
   "outputs": [],
   "source": [
    "# discussion"
   ]
  },
  {
   "cell_type": "markdown",
   "metadata": {},
   "source": [
    "---\n",
    "\n",
    "### Bonus Problem 3\n",
    "\n",
    "Figure B3 is a pump curve. \n",
    "\n",
    "<figure align=\"center\">\n",
    "<!--<img src=\"./channel.png\" width=\"400\" > -->\n",
    "<img src=\"http://54.243.252.9/ce-3305-webroot/5-Exams/EX4/pumpcurve.png\" width=\"400\">\n",
    "<figcaption>Figure B3. GNB6-2 series pump performance curve(s) </figcaption>\n",
    "</figure>\n",
    "\n",
    "Identify on the chart the following:\n",
    "\n",
    "1. The total head axis\n",
    "2. The discharge axis\n",
    "3. The performance curve associated with a 5.25-inch impeller\n",
    "4. The net positive suction head ($NPSH_r$) curve for the pump\n",
    "5. The added head supplied by the pump at 160 gpm using a 5.25-inch impeller\n"
   ]
  },
  {
   "cell_type": "code",
   "execution_count": null,
   "metadata": {},
   "outputs": [],
   "source": [
    "# sketch(s) here"
   ]
  },
  {
   "cell_type": "code",
   "execution_count": null,
   "metadata": {},
   "outputs": [],
   "source": [
    "# list known quantities"
   ]
  },
  {
   "cell_type": "code",
   "execution_count": null,
   "metadata": {},
   "outputs": [],
   "source": [
    "# list unknown quantities"
   ]
  },
  {
   "cell_type": "code",
   "execution_count": null,
   "metadata": {},
   "outputs": [],
   "source": [
    "# governing principles"
   ]
  },
  {
   "cell_type": "code",
   "execution_count": null,
   "metadata": {},
   "outputs": [],
   "source": [
    "# solution (step-by-step) "
   ]
  },
  {
   "cell_type": "code",
   "execution_count": null,
   "metadata": {},
   "outputs": [],
   "source": [
    "# discussion"
   ]
  }
 ],
 "metadata": {
  "kernelspec": {
   "display_name": "Python 3",
   "language": "python",
   "name": "python3"
  },
  "language_info": {
   "codemirror_mode": {
    "name": "ipython",
    "version": 3
   },
   "file_extension": ".py",
   "mimetype": "text/x-python",
   "name": "python",
   "nbconvert_exporter": "python",
   "pygments_lexer": "ipython3",
   "version": "3.8.10"
  }
 },
 "nbformat": 4,
 "nbformat_minor": 4
}
