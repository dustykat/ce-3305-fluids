{
 "cells": [
  {
   "cell_type": "markdown",
   "metadata": {},
   "source": [
    "# Viscous Internal Flows (pp. 450-496)\n",
    "\n",
    ":::{admonition} Course Website\n",
    "[http://54.243.252.9/ce-3305-webroot/](http://54.243.252.9/ce-3305-webroot/)\n",
    ":::\n",
    "\n",
    "Viscous internal flows pertain to the movement of fluids within confined spaces, where the friction between fluid layers significantly influences the flow behavior. In an engineering context viscosity impacts fluid dynamics within pipes, channels, and other enclosed systems; its crucial for understanding phenomena like pressure drop, flow resistance, and energy dissipation. The practical goal is to analyze and optimize hydraulic systems by considering the complex interplay of viscosity and flow characteristics."
   ]
  },
  {
   "cell_type": "markdown",
   "metadata": {},
   "source": [
    "\n",
    "## Readings\n",
    "\n",
    "1. Hibbeler, R.C, Fluid Mechanics, 2ed. Prentice Hall, 2018. ISBN: 9780134655413 pp. 450-496\n",
    "\n",
    "2. DF Elger, BC Williams, Crowe, CT and JA Roberson, *Engineering Fluid Mechanics 10th edition*, John Wiley & Sons, Inc., 2013.  (placeholder file to get links working). [http://54.243.252.9/ce-3305-webroot/3-Readings/EFM-12.pdf](http://54.243.252.9/ce-3305-webroot/3-Readings/EFM-12.pdf)\n",
    "\n",
    "3. Cleveland, T. G. (2014) *Fluid Mechanics Notes to Accompany CE 3305 at Jade-Holshule (TTU Study Abroad 2015-2019)*, Department of Civil, Environmental, and Construction Engineering, Whitacre College of Engineering. [http://54.243.252.9/ce-3305-webroot/3-Readings/ce3305-lecture12.pdf](http://54.243.252.9/ce-3305-webroot/3-Readings/ce3305-lecture12.pdf)\n"
   ]
  },
  {
   "cell_type": "markdown",
   "metadata": {},
   "source": [
    "## Videos\n",
    "1. [Vorticity (1 of 2)](https://www.youtube.com/watch?v=loCLkcYEWD4) \n",
    "2. [Vorticity (2 of 2)](https://www.youtube.com/watch?v=h6bmrRFYFbc)\n",
    "3. [Transition to turbulence in pipe flow (Reynolds experiment)](https://www.youtube.com/watch?v=BBiR6FWmyv4) \n",
    "4. [Low-Reynolds-Number Flows](https://www.youtube.com/watch?v=51-6QCJTAjU)  \n",
    "5. [Turbulence](https://www.youtube.com/watch?v=1_oyqLOqwnI) \n",
    "6. [Laminar flow between parallel plates](https://www.youtube.com/watch?v=QOP5jOeJO_8)\n",
    "7. [Laminar Flow in Circular Conduit](https://www.youtube.com/watch?v=rVqq6YC7Z4o)"
   ]
  },
  {
   "cell_type": "markdown",
   "metadata": {},
   "source": [
    "## Lesson Outline\n",
    "- Laminar Flow \n",
    "- Parallel Plates \n",
    "- Smooth Circular Conduit \n",
    "- Turbulent Flow \n",
    "- Reynolds Number \n",
    "- Frictional Losses"
   ]
  },
  {
   "cell_type": "markdown",
   "metadata": {},
   "source": [
    "## Laminar Flow"
   ]
  },
  {
   "cell_type": "markdown",
   "metadata": {},
   "source": [
    "## Parallel Plates\n",
    "Flow between parallel plates sometimes called"
   ]
  },
  {
   "cell_type": "markdown",
   "metadata": {},
   "source": [
    "## Circular Conduit"
   ]
  },
  {
   "cell_type": "markdown",
   "metadata": {},
   "source": [
    "## Turbulent Flow"
   ]
  },
  {
   "cell_type": "markdown",
   "metadata": {},
   "source": [
    "## Reynolds Number"
   ]
  },
  {
   "cell_type": "markdown",
   "metadata": {},
   "source": [
    "## Frictional Losses"
   ]
  },
  {
   "cell_type": "code",
   "execution_count": null,
   "metadata": {},
   "outputs": [],
   "source": []
  }
 ],
 "metadata": {
  "kernelspec": {
   "display_name": "Python 3",
   "language": "python",
   "name": "python3"
  },
  "language_info": {
   "codemirror_mode": {
    "name": "ipython",
    "version": 3
   },
   "file_extension": ".py",
   "mimetype": "text/x-python",
   "name": "python",
   "nbconvert_exporter": "python",
   "pygments_lexer": "ipython3",
   "version": "3.8.10"
  }
 },
 "nbformat": 4,
 "nbformat_minor": 4
}