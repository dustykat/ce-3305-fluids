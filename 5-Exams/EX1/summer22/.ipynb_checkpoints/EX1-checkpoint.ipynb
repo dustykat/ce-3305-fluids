{
 "cells": [
  {
   "cell_type": "markdown",
   "metadata": {},
   "source": [
    "**Download** (right-click, save target as ...) this page as a Jupyterlab notebook from: [EX-1](http://54.243.252.9/ce-3305-webroot-su22/5-Exams/EX1/EX1.ipynb)\n",
    "\n",
    "___"
   ]
  },
  {
   "cell_type": "markdown",
   "metadata": {},
   "source": [
    "# <font color=darkblue>CE 3305 Engineering Fluid Mechanics <br> Summer 2022 Exam 1</font>\n",
    "\n",
    "**LAST NAME, FIRST NAME**\n",
    "\n",
    "**R00000000**\n",
    "\n",
    "___\n",
    "\n",
    "### Purpose : \n",
    "Demonstrate ability to apply fluid mechanics and problem solving principles covering topics such as: Fluid properties, viscosity, vapor pressure, fluid statics and pressure.\n"
   ]
  },
  {
   "cell_type": "markdown",
   "metadata": {},
   "source": [
    "___\n",
    "\n",
    "### Problem 1 \n",
    "\n",
    "If the local atmospheric pressure is 93 kPa (absolute) find the pressure in the alternate units listed below.  \n",
    "(Show your arithmetic, and cite sources of your conversion factors)\n",
    "\n",
    "- psi ([lbs per square inch](https://en.wikipedia.org/wiki/Pound_per_square_inch))\n",
    "- psf ([lbs per square foot](https://www.sensorsone.com/psf-pounds-per-square-foot-pressure-unit/))\n",
    "- bar ([bar](https://en.wikipedia.org/wiki/Bar_(unit)))\n",
    "- atm ([atmosphere](https://en.wikipedia.org/wiki/Standard_atmosphere_(unit)))\n",
    "- inches H$_2$O ([inch of water](https://en.wikipedia.org/wiki/Inch_of_water))\n",
    "- inches Hg ([inches of Mercury](https://en.wikipedia.org/wiki/Inch_of_mercury))\n"
   ]
  },
  {
   "cell_type": "code",
   "execution_count": 3,
   "metadata": {},
   "outputs": [],
   "source": [
    "# sketch(s) here"
   ]
  },
  {
   "cell_type": "code",
   "execution_count": 4,
   "metadata": {},
   "outputs": [],
   "source": [
    "# list known quantities"
   ]
  },
  {
   "cell_type": "code",
   "execution_count": 5,
   "metadata": {},
   "outputs": [],
   "source": [
    "# list unknown quantities"
   ]
  },
  {
   "cell_type": "code",
   "execution_count": 6,
   "metadata": {},
   "outputs": [],
   "source": [
    "# governing principles"
   ]
  },
  {
   "cell_type": "code",
   "execution_count": 7,
   "metadata": {},
   "outputs": [],
   "source": [
    "# solution (step-by-step) "
   ]
  },
  {
   "cell_type": "code",
   "execution_count": 8,
   "metadata": {},
   "outputs": [],
   "source": [
    "# discussion"
   ]
  },
  {
   "cell_type": "markdown",
   "metadata": {},
   "source": [
    "---\n",
    "\n",
    "### Problem 2\n",
    "A liquid flows between parallel boundaries as shown in Figure 2 below. The velocity distribution near the lower wall is given in the table below.\n",
    "\n",
    "<figure align=\"center\">\n",
    "<!--<img src=\"./closedconduit.png\" width=\"400\" > -->\n",
    "<img src=\"http://54.243.252.9/ce-3305-webroot/5-Exams/EX1/closedconduit.png\" width=\"400\" >\n",
    "<figcaption>Figure 2. Velocity Distribution between Parallel Plates</figcaption>\n",
    "</figure>\n",
    "\n",
    "|y (mm)|V (m/s)|\n",
    "|:---|---:|\n",
    "|1.0|1.00|\n",
    "|2.0|1.99|\n",
    "|3.0|2.98|\n",
    "\n",
    "Determine: \n",
    "- The maximum shear stress in the liquid if the viscosity of the liquid is $10^{-3}~N \\cdot s /m^2$"
   ]
  },
  {
   "cell_type": "code",
   "execution_count": 1,
   "metadata": {},
   "outputs": [],
   "source": [
    "# sketch(s) here"
   ]
  },
  {
   "cell_type": "code",
   "execution_count": 2,
   "metadata": {},
   "outputs": [],
   "source": [
    "# list known quantities"
   ]
  },
  {
   "cell_type": "code",
   "execution_count": 3,
   "metadata": {},
   "outputs": [],
   "source": [
    "# list unknown quantities"
   ]
  },
  {
   "cell_type": "code",
   "execution_count": 4,
   "metadata": {},
   "outputs": [],
   "source": [
    "# governing principles"
   ]
  },
  {
   "cell_type": "code",
   "execution_count": 5,
   "metadata": {},
   "outputs": [],
   "source": [
    "# solution (step-by-step) (Put the plot here, or in discussion)"
   ]
  },
  {
   "cell_type": "code",
   "execution_count": 6,
   "metadata": {},
   "outputs": [],
   "source": [
    "# discussion"
   ]
  },
  {
   "cell_type": "markdown",
   "metadata": {},
   "source": [
    "---\n",
    "\n",
    "### Problem 3\n",
    "\n",
    "Estimate the gage pressure in a small spherical drop of water (Figure 3) with diameter $d=4~mm$  and surface tension ($\\sigma = 72.8 \\times 10^{-3} \\frac{N}{m}$).\n",
    "\n",
    "<figure align=\"center\">\n",
    "<!--<img src=\"./drop.png\" width=\"100\" > -->\n",
    "<img src=\"http://54.243.252.9/ce-3305-webroot/5-Exams/EX1/drop.png\" width=\"100\" >\n",
    "<figcaption>Figure 3. Spherical drop (diameter = $d$)</figcaption>\n",
    "</figure>"
   ]
  },
  {
   "cell_type": "code",
   "execution_count": 7,
   "metadata": {},
   "outputs": [],
   "source": [
    "# sketch(s) here"
   ]
  },
  {
   "cell_type": "code",
   "execution_count": 8,
   "metadata": {},
   "outputs": [],
   "source": [
    "# list known quantities"
   ]
  },
  {
   "cell_type": "code",
   "execution_count": 9,
   "metadata": {},
   "outputs": [],
   "source": [
    "# list unknown quantities"
   ]
  },
  {
   "cell_type": "code",
   "execution_count": 10,
   "metadata": {},
   "outputs": [],
   "source": [
    "# governing principles"
   ]
  },
  {
   "cell_type": "code",
   "execution_count": 11,
   "metadata": {},
   "outputs": [],
   "source": [
    "# solution (step-by-step) "
   ]
  },
  {
   "cell_type": "code",
   "execution_count": 12,
   "metadata": {},
   "outputs": [],
   "source": [
    "# discussion"
   ]
  },
  {
   "cell_type": "markdown",
   "metadata": {},
   "source": [
    "**Bonus** What is the likely temperature based on the supplied surface tension value? Explain your reasoning and cite data source(s)."
   ]
  },
  {
   "cell_type": "markdown",
   "metadata": {},
   "source": [
    "---\n",
    "\n",
    "### Problem 4\n",
    "\n",
    "A bubbler gage is a device that determines the surface level of a liquid by discharging a small amount of gas through a small tube, one end is submerged in the liquid, and a pressure gage is tapped into the tube to measure pressure of the gas being injected into the liquid.\n",
    "\n",
    "If the pressure on the gage in Figure 5 is 15 kPa, what is the depth of the liquid $d$ in the figure?   \n",
    "\n",
    "<figure align=\"center\">\n",
    "<!--<img src=\"./bubbler.png\" width=\"500\" > -->\n",
    "<img src=\"http://54.243.252.9/ce-3305-webroot/5-Exams/EX1/bubbler.png\" width=\"500\" >\n",
    "<figcaption>Figure 5. Sketch of bubbler in a tank.  Notice the liquid is at S.G.=0.85 </figcaption>\n",
    "</figure>"
   ]
  },
  {
   "cell_type": "code",
   "execution_count": 13,
   "metadata": {},
   "outputs": [],
   "source": [
    "# sketch(s) here"
   ]
  },
  {
   "cell_type": "code",
   "execution_count": 14,
   "metadata": {},
   "outputs": [],
   "source": [
    "# list known quantities"
   ]
  },
  {
   "cell_type": "code",
   "execution_count": 15,
   "metadata": {},
   "outputs": [],
   "source": [
    "# list unknown quantities"
   ]
  },
  {
   "cell_type": "code",
   "execution_count": 16,
   "metadata": {},
   "outputs": [],
   "source": [
    "# governing principles"
   ]
  },
  {
   "cell_type": "code",
   "execution_count": 17,
   "metadata": {},
   "outputs": [],
   "source": [
    "# solution (step-by-step) "
   ]
  },
  {
   "cell_type": "code",
   "execution_count": 18,
   "metadata": {},
   "outputs": [],
   "source": [
    "# discussion"
   ]
  },
  {
   "cell_type": "markdown",
   "metadata": {},
   "source": [
    "---\n",
    "\n",
    "### Problem 5 (Application of ENGR-1330 Computational Thinking)"
   ]
  },
  {
   "cell_type": "markdown",
   "metadata": {},
   "source": [
    "Modify the Jupyter Notebook you developed in ES-2 to provide the Sutherland constant in terms of $\\frac{\\mu}{\\mu_0}$ and $\\frac{T}{T_0}$ where the $_0$ subscript represents the reference value. Enter the following data for carbon monoxide (CO), find the Sutherland constant (S) for each data point, and compute an arithmetic mean ($\\bar S$) as a best value.  Using this (the mean) value for Sutherland's constant, calcuate the viscosity ratio using Sutherland's equation.  Find the percentage error ateach data point and make a statement about the adequacy of Sutherland's equation in this application.  The reference temperature is 273 K.\n",
    "\n",
    "|$\\frac{\\mu}{\\mu_0}$|T(K)|\n",
    "|:---|:---|\n",
    "|0.9605|260|\n",
    "|0.9906|270|\n",
    "|1.020|280|\n",
    "|1.049|290|\n",
    "|1.078|300|\n",
    "|1.213|350|\n",
    "|1.574|500|\n",
    "|2.519|1000|\n",
    "|3.285|1500|\n",
    "\n",
    "Sutherland's equation to estimate variation of gas viscosity with absolute temperature is\n",
    "\n",
    "$$ \\frac{\\mu}{\\mu_0} = {(\\frac{T}{T_0})}^{3/2} (\\frac{T_0 + S}{T + S}) $$\n",
    "\n",
    "where $\\mu_0$ is the viscosity at temperature $T_0$ and $S$ is Sutherland's constant."
   ]
  },
  {
   "cell_type": "code",
   "execution_count": 28,
   "metadata": {},
   "outputs": [],
   "source": [
    "# list input quantities/specifications"
   ]
  },
  {
   "cell_type": "code",
   "execution_count": 29,
   "metadata": {},
   "outputs": [],
   "source": [
    "# list output quantities/specifications"
   ]
  },
  {
   "cell_type": "code",
   "execution_count": 30,
   "metadata": {},
   "outputs": [],
   "source": [
    "# governing principles/equations"
   ]
  },
  {
   "cell_type": "code",
   "execution_count": 31,
   "metadata": {},
   "outputs": [],
   "source": [
    "# solution (step-by-step) algorithm (aka code)"
   ]
  },
  {
   "cell_type": "code",
   "execution_count": 32,
   "metadata": {},
   "outputs": [],
   "source": [
    "# application"
   ]
  },
  {
   "cell_type": "code",
   "execution_count": null,
   "metadata": {},
   "outputs": [],
   "source": [
    "# discussion of results"
   ]
  }
 ],
 "metadata": {
  "kernelspec": {
   "display_name": "Python 3",
   "language": "python",
   "name": "python3"
  },
  "language_info": {
   "codemirror_mode": {
    "name": "ipython",
    "version": 3
   },
   "file_extension": ".py",
   "mimetype": "text/x-python",
   "name": "python",
   "nbconvert_exporter": "python",
   "pygments_lexer": "ipython3",
   "version": "3.8.10"
  }
 },
 "nbformat": 4,
 "nbformat_minor": 4
}
