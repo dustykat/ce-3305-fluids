{
 "cells": [
  {
   "cell_type": "markdown",
   "metadata": {},
   "source": [
    "# What is Fluid Mechanics?\n",
    "\n",
    "This is a section led by a level 1 header.\n",
    "\n",
    ":::{warning}\n",
    "The header levels will interleave, so a careful proofing will be needed at some point, it wont destroy anything, but may misorder the author's intent\n",
    ":::\n",
    "\n",
    "weird warning at compile"
   ]
  }
 ],
 "metadata": {
  "kernelspec": {
   "display_name": "Python 3",
   "language": "python",
   "name": "python3"
  },
  "language_info": {
   "codemirror_mode": {
    "name": "ipython",
    "version": 3
   },
   "file_extension": ".py",
   "mimetype": "text/x-python",
   "name": "python",
   "nbconvert_exporter": "python",
   "pygments_lexer": "ipython3",
   "version": "3.8.10"
  }
 },
 "nbformat": 4,
 "nbformat_minor": 4
}
