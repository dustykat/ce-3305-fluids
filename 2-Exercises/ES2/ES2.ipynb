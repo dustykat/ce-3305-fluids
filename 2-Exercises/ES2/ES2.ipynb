{
 "cells": [
  {
   "cell_type": "markdown",
   "metadata": {},
   "source": [
    "**Download** (right-click, save target as ...) this page as a Jupyterlab notebook from: [ES-2](http://54.243.252.9/ce-3305-webroot/2-Exercises/ES2/ES2.ipynb)\n",
    "\n",
    "___"
   ]
  },
  {
   "cell_type": "markdown",
   "metadata": {},
   "source": [
    "# <font color=darkblue>CE 3305 Engineering Fluid Mechanics <br> Spring 2023 Exercise Set 2</font>\n",
    "\n",
    "**LAST NAME, FIRST NAME**\n",
    "\n",
    "**R00000000**\n",
    "\n",
    "___\n",
    "\n",
    "### Purpose : \n",
    "Apply definition of viscosity in Newtonian fluid. Apply principles of capillarity in a glass-air-water system.\n",
    "### Assessment Criteria : \n",
    "Completion, plausible solutions, use Jupyter Notebook as a calculator\n",
    "\n",
    "___"
   ]
  },
  {
   "cell_type": "markdown",
   "metadata": {},
   "source": [
    "### Problem 1 (Problem 1-30 pg. 34).\n",
    "The plate is moving at 0.6 mm/s when the force applied to the plate is 4mN.  The surface area of the plate in contact with the liquid is 0.5 m$^2$.\n",
    "\n",
    "![](prob1-30.png)\n",
    "\n",
    "Determine:\n",
    "\n",
    "1. The approximate viscosity of the liquid, assuming the velocity profile is linear."
   ]
  },
  {
   "cell_type": "markdown",
   "metadata": {},
   "source": [
    "**sketch here**"
   ]
  },
  {
   "cell_type": "markdown",
   "metadata": {},
   "source": [
    "**list known quantities**"
   ]
  },
  {
   "cell_type": "markdown",
   "metadata": {},
   "source": [
    "**list unknown quantities**"
   ]
  },
  {
   "cell_type": "markdown",
   "metadata": {},
   "source": [
    "**governing principles**"
   ]
  },
  {
   "cell_type": "markdown",
   "metadata": {},
   "source": [
    "**solution (step-by-step)**"
   ]
  },
  {
   "cell_type": "code",
   "execution_count": 1,
   "metadata": {},
   "outputs": [],
   "source": [
    "# code cell(s) here"
   ]
  },
  {
   "cell_type": "markdown",
   "metadata": {},
   "source": [
    "**discussion**"
   ]
  },
  {
   "cell_type": "markdown",
   "metadata": {},
   "source": [
    "---"
   ]
  },
  {
   "cell_type": "markdown",
   "metadata": {},
   "source": [
    "### Problem 2 (Problem 1-49 pg. 37).\n",
    "The tube rests on a 1.5-mm-thick film of lubricant having a viscosity of $\\mu = 0.0586~\\frac{N \\cdot s}{m^2}$.  The tube is rotating at a constant angular velocity of $\\omega = 4.5~rad/s$\n",
    "\n",
    "![](prob1-49.png)\n",
    "\n",
    "Determine:\n",
    "\n",
    "1. The torque $T$ that must be applied to maintain the motion. (Assume the velocity profile in the lubricant is linear)"
   ]
  },
  {
   "cell_type": "markdown",
   "metadata": {},
   "source": [
    "**sketch here**"
   ]
  },
  {
   "cell_type": "markdown",
   "metadata": {},
   "source": [
    "**list known quantities**"
   ]
  },
  {
   "cell_type": "markdown",
   "metadata": {},
   "source": [
    "**list unknown quantities**"
   ]
  },
  {
   "cell_type": "markdown",
   "metadata": {},
   "source": [
    "**governing principles**"
   ]
  },
  {
   "cell_type": "markdown",
   "metadata": {},
   "source": [
    "**solution (step-by-step)**"
   ]
  },
  {
   "cell_type": "code",
   "execution_count": 1,
   "metadata": {},
   "outputs": [],
   "source": [
    "# code cell(s) here"
   ]
  },
  {
   "cell_type": "markdown",
   "metadata": {},
   "source": [
    "**discussion**"
   ]
  },
  {
   "cell_type": "markdown",
   "metadata": {},
   "source": [
    "---"
   ]
  },
  {
   "cell_type": "markdown",
   "metadata": {},
   "source": [
    "### Problem 3. (Problem 1-59 pg. 39)\n",
    "\n",
    "Water is at temperature of 30$^o$ C.  A pair of glass plates is lowered into the water as shown.\n",
    "\n",
    "![](prob1-59.png)\n",
    "\n",
    "Determine:\n",
    "\n",
    "1. The height, $h$, of the water as a function of the gap, $w$, between the two glass plates, for a surface tension of $\\sigma = 0.0718~N/m$\n",
    "2. Plot the height, $h$, versus the width the gap, $w$, in 0.4 mm increments starting at $w=0.4~mm$ <br>\n",
    "\n",
    "|Width $w$ (mm)|Height $h$ (mm)|\n",
    "|---:|---:|\n",
    "|0.4|??|\n",
    "|0.8|??|\n",
    "|1.2|??|\n",
    "|1.6|??|\n",
    "|2.0|??|\n",
    "|2.4|??|"
   ]
  },
  {
   "cell_type": "markdown",
   "metadata": {},
   "source": [
    "**sketch here**"
   ]
  },
  {
   "cell_type": "markdown",
   "metadata": {},
   "source": [
    "**list known quantities**"
   ]
  },
  {
   "cell_type": "markdown",
   "metadata": {},
   "source": [
    "**list unknown quantities**"
   ]
  },
  {
   "cell_type": "markdown",
   "metadata": {},
   "source": [
    "**governing principles**"
   ]
  },
  {
   "cell_type": "markdown",
   "metadata": {},
   "source": [
    "**solution (step-by-step)**"
   ]
  },
  {
   "cell_type": "code",
   "execution_count": 1,
   "metadata": {},
   "outputs": [],
   "source": [
    "# code cell(s) here"
   ]
  },
  {
   "cell_type": "markdown",
   "metadata": {},
   "source": [
    "**discussion**"
   ]
  },
  {
   "cell_type": "markdown",
   "metadata": {},
   "source": [
    "---\n",
    "\n",
    "<a href=\"https://youtu.be/P0izSGMUvBk\"> <img src=\"http://54.243.252.9/ce-3305-webroot/2-Exercises/ES2/easy-button.png\" alt=\"EZ Button Link to ES-2 sample solution\" style=\"width:42px;height:42px;align:left\"> </a> \n",
    "\n"
   ]
  },
  {
   "cell_type": "code",
   "execution_count": null,
   "metadata": {},
   "outputs": [],
   "source": []
  }
 ],
 "metadata": {
  "kernelspec": {
   "display_name": "Python 3",
   "language": "python",
   "name": "python3"
  },
  "language_info": {
   "codemirror_mode": {
    "name": "ipython",
    "version": 3
   },
   "file_extension": ".py",
   "mimetype": "text/x-python",
   "name": "python",
   "nbconvert_exporter": "python",
   "pygments_lexer": "ipython3",
   "version": "3.8.10"
  }
 },
 "nbformat": 4,
 "nbformat_minor": 4
}
