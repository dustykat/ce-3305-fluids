{
 "cells": [
  {
   "cell_type": "markdown",
   "metadata": {},
   "source": [
    "**Download** (right-click, save target as ...) this page as a Jupyterlab notebook from: [ES-5](http://54.243.252.9/ce-3305-webroot/2-Exercises/ES5/ES5.ipynb)\n",
    "\n",
    "___"
   ]
  },
  {
   "cell_type": "markdown",
   "metadata": {},
   "source": [
    "# <font color=darkblue>CE 3305 Engineering Fluid Mechanics <br> Spring 2022 Exercise Set 5</font>\n",
    "\n",
    "**LAST NAME, FIRST NAME**\n",
    "\n",
    "**R00000000**\n",
    "\n",
    "___\n",
    "\n",
    "### Purpose : \n",
    "Pressure variation in layered fluids of different densities. Manometry used to\n",
    "determine density of unknown fluid. \n",
    "### Assessment Criteria : \n",
    "Completion, plausible solutions, use of Jupyter Notebook as a calculator/documentation method\n",
    "\n",
    "___"
   ]
  },
  {
   "cell_type": "markdown",
   "metadata": {},
   "source": [
    "### Problem 1.\n",
    "Figure 1 is a schematic of a **closed** tank with Bourdon-tube gages tapped into it.\n",
    "\n",
    "<figure align=\"center\">\n",
    "<img src=\"./layers-o-fluid.png\" width=\"400\" > \n",
    "<!--<img src=\"http://54.243.252.9/ce-3305-webroot/2-Exercises/ES5/layers-o-fluid.png\" width=\"200\" >--> \n",
    "<figcaption>Figure 1. Closed tank with three phase system (Air, Oil, Water)</figcaption>\n",
    "</figure>\n",
    "\n",
    "1. What is the specific gravity of the oil?\n",
    "2. What is the pressure reading on gage C?"
   ]
  },
  {
   "cell_type": "code",
   "execution_count": 22,
   "metadata": {},
   "outputs": [],
   "source": [
    "# sketch here"
   ]
  },
  {
   "cell_type": "code",
   "execution_count": 23,
   "metadata": {},
   "outputs": [],
   "source": [
    "# list known quantities"
   ]
  },
  {
   "cell_type": "code",
   "execution_count": 24,
   "metadata": {},
   "outputs": [],
   "source": [
    "# list unknown quantities"
   ]
  },
  {
   "cell_type": "code",
   "execution_count": 25,
   "metadata": {},
   "outputs": [],
   "source": [
    "# governing principles"
   ]
  },
  {
   "cell_type": "code",
   "execution_count": 26,
   "metadata": {},
   "outputs": [],
   "source": [
    "# solution (step-by-step)"
   ]
  },
  {
   "cell_type": "code",
   "execution_count": 27,
   "metadata": {},
   "outputs": [],
   "source": [
    "# discussion"
   ]
  },
  {
   "cell_type": "markdown",
   "metadata": {},
   "source": [
    "---"
   ]
  },
  {
   "cell_type": "markdown",
   "metadata": {},
   "source": [
    "### Problem 2.\n",
    "\n",
    "A device for measuring the specific weight of a liquid consists of a (U-,You-, or Ewe-) Tube manometer as depicted in Figure 2. \n",
    "The manometer tube has an internal diameter of $0.5~cm$ and originally has water in it. \n",
    "Exactly $2~cm^3$ of unknown liquid is poured into one leg of the manometer, and a displacement of $5~cm$ is measured between the free surfaces as shown. \n",
    "\n",
    "<figure align=\"center\">\n",
    "<img src=\"./you-tube-manometer.png\" width=\"400\" > \n",
    "<!--<img src=\"http://54.243.252.9/ce-3305-webroot/2-Exercises/ES5/you-tube-manometer.png\" width=\"200\" >--> \n",
    "<figcaption>Figure 2: U-Tube manometer for measuring specific weight</figcaption>\n",
    "</figure>\n",
    "\n",
    "What is the specific weight of the unknown liquid?"
   ]
  },
  {
   "cell_type": "code",
   "execution_count": 43,
   "metadata": {},
   "outputs": [],
   "source": [
    "# sketch here"
   ]
  },
  {
   "cell_type": "code",
   "execution_count": 44,
   "metadata": {},
   "outputs": [],
   "source": [
    "# list known quantities"
   ]
  },
  {
   "cell_type": "code",
   "execution_count": 45,
   "metadata": {},
   "outputs": [],
   "source": [
    "# list unknown quantities"
   ]
  },
  {
   "cell_type": "code",
   "execution_count": 5,
   "metadata": {},
   "outputs": [],
   "source": [
    "# governing principles"
   ]
  },
  {
   "cell_type": "code",
   "execution_count": 6,
   "metadata": {},
   "outputs": [],
   "source": [
    "# solution (step-by-step)"
   ]
  },
  {
   "cell_type": "code",
   "execution_count": 7,
   "metadata": {
    "jupyter": {
     "source_hidden": true
    }
   },
   "outputs": [],
   "source": [
    "# discussion"
   ]
  },
  {
   "cell_type": "markdown",
   "metadata": {},
   "source": [
    "---"
   ]
  }
 ],
 "metadata": {
  "kernelspec": {
   "display_name": "Python 3",
   "language": "python",
   "name": "python3"
  },
  "language_info": {
   "codemirror_mode": {
    "name": "ipython",
    "version": 3
   },
   "file_extension": ".py",
   "mimetype": "text/x-python",
   "name": "python",
   "nbconvert_exporter": "python",
   "pygments_lexer": "ipython3",
   "version": "3.8.10"
  }
 },
 "nbformat": 4,
 "nbformat_minor": 4
}
