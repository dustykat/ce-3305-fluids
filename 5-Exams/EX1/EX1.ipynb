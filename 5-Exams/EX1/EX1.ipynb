{
 "cells": [
  {
   "cell_type": "markdown",
   "metadata": {},
   "source": [
    "**Download** (right-click, save target as ...) this page as a Jupyterlab notebook from: [EX-1](http://54.243.252.9/ce-3305-webroot/5-Exams/EX1/EX1.ipynb)\n",
    "\n",
    "___"
   ]
  },
  {
   "cell_type": "markdown",
   "metadata": {},
   "source": [
    "# <font color=darkblue>CE 3305 Engineering Fluid Mechanics <br> Spring 2022 Exam 1</font>\n",
    "\n",
    "**LAST NAME, FIRST NAME**\n",
    "\n",
    "**R00000000**\n",
    "\n",
    "___\n",
    "\n",
    "### Purpose : \n",
    "Demonstrate ability to apply fluid mechanics and problem solving principles covering topics such as: Fluid properties, viscosity, vapor pressure, fluid statics and pressure,forces on submerged objects, bouyancy, fluids as a rigid body, constant acceleration, translation, constant velocity, rotation\n"
   ]
  },
  {
   "cell_type": "markdown",
   "metadata": {},
   "source": [
    "___\n",
    "\n",
    "### Problem 1\n",
    "\n",
    "Some divers can go as deep as 50 meters on a breath-hold dive. \n",
    "\n",
    "<figure align=\"center\">\n",
    "<img src=\"./diver.png\" width=\"300\" > \n",
    "<!--<img src=\"http://54.243.252.9/ce-3305-webroot/2-Exercises/ES5/layers-o-fluid.png\" width=\"200\" >--> \n",
    "<figcaption>Figure 1. Breath-hold diver</figcaption>\n",
    "</figure>\n",
    "\n",
    "What is the gage pressure at this depth in fresh water? Assume the temperature is $20^o~C$\n"
   ]
  },
  {
   "cell_type": "code",
   "execution_count": 1,
   "metadata": {},
   "outputs": [],
   "source": [
    "# sketch(s) here"
   ]
  },
  {
   "cell_type": "code",
   "execution_count": 2,
   "metadata": {},
   "outputs": [],
   "source": [
    "# list known quantities"
   ]
  },
  {
   "cell_type": "code",
   "execution_count": 3,
   "metadata": {},
   "outputs": [],
   "source": [
    "# list unknown quantities"
   ]
  },
  {
   "cell_type": "code",
   "execution_count": 4,
   "metadata": {},
   "outputs": [],
   "source": [
    "# governing principles"
   ]
  },
  {
   "cell_type": "code",
   "execution_count": 5,
   "metadata": {},
   "outputs": [],
   "source": [
    "# solution (step-by-step) (Put the plot here, or in discussion)"
   ]
  },
  {
   "cell_type": "code",
   "execution_count": 7,
   "metadata": {},
   "outputs": [],
   "source": [
    "# discussion"
   ]
  },
  {
   "cell_type": "markdown",
   "metadata": {},
   "source": [
    "---\n",
    "\n",
    "### Problem 2:\n",
    "A design team is developing a $CO_2$ cartridge for a rubber raft as part of [ETOPS](https://en.wikipedia.org/wiki/ETOPS) compliance.  The cartridge will allow a flight crew to rapidly inflate the raft to escape a downed and sinking aircraft. The raft is shown in Figure 2.  The raft can be conceptualized as two parallel long tubes, and four parallel short tubes. The desired inflation pressure is 3 psig.  \n",
    "\n",
    "<figure align=\"center\">\n",
    "<img src=\"./raft.png\" width=\"400\" > \n",
    "<!--<img src=\"http://54.243.252.9/ce-3305-webroot/2-Exercises/ES5/layers-o-fluid.png\" width=\"200\" >--> \n",
    "<figcaption>Figure 2. Aircrew escape raft</figcaption>\n",
    "</figure>\n",
    "\n",
    "Estimate the raft volume when inflated and the mass of $CO_2$ required, in grams, in the cartridge."
   ]
  },
  {
   "cell_type": "code",
   "execution_count": 6,
   "metadata": {},
   "outputs": [],
   "source": [
    "# sketch here"
   ]
  },
  {
   "cell_type": "code",
   "execution_count": 7,
   "metadata": {},
   "outputs": [],
   "source": [
    "# list known quantities"
   ]
  },
  {
   "cell_type": "code",
   "execution_count": 8,
   "metadata": {},
   "outputs": [],
   "source": [
    "# list unknown quantities"
   ]
  },
  {
   "cell_type": "code",
   "execution_count": 9,
   "metadata": {},
   "outputs": [],
   "source": [
    "# governing principles"
   ]
  },
  {
   "cell_type": "code",
   "execution_count": 10,
   "metadata": {},
   "outputs": [],
   "source": [
    "# solution (step-by-step)"
   ]
  },
  {
   "cell_type": "code",
   "execution_count": 11,
   "metadata": {},
   "outputs": [],
   "source": [
    "# discussion"
   ]
  },
  {
   "cell_type": "markdown",
   "metadata": {},
   "source": [
    "---\n",
    "\n",
    "### Problem 3\n",
    "An emulsion with a specific gravity $SG=0.85$ and viscosity $\\mu=2.15 \\times 10^{-3}~\\frac{lbf-sec}{ft^2}$ flows steadily down an inclined surface as depicted in Figure 3 in a film of thickness $h=0.125$ inches.  The velocity profile in the film is <br><br>\n",
    "$$ V=\\frac{\\rho g}{\\mu}(hy-\\frac{y^2}{2})sin \\theta$$\n",
    "<figure align=\"center\">\n",
    "<img src=\"./emulsion.png\" width=\"400\" > \n",
    "<!--<img src=\"http://54.243.252.9/ce-3305-webroot/2-Exercises/ES5/layers-o-fluid.png\" width=\"200\" >--> \n",
    "<figcaption>Figure 3. Emulsion flowing down an inclined plane</figcaption>\n",
    "</figure>\n",
    "\n",
    "Determine: \n",
    "- The velocity in the emulsion at $y=0$,$y=\\frac{h}{4}$,$y=\\frac{h}{2}$,$y=h$. \n",
    "- Plot the profile ($V$ versus $y$, $y$ axis vertical, $V$ axis horizontal). \n",
    "- The magnitude and direction of shear stress that acts on the inclined surface."
   ]
  },
  {
   "cell_type": "code",
   "execution_count": 12,
   "metadata": {},
   "outputs": [],
   "source": [
    "# sketch(s) here"
   ]
  },
  {
   "cell_type": "code",
   "execution_count": 2,
   "metadata": {},
   "outputs": [],
   "source": [
    "# list known quantities"
   ]
  },
  {
   "cell_type": "code",
   "execution_count": 3,
   "metadata": {},
   "outputs": [],
   "source": [
    "# list unknown quantities"
   ]
  },
  {
   "cell_type": "code",
   "execution_count": 4,
   "metadata": {},
   "outputs": [],
   "source": [
    "# governing principles"
   ]
  },
  {
   "cell_type": "code",
   "execution_count": 5,
   "metadata": {},
   "outputs": [],
   "source": [
    "# solution (step-by-step) (Put the plot here, or in discussion)"
   ]
  },
  {
   "cell_type": "code",
   "execution_count": 7,
   "metadata": {},
   "outputs": [],
   "source": [
    "# discussion"
   ]
  },
  {
   "cell_type": "markdown",
   "metadata": {},
   "source": [
    "---\n",
    "\n",
    "### Problem 4\n",
    "\n",
    "Estimate the gage pressure in a small spherical drop of water (Figure 4) with diameter $d=4~mm$  and surface tension ($\\sigma = 72.8 \\times 10^{-3} \\frac{N}{m}$).\n",
    "\n",
    "<figure align=\"center\">\n",
    "<img src=\"./drop.png\" width=\"100\" > \n",
    "<!--<img src=\"http://54.243.252.9/ce-3305-webroot/2-Exercises/ES5/layers-o-fluid.png\" width=\"200\" >--> \n",
    "<figcaption>Figure 4. Spherical drop (diameter = $d$)</figcaption>\n",
    "</figure>"
   ]
  },
  {
   "cell_type": "code",
   "execution_count": 12,
   "metadata": {},
   "outputs": [],
   "source": [
    "# sketch(s) here"
   ]
  },
  {
   "cell_type": "code",
   "execution_count": 2,
   "metadata": {},
   "outputs": [],
   "source": [
    "# list known quantities"
   ]
  },
  {
   "cell_type": "code",
   "execution_count": 3,
   "metadata": {},
   "outputs": [],
   "source": [
    "# list unknown quantities"
   ]
  },
  {
   "cell_type": "code",
   "execution_count": 4,
   "metadata": {},
   "outputs": [],
   "source": [
    "# governing principles"
   ]
  },
  {
   "cell_type": "code",
   "execution_count": 5,
   "metadata": {},
   "outputs": [],
   "source": [
    "# solution (step-by-step) (Put the plot here, or in discussion)"
   ]
  },
  {
   "cell_type": "code",
   "execution_count": 7,
   "metadata": {},
   "outputs": [],
   "source": [
    "# discussion"
   ]
  },
  {
   "cell_type": "markdown",
   "metadata": {},
   "source": [
    "**Bonus** What is the likely temperature based on the supplied surface tension value? Explain your reasoning and cite data source(s)."
   ]
  }
 ],
 "metadata": {
  "kernelspec": {
   "display_name": "Python 3",
   "language": "python",
   "name": "python3"
  },
  "language_info": {
   "codemirror_mode": {
    "name": "ipython",
    "version": 3
   },
   "file_extension": ".py",
   "mimetype": "text/x-python",
   "name": "python",
   "nbconvert_exporter": "python",
   "pygments_lexer": "ipython3",
   "version": "3.8.10"
  }
 },
 "nbformat": 4,
 "nbformat_minor": 4
}
