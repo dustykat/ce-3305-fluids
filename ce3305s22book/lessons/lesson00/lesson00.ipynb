{
 "cells": [
  {
   "cell_type": "markdown",
   "metadata": {},
   "source": [
    "# Introduction\n",
    "\n",
    ":::{admonition} Hello World\n",
    "An admonition is like a note\n",
    ":::\n",
    "\n",
    "Use the main file as a header and let the sections handle the deeper levels\n",
    "\n",
    "## Lesson Outline\n",
    "1. Problem Solving and Documentation\n",
    "2. Computational Hydraulics\n",
    "2. What is Fluid Mechanics?\n",
    "3. Dimensions and Units"
   ]
  }
 ],
 "metadata": {
  "kernelspec": {
   "display_name": "Python 3",
   "language": "python",
   "name": "python3"
  },
  "language_info": {
   "codemirror_mode": {
    "name": "ipython",
    "version": 3
   },
   "file_extension": ".py",
   "mimetype": "text/x-python",
   "name": "python",
   "nbconvert_exporter": "python",
   "pygments_lexer": "ipython3",
   "version": "3.8.10"
  }
 },
 "nbformat": 4,
 "nbformat_minor": 4
}
