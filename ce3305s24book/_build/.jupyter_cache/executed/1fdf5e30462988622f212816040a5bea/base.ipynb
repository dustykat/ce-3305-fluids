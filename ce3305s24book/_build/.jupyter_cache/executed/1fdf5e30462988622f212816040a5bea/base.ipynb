{
 "cells": [
  {
   "cell_type": "code",
   "execution_count": 1,
   "metadata": {},
   "outputs": [
    {
     "name": "stdout",
     "output_type": "stream",
     "text": [
      "Fountain height is 6.211  feet\n"
     ]
    }
   ],
   "source": [
    "jet_velocity = 20 #feet/second\n",
    "gravity = 32.2 #ft/second/second\n",
    "jet_height = jet_velocity**2/(2.0*gravity)\n",
    "print(\"Fountain height is\",round(jet_height,3),\" feet\")"
   ]
  },
  {
   "cell_type": "code",
   "execution_count": null,
   "metadata": {},
   "outputs": [],
   "source": []
  }
 ],
 "metadata": {
  "kernelspec": {
   "display_name": "Python 3",
   "language": "python",
   "name": "python3"
  },
  "language_info": {
   "codemirror_mode": {
    "name": "ipython",
    "version": 3
   },
   "file_extension": ".py",
   "mimetype": "text/x-python",
   "name": "python",
   "nbconvert_exporter": "python",
   "pygments_lexer": "ipython3",
   "version": "3.8.10"
  }
 },
 "nbformat": 4,
 "nbformat_minor": 4
}