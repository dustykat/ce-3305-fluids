{
 "cells": [
  {
   "cell_type": "code",
   "execution_count": 1,
   "metadata": {},
   "outputs": [
    {
     "name": "stdout",
     "output_type": "stream",
     "text": [
      "Power  62360.77  Newton-meters/sec    \n"
     ]
    }
   ],
   "source": [
    "# computational thinning\n",
    "import math\n",
    "q = 0.1 #discharge\n",
    "v_jet = 50.0\n",
    "omega = 500*2*math.pi/60\n",
    "radius = 0.5\n",
    "rho = 1000.0\n",
    "power = rho*q*v_jet*radius*omega - rho*q*omega**2*radius**2\n",
    "print(\"Power \",round(power,2),\" Newton-meters/sec    \")"
   ]
  }
 ],
 "metadata": {
  "kernelspec": {
   "display_name": "Python 3",
   "language": "python",
   "name": "python3"
  },
  "language_info": {
   "codemirror_mode": {
    "name": "ipython",
    "version": 3
   },
   "file_extension": ".py",
   "mimetype": "text/x-python",
   "name": "python",
   "nbconvert_exporter": "python",
   "pygments_lexer": "ipython3",
   "version": "3.8.10"
  }
 },
 "nbformat": 4,
 "nbformat_minor": 4
}