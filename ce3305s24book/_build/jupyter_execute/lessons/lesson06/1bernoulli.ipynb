{
 "cells": [
  {
   "cell_type": "markdown",
   "metadata": {},
   "source": [
    "# Bernoulli Equation Applications\n",
    "\n",
    "Recall from last time the equation of \n",
    "\n",
    "- steady ($\\frac{\\partial}{\\partial t} = 0$)\n",
    "- inviscid ($ \\frac{\\partial V}{\\partial y} = 0$)\n",
    "- gravity vector is down ($-z$)\n",
    "- incompressible ($\\rho = constant$)\n",
    "- irrotational ($curl(V)=0$)\n",
    "\n",
    "Results in \n",
    "\n",
    "$ \\frac{p_1}{\\rho g} + \\frac{V_1^2}{2g} + z_1 = \\frac{p_2}{\\rho g} + \\frac{V_2^2}{2g} + z_2  $\n",
    "\n",
    "Below are some examples illustrating its use"
   ]
  },
  {
   "cell_type": "markdown",
   "metadata": {},
   "source": [
    "## Example: Flow out of a holy tank\n",
    "\n",
    "Identify the problem solving steps employed\n",
    "\n",
    "```{figure} bernoulli-ex1.png\n",
    "---\n",
    "width: 600px\n",
    "name: bernoulli-ex1\n",
    "---\n",
    "\n",
    "```"
   ]
  },
  {
   "cell_type": "markdown",
   "metadata": {},
   "source": [
    "## Example: Pressure near tank outlet\n",
    "\n",
    "Identify the problem solving steps employed\n",
    "\n",
    "```{figure} bernoulli-ex2.png\n",
    "---\n",
    "width: 600px\n",
    "name: bernoulli-ex2\n",
    "---\n",
    "\n",
    "```\n",
    "\n"
   ]
  },
  {
   "cell_type": "markdown",
   "metadata": {},
   "source": [
    "## Example: How high will a fountain go?\n",
    "\n",
    "Consider the fountains at a resort.  What kind of pressures and velocities are required to make the show happen?\n",
    "\n",
    "```{figure} bellagio.png\n",
    "---\n",
    "width: 400px\n",
    "name: bellagio\n",
    "---\n",
    "\n",
    "```\n",
    "\n",
    "Here's a related problem that could form the basis of fountain design.\n",
    "\n",
    "Identify the problem solving steps employed\n",
    "\n",
    "```{figure} bernoulli-ex3.png\n",
    "---\n",
    "width: 600px\n",
    "name: bernoulli-ex3\n",
    "---\n",
    "\n",
    "```\n",
    "\n"
   ]
  }
 ],
 "metadata": {
  "kernelspec": {
   "display_name": "Python 3",
   "language": "python",
   "name": "python3"
  },
  "language_info": {
   "codemirror_mode": {
    "name": "ipython",
    "version": 3
   },
   "file_extension": ".py",
   "mimetype": "text/x-python",
   "name": "python",
   "nbconvert_exporter": "python",
   "pygments_lexer": "ipython3",
   "version": "3.8.10"
  }
 },
 "nbformat": 4,
 "nbformat_minor": 4
}