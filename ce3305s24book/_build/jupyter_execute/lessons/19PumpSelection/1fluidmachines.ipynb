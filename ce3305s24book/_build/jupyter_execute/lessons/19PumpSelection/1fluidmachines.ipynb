{
 "cells": [
  {
   "cell_type": "markdown",
   "metadata": {},
   "source": [
    "# Hydraulic Machines: Pumps\n",
    "\n",
    ":::{admonition} Course Website\n",
    "[http://54.243.252.9/ce-3305-webroot/](http://54.243.252.9/ce-3305-webroot/)\n",
    ":::"
   ]
  },
  {
   "cell_type": "markdown",
   "metadata": {},
   "source": [
    "## Readings\n",
    "\n",
    "1. Hibbeler, R.C, Fluid Mechanics, 2ed. Prentice Hall, 2018. ISBN: 9780134655413 pp. 569-596\n",
    "\n",
    "2. DF Elger, BC Williams, Crowe, CT and JA Roberson, *Engineering Fluid Mechanics 10th edition*, John Wiley & Sons, Inc., 2013. [http://54.243.252.9/ce-3305-webroot/3-Readings/EFM-20.pdf](http://54.243.252.9/ce-3305-webroot/3-Readings/EFM-20.pdf)\n",
    "\n",
    "3. Cleveland, T. G. (2014) *Fluid Mechanics Notes to Accompany CE 3305 at Jade-Holshule (TTU Study Abroad 2015-2019)*, Department of Civil, Environmental, and Construction Engineering, Whitacre College of Engineering. [missing_link](http://54.243.252.9/ce-3305-webroot/3-Readings/ce3305-lecture13.pdf)"
   ]
  },
  {
   "cell_type": "markdown",
   "metadata": {},
   "source": [
    "## Videos\n",
    "\n",
    "1. [Explaination of Centrifugal Pump](https://www.youtube.com/watch?v=BaEHVpKc-1Q)\n",
    "2. [Lab-Scale model of a flexible impeller pump(Variable-Cavity;Positive Displacement)](https://www.youtube.com/watch?feature=player_detailpage&v=ECv1VwW6RTo#t=122)\n",
    "1. [Pump Curves (YouTube)](https://www.youtube.com/watch?v=m3i_5xP9PYU)\n",
    "2. [System Curves (YouTube)](https://www.youtube.com/watch?v=LARQGDHpVgg)\n",
    "3. [Operating Point (YouTube)](https://www.youtube.com/watch?v=HoGfZQU15vg)\n",
    "4. [Pump Affinity Laws (YouTube)](https://www.youtube.com/watch?v=f2F74cMx97w)\n",
    "5. [About Net Positive Suction Head (You Tube)](https://www.youtube.com/watch?v=4aFlSEf8C0A)\n",
    "6. [Net Positive Suction Head Calacuations (You Tube)](https://www.youtube.com/watch?v=753twe9saKg)"
   ]
  },
  {
   "cell_type": "markdown",
   "metadata": {},
   "source": [
    "## Lesson Outline\n",
    "- Pumps\n",
    "- System Curves\n",
    "- Pump Curves\n",
    "- Operating Point\n",
    "- Affinity Laws\n",
    "- Specific Speed\n",
    "- Net Positive Suction Head"
   ]
  },
  {
   "cell_type": "markdown",
   "metadata": {},
   "source": [
    "<hr>\n",
    "\n",
    "# Pumps\n",
    "\n",
    "Fluids (such as water - a liquid) flows from higher to lower energy\n",
    "- Path of least resistance\n",
    "- Head is energy per unit weight of a fluid \n",
    "- Pumps are used to add energy to move liquids to a higher elevation, or over a barrier, or to increase system pressure. \n"
   ]
  },
  {
   "cell_type": "markdown",
   "metadata": {
    "jupyter": {
     "source_hidden": true
    }
   },
   "source": [
    "## Background\n",
    " \n",
    "A **pump** is a mechanical device that transfers energy into a liquid; used to \n",
    "\n",
    "- Lift from lower to higher elevation (Lift stations)\n",
    "- Increase pressure (Booster stations)\n",
    "\n",
    "![](pumpone.png)\n",
    "\n",
    "The gas phase equivalent is a **compressor** (also called a blower), which works on *similar*, but $\\underline{\\text{not identical principles}}$ - the goal is the same!"
   ]
  },
  {
   "cell_type": "markdown",
   "metadata": {
    "jupyter": {
     "source_hidden": true
    }
   },
   "source": [
    "Pumps range substantially in size depending on application\n",
    "\n",
    "- Small <br>\n",
    "![](pumplittle.png)\n",
    "- Big <br>\n",
    "![](pumpbig.png)"
   ]
  },
  {
   "cell_type": "markdown",
   "metadata": {},
   "source": [
    "## Types\n",
    "\n",
    "### Positive (Fixed) Displacement Pumps \n",
    "- Fixed volume of fluid is displaced each cycle regardless of \n",
    "system static head/pressure \n",
    "- Lower flow rates and higher head than non-positive pumps \n",
    "\n",
    "### Variable Displacement Pumps  \n",
    "- Varying volume of fluid is displaced dependent on system static \n",
    "head/pressure (back pressure) \n",
    "\n",
    "### Examples of Fixed Displacement Pumps \n",
    "- Screw Pumps \n",
    "- Progressive Cavity Pumps \n",
    "- Reciprocating Pumps \n",
    "\n",
    "### Images of Positive Displacement Pumps\n",
    "- Screw Pumps <br> ![](screwpump.png) \n",
    "- Progressive Cavity Pumps ![](cavitypump.png)\n",
    "- Reciprocating Pumps ![](pistonpump.png)\n",
    "\n",
    "\n",
    "### Examples of Variable Displacement Pumps \n",
    "- Centrifugal (Radial-Flow) Pumps \n",
    "- Propeller Pumps (Axial-Flow) \n",
    "- Jet Pumps (Mixed-Flow) \n",
    "\n",
    "![](pumpclassification.png)\n",
    "\n",
    "### Images of Variable Displacement Pumps \n",
    "- Centrifugal (Radial-Flow) Pumps ![](centifrugalpump.png)\n",
    "- Propeller Pumps (Axial-Flow) ![](axialfrowpump.png)\n",
    "\n"
   ]
  },
  {
   "cell_type": "markdown",
   "metadata": {},
   "source": [
    "<hr>\n",
    "\n",
    "# System Curve\n",
    "\n",
    "A system (characteristic) curve is a plot of required head versus flow rate in a hydraulic system.  The curve depicts how much energy is needed to maintain a steady flow under the supplied conditions.\n",
    "\n",
    "The curve is constructed at the pump location and relates the required added head (at a particular flowrate) needed to be supplied by some pump. \n",
    "\n",
    "$$ H_p(Q) = h_{elev} + h_{loss}(Q)$$\n",
    "\n",
    "For example if the system schematic is\n",
    "\n",
    "![](system-schematic.png)\n",
    "\n",
    "An equation of required head and discharge is\n",
    "\n",
    "![](system-equation.png)\n",
    "\n",
    "The equation tells us that the added head has to be at least 30 meters just to keep the reservoirs at the two levels shown, if any flow is to occur the pump must supply more than 30 meters of head at a prescribed flow rate.  The zero flow head value is called the shutoff head.  The equation plots as the figure below\n",
    "\n",
    "![](system-curve.png)\n",
    "\n",
    ":::{note}\n",
    "The design depicted is poor, a real design would have a backflow prevention device (a one-way valve) and an air-gap at the upper reservoir.\n",
    "Nonetheless, the conceptualization is adequate for understanding the construction and purpose of a system curve)\n",
    ":::"
   ]
  },
  {
   "cell_type": "markdown",
   "metadata": {},
   "source": [
    "<hr>\n",
    "\n",
    "# Pump Curve(s)\n",
    "\n",
    "Pump curves are supplied by the manufacturer and convey performance of a specific pump. \n",
    "Information ususally includes:\n",
    "- Discharge (Q) on the x-axis\n",
    "- Head ($H_p$) on the left y-axis\n",
    "- Pump power input on the right y-axis\n",
    "- Pump efficiency (wire-to-water) as a percentage\n",
    "- The speed of the pump (RPM)\n",
    "- The required Net Positive Suction Head ($NPSH_r$)\n",
    "\n",
    "An example pump curve is shown below\n",
    "\n",
    "![](pump-curve.png)\n",
    "\n",
    "Another example curve for a different pump\n",
    "\n",
    "![](pump-curve-two.png)\n",
    "\n",
    ":::{note}\n",
    "In fluids lab you will make pump curves for a small pair of pumps in various configurations (single pump, pair in series, pair in papallel) [Pump Performance Laboratory](http://54.243.252.9/ce-3105-webroot/ce3105notes/_build/html/lessons/laboratory7/laboratory7.html)\n",
    ":::"
   ]
  },
  {
   "cell_type": "markdown",
   "metadata": {},
   "source": [
    "<hr>\n",
    "\n",
    "# Operating Point\n",
    "\n",
    "The pump operating point or duty point is the intersection of pump characteristic and piping system characteristic. The pump will always operate where the system and pump curves intersect. At that point, there is a balance between what the system demands and what the pump can deliver.\n",
    "\n",
    "## Pump Selection\n",
    "\n",
    "A primary design activity is selecting or sizing a pump for a specific application.  The protocol is:\n",
    "\n",
    "- Design conditions are specified by system hydraulics (i.e. energy equation at desired flow rate)\n",
    "- Pump is selected from manufacturer catalogs that appears to meet nominal conditions\n",
    "- A hydraulic system curve (Head vs Discharge) is prepared\n",
    "- The system curve (or equation) is plotted onto the pump curve (manufacturer supplied)\n",
    "- The matching point where the two curves intersect is the anticipated operating point\n",
    "\n",
    "A few secondary checks are:\n",
    "- Is there some head range remaining? \n",
    "- Flow range remaining?  \n",
    "- Is pump efficiency close to optimal for the particular pump?\n",
    "- Is Net Positive Suction Head Available (NPSHa) large enough for the particular pump at the operating point (and start-up)?"
   ]
  },
  {
   "cell_type": "markdown",
   "metadata": {},
   "source": [
    "### Example: Pump Operating Point\n",
    "\n",
    "A pump with the characteristic curve shown in the accompanying graph is to be installed as shown.  \n",
    "\n",
    "```{figure} example27-1.png\n",
    "---\n",
    "width: 600px\n",
    "name: example27-1\n",
    "---\n",
    "Caption\n",
    "```\n",
    "\n",
    "Determine the anticipated discharge in the system?\n",
    "\n",
    "#### Step 1\n",
    "State the problem, done above! But seriously we need to create a system curve $h_p(Q)$ and superimpose it onto the pump characteristic curve shown to find the operating point.\n",
    "\n",
    "#### Step 2\n",
    "The sketch is pretty much done for us; so not much to add here.\n",
    "\n",
    "#### Step 3\n",
    "Knowns: \n",
    "- Pool elevations\n",
    "- Working fluid (water)\n",
    "- Pipe lengths and diameters, and friction factors (unusual to know these, but we could determine from material properties if needed)\n",
    "- Pump \"location\" \n",
    "- Fitting types\n",
    "\n",
    "Unknowns:\n",
    "- $h_p(Q)$\n",
    "- $Q$\n",
    "\n",
    "#### Step 4\n",
    "Governing equations:\n",
    "- Modified bernoulli: $\\frac{p_1}{\\gamma}+z_1+\\frac{V_1^2}{2g}+h_p(Q) = \\frac{p_2}{\\gamma}+z_2+\\frac{V_2^2}{2g}+\\frac{fL}{D}\\frac{V^2}{2g}+K_{entrance}\\frac{V^2}{2g}+K_{bend}\\frac{V^2}{2g}+K_{exit}\\frac{V^2}{2g}$\n",
    "- Darcy-Weisass pipeline loss model:  $h_{pipe loss} = \\frac{fL}{D}\\frac{V^2}{2g}$\n",
    "- Continunity: $Q=VA$\n",
    "\n",
    "#### Step 5\n",
    "Analysis\n",
    "\n",
    "Using modified bernoulli, observe constant diameter pipes and start and end at each reservoir pool surface so that\n",
    "\n",
    "$$V_1=V_2$$  \n",
    "\n",
    "and\n",
    "\n",
    "$$p_1 = p_2$$\n",
    "\n",
    "Rearrange what remains into\n",
    "\n",
    "$$h_p(V) = (z_2 - z_1) + \\frac{V^2}{2g}[\\frac{fL}{D}+K_{entrance}+K_{bend}+K_{exit}]$$\n",
    "\n",
    "We will also need to employ continunity to relate $Q$ and $V$ as\n",
    "\n",
    "$$V = \\frac{Q}{(\\pi D^2)/4)}$$\n"
   ]
  },
  {
   "cell_type": "code",
   "execution_count": 1,
   "metadata": {
    "jupyter": {
     "source_hidden": true
    }
   },
   "outputs": [],
   "source": [
    "def velocity(flow,diameter):\n",
    "    import math\n",
    "    velocity = (flow)/(0.25*math.pi*diameter**2)\n",
    "    return(velocity)\n",
    "\n",
    "def system_curve(z1,z2,flow,plength,pdiameter,pfriction_factor,k1,k2,k3,gravity):\n",
    "    lift = (z2-z1)\n",
    "    velocity_head = (velocity(flow,pdiameter)**2)/(2 * gravity)\n",
    "    pipe_loss = (pfriction_factor*plength/pdiameter)*velocity_head\n",
    "    fitting_loss = (k1+k2+k3)*velocity_head\n",
    "    system_curve = lift+pipe_loss+fitting_loss\n",
    "    return(system_curve)\n",
    "\n",
    "def gpm2cfs(flowgpm):\n",
    "    gpm2cfs = flowgpm/(7.48*60) # 1 cfs = 7.48gal/cf * 60 sec/min\n",
    "    return(gpm2cfs)"
   ]
  },
  {
   "cell_type": "markdown",
   "metadata": {
    "jupyter": {
     "source_hidden": true
    }
   },
   "source": [
    "Now use these scripts to make a table of system curve values"
   ]
  },
  {
   "cell_type": "code",
   "execution_count": 2,
   "metadata": {
    "collapsed": true,
    "jupyter": {
     "outputs_hidden": true,
     "source_hidden": true
    }
   },
   "outputs": [
    {
     "name": "stdout",
     "output_type": "stream",
     "text": [
      "--- System Curve Table --- \n",
      " Flow (gpm)  Added Head (ft)\n",
      "  0          10.0\n",
      "  250          10.4\n",
      "  500          11.6\n",
      "  750          13.7\n",
      "  1000          16.6\n",
      "  1250          20.3\n",
      "  1500          24.8\n",
      "  1750          30.1\n",
      "  2000          36.3\n",
      "  2250          43.3\n",
      "  2500          51.1\n",
      "  2750          59.7\n",
      "  3000          69.2\n",
      "  3250          79.5\n",
      "  3500          90.6\n"
     ]
    }
   ],
   "source": [
    "flowgpm = [i for i in range(0,3750,250)] # list of flowrates\n",
    "flowcfs = [0 for i in range (len(flowgpm))] # empty list for conversion\n",
    "# convert to cfs\n",
    "for i in range(len(flowgpm)):\n",
    "    flowcfs[i]=gpm2cfs(flowgpm[i])\n",
    "addedheads = []\n",
    "for i in range(len(flowgpm)):\n",
    "    addedheads.append(system_curve(10,20,flowcfs[i],1000,10./12.,0.020,0.03,0.35,1.0,32.2))\n",
    "print(\"--- System Curve Table --- \\n Flow (gpm)  Added Head (ft)\")\n",
    "for i in range(len(flowgpm)):\n",
    "    print(\" \",round(flowgpm[i],1),\"        \",round(addedheads[i],1))"
   ]
  },
  {
   "cell_type": "markdown",
   "metadata": {},
   "source": [
    "Now use this table to find operating point from the pump performance curve (draw system curve on the pump curve). "
   ]
  },
  {
   "cell_type": "code",
   "execution_count": 3,
   "metadata": {
    "jupyter": {
     "source_hidden": true
    }
   },
   "outputs": [],
   "source": [
    "pumpflow = [0,500,1000,1500,2000,2500,3000,3500,4000,4500,4900]\n",
    "pumphead = [76,75,74,73,72,70,67,59,50,22,0]"
   ]
  },
  {
   "cell_type": "code",
   "execution_count": 4,
   "metadata": {
    "collapsed": true,
    "jupyter": {
     "outputs_hidden": true,
     "source_hidden": true
    }
   },
   "outputs": [
    {
     "data": {
      "image/png": "[encoded data removed]",
      "text/plain": [
       "<Figure size 720x576 with 1 Axes>"
      ]
     },
     "metadata": {
      "filenames": {
       "image/png": "/home/sensei/ce-3305-webroot/ce3305s24book/_build/jupyter_execute/lessons/19PumpSelection/1fluidmachines_17_0.png"
      },
      "needs_background": "light"
     },
     "output_type": "display_data"
    }
   ],
   "source": [
    "import matplotlib.pyplot as plt\n",
    "plt.figure(figsize=(10, 8))\n",
    "plt.plot(pumpflow,pumphead,c=\"red\")\n",
    "plt.plot(flowgpm,addedheads, c=\"blue\")\n",
    "plt.legend([\"Pump Curve\",\"System Curve\"])\n",
    "plt.title(\"Operating Conditions for Example System\")\n",
    "plt.xlabel('Discharge (gpm)') \n",
    "plt.ylabel('Head (ft)') \n",
    "plt.grid(which='both')\n",
    "plt.show()"
   ]
  },
  {
   "cell_type": "markdown",
   "metadata": {},
   "source": [
    "#### Step 6\n",
    "\n",
    "We are done, and would report that the operating point is $Q \\approx~3000 \\text{gpm } @ 70~\\text{feet of head}$"
   ]
  },
  {
   "cell_type": "markdown",
   "metadata": {},
   "source": [
    "<hr>\n",
    "\n",
    "# Pump Affinity Laws\n",
    "\n",
    "Pump affinity laws are similar to fan laws and were derived from similarity modeling considerations.\n",
    "\n",
    "```{figure} fanlaws.png\n",
    "---\n",
    "width: 600px\n",
    "name: fanlaws\n",
    "---\n",
    "Fan Laws Excerpt from CITE\n",
    "```\n",
    "\n",
    "A class of pumps that have geometrically similar shape and operation type (centrifugal, axial-flow, mixed-flow) are anticipated to behave according to the same correlations.  Such a set of pumps is called a homologous series.  For homologous pumps (say a collection of centrifugal pumps) the affinity relations are:\n",
    "\n",
    "- Discharge scaling: $(\\frac{Q}{nD^3})_1 = (\\frac{Q}{nD^3})_2$\n",
    "- Added head scaling: $(\\frac{h_p}{n^2D^2})_1 = (\\frac{h_p}{n^2D^2})_2$\n",
    "- Power scaling: $(\\frac{P}{n^3D^5})_1 = (\\frac{P}{n^3D^5})_2$\n",
    "\n",
    "Affinity laws are especially useful for estimating performance change with changes in speed ($n$ in the formulas), which is the easiest to control variable (using a variable frequency drive controller for example).  An illustrative example follows:\n",
    "\n",
    "## Example: Pump Performance with Speed (RPM) Increase\n",
    "\n",
    "The pump in the system depicted in numref`{example27-2}` has the characteristics given in numref`{example27-2-pmp}`.  Determine the discharge that will occur and the power required.\n",
    "\n",
    "```{figure} example27-2.png\n",
    "---\n",
    "width: 600px\n",
    "name: example27-2\n",
    "---\n",
    "Canal Lift Schematic\n",
    "```\n",
    "\n",
    "```{figure} example27-2-pmp.png\n",
    "---\n",
    "width: 600px\n",
    "name: example27-2-pmp\n",
    "---\n",
    "Canal Pump Performance Curves\n",
    "```\n",
    "\n",
    "What will the discharge be if the pump speed is changed to 900 RPM?\n",
    "\n",
    "### Step 1\n",
    "State the problem; not much to add here - we will first find the operating point assuming the nominal pump speed on the performance curve, then use affinity laws to scale to the new speed.  As before we will approximate the curves using tabulations taken by visual examination of the supplied graphs.\n",
    "\n",
    "### Step 2\n",
    "Sketch the system; this too is also done for us - we stipulate that point 1 is the pool elevation in the lower canal, and point 2 is the centerline of the discharge pipe.\n",
    "\n",
    "### Step 3\n",
    "Known:\n",
    "- water elevation\n",
    "- discharge elevation\n",
    "- pump curve\n",
    "- pump speed (from the curve)\n",
    "- pipe material, diameter, length\n",
    "Unknown:\n",
    "- Discharge $Q$\n",
    "- Power $P$\n",
    "\n",
    "### Step 4\n",
    "Governing equations\n",
    "- Modified bernoulli: $\\frac{p_1}{\\gamma}+z_1+\\frac{V_1^2}{2g}+h_p(Q) = \\frac{p_2}{\\gamma}+z_2+\\frac{V_2^2}{2g}+\\frac{fL}{D}\\frac{V^2}{2g}+K_{entrance}\\frac{V^2}{2g}+K_{bend}\\frac{V^2}{2g}+K_{exit}\\frac{V^2}{2g}$\n",
    "- Darcy-Weisbach pipeline loss model:  $h_{pipe loss} = \\frac{fL}{D}\\frac{V^2}{2g}$\n",
    "- Continunity: $Q=VA$\n",
    "\n",
    "### Step 5\n",
    "Analysis/Solution Set-up<br>\n",
    "\n",
    "Apply the modified Bernoulli equation from 1 to 2 <br>\n",
    "\n",
    "$\\frac{p_1}{\\gamma}+z_1+\\frac{V_1^2}{2g}+h_p(Q) = \\frac{p_2}{\\gamma}+z_2+\\frac{V_2^2}{2g}+\\frac{fL}{D}\\frac{V^2}{2g}+K_{entrance}\\frac{V^2}{2g}+K_{bend}\\frac{V^2}{2g}+K_{exit}\\frac{V^2}{2g}$\n",
    "\n",
    "and observe that \n",
    "\n",
    "- $V_1 \\approx~0$ at the free surface\n",
    "- $p_1 = p_2 = 0 \\text{ gage}$\n",
    "- $K_{entrance} = 0.01$ table look-up or the mighty internet\n",
    "- $K_{bend} = 0.35$ table look-up or the mighty internet\n",
    "- $K_{exit} = 0.0$ no fitting here.\n",
    "\n",
    "so our added head equation in this case becomes\n",
    "\n",
    "$$h_p(V) = (z_2 - z_1) + \\frac{V^2}{2g}[\\frac{fL}{D}+K_{entrance}+K_{bend}]$$\n",
    "\n",
    "Unlike the prior example, this time we will need to compute friction factors based on pipe material and discharge so we will need auxiliary functions to compute Reynolds' number and friction factors.  By far the easiest is to use the Jain approximation, repeated below from earlier lessons:\n",
    "\n",
    "$Re_d(Q) = \\frac{16 \\rho D Q^2}{\\mu \\pi^2 D^4}$<br>\n",
    "\n",
    "and<br>\n",
    "\n",
    "$f=\\frac{0.25}{[log_{10}(\\frac{k_s}{3.7D}+\\frac{5.74}{Re_d^{0.9}})]^2}$<br>\n",
    "\n",
    "For this example we look up values for water for the Reynolds' number computations <br>\n",
    "\n",
    "$\\rho = 1000~\\frac{kg}{m^3}$ and $\\mu = 1.14\\times10^{-3}~\\frac{N s}{m^2}$\n",
    "\n",
    "Now we write our prototype functions "
   ]
  },
  {
   "cell_type": "markdown",
   "metadata": {},
   "source": [
    "Using the same approach as before, except in SI units"
   ]
  },
  {
   "cell_type": "code",
   "execution_count": 5,
   "metadata": {},
   "outputs": [
    {
     "name": "stdout",
     "output_type": "stream",
     "text": [
      "--- System Curve Table --- \n",
      " Flow (cms)  Added Head (m)\n",
      "  0.0          1.5\n",
      "  0.025          1.514\n",
      "  0.05          1.553\n",
      "  0.075          1.618\n",
      "  0.1          1.706\n",
      "  0.125          1.82\n",
      "  0.15          1.958\n",
      "  0.175          2.121\n",
      "  0.2          2.309\n",
      "  0.225          2.521\n",
      "  0.25          2.758\n",
      "  0.275          3.019\n",
      "  0.3          3.305\n",
      "  0.325          3.616\n",
      "  0.35          3.952\n"
     ]
    }
   ],
   "source": [
    "def reynolds(flow,rho,mu,diameter):\n",
    "    import math\n",
    "    reynolds = rho*velocity(flow,diameter)*diameter/mu\n",
    "    return(reynolds)\n",
    "\n",
    "def jainff(roughness,diameter,reynolds):\n",
    "    import math\n",
    "    num = 0.25\n",
    "    den= (math.log10(  (3.7*roughness/diameter)+(5.74/(reynolds**0.9)) ))**2\n",
    "    jainff=num/den\n",
    "    return(jainff)\n",
    "    \n",
    "def velocity(flow,diameter):\n",
    "    import math\n",
    "    velocity = (flow)/(0.25*math.pi*diameter**2)\n",
    "    return(velocity)\n",
    "\n",
    "def system_curve(z1,z2,flow,plength,pdiameter,pfriction_factor,k1,k2,k3,gravity):\n",
    "    lift = (z2-z1)\n",
    "    velocity_head = (velocity(flow,pdiameter)**2)/(2 * gravity)\n",
    "    pipe_loss = (pfriction_factor*plength/pdiameter)*velocity_head\n",
    "    fitting_loss = (k1+k2+k3)*velocity_head\n",
    "    system_curve = lift+pipe_loss+fitting_loss\n",
    "    return(system_curve)\n",
    "\n",
    "length = 62.5 # overall length includes the bend and a little extra to clear the berm\n",
    "zone = 20\n",
    "ztwo = 21.5\n",
    "rho = 1000\n",
    "mu = 1.14e-03\n",
    "diameter = 0.356\n",
    "roughness = 0.0000265 # table lookup for steel in meters!\n",
    "k1 = 0.01\n",
    "k2 = 0.35\n",
    "k3 = 0\n",
    "gravity = 9.8\n",
    "flowcms = [0 for i in range(1,16)] # list of flowrates\n",
    "# convert to floating point\n",
    "for i in range(len(flowcms)):\n",
    "    flowcms[i]=0.00001+i*0.025 # sneaky way to get a list from 0 to 1 in steps of 0.1\n",
    "addedheads = []\n",
    "for i in range(len(flowcms)):\n",
    "    red = reynolds(flowcms[i],rho,mu,diameter)\n",
    "    ff = jainff(roughness,diameter,red)\n",
    "    addedheads.append(system_curve(zone,ztwo,flowcms[i],length,diameter,ff,k1,k2,k3,gravity))\n",
    "print(\"--- System Curve Table --- \\n Flow (cms)  Added Head (m)\")\n",
    "for i in range(len(flowcms)):\n",
    "    print(\" \",round(flowcms[i],3),\"        \",round(addedheads[i],3))"
   ]
  },
  {
   "cell_type": "code",
   "execution_count": 6,
   "metadata": {},
   "outputs": [
    {
     "data": {
      "image/png": "[encoded data removed]",
      "text/plain": [
       "<Figure size 720x576 with 1 Axes>"
      ]
     },
     "metadata": {
      "filenames": {
       "image/png": "/home/sensei/ce-3305-webroot/ce3305s24book/_build/jupyter_execute/lessons/19PumpSelection/1fluidmachines_22_0.png"
      },
      "needs_background": "light"
     },
     "output_type": "display_data"
    }
   ],
   "source": [
    "pumpflow = [0,0.025,0.05,0.075,0.10,0.125,0.15,0.20,0.25,0.275,0.30]\n",
    "pumphead = [5,4.9,4.6,4.1,3.35,3.24,3.14,2.86,2.54,2.23,1.8]\n",
    "\n",
    "import matplotlib.pyplot as plt\n",
    "plt.figure(figsize=(10, 8))\n",
    "plt.plot(pumpflow,pumphead,c=\"red\")\n",
    "plt.plot(flowcms,addedheads, c=\"blue\")\n",
    "plt.legend([\"Pump Curve\",\"System Curve\"])\n",
    "plt.title(\"Operating Conditions for Example System\")\n",
    "plt.xlabel('Discharge (cms)') \n",
    "plt.ylim([0,10])\n",
    "plt.ylabel('Head (m)') \n",
    "plt.grid(which='both')\n",
    "plt.show()"
   ]
  },
  {
   "cell_type": "code",
   "execution_count": 7,
   "metadata": {},
   "outputs": [
    {
     "name": "stdout",
     "output_type": "stream",
     "text": [
      "Added head is  2.65  meters for discharge of  240.0  liters per second\n"
     ]
    }
   ],
   "source": [
    "myflow=0.24\n",
    "myhead=round(system_curve(zone,ztwo,myflow,length,diameter,ff,k1,k2,k3,gravity),2)\n",
    "print(\"Added head is \",myhead,\" meters for discharge of \",myflow*1000,\" liters per second\")"
   ]
  },
  {
   "cell_type": "markdown",
   "metadata": {},
   "source": [
    "So from the graphs, the operating point is at about $Q=0.24~\\frac{m^3}{sec}$ with an operating head of $2.65~m$<br>\n",
    "\n",
    "Next the power requirement is $P=\\frac{Q\\gamma h}{\\eta}$  From the supplied curves, the efficiency at the design flowrate is about 80%."
   ]
  },
  {
   "cell_type": "code",
   "execution_count": 8,
   "metadata": {},
   "outputs": [
    {
     "name": "stdout",
     "output_type": "stream",
     "text": [
      "Wire-to-water power in watts :  7798.802\n"
     ]
    }
   ],
   "source": [
    "power = 0.24*system_curve(zone,ztwo,0.24,length,diameter,ff,k1,k2,k3,gravity)*9800/0.8\n",
    "print(\"Wire-to-water power in watts : \",round(power,3))"
   ]
  },
  {
   "cell_type": "markdown",
   "metadata": {},
   "source": [
    "So the first part is done, now to adjust for a different pump speed.\n",
    "\n",
    "The affinity laws in this case are:\n",
    "\n",
    "**Discharge scaling:** <br>\n",
    "\n",
    "$(\\frac{Q}{nD^3})_1 = (\\frac{Q}{nD^3})_2$ which after rearrangement for $Q_2$ the higher speed operation\n",
    "\n",
    "$Q_2 = Q_1\\frac{n_2}{n_1}\\frac{D_2^3}{D_1^3}$"
   ]
  },
  {
   "cell_type": "code",
   "execution_count": 9,
   "metadata": {},
   "outputs": [
    {
     "name": "stdout",
     "output_type": "stream",
     "text": [
      "Scaled pump discharge  0.313\n"
     ]
    }
   ],
   "source": [
    "n1 = 690\n",
    "n2 = 900\n",
    "d1 = 1\n",
    "d2 = 1\n",
    "q1 = 0.24\n",
    "q2 = q1*(n2/n1)*(d2**3/d1**3)\n",
    "print(\"Scaled pump discharge \",round(q2,3))"
   ]
  },
  {
   "cell_type": "markdown",
   "metadata": {},
   "source": [
    "Now determine the increased head loss"
   ]
  },
  {
   "cell_type": "code",
   "execution_count": 10,
   "metadata": {},
   "outputs": [
    {
     "name": "stdout",
     "output_type": "stream",
     "text": [
      "Increased RPM added head 3.423\n"
     ]
    }
   ],
   "source": [
    "print(\"Increased RPM added head\",round(system_curve(zone,ztwo,0.31,length,diameter,ff,k1,k2,k3,gravity),3))"
   ]
  },
  {
   "cell_type": "markdown",
   "metadata": {},
   "source": [
    "Now check that the pump will produce this much head using\n",
    "\n",
    "**Added head scaling:**\n",
    "\n",
    "$(\\frac{h_p}{n^2D^2})_1 = (\\frac{h_p}{n^2D^2})_2$\n",
    "\n"
   ]
  },
  {
   "cell_type": "code",
   "execution_count": 11,
   "metadata": {},
   "outputs": [
    {
     "name": "stdout",
     "output_type": "stream",
     "text": [
      "Scaled Pump Head  4.509\n"
     ]
    }
   ],
   "source": [
    "h1 = 2.65\n",
    "h2 = h1*(n2**2/n1**2)*(d2**2/d1**2)\n",
    "print(\"Scaled Pump Head \",round(h2,3))"
   ]
  },
  {
   "cell_type": "markdown",
   "metadata": {},
   "source": [
    "So the pump appears to be able to produceeough head, now scale the power using \n",
    "\n",
    "**Power scaling:** \n",
    "\n",
    "$(\\frac{P}{n^3D^5})_1 = (\\frac{P}{n^3D^5})_2$"
   ]
  },
  {
   "cell_type": "code",
   "execution_count": 12,
   "metadata": {},
   "outputs": [
    {
     "name": "stdout",
     "output_type": "stream",
     "text": [
      "Scaled Power  13843.741\n"
     ]
    }
   ],
   "source": [
    "p1 = 7798*0.8 # we are working with mechanical power here\n",
    "p2 = p1*(n2**3/n1**3)*(d2**5/d1**5)\n",
    "print(\"Scaled Power \",round(p2,3))"
   ]
  },
  {
   "cell_type": "markdown",
   "metadata": {},
   "source": [
    "### Step 6\n",
    "A quick comment, the step to check that the scaled head is at least big enough to overcome the required added head at the new flow rate is often forgotten but should be checked.\n"
   ]
  },
  {
   "cell_type": "markdown",
   "metadata": {},
   "source": [
    "<hr>\n",
    "\n",
    "# Net Positive Suction Head (NPSH)\n",
    "\n",
    "The most common cause of pumping system failure is poor suction conditions.\n",
    "\n",
    "Cavitation occurs when liquid pressure is reduced to the vapor pressure of the liquid, then the liquid flashes to make small gas bubbles, which are unstable and collapse back into liquid - this rapid localized phase change process imparts large destructive energy into the pump impeller and housing and quickly destroys the pump itself in addition to creating loss of priming.\n",
    "\n",
    "In a pipe system with a pump, cavitation will occur when the absolute pressure at the inlet (eye) falls below the vapor pressure of the water.\n",
    "\n",
    ":::{note}\n",
    "The pump destruction described is not usually instant, but does happen pretty fast.  For example weeks to failure when the designer expects years between overhauls.  \n",
    "\n",
    "High speed turbopumps  can fail in seconds when they are supposed to run for minutes.  Cavitation is a big deal in things like rocket ships, nuclear power plants (cooling system), and other high-risk applications; less so in Civil Engineering, usually our failures just cost time and money - a lift station failure during a flood could cause death, so we are not risk-free\n",
    ":::\n",
    "\n",
    "Considerations \n",
    "- Liquid must enter the pump eye under some pressure; this pressure is dictated by the hydraulic system and is called the Available Net Positive Suction Head $NPSH_a$.\n",
    "- A centrifugal pump cannot lift water unless it is primed; the first stage impellers must be below the static HGL in the suction pit at startup.\n",
    "- The manufacturer supplies a value for the minimum pressure the pump needs to operate; this pressure is called the Required Net Positive Suction Head $NPSH_r$\n",
    "- Proper pump operation without cavitation demands that $$ NPSH_r < NPSH_a $$\n",
    "- Can calculate $NPSH_a$ from\n",
    "\n",
    "![](npsha-formula.png)\n",
    "\n",
    "- An on-line calculator is located at [http://54.243.252.9/toolbox/pipehydraulics/NPSHCalculatorUS/NPSHCalculatorUS.html](http://54.243.252.9/toolbox/pipehydraulics/NPSHCalculatorUS/NPSHCalculatorUS.html) ; the calculator is specific for US Customary Units, but would easily be adaptabe for SI units. The interface looks like\n",
    "\n",
    "![](npsha-calc.png)\n",
    "\n"
   ]
  },
  {
   "cell_type": "markdown",
   "metadata": {},
   "source": [
    "## NPSHa Example\n",
    "\n",
    "### Problem Statement\n",
    "\n",
    "![](NPSA-ex1.png)\n",
    "\n",
    "### Solution (part 1)\n",
    "\n",
    "![](NPSA-ex2.png)\n",
    "\n",
    "### Solution (part 2)\n",
    "\n",
    "![](NPSA-ex3.png)\n",
    "\n",
    "### Solution (part 3)\n",
    "\n",
    "![](NPSA-ex4.png)\n",
    "\n",
    "### Solution (part 4)\n",
    "\n",
    "![](NPSA-ex5.png)\n",
    "\n",
    "We look up the liquid properties at [http://54.243.252.9/toolbox/fluidmechanics/WaterPropertiesUS/WaterPropertiesUS.html](http://54.243.252.9/toolbox/fluidmechanics/WaterPropertiesUS/WaterPropertiesUS.html)\n",
    "\n",
    "### Solution (part 5)\n",
    "Now insert these intermediate values into the equation for $NPSH_a$ paying close attention to how the equation is written in the calculator (the $H_{static}$ sign is changed in the calculator in comparison to the equation presented above, the remaining terms are unchanged.\n",
    "\n",
    "![](NPSA-soln.png)\n",
    "\n",
    "### Solution Summary\n",
    "\n",
    "![](NPSA-soln2.png)"
   ]
  },
  {
   "cell_type": "markdown",
   "metadata": {},
   "source": [
    "# Exercises\n"
   ]
  }
 ],
 "metadata": {
  "kernelspec": {
   "display_name": "Python 3",
   "language": "python",
   "name": "python3"
  },
  "language_info": {
   "codemirror_mode": {
    "name": "ipython",
    "version": 3
   },
   "file_extension": ".py",
   "mimetype": "text/x-python",
   "name": "python",
   "nbconvert_exporter": "python",
   "pygments_lexer": "ipython3",
   "version": "3.8.10"
  }
 },
 "nbformat": 4,
 "nbformat_minor": 4
}