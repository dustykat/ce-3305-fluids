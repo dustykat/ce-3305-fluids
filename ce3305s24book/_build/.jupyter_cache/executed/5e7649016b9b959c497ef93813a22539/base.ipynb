{
 "cells": [
  {
   "cell_type": "code",
   "execution_count": 1,
   "metadata": {},
   "outputs": [
    {
     "name": "stdout",
     "output_type": "stream",
     "text": [
      "Sp. Wt. of 1 gallon sample =  8.32\n",
      "Sp. Wt. of 30 cc sample =  8.32\n"
     ]
    }
   ],
   "source": [
    "spwt_gallon = 8.32 # lbs per gallon\n",
    "spwt_30cc = 0.065 # lbs per 30 cc\n",
    "# convert to common volume\n",
    "spwt_30cc = spwt_30cc*(128/1)  # 30cc==1oz; 128oz==1gal conversion to common volume basis.\n",
    "print('Sp. Wt. of 1 gallon sample = ',round(spwt_gallon,3))\n",
    "print('Sp. Wt. of 30 cc sample = ',round(spwt_30cc,3))"
   ]
  }
 ],
 "metadata": {
  "kernelspec": {
   "display_name": "Python 3",
   "language": "python",
   "name": "python3"
  },
  "language_info": {
   "codemirror_mode": {
    "name": "ipython",
    "version": 3
   },
   "file_extension": ".py",
   "mimetype": "text/x-python",
   "name": "python",
   "nbconvert_exporter": "python",
   "pygments_lexer": "ipython3",
   "version": "3.8.10"
  }
 },
 "nbformat": 4,
 "nbformat_minor": 4
}