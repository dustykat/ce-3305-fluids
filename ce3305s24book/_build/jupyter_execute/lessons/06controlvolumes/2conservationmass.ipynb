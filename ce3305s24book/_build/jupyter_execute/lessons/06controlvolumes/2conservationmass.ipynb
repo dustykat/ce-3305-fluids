{
 "cells": [
  {
   "cell_type": "markdown",
   "metadata": {},
   "source": [
    "### CV Relationships for Mass Conservation (Continunity)\n",
    "\n",
    "To use CV analysis the system equations are converted to volume variation relations.\n",
    "\n",
    "Recall that extensive properties are defined throughout an entire mass of a fluid (a system) whereas intensive properties are an amount of property per unit mass.\n",
    "\n",
    "Starting with mass itself, the extensive property is mass $m$\n",
    "\n",
    "The mass per unit mass is unity; $\\frac{m}{m}=1$\n",
    "\n",
    "The mass per unit volume is density; $\\frac{m}{V}=\\rho$\n",
    "\n",
    "<!--\n",
    "The fundamental relationship of the system is:\n",
    "\n",
    "$B_{sys} = \\int \\beta dm = \\int \\beta \\rho dV$ -->\n",
    "\n",
    "In the case of mass we have\n",
    "\n",
    "```{figure} rtt-mass.png\n",
    "---\n",
    "width: 600px\n",
    "name: rtt-mass\n",
    "---\n",
    "\n",
    "```\n",
    "Now consider a system (gold cube in the figure at time $t=t_0$\n",
    "\n",
    "\n",
    "```{figure} rtt-mass-t0.png\n",
    "---\n",
    "width: 600px\n",
    "name: rtt-mass-t0\n",
    "---\n",
    "\n",
    "```\n",
    "\n",
    "A short time ($t+\\Delta t$) later the system has moved, some parts have left the CV.\n",
    "\n",
    "\n",
    "```{figure} rtt-mass-tdt.png\n",
    "---\n",
    "width: 600px\n",
    "name: rtt-mass-tdt\n",
    "---\n",
    "\n",
    "```\n",
    "\n",
    "Examination of the three zones and the system total mass gives:\n",
    "\n",
    "\n",
    "```{figure} rtt-mass-tdt-1.png\n",
    "---\n",
    "width: 600px\n",
    "name: rtt-mass-tdt-1\n",
    "---\n",
    "\n",
    "```\n",
    "\n",
    "Inserting these into the system to volume expression:\n",
    "\n",
    "```{figure} rtt-mass-tdt-2.png\n",
    "---\n",
    "width: 600px\n",
    "name: rtt-mass-tdt-2\n",
    "---\n",
    "\n",
    "```\n",
    "\n",
    "Now using the divergence theroem to cope with the terms in Parts I and III of space in the drawing\n",
    "\n",
    "```{figure} divergence.png\n",
    "---\n",
    "width: 600px\n",
    "name: divergence\n",
    "---\n",
    "\n",
    "```\n",
    " The application of Gauss' divergence theorem produces the \"flux integrals\".\n",
    "\n",
    "```{figure} divergence-2.png\n",
    "---\n",
    "width: 600px\n",
    "name: divergence-2\n",
    "---\n",
    "\n",
    "```\n",
    "\n",
    "Now examine the relationship between velocity and area in the flux integrals\n",
    "\n",
    "```{figure} vdotDA.png\n",
    "---\n",
    "width: 600px\n",
    "name: vdotDA\n",
    "---\n",
    "\n",
    "```\n",
    "\n",
    "Collect the terms together into the Reynolds Transport Expression for Mass\n",
    "\n",
    "```{figure} RTT-MassBalance.png\n",
    "---\n",
    "width: 600px\n",
    "name: RTT-MassBalance\n",
    "---\n",
    "\n",
    "```\n",
    "\n",
    "To summarize:\n",
    " \n",
    "\n",
    "```{figure} rtt-summary.png\n",
    "---\n",
    "width: 600px\n",
    "name: rtt-summary\n",
    "---\n",
    "\n",
    "```"
   ]
  },
  {
   "cell_type": "markdown",
   "metadata": {},
   "source": [
    "## Example 1: Application of Continunity to a Holy Grail\n",
    "\n",
    "> Actually our just a vessel with a hole in the bottom; a grail, with a hole in the bottom is the holey grail!\n",
    "\n",
    "```{figure} example-1.png\n",
    "---\n",
    "width: 600px\n",
    "name: example-1\n",
    "---\n",
    "\n",
    "```"
   ]
  },
  {
   "cell_type": "code",
   "execution_count": 1,
   "metadata": {},
   "outputs": [],
   "source": [
    "# problem statement - above Yay!"
   ]
  },
  {
   "cell_type": "code",
   "execution_count": 2,
   "metadata": {},
   "outputs": [],
   "source": [
    "# sketch"
   ]
  },
  {
   "cell_type": "code",
   "execution_count": 3,
   "metadata": {},
   "outputs": [
    {
     "name": "stdout",
     "output_type": "stream",
     "text": [
      "storage accumulation is .... wait for it ... 0.014500000000000002\n"
     ]
    }
   ],
   "source": [
    "# known\n",
    "V_in = 7 # m/s\n",
    "A_in = 0.0025 # m^2\n",
    "Q_out = 0.003 #m^3/s\n",
    "# rho = 1000 # kg/m3\n",
    "# grabity = 9.8 # m/s/s\n",
    "\n",
    "# change in storage\n",
    "dSdt = V_in*A_in - Q_out\n",
    "print('storage accumulation is .... wait for it ...',dSdt)"
   ]
  },
  {
   "cell_type": "markdown",
   "metadata": {},
   "source": [
    "## References\n",
    "\n",
    "1. [Reynolds Transport Theorem (Wikipedia)](https://en.wikipedia.org/wiki/Reynolds_transport_theorem#:~:text=Reynolds%20transport%20theorem%20can%20be,(not%20the%20flow%20velocity).)"
   ]
  },
  {
   "cell_type": "code",
   "execution_count": null,
   "metadata": {},
   "outputs": [],
   "source": []
  }
 ],
 "metadata": {
  "kernelspec": {
   "display_name": "Python 3",
   "language": "python",
   "name": "python3"
  },
  "language_info": {
   "codemirror_mode": {
    "name": "ipython",
    "version": 3
   },
   "file_extension": ".py",
   "mimetype": "text/x-python",
   "name": "python",
   "nbconvert_exporter": "python",
   "pygments_lexer": "ipython3",
   "version": "3.8.10"
  }
 },
 "nbformat": 4,
 "nbformat_minor": 4
}