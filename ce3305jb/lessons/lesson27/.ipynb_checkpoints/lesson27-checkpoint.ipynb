{
 "cells": [
  {
   "cell_type": "markdown",
   "metadata": {},
   "source": [
    "# Pumps (Turbomachines)\n",
    "\n",
    "## Lesson Outline\n",
    "– \n",
    "-\n",
    "-\n"
   ]
  },
  {
   "cell_type": "markdown",
   "metadata": {},
   "source": [
    "### Background\n",
    "\n",
    "\n"
   ]
  },
  {
   "cell_type": "markdown",
   "metadata": {},
   "source": [
    "### Example: Pump Operating Point\n",
    "\n",
    "A pump with the characteristic curve shown in the accompanying graph is to be installed as shown.  \n",
    "\n",
    "```{figure} example27-1.png\n",
    "---\n",
    "width: 600px\n",
    "name: example27-1\n",
    "---\n",
    "Caption\n",
    "```\n",
    "\n",
    "Determine the anticipated discharge in the system?\n",
    "\n",
    "#### Step 1\n",
    "State the problem, done above! But seriously we need to create a system curve $h_p(Q)$ and superimpose it onto the pump characteristic curve shown to find the operating point.\n",
    "\n",
    "#### Step 2\n",
    "The sketch is pretty much done for us; so not much to add here.\n",
    "\n",
    "#### Step 3\n",
    "Knowns: \n",
    "- Pool elevations\n",
    "- Working fluid (water)\n",
    "- Pipe lengths and diameters, and friction factors (unusual to know these, but we could determine from material properties if needed)\n",
    "- Pump \"location\" \n",
    "- Fitting types\n",
    "\n",
    "Unknowns:\n",
    "- $h_p(Q)$\n",
    "- $Q$\n",
    "\n",
    "#### Step 4\n",
    "Governing equations:\n",
    "- Modified bernoulli: $\\frac{p_1}{\\gamma}+z_1+\\frac{V_1^2}{2g}+h_p(Q) = \\frac{p_2}{\\gamma}+z_2+\\frac{V_2^2}{2g}+\\frac{fL}{D}\\frac{V^2}{2g}+K_{entrance}\\frac{V^2}{2g}+K_{bend}\\frac{V^2}{2g}+K_{exit}\\frac{V^2}{2g}$\n",
    "- Darcy-Weisass pipeline loss model:  $h_{pipe loss} = \\frac{fL}{D}\\frac{V^2}{2g}$\n",
    "- Continunity: $Q=VA$\n",
    "\n",
    "#### Step 5\n",
    "Analysis\n",
    "\n",
    "Using modified bernoulli, observe constant diameter pipes and start and end at each reservoir pool surface so that\n",
    "\n",
    "$$V_1=V_2$$  \n",
    "\n",
    "and\n",
    "\n",
    "$$p_1 = p_2$$\n",
    "\n",
    "Rearrange what remains into\n",
    "\n",
    "$$h_p(V) = (z_2 - z_1) + \\frac{V^2}{2g}[\\frac{fL}{D}+K_{entrance}+K_{bend}+K_{exit}]$$\n",
    "\n",
    "We will also need to employ continunity to relate $Q$ and $V$ as\n",
    "\n",
    "$$V = \\frac{Q}{(\\pi D^2)/4)}$$\n"
   ]
  },
  {
   "cell_type": "code",
   "execution_count": 53,
   "metadata": {},
   "outputs": [],
   "source": [
    "def velocity(flow,diameter):\n",
    "    import math\n",
    "    velocity = (flow)/(0.25*math.pi*diameter**2)\n",
    "    return(velocity)\n",
    "\n",
    "def system_curve(z1,z2,flow,plength,pdiameter,pfriction_factor,k1,k2,k3,gravity):\n",
    "    lift = (z2-z1)\n",
    "    velocity_head = (velocity(flow,pdiameter)**2)/(2 * gravity)\n",
    "    pipe_loss = (pfriction_factor*plength/pdiameter)*velocity_head\n",
    "    fitting_loss = (k1+k2+k3)*velocity_head\n",
    "    system_curve = lift+pipe_loss+fitting_loss\n",
    "    return(system_curve)\n",
    "\n",
    "def gpm2cfs(flowgpm):\n",
    "    gpm2cfs = flowgpm/(7.48*60) # 1 cfs = 7.48gal/cf * 60 sec/min\n",
    "    return(gpm2cfs)"
   ]
  },
  {
   "cell_type": "markdown",
   "metadata": {},
   "source": [
    "Now use these scripts to make a table of system curve values"
   ]
  },
  {
   "cell_type": "code",
   "execution_count": 54,
   "metadata": {},
   "outputs": [
    {
     "name": "stdout",
     "output_type": "stream",
     "text": [
      "--- System Curve Table --- \n",
      " Flow (gpm)  Added Head (ft)\n",
      "  0          10.0\n",
      "  250          10.4\n",
      "  500          11.6\n",
      "  750          13.7\n",
      "  1000          16.6\n",
      "  1250          20.3\n",
      "  1500          24.8\n",
      "  1750          30.1\n",
      "  2000          36.3\n",
      "  2250          43.3\n",
      "  2500          51.1\n",
      "  2750          59.7\n",
      "  3000          69.2\n",
      "  3250          79.5\n",
      "  3500          90.6\n"
     ]
    }
   ],
   "source": [
    "flowgpm = [i for i in range(0,3750,250)] # list of flowrates\n",
    "flowcfs = [0 for i in range (len(flowgpm))] # empty list for conversion\n",
    "# convert to cfs\n",
    "for i in range(len(flowgpm)):\n",
    "    flowcfs[i]=gpm2cfs(flowgpm[i])\n",
    "addedheads = []\n",
    "for i in range(len(flowgpm)):\n",
    "    addedheads.append(system_curve(10,20,flowcfs[i],1000,10./12.,0.020,0.03,0.35,1.0,32.2))\n",
    "print(\"--- System Curve Table --- \\n Flow (gpm)  Added Head (ft)\")\n",
    "for i in range(len(flowgpm)):\n",
    "    print(\" \",round(flowgpm[i],1),\"        \",round(addedheads[i],1))"
   ]
  },
  {
   "cell_type": "markdown",
   "metadata": {},
   "source": [
    "Now use this table to find operating point from the pump performance curve (draw system curve on the pump curve). "
   ]
  },
  {
   "cell_type": "code",
   "execution_count": 55,
   "metadata": {},
   "outputs": [],
   "source": [
    "pumpflow = [0,500,1000,1500,2000,2500,3000,3500,4000,4500,4900]\n",
    "pumphead = [76,75,74,73,72,70,67,59,50,22,0]"
   ]
  },
  {
   "cell_type": "code",
   "execution_count": 56,
   "metadata": {},
   "outputs": [
    {
     "data": {
      "image/png": "[encoded data removed]",
      "text/plain": [
       "<Figure size 720x576 with 1 Axes>"
      ]
     },
     "metadata": {
      "needs_background": "light"
     },
     "output_type": "display_data"
    }
   ],
   "source": [
    "import matplotlib.pyplot as plt\n",
    "plt.figure(figsize=(10, 8))\n",
    "plt.plot(pumpflow,pumphead,c=\"red\")\n",
    "plt.plot(flowgpm,addedheads, c=\"blue\")\n",
    "plt.legend([\"Pump Curve\",\"System Curve\"])\n",
    "plt.title(\"Operating Conditions for Example System\")\n",
    "plt.xlabel('Discharge (gpm)') \n",
    "plt.ylabel('Head (ft)') \n",
    "plt.grid(which='both')\n",
    "plt.show()"
   ]
  },
  {
   "cell_type": "markdown",
   "metadata": {},
   "source": [
    "#### Step 6\n",
    "\n",
    "We are done, and would report that the operating point is $Q \\approx~3000 \\text{gpm } @ 70~\\text{feet of head}$"
   ]
  },
  {
   "cell_type": "markdown",
   "metadata": {},
   "source": [
    "## Pump Affinity Laws\n",
    "\n",
    "Pump affinity laws are similar to fan laws and were derived from similarity modeling considerations.\n",
    "\n",
    "A class of pumps that have geometrically similar shape and operation type (centrifugal, axial-flow, mixed-flow) are anticipated to behave according to the same correlations.  Such a set of pumps is called a homologous series.  For homologous pumps (say a collection of centrifugal pumps) the affinity relations are:\n",
    "\n",
    "- Discharge scaling: $(\\frac{Q}{nD^3})_1 = (\\frac{Q}{nD^3})_2$\n",
    "- Added head scaling: $(\\frac{h_p}{n^2D^2})_1 = (\\frac{h_p}{n^2D^2})_2$\n",
    "- Power scaling: $(\\frac{P}{n^3D^5})_1 = (\\frac{P}{n^3D^5})_2$\n",
    "\n",
    "Affinity laws are especially useful for estimating performance change with changes in speed ($n$ in the formulas), which is the easiest to control variable (using a variable frequency drive controller for example).  An illustrative example follows:\n",
    "\n",
    "### Example: Pump Performance with Speed (RPM) Increase\n",
    "\n",
    "The pump in the system depicted in numref`{example27-2}` has the characteristics given in numref`{example27-2-pmp}`.  Determine the discharge that will occur and the power required.\n",
    "\n",
    "```{figure} example27-2.png\n",
    "---\n",
    "width: 600px\n",
    "name: example27-2\n",
    "---\n",
    "Canal Lift Schematic\n",
    "```\n",
    "\n",
    "```{figure} example27-2-pmp.png\n",
    "---\n",
    "width: 600px\n",
    "name: example27-2-pmp\n",
    "---\n",
    "Canal Pump Performance Curves\n",
    "```\n",
    "\n",
    "What will the discharge be if the pump speed is changed to 900 RPM?\n",
    "\n",
    "#### Step 1\n",
    "State the problem; not much to add here - we will first find the operating point assuming the nominal pump speed on the performance curve, then use affinity laws to scale to the new speed.  As before we will approximate the curves using tabulations taken by visual examination of the supplied graphs.\n",
    "\n",
    "#### Step 2\n",
    "Sketch the system; this too is also done for us - we stipulate that point 1 is the pool elevation in the lower canal, and point 2 is the centerline of the discharge pipe.\n",
    "\n",
    "#### Step 3\n",
    "Known:\n",
    "- water elevation\n",
    "- discharge elevation\n",
    "- pump curve\n",
    "- pump speed (from the curve)\n",
    "- pipe material, diameter, length\n",
    "Unknown:\n",
    "- Discharge $Q$\n",
    "- Power $P$\n",
    "\n",
    "#### Step 4\n",
    "Governing equations\n",
    "- Modified bernoulli: $\\frac{p_1}{\\gamma}+z_1+\\frac{V_1^2}{2g}+h_p(Q) = \\frac{p_2}{\\gamma}+z_2+\\frac{V_2^2}{2g}+\\frac{fL}{D}\\frac{V^2}{2g}+K_{entrance}\\frac{V^2}{2g}+K_{bend}\\frac{V^2}{2g}+K_{exit}\\frac{V^2}{2g}$\n",
    "- Darcy-Weisbach pipeline loss model:  $h_{pipe loss} = \\frac{fL}{D}\\frac{V^2}{2g}$\n",
    "- Continunity: $Q=VA$\n",
    "\n",
    "#### Step 5\n",
    "Analysis/Solution Set-up<br>\n",
    "\n",
    "Apply the modified Bernoulli equation from 1 to 2 <br>\n",
    "\n",
    "$\\frac{p_1}{\\gamma}+z_1+\\frac{V_1^2}{2g}+h_p(Q) = \\frac{p_2}{\\gamma}+z_2+\\frac{V_2^2}{2g}+\\frac{fL}{D}\\frac{V^2}{2g}+K_{entrance}\\frac{V^2}{2g}+K_{bend}\\frac{V^2}{2g}+K_{exit}\\frac{V^2}{2g}$\n",
    "\n",
    "and observe that \n",
    "\n",
    "- $V_1 \\approx~0$ at the free surface\n",
    "- $p_1 = p_2 = 0 \\text{ gage}$\n",
    "- $K_{entrance} = 0.01$ table look-up or the mighty internet\n",
    "- $K_{bend} = 0.35$ table look-up or the mighty internet\n",
    "- $K_{exit} = 0.0$ no fitting here.\n",
    "\n",
    "so our added head equation in this case becomes\n",
    "\n",
    "$$h_p(V) = (z_2 - z_1) + \\frac{V^2}{2g}[\\frac{fL}{D}+K_{entrance}+K_{bend}]$$\n",
    "\n",
    "Unlike the prior example, this time we will need to compute friction factors based on pipe material and discharge so we will need auxiliary functions to compute Reynolds' number and friction factors.  By far the easiest is to use the Jain approximation, repeated below from earlier lessons:\n",
    "\n",
    "$Re_d(Q) = \\frac{16 \\rho D Q^2}{\\mu \\pi^2 D^4}$<br>\n",
    "\n",
    "and<br>\n",
    "\n",
    "$f=\\frac{0.25}{[log_{10}(\\frac{k_s}{3.7D}+\\frac{5.74}{Re_d^{0.9}})]^2}$<br>\n",
    "\n",
    "For this example we look up values for water for the Reynolds' number computations <br>\n",
    "\n",
    "$\\rho = 1000~\\frac{kg}{m^3}$ and $\\mu = 1.14\\times10^{-3}~\\frac{N s}{m^2}$\n",
    "\n",
    "Now we write our prototype functions (a couple are cut-and-paste from above)"
   ]
  },
  {
   "cell_type": "code",
   "execution_count": 103,
   "metadata": {},
   "outputs": [],
   "source": [
    "def reynolds(flow,rho,mu,diameter):\n",
    "    import math\n",
    "    reynolds = rho*velocity(flow,diameter)*diameter/mu\n",
    "    return(reynolds)\n",
    "\n",
    "def jainff(roughness,diameter,reynolds):\n",
    "    import math\n",
    "    num = 0.25\n",
    "    den= (math.log10(  (3.7*roughness/diameter)+(5.74/(reynolds**0.9)) ))**2\n",
    "    jainff=num/den\n",
    "    return(jainff)\n",
    "    \n",
    "def velocity(flow,diameter):\n",
    "    import math\n",
    "    velocity = (flow)/(0.25*math.pi*diameter**2)\n",
    "    return(velocity)\n",
    "\n",
    "def system_curve(z1,z2,flow,plength,pdiameter,pfriction_factor,k1,k2,k3,gravity):\n",
    "    lift = (z2-z1)\n",
    "    velocity_head = (velocity(flow,pdiameter)**2)/(2 * gravity)\n",
    "    pipe_loss = (pfriction_factor*plength/pdiameter)*velocity_head\n",
    "    fitting_loss = (k1+k2+k3)*velocity_head\n",
    "    system_curve = lift+pipe_loss+fitting_loss\n",
    "    return(system_curve)"
   ]
  },
  {
   "cell_type": "markdown",
   "metadata": {},
   "source": [
    "Using the same approach as before, except in SI units"
   ]
  },
  {
   "cell_type": "code",
   "execution_count": 146,
   "metadata": {},
   "outputs": [
    {
     "name": "stdout",
     "output_type": "stream",
     "text": [
      "--- System Curve Table --- \n",
      " Flow (cms)  Added Head (m)\n",
      "  0.1          1.706\n",
      "  0.125          1.82\n",
      "  0.15          1.958\n",
      "  0.175          2.121\n",
      "  0.2          2.309\n",
      "  0.225          2.521\n",
      "  0.25          2.758\n",
      "  0.275          3.019\n",
      "  0.3          3.305\n",
      "  0.325          3.616\n",
      "  0.35          3.951\n"
     ]
    }
   ],
   "source": [
    "length = 62.5 # overall length includes the bend and a little extra to clear the berm\n",
    "zone = 20\n",
    "ztwo = 21.5\n",
    "rho = 1000\n",
    "mu = 1.14e-03\n",
    "diameter = 0.356\n",
    "roughness = 0.0000265 # table lookup for steel in meters!\n",
    "k1 = 0.01\n",
    "k2 = 0.35\n",
    "k3 = 0\n",
    "gravity = 9.8\n",
    "flowcms = [0 for i in range(1,12)] # list of flowrates\n",
    "# convert to floating point\n",
    "for i in range(len(flowcms)):\n",
    "    flowcms[i]=0.10+i*0.025 # sneaky way to get a list from 0 to 1 in steps of 0.1\n",
    "addedheads = []\n",
    "for i in range(len(flowcms)):\n",
    "    red = reynolds(flowcms[i],rho,mu,diameter)\n",
    "    ff = jainff(roughness,diameter,red)\n",
    "    addedheads.append(system_curve(zone,ztwo,flowcms[i],length,diameter,ff,k1,k2,k3,gravity))\n",
    "print(\"--- System Curve Table --- \\n Flow (cms)  Added Head (m)\")\n",
    "for i in range(len(flowcms)):\n",
    "    print(\" \",round(flowcms[i],3),\"        \",round(addedheads[i],3))"
   ]
  },
  {
   "cell_type": "code",
   "execution_count": 166,
   "metadata": {},
   "outputs": [
    {
     "data": {
      "image/png": "[encoded data removed]",
      "text/plain": [
       "<Figure size 720x576 with 1 Axes>"
      ]
     },
     "metadata": {
      "needs_background": "light"
     },
     "output_type": "display_data"
    }
   ],
   "source": [
    "pumpflow = [0,0.025,0.05,0.075,0.10,0.125,0.15,0.20,0.25,0.275,0.30]\n",
    "pumphead = [5,4.9,4.6,4.1,3.35,3.24,3.14,2.86,2.54,2.23,1.8]\n",
    "\n",
    "import matplotlib.pyplot as plt\n",
    "plt.figure(figsize=(10, 8))\n",
    "plt.plot(pumpflow,pumphead,c=\"red\")\n",
    "plt.plot(flowcms,addedheads, c=\"blue\")\n",
    "plt.legend([\"Pump Curve\",\"System Curve\"])\n",
    "plt.title(\"Operating Conditions for Example System\")\n",
    "plt.xlabel('Discharge (cms)') \n",
    "plt.ylim([0,10])\n",
    "plt.ylabel('Head (m)') \n",
    "plt.grid(which='both')\n",
    "plt.show()"
   ]
  },
  {
   "cell_type": "code",
   "execution_count": 168,
   "metadata": {},
   "outputs": [
    {
     "data": {
      "text/plain": [
       "2.65"
      ]
     },
     "execution_count": 168,
     "metadata": {},
     "output_type": "execute_result"
    }
   ],
   "source": [
    "round(system_curve(zone,ztwo,0.24,length,diameter,ff,k1,k2,k3,gravity),2)"
   ]
  },
  {
   "cell_type": "markdown",
   "metadata": {},
   "source": [
    "So from the graphs, the operating point is at about $Q=0.24~\\frac{m^3}{sec}$ with an operating head of $2.65~m$<br>\n",
    "\n",
    "Next the power requirement is $P=\\frac{Q\\gamma h}{\\eta}$  From the supplied curves, the efficiency at the design flowrate is about 80%."
   ]
  },
  {
   "cell_type": "code",
   "execution_count": 172,
   "metadata": {},
   "outputs": [
    {
     "name": "stdout",
     "output_type": "stream",
     "text": [
      "Wire-to-water power in watts :  7798.803\n"
     ]
    }
   ],
   "source": [
    "power = 0.24*system_curve(zone,ztwo,0.24,length,diameter,ff,k1,k2,k3,gravity)*9800/0.8\n",
    "print(\"Wire-to-water power in watts : \",round(power,3))"
   ]
  },
  {
   "cell_type": "markdown",
   "metadata": {},
   "source": [
    "So the first part is done, now to adjust for a different pump speed.\n",
    "\n",
    "The affinity laws in this case are:\n",
    "\n",
    "**Discharge scaling:** <br>\n",
    "\n",
    "$(\\frac{Q}{nD^3})_1 = (\\frac{Q}{nD^3})_2$ which after rearrangement for $Q_2$ the higher speed operation\n",
    "\n",
    "$Q_2 = Q_1\\frac{n_2}{n_1}\\frac{D_2^3}{D_1^3}$"
   ]
  },
  {
   "cell_type": "code",
   "execution_count": 175,
   "metadata": {},
   "outputs": [
    {
     "name": "stdout",
     "output_type": "stream",
     "text": [
      "Discharge at increased RPM is  0.313\n"
     ]
    }
   ],
   "source": [
    "n1 = 690\n",
    "n2 = 900\n",
    "d1 = 1\n",
    "d2 = 1\n",
    "q1 = 0.24\n",
    "q2 = q1*(n2/n1)*(d2**2/d1**2)\n",
    "print(\"Discharge at increased RPM is \",round(q2,3))"
   ]
  },
  {
   "cell_type": "markdown",
   "metadata": {},
   "source": [
    "Now determine the increased head loss"
   ]
  },
  {
   "cell_type": "code",
   "execution_count": 179,
   "metadata": {},
   "outputs": [
    {
     "name": "stdout",
     "output_type": "stream",
     "text": [
      "Increased RPM added head 3.423\n"
     ]
    }
   ],
   "source": [
    "print(\"Increased RPM added head\",round(system_curve(zone,ztwo,0.31,length,diameter,ff,k1,k2,k3,gravity),3))"
   ]
  },
  {
   "cell_type": "markdown",
   "metadata": {},
   "source": [
    "Now check that the pump will produce this much head using\n",
    "\n",
    "**Added head scaling:**\n",
    "\n",
    "$(\\frac{h_p}{n^2D^2})_1 = (\\frac{h_p}{n^2D^2})_2$\n",
    "\n"
   ]
  },
  {
   "cell_type": "code",
   "execution_count": 181,
   "metadata": {},
   "outputs": [
    {
     "name": "stdout",
     "output_type": "stream",
     "text": [
      "Scaled Pump Head  4.509\n"
     ]
    }
   ],
   "source": [
    "h1 = 2.65\n",
    "h2 = h1*(n2**2/n1**2)*(d2**2/d1**2)\n",
    "print(\"Scaled Pump Head \",round(h2,3))"
   ]
  },
  {
   "cell_type": "markdown",
   "metadata": {},
   "source": [
    "So the pump appears to be able to produceeough head, now scale the power using \n",
    "\n",
    "**Power scaling:** \n",
    "\n",
    "$(\\frac{P}{n^3D^5})_1 = (\\frac{P}{n^3D^5})_2$"
   ]
  },
  {
   "cell_type": "code",
   "execution_count": 183,
   "metadata": {},
   "outputs": [
    {
     "name": "stdout",
     "output_type": "stream",
     "text": [
      "Scaled Power  13843.741\n"
     ]
    }
   ],
   "source": [
    "p1 = 7798*0.8 # we are working with mechanical power here\n",
    "p2 = p1*(n2**3/n1**3)*(d2**5/d1**5)\n",
    "print(\"Scaled Power \",round(p2,3))"
   ]
  },
  {
   "cell_type": "markdown",
   "metadata": {},
   "source": [
    "\n",
    "## Readings\n",
    "\n",
    "1. CE-3305-2022-1 Syllabus. [http://54.243.252.9/ce-3305-webroot/0-Syllabus/ce-3305-2022-1-syllabus.html](http://54.243.252.9/ce-3305-webroot/0-Syllabus/ce-3305-2022-1-syllabus.html)\n",
    "\n",
    "2. Hibbeler, R.C, Fluid Mechanics, 2ed. Prentice Hall, 2018. ISBN: 9780134655413 pp. 569-596\n",
    "\n",
    "3. DF Elger, BC Williams, Crowe, CT and JA Roberson, *Engineering Fluid Mechanics 10th edition*, John Wiley & Sons, Inc., 2013. [http://54.243.252.9/ce-3305-webroot/3-Readings/EFM-20.pdf](http://54.243.252.9/ce-3305-webroot/3-Readings/EFM-20.pdf)\n",
    "\n",
    "4. Cleveland, T. G. (2014) *Fluid Mechanics Notes to Accompany CE 3305 at Jade-Holshule (TTU Study Abroad 2015-2019)*, Department of Civil, Environmental, and Construction Engineering, Whitacre College of Engineering. [missing_link](http://54.243.252.9/ce-3305-webroot/3-Readings/ce3305-lecture13.pdf)\n",
    "\n",
    " "
   ]
  },
  {
   "cell_type": "code",
   "execution_count": null,
   "metadata": {},
   "outputs": [],
   "source": []
  },
  {
   "cell_type": "code",
   "execution_count": null,
   "metadata": {},
   "outputs": [],
   "source": []
  }
 ],
 "metadata": {
  "kernelspec": {
   "display_name": "Python 3",
   "language": "python",
   "name": "python3"
  },
  "language_info": {
   "codemirror_mode": {
    "name": "ipython",
    "version": 3
   },
   "file_extension": ".py",
   "mimetype": "text/x-python",
   "name": "python",
   "nbconvert_exporter": "python",
   "pygments_lexer": "ipython3",
   "version": "3.8.10"
  }
 },
 "nbformat": 4,
 "nbformat_minor": 4
}
