{
 "cells": [
  {
   "cell_type": "markdown",
   "metadata": {},
   "source": [
    "# Fluid Properties (pp. 13-31)\n",
    "\n",
    ":::{admonition} Course Website\n",
    "[http://54.243.252.9/ce-3305-webroot/](http://54.243.252.9/ce-3305-webroot/)\n",
    ":::"
   ]
  },
  {
   "cell_type": "markdown",
   "metadata": {},
   "source": [
    "## Readings \n",
    "\n",
    "1. Hibbeler, R.C, Fluid Mechanics, 2ed. Prentice Hall, 2018. ISBN: 9780134655413 pp. 13-31\n",
    "\n",
    "2. DF Elger, BC Williams, Crowe, CT and JA Roberson, *Engineering Fluid Mechanics 10th edition*, John Wiley & Sons, Inc., 2013. [Engineering Fluid Mechanics 10-th Ed. Chapter 2](http://54.243.252.9/ce-3305-webroot/3-Readings/EFM-2.pdf)\n",
    "\n",
    "3. Cleveland, T. G. (2014) *Fluid Mechanics Notes to Accompany CE 3305 at [Jade-Holshule](https://www.jade-hs.de/en/the-university/departments/engineering/) (TTU Study Abroad 2015-2019)*, Department of Civil, Environmental, and Construction Engineering, Whitacre College of Engineering. [http://54.243.252.9/ce-3305-webroot/3-Readings/ce3305-lecture-002.1.pdf](http://54.243.252.9/ce-3305-webroot/3-Readings/ce3305-lecture-002.1.pdf)"
   ]
  },
  {
   "cell_type": "markdown",
   "metadata": {},
   "source": [
    "## Videos\n",
    "\n",
    "1. [Viscosity Theory (YouTube)](https://www.youtube.com/watch?v=9NYs3Y-IjGw)\n",
    "2. [Viscosity Theory (YouTube)](https://www.youtube.com/watch?v=CZgotPs4OnY)\n",
    "3. [Viscosity Theory (YouTube)](https://www.youtube.com/watch?v=VvDJyhYSJv8)\n",
    "4. [Viscosity Experiment (YouTube)](https://www.youtube.com/watch?v=2Gdxu4XcsbY)\n",
    "5. [Viscosity Racing (YouTube)](https://www.youtube.com/watch?v=ubGxkWWWiIg)"
   ]
  },
  {
   "cell_type": "markdown",
   "metadata": {},
   "source": [
    "## Lesson Outline\n",
    "1. Intensive and Extensive Properties\n",
    "2. Viscosity\n",
    "3. Liquid Properties\n",
    "4. Surface Tension, Vapor Pressure"
   ]
  }
 ],
 "metadata": {
  "kernelspec": {
   "display_name": "Python 3",
   "language": "python",
   "name": "python3"
  },
  "language_info": {
   "codemirror_mode": {
    "name": "ipython",
    "version": 3
   },
   "file_extension": ".py",
   "mimetype": "text/x-python",
   "name": "python",
   "nbconvert_exporter": "python",
   "pygments_lexer": "ipython3",
   "version": "3.8.10"
  }
 },
 "nbformat": 4,
 "nbformat_minor": 4
}