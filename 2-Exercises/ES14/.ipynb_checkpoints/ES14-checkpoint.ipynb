{
 "cells": [
  {
   "cell_type": "markdown",
   "metadata": {},
   "source": [
    "# <font color=darkblue>CE 3305 Engineering Fluid Mechanics <br> Spring 2024 Exercise Set 14</font>\n",
    "\n",
    "**LAST NAME, FIRST NAME**\n",
    "\n",
    "**R00000000**\n",
    "\n",
    "___\n",
    "\n",
    "### Purpose : \n",
    "Pipeline analysis and design; use of Moody-Stanton diagram.\n",
    "### Assessment Criteria : \n",
    "Completion, plausible solutions, use JupyterLab as a calculator. \n",
    "___"
   ]
  },
  {
   "cell_type": "markdown",
   "metadata": {},
   "source": [
    "### Problem 1 - Part 1.\n",
    "The pressure drop over 150 m of 10-cm-diameter galvanized iron pipe is measured to be 100 kPa. \n",
    "Roughness height is $k_s$ = 0.20 millimeters. The kinematic viscosity is $\\nu = 10^{−6}~m^2/sec$\n",
    "Estimate the flow rate of water in the horizontal pipe (Express the result in Liters per second) \n",
    "\n",
    "![](problemsketch.png)\n",
    "\n",
    "1. Write the pipe length on the sketch depicted in Figure 1, include units.\n",
    "2. Write the pipe diameter on the sketch depicted in Figure 1, include units.\n",
    "3. Horizontal means (circle correct response)\n",
    " 1. $z_1 > z_2$\n",
    " 2. $z_1 = z_2$\n",
    " 3. $z_1 < z_2$\n",
    "3. Constant diameter pipe means (circle correct response) (circle correct response)\n",
    " 1. $V_1 > V_2$\n",
    " 2. $V_1 = V_2$\n",
    " 3. $V_1 < V_2$\n",
    "4. The energy equation for this pipeline is <br><br> $$\\frac{p_1}{\\rho g} + \\frac{V_1^2}{2g} + z_1 = \\frac{p_2}{\\rho g} + \\frac{V_2^2}{2g} + z_2 + f\\frac{L}{D}\\frac{V^2}{2g}$$<br><br>\n",
    " 1. Cancel the terms that are identical because the pipeline is horizontal.<br>\n",
    " 2. Cancel the terms that are identical because the pipeline is constant diameter.<br>\n",
    " 3. Compute the relative roughness $\\frac{k_s}{D}=\\text{______}$<br>\n",
    "5. Highlight the appropriate relative roughness curve on the Moody (blue) chart below\n",
    "\n",
    "![](moodychart.png)"
   ]
  },
  {
   "cell_type": "markdown",
   "metadata": {},
   "source": [
    "---"
   ]
  },
  {
   "cell_type": "markdown",
   "metadata": {},
   "source": [
    "### Problem 1 - Part 2.\n",
    "\n",
    "Using the results above; \n",
    "\n",
    "1. For Reynolds number larger than $10^5$ what is the value of the friction factor $f$ on the Moody Chart ?\n",
    "2. Compute the numerical value of change in pressure head, in meters\n",
    "3. What is the velocity in the pipe for the given change in pressure head using the initial friction factor?\n",
    "4. What is the computed Reynolds number for this velocity?\n",
    "5. Plot the intersection of the computed Reynolds number and the relative roughness on the Moody chart.\n",
    "6. Is the initial guess of friction factor reasonable based on the plot?\n",
    "7. Iterate (as needed) and compute the discharge in the pipe in liters per second\n"
   ]
  },
  {
   "cell_type": "markdown",
   "metadata": {},
   "source": [
    "---"
   ]
  }
 ],
 "metadata": {
  "kernelspec": {
   "display_name": "Python 3",
   "language": "python",
   "name": "python3"
  },
  "language_info": {
   "codemirror_mode": {
    "name": "ipython",
    "version": 3
   },
   "file_extension": ".py",
   "mimetype": "text/x-python",
   "name": "python",
   "nbconvert_exporter": "python",
   "pygments_lexer": "ipython3",
   "version": "3.8.10"
  }
 },
 "nbformat": 4,
 "nbformat_minor": 4
}
