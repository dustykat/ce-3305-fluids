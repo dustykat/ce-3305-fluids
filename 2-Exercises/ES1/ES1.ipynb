{
 "cells": [
  {
   "cell_type": "markdown",
   "metadata": {},
   "source": [
    "**Download** (right-click, save target as ...) this page as a Jupyterlab notebook from: [ES-1](http://54.243.252.9/ce-3305-webroot/2-Exercises/ES1/ES1.ipynb)\n",
    "\n",
    "___"
   ]
  },
  {
   "cell_type": "markdown",
   "metadata": {},
   "source": [
    "# <font color=darkblue>CE 3305 Engineering Fluid Mechanics <br> Summer 2022 Exercise Set 1</font>\n",
    "\n",
    "**LAST NAME, FIRST NAME**\n",
    "\n",
    "**R00000000**\n",
    "\n",
    "___\n",
    "\n",
    "### Purpose : \n",
    "Apply the ideal gas law under isothermal conditions. Perform analysis in absolute and gage pressures.\n",
    "### Assessment Criteria : \n",
    "Completion, results plausible, format correct, calculations (Jupyter Notebook) are shown.  \n",
    "\n",
    "___"
   ]
  },
  {
   "cell_type": "markdown",
   "metadata": {},
   "source": [
    "### Problem 1:\n",
    "Natural gas is stored in a spherical tank at a temperature of 10oC.\n",
    "At a given initial time, the pressure in the tank is 100 kPa–gage, and the atmospheric\n",
    "pressure is 100 kPa–absolute. Some time later, after more gas has been compressed\n",
    "into the tank, the pressure in the tank is 200 kPa–gage, and the temperature is still\n",
    "10$^o$C. What is the mass ratio of gas in the tank when p= 200 kPa–gage, to when the\n",
    "pressure was 100 kPa–gage?\n",
    "\n",
    "> Use a Jupyter Notebook to create a script to handle the computations and show the results of the script. \n",
    "> Upload your completed Notebook as a PDF to Blackboard.  In ENGR-1330 you were taught how to export a notebook as `HTML` then use the on-line [https://html2pdf.com/](https://html2pdf.com/) converter"
   ]
  },
  {
   "cell_type": "code",
   "execution_count": 2,
   "metadata": {},
   "outputs": [],
   "source": [
    "# sketch here"
   ]
  },
  {
   "cell_type": "code",
   "execution_count": 3,
   "metadata": {},
   "outputs": [],
   "source": [
    "# list known quantities"
   ]
  },
  {
   "cell_type": "code",
   "execution_count": 4,
   "metadata": {},
   "outputs": [],
   "source": [
    "# list unknown quantities"
   ]
  },
  {
   "cell_type": "code",
   "execution_count": 5,
   "metadata": {},
   "outputs": [],
   "source": [
    "# governing principles"
   ]
  },
  {
   "cell_type": "code",
   "execution_count": 6,
   "metadata": {},
   "outputs": [],
   "source": [
    "# solution (step-by-step)"
   ]
  },
  {
   "cell_type": "code",
   "execution_count": 7,
   "metadata": {},
   "outputs": [],
   "source": [
    "# discussion"
   ]
  },
  {
   "cell_type": "markdown",
   "metadata": {},
   "source": [
    "---"
   ]
  },
  {
   "cell_type": "markdown",
   "metadata": {},
   "source": [
    "---\n",
    "\n",
    "### Problem 2:\n",
    "A design team is developing a $CO_2$ cartridge for a rubber raft as part of [ETOPS](https://en.wikipedia.org/wiki/ETOPS) compliance.  The cartridge will allow a flight crew to rapidly inflate the raft to escape a downed and sinking aircraft. The raft is shown in Figure 2.  The raft can be conceptualized as two parallel long tubes, and four parallel short tubes. The desired inflation pressure is 3 psig.  \n",
    "\n",
    "<figure align=\"center\">\n",
    "<img src=\"./raft.png\" width=\"400\" > \n",
    "<!--<img src=\"http://54.243.252.9/ce-3305-webroot-su22/2-Exercises/ES5/raft.png\" width=\"200\" >--> \n",
    "<figcaption>Figure 2. Aircrew escape raft</figcaption>\n",
    "</figure>\n",
    "\n",
    "Estimate the raft volume when inflated and the mass of $CO_2$ required, in grams, in the cartridge."
   ]
  },
  {
   "cell_type": "code",
   "execution_count": 6,
   "metadata": {},
   "outputs": [],
   "source": [
    "# sketch here"
   ]
  },
  {
   "cell_type": "code",
   "execution_count": 7,
   "metadata": {},
   "outputs": [],
   "source": [
    "# list known quantities"
   ]
  },
  {
   "cell_type": "code",
   "execution_count": 8,
   "metadata": {},
   "outputs": [],
   "source": [
    "# list unknown quantities"
   ]
  },
  {
   "cell_type": "code",
   "execution_count": 9,
   "metadata": {},
   "outputs": [],
   "source": [
    "# governing principles"
   ]
  },
  {
   "cell_type": "code",
   "execution_count": 10,
   "metadata": {},
   "outputs": [],
   "source": [
    "# solution (step-by-step)"
   ]
  },
  {
   "cell_type": "code",
   "execution_count": 11,
   "metadata": {},
   "outputs": [],
   "source": [
    "# discussion"
   ]
  },
  {
   "cell_type": "markdown",
   "metadata": {},
   "source": [
    "---\n",
    "\n",
    "<a href=\"http://54.243.252.9/ce-3305-webroot/2-Exercises/ES1/ES1-WS.html\"> <img src=\"http://54.243.252.9/ce-3305-webroot/2-Exercises/ES1/easy-button.png\" alt=\"EZ Button Link to ES-1 sample solution\" style=\"width:42px;height:42px;align:left\"> </a> \n"
   ]
  },
  {
   "cell_type": "code",
   "execution_count": null,
   "metadata": {},
   "outputs": [],
   "source": []
  }
 ],
 "metadata": {
  "kernelspec": {
   "display_name": "Python 3",
   "language": "python",
   "name": "python3"
  },
  "language_info": {
   "codemirror_mode": {
    "name": "ipython",
    "version": 3
   },
   "file_extension": ".py",
   "mimetype": "text/x-python",
   "name": "python",
   "nbconvert_exporter": "python",
   "pygments_lexer": "ipython3",
   "version": "3.8.10"
  }
 },
 "nbformat": 4,
 "nbformat_minor": 4
}
