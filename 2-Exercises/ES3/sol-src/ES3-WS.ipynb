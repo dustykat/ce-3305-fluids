{
 "cells": [
  {
   "cell_type": "markdown",
   "metadata": {},
   "source": [
    "**Download** (right-click, save target as ...) this page as a Jupyterlab notebook from: [ES-4](http://54.243.252.9/ce-3305-webroot/2-Exercises/ES4/ES4.ipynb)\n",
    "\n",
    "___"
   ]
  },
  {
   "cell_type": "markdown",
   "metadata": {},
   "source": [
    "# <font color=darkblue>CE 3305 Engineering Fluid Mechanics <br> Summer 2022 Exercise Set 4</font>\n",
    "\n",
    "**LAST NAME, FIRST NAME**\n",
    "\n",
    "**R00000000**\n",
    "\n",
    "___\n",
    "\n",
    "### Purpose : \n",
    "Apply concept of density and hydrostatic pressure in different fluids and determine pressure variation in layered fluids of different densities. Apply principles of manometry to determine density of unknown fluid. \n",
    "### Assessment Criteria : \n",
    "Completion, plausible solutions, use of Jupyter Notebook as a calculator/documentation method\n",
    "\n",
    "___"
   ]
  },
  {
   "cell_type": "markdown",
   "metadata": {},
   "source": [
    "### Problem 1.\n",
    "\n",
    "Imagine two tanks (both open to air). Tank A is filled to a depth $h$ with water. Tank B is filled to a depth $h$ with oil.\n",
    "- Which tank has the largest pressure?\n",
    "- Why?\n",
    "- Where in the tank does the largest pressure occur?"
   ]
  },
  {
   "cell_type": "markdown",
   "metadata": {},
   "source": [
    "**\\# sketch here**\n",
    "\n",
    "![](sketchp1.png)"
   ]
  },
  {
   "cell_type": "markdown",
   "metadata": {},
   "source": [
    "**\\# list known quantities**\n",
    "\n",
    "- depth of liquid ($h$)\n",
    "- type of liquid (water, oil)\n",
    "- implies that specific weight of the fluid(s) are known (Look up on the mighty internet!)"
   ]
  },
  {
   "cell_type": "markdown",
   "metadata": {},
   "source": [
    "**\\# list unknown quantities**\n",
    "\n",
    "![](unknownsp1.png)"
   ]
  },
  {
   "cell_type": "markdown",
   "metadata": {},
   "source": [
    "**\\# governing principles**\n",
    "\n",
    "![](goveqnp1.png)\n",
    "\n",
    "AKA the hydrostatic equation"
   ]
  },
  {
   "cell_type": "markdown",
   "metadata": {},
   "source": [
    "**\\# solution (step-by-step)**\n",
    "\n",
    "![](solutionp1.png)"
   ]
  },
  {
   "cell_type": "markdown",
   "metadata": {},
   "source": [
    "**\\# discussion**\n",
    "\n",
    "Direct application of hydrostatic equation for two different liquids.  "
   ]
  },
  {
   "cell_type": "markdown",
   "metadata": {},
   "source": [
    "---"
   ]
  },
  {
   "cell_type": "markdown",
   "metadata": {},
   "source": [
    "### Problem 2.\n",
    "Figure 2 is a schematic of a **closed** tank with Bourdon-tube gages tapped into it.\n",
    "\n",
    "![](layers-o-fluid.png)\n",
    "\n",
    "\n",
    "\n",
    "1. What is the specific gravity of the oil?\n",
    "2. What is the pressure reading on gage C?"
   ]
  },
  {
   "cell_type": "markdown",
   "metadata": {},
   "source": [
    "**\\# sketch here**\n",
    "\n",
    "![](sketchp2.png)"
   ]
  },
  {
   "cell_type": "markdown",
   "metadata": {},
   "source": [
    "**\\# list known quantities**\n",
    "\n",
    "![](knownsp2.png)"
   ]
  },
  {
   "cell_type": "markdown",
   "metadata": {},
   "source": [
    "**\\# list unknown quantities**\n",
    "\n",
    "![](unknownsp2.png)"
   ]
  },
  {
   "cell_type": "markdown",
   "metadata": {},
   "source": [
    "**\\# governing principles**\n",
    "\n",
    "- Hydrostatic equation ($p_2=p_1+\\rho g h$)\n",
    "- Pascal's law"
   ]
  },
  {
   "cell_type": "markdown",
   "metadata": {},
   "source": [
    "**\\# solution (step-by-step)**\n",
    "\n",
    "![](solutionp2-1.png)\n",
    "\n",
    "![](solutionp2-2.png)\n",
    "\n",
    "![](solutionp2-3.png)"
   ]
  },
  {
   "cell_type": "markdown",
   "metadata": {},
   "source": [
    "**\\# discussion**\n",
    "\n",
    "Straighforward application of hydrostatic equation and Pascal's law."
   ]
  },
  {
   "cell_type": "markdown",
   "metadata": {},
   "source": [
    "---"
   ]
  },
  {
   "cell_type": "markdown",
   "metadata": {},
   "source": [
    "### Problem 3.\n",
    "\n",
    "A device for measuring the specific weight of a liquid consists of a (U-,You-, or Ewe-) Tube manometer as depicted in Figure 3. \n",
    "The manometer tube has an internal diameter of $0.5~cm$ and originally has water in it. \n",
    "Exactly $2~cm^3$ of unknown liquid is poured into one leg of the manometer, and a displacement of $5~cm$ is measured between the free surfaces as shown. \n",
    "\n",
    "![](you-tube-manometer.png)\n",
    "\n",
    "\n",
    "What is the specific weight of the unknown liquid?"
   ]
  },
  {
   "cell_type": "markdown",
   "metadata": {},
   "source": [
    "**\\# sketch here**\n",
    "\n",
    "![](sketchp3.png)"
   ]
  },
  {
   "cell_type": "markdown",
   "metadata": {},
   "source": [
    "**\\# list known quantities**\n"
   ]
  },
  {
   "cell_type": "markdown",
   "metadata": {},
   "source": [
    "**\\# list unknown quantities**\n",
    "\n",
    "![](unknownsp3.png)"
   ]
  },
  {
   "cell_type": "markdown",
   "metadata": {},
   "source": [
    "**\\# governing principles**"
   ]
  },
  {
   "cell_type": "markdown",
   "metadata": {},
   "source": [
    "**\\# solution (step-by-step)**\n",
    "\n",
    "![](solutionp3.png)\n",
    " \n",
    " A script to generalize for other cases"
   ]
  },
  {
   "cell_type": "code",
   "execution_count": 4,
   "metadata": {},
   "outputs": [
    {
     "name": "stdout",
     "output_type": "stream",
     "text": [
      "Length =  10.186  centimeters\n",
      "sp. weight (unknown liquid) =  4994.567  N/m^3 \n"
     ]
    }
   ],
   "source": [
    "import math\n",
    "diameter = 0.5 #cm\n",
    "length = 2*4/(math.pi*diameter**2)\n",
    "print(\"Length = \",round(length,3),\" centimeters\")\n",
    "gamma_l = (5.186*0.01*9810)/(10.186*0.01)\n",
    "print(\"sp. weight (unknown liquid) = \",round(gamma_l,3),\" N/m^3 \")"
   ]
  },
  {
   "cell_type": "markdown",
   "metadata": {},
   "source": [
    "**\\# discussion**\n",
    "\n",
    "Direct application of manometer equation (Pascal's law)\n",
    "                                          "
   ]
  },
  {
   "cell_type": "code",
   "execution_count": null,
   "metadata": {},
   "outputs": [],
   "source": []
  }
 ],
 "metadata": {
  "kernelspec": {
   "display_name": "Python 3",
   "language": "python",
   "name": "python3"
  },
  "language_info": {
   "codemirror_mode": {
    "name": "ipython",
    "version": 3
   },
   "file_extension": ".py",
   "mimetype": "text/x-python",
   "name": "python",
   "nbconvert_exporter": "python",
   "pygments_lexer": "ipython3",
   "version": "3.8.10"
  }
 },
 "nbformat": 4,
 "nbformat_minor": 4
}
