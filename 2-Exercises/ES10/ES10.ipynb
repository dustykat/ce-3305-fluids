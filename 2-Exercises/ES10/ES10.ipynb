{
 "cells": [
  {
   "cell_type": "markdown",
   "metadata": {},
   "source": [
    "# <font color=darkblue>CE 3305 Engineering Fluid Mechanics <br> Spring 2024 Exercise Set 10</font>\n",
    "\n",
    "**LAST NAME, FIRST NAME**\n",
    "\n",
    "**R00000000**\n",
    "\n",
    "___\n",
    "\n",
    "### Purpose : \n",
    "Application of mass and energy balances\n",
    "### Assessment Criteria : \n",
    "Completion, plausible solutions, use JupyterLab as a calculator.\n",
    "___"
   ]
  },
  {
   "cell_type": "markdown",
   "metadata": {},
   "source": [
    "### Problem 1.\n",
    "\n",
    "![](balloon.png)\n",
    "\n",
    "The figure is a schematic of a balloon rocket held in place by a force $F$.  \n",
    "The nozzle is a 0.8 $cm$ diameter tube, and an air jet exits the nozzle with a speed of 45 $m/s$ and a density of 1.2 $kg/m^3$.  \n",
    "\n",
    "Determine:\n",
    "1. The force $F$ needed to hold the balloon stationary.\n",
    "\n",
    "---"
   ]
  },
  {
   "cell_type": "code",
   "execution_count": 1,
   "metadata": {},
   "outputs": [],
   "source": [
    "# sketch here"
   ]
  },
  {
   "cell_type": "code",
   "execution_count": 2,
   "metadata": {},
   "outputs": [],
   "source": [
    "# list known quantities"
   ]
  },
  {
   "cell_type": "code",
   "execution_count": 3,
   "metadata": {},
   "outputs": [],
   "source": [
    "# list unknown quantities"
   ]
  },
  {
   "cell_type": "code",
   "execution_count": 4,
   "metadata": {},
   "outputs": [],
   "source": [
    "# governing principles"
   ]
  },
  {
   "cell_type": "code",
   "execution_count": 5,
   "metadata": {},
   "outputs": [],
   "source": [
    "# solution (step-by-step)"
   ]
  },
  {
   "cell_type": "code",
   "execution_count": 6,
   "metadata": {},
   "outputs": [],
   "source": [
    "# discussion"
   ]
  },
  {
   "cell_type": "markdown",
   "metadata": {},
   "source": [
    "---\n",
    "\n",
    "### Problem 2.\n",
    "\n",
    "Below is a schematic of an elbow fitting in a pipe system.  \n",
    "\n",
    "![](elbow.png)\n",
    "\n",
    "The gage pressure throughout the horizontal 90$^o$ bend (the elbow lies in the horizontal plane -- the figure is a plan view of the bend) is 300 $kPa$. The pipe diameter is 1 $m$ and the water (at 10 $^oC$) flow rate is 10 $m^3/s$\n",
    "\n",
    "Determine:\n",
    "1. The $x-$component of force must be applied to the bend to hold in in place against the water action.\n",
    "\n",
    "\n",
    "---"
   ]
  },
  {
   "cell_type": "code",
   "execution_count": 26,
   "metadata": {},
   "outputs": [],
   "source": [
    "# sketch here"
   ]
  },
  {
   "cell_type": "code",
   "execution_count": 27,
   "metadata": {},
   "outputs": [],
   "source": [
    "# list known quantities"
   ]
  },
  {
   "cell_type": "code",
   "execution_count": 28,
   "metadata": {},
   "outputs": [],
   "source": [
    "# list unknown quantities"
   ]
  },
  {
   "cell_type": "code",
   "execution_count": 29,
   "metadata": {},
   "outputs": [],
   "source": [
    "# governing principles"
   ]
  },
  {
   "cell_type": "code",
   "execution_count": 30,
   "metadata": {},
   "outputs": [],
   "source": [
    "# solution (step-by-step)"
   ]
  },
  {
   "cell_type": "code",
   "execution_count": 31,
   "metadata": {},
   "outputs": [],
   "source": [
    "# discussion"
   ]
  },
  {
   "cell_type": "markdown",
   "metadata": {},
   "source": [
    "---\n",
    "\n",
    "### Problem 3.\n",
    "\n",
    "Figure 2 is a schematic of a pumped-storage system. How much power must be supplied to the water by the pump (in kilowatts) to pump water at $0.085~m^3/s$ at 20$^o$C from the lower to the upper reservoir?\n",
    "\n",
    "![](PumpUphill.png)\n",
    "\n",
    "The head loss in the pipes is $h_l = 0.018 \\frac{L}{D} \\frac{V^2}{2g}$ , where $L$ is the length of the pipe in meters, and $D$ is the diameter of the pipe in meters.\n",
    "\n",
    "Sketch the HGL and EGL for the system.\n",
    "\n",
    "---\n"
   ]
  },
  {
   "cell_type": "code",
   "execution_count": 32,
   "metadata": {},
   "outputs": [],
   "source": [
    "# sketch here"
   ]
  },
  {
   "cell_type": "code",
   "execution_count": 33,
   "metadata": {},
   "outputs": [],
   "source": [
    "# list known quantities"
   ]
  },
  {
   "cell_type": "code",
   "execution_count": 34,
   "metadata": {},
   "outputs": [],
   "source": [
    "# list unknown quantities"
   ]
  },
  {
   "cell_type": "code",
   "execution_count": 35,
   "metadata": {},
   "outputs": [],
   "source": [
    "# governing principles"
   ]
  },
  {
   "cell_type": "code",
   "execution_count": 36,
   "metadata": {},
   "outputs": [],
   "source": [
    "# solution (step-by-step)"
   ]
  },
  {
   "cell_type": "code",
   "execution_count": 37,
   "metadata": {},
   "outputs": [],
   "source": [
    "# discussion"
   ]
  },
  {
   "cell_type": "markdown",
   "metadata": {},
   "source": [
    "--- \n",
    "\n",
    "### Problem 4.\n",
    "\n",
    "Figure 1 is a schematic of a pipe with a series of holes used to sparge (introduce gas bubbles) gas into a larger volume. \n",
    "\n",
    "![](sparger10.png)\n",
    "\n",
    "The volumetric flow rate through each hole depends on the pressure difference across the hole and is given by\n",
    "$$Q = 0.67A_0(\\frac{2 \\Delta p}{\\rho})^{1/2} $$\n",
    "where $A_0$ is the area of the hole, $\\Delta p$ is the pressure difference across the hole, and $\\rho$ is the density of gas in the pipe. \n",
    "If the pipe is sufficiently large, the pressure will be uniform along the pipe. \n",
    "\n",
    "\n",
    "A distribution pipe for air at 20$^o~C$ is 0.5 meters in diameter and 10 m long. \n",
    "The gage pressure in the pipe is 100 Pa. The pressure outside the pipe is atmospheric at 1 bar. \n",
    "The hole diameter is 2.5 cm, and there are 50 holes per meter length of pipe. \n",
    "The pressure is constant in the pipe. \n",
    "\n",
    "Determine\n",
    "1. The velocity of air entering the pipe"
   ]
  },
  {
   "cell_type": "code",
   "execution_count": 38,
   "metadata": {},
   "outputs": [],
   "source": [
    "# sketch here"
   ]
  },
  {
   "cell_type": "code",
   "execution_count": 39,
   "metadata": {},
   "outputs": [],
   "source": [
    "# list known quantities"
   ]
  },
  {
   "cell_type": "code",
   "execution_count": 40,
   "metadata": {},
   "outputs": [],
   "source": [
    "# list unknown quantities"
   ]
  },
  {
   "cell_type": "code",
   "execution_count": 41,
   "metadata": {},
   "outputs": [],
   "source": [
    "# governing principles"
   ]
  },
  {
   "cell_type": "code",
   "execution_count": 42,
   "metadata": {},
   "outputs": [],
   "source": [
    "# solution (step-by-step)"
   ]
  },
  {
   "cell_type": "code",
   "execution_count": 43,
   "metadata": {},
   "outputs": [],
   "source": [
    "# discussion"
   ]
  },
  {
   "cell_type": "markdown",
   "metadata": {},
   "source": [
    "---\n",
    "\n",
    "<hr>\n",
    "\n",
    "<a href=\"http://54.243.252.9/ce-3305-webroot/2-Exercises/ES10/ES10-WS.html\"> <img src=\"http://54.243.252.9/ce-3305-webroot/2-Exercises/ES10/easy-button.png\" alt=\"EZ Button Link to ES-7 sample solution\" style=\"width:42px;height:42px;align:left\"> </a> "
   ]
  },
  {
   "cell_type": "code",
   "execution_count": null,
   "metadata": {},
   "outputs": [],
   "source": []
  }
 ],
 "metadata": {
  "kernelspec": {
   "display_name": "Python 3",
   "language": "python",
   "name": "python3"
  },
  "language_info": {
   "codemirror_mode": {
    "name": "ipython",
    "version": 3
   },
   "file_extension": ".py",
   "mimetype": "text/x-python",
   "name": "python",
   "nbconvert_exporter": "python",
   "pygments_lexer": "ipython3",
   "version": "3.8.10"
  }
 },
 "nbformat": 4,
 "nbformat_minor": 4
}
