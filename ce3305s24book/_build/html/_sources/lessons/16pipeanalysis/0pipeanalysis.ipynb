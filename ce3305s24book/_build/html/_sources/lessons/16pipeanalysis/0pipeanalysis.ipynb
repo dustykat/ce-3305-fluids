{
 "cells": [
  {
   "cell_type": "markdown",
   "metadata": {},
   "source": [
    "# Closed Conduit Head Loss Models\n",
    "\n",
    "## Outline\n",
    "- Loss Models\n",
    "- Moody Chart\n",
    "- Jain Equations\n",
    "- Fitting Losses"
   ]
  },
  {
   "cell_type": "markdown",
   "metadata": {},
   "source": [
    "### Loss Models\n",
    "\n",
    "ipsum lorem\n",
    "\n",
    "#### Darcy-Weisbach Model\n",
    "\n",
    "ipsum lorem\n",
    "\n",
    "#### Chezy-Manning Model\n",
    "\n",
    "#### Hazen-Williams Model\n",
    "\n",
    "ipsum lorem\n"
   ]
  },
  {
   "cell_type": "markdown",
   "metadata": {},
   "source": [
    "### Moody Chart\n",
    "\n",
    "ipsum lorem\n",
    "\n",
    "#### Relative Roughness\n",
    "\n",
    "ipsum lorem\n",
    "\n",
    "#### Subtopic\n",
    "\n",
    "ipsum lorem\n"
   ]
  },
  {
   "cell_type": "markdown",
   "metadata": {},
   "source": [
    "### Topic 3\n",
    "\n",
    "ipsum lorem\n",
    "\n",
    "#### Subtopic \n",
    "\n",
    "ipsum lorem\n",
    "\n",
    "#### Subtopic\n",
    "\n",
    "ipsum lorem\n"
   ]
  },
  {
   "cell_type": "markdown",
   "metadata": {},
   "source": [
    "## Readings\n",
    "1. Hibbeler, R.C, Fluid Mechanics, 2ed. Prentice Hall, 2018. ISBN: 9780134655413 pp. 3-14\n",
    "\n",
    "2. DF Elger, BC Williams, Crowe, CT and JA Roberson, *Engineering Fluid Mechanics 10th edition*, John Wiley & Sons, Inc., 2013.  (placeholder file to get links working). [http://54.243.252.9/ce-3305-webroot/3-Readings/EFM-1.pdf](http://54.243.252.9/ce-3305-webroot/3-Readings/EFM-1.pdf)\n",
    "\n",
    "3. Cleveland, T. G. (2014) *Fluid Mechanics Notes to Accompany CE 3305 at Jade-Holshule (TTU Study Abroad 2015-2019)*, Department of Civil, Environmental, and Construction Engineering, Whitacre College of Engineering. [http://54.243.252.9/ce-3305-webroot/3-Readings/ce3305-lecture13.pdf](http://54.243.252.9/ce-3305-webroot/3-Readings/ce3305-lecture-13.pdf)"
   ]
  },
  {
   "cell_type": "markdown",
   "metadata": {},
   "source": [
    "## Exercises\n"
   ]
  }
 ],
 "metadata": {
  "kernelspec": {
   "display_name": "Python 3",
   "language": "python",
   "name": "python3"
  },
  "language_info": {
   "codemirror_mode": {
    "name": "ipython",
    "version": 3
   },
   "file_extension": ".py",
   "mimetype": "text/x-python",
   "name": "python",
   "nbconvert_exporter": "python",
   "pygments_lexer": "ipython3",
   "version": "3.8.10"
  }
 },
 "nbformat": 4,
 "nbformat_minor": 4
}
