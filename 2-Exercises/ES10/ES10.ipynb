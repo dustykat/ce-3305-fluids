{
 "cells": [
  {
   "cell_type": "markdown",
   "metadata": {},
   "source": [
    "**Download** (right-click, save target as ...) this page as a Jupyterlab notebook from: [ES-10](http://54.243.252.9/ce-3305-webroot/2-Exercises/ES10/ES10.ipynb)\n",
    "\n",
    "___"
   ]
  },
  {
   "cell_type": "markdown",
   "metadata": {},
   "source": [
    "# <font color=darkblue>CE 3305 Engineering Fluid Mechanics <br> Summer 2022 Exercise Set 10</font>\n",
    "\n",
    "**LAST NAME, FIRST NAME**\n",
    "\n",
    "**R00000000**\n",
    "\n",
    "___\n",
    "\n",
    "### Purpose : \n",
    "Application of mass and energy balances\n",
    "### Assessment Criteria : \n",
    "Completion, plausible solutions, use JupyterLab as a calculator.\n",
    "___"
   ]
  },
  {
   "cell_type": "markdown",
   "metadata": {},
   "source": [
    "### Problem 1.\n",
    "\n",
    "Figure 1 is a schematic of a pipe with a series of holes used to sparge (introduce gas bubbles) gas into a larger volume. \n",
    "\n",
    "<figure align=\"center\">\n",
    "<!--<img src=\"./Fountain.png\" width=\"300\" >-->\n",
    "<img src=\"http://54.243.252.9/ce-3305-webroot/2-Exercises/ES10/sparger10.png\" width=\"300\" >\n",
    "<figcaption>Figure 2: Gas sparger schematic </figcaption>\n",
    "</figure>\n",
    "\n",
    "The volumetric flow rate through each hole depends on the pressure difference across the hole and is given by\n",
    "$$Q = 0.67A_0(\\frac{2 \\Delta p}{\\rho})^{1/2} $$\n",
    "where $A_0$ is the area of the hole, $\\Delta p$ is the pressure difference across the hole, and $\\rho$ is the density of gas in the pipe. \n",
    "If the pipe is sufficiently large, the pressure will be uniform along the pipe. \n",
    "\n",
    "\n",
    "A distribution pipe for air at 20$^o~C$ is 0.5 meters in diameter and 10 m long. \n",
    "The gage pressure in the pipe is 100 Pa. The pressure outside the pipe is atmospheric at 1 bar. \n",
    "The hole diameter is 2.5 cm, and there are 50 holes per meter length of pipe. \n",
    "The pressure is constant in the pipe. \n",
    "\n",
    "What is the velocity of air entering the pipe?"
   ]
  },
  {
   "cell_type": "code",
   "execution_count": null,
   "metadata": {},
   "outputs": [],
   "source": [
    "# sketch here"
   ]
  },
  {
   "cell_type": "code",
   "execution_count": null,
   "metadata": {},
   "outputs": [],
   "source": [
    "# list known quantities"
   ]
  },
  {
   "cell_type": "code",
   "execution_count": null,
   "metadata": {},
   "outputs": [],
   "source": [
    "# list unknown quantities"
   ]
  },
  {
   "cell_type": "code",
   "execution_count": null,
   "metadata": {},
   "outputs": [],
   "source": [
    "# governing principles"
   ]
  },
  {
   "cell_type": "code",
   "execution_count": null,
   "metadata": {},
   "outputs": [],
   "source": [
    "# solution (step-by-step)"
   ]
  },
  {
   "cell_type": "code",
   "execution_count": null,
   "metadata": {},
   "outputs": [],
   "source": [
    "# discussion"
   ]
  },
  {
   "cell_type": "markdown",
   "metadata": {},
   "source": [
    "---"
   ]
  },
  {
   "cell_type": "markdown",
   "metadata": {},
   "source": [
    "### Problem 2.\n",
    "\n",
    "Figure 2 is a tank with a hole in the side. Develop and apply a model that predicts the time for the water surface in the tank to drop from h = 3m\n",
    "to h = 0.5m.\n",
    "\n",
    "<figure align=\"center\">\n",
    "<!--<img src=\"./Fountain.png\" width=\"300\" >-->\n",
    "<img src=\"http://54.243.252.9/ce-3305-webroot/2-Exercises/ES10/holytank.png\" width=\"300\" >\n",
    "<figcaption>Figure 2: Holy tank</figcaption>\n",
    "</figure>"
   ]
  },
  {
   "cell_type": "code",
   "execution_count": null,
   "metadata": {},
   "outputs": [],
   "source": [
    "# sketch here"
   ]
  },
  {
   "cell_type": "code",
   "execution_count": null,
   "metadata": {},
   "outputs": [],
   "source": [
    "# list known quantities"
   ]
  },
  {
   "cell_type": "code",
   "execution_count": null,
   "metadata": {},
   "outputs": [],
   "source": [
    "# list unknown quantities"
   ]
  },
  {
   "cell_type": "code",
   "execution_count": null,
   "metadata": {},
   "outputs": [],
   "source": [
    "# governing principles"
   ]
  },
  {
   "cell_type": "code",
   "execution_count": null,
   "metadata": {},
   "outputs": [],
   "source": [
    "# solution (step-by-step)"
   ]
  },
  {
   "cell_type": "code",
   "execution_count": null,
   "metadata": {},
   "outputs": [],
   "source": [
    "# discussion"
   ]
  },
  {
   "cell_type": "markdown",
   "metadata": {},
   "source": [
    "---"
   ]
  }
 ],
 "metadata": {
  "kernelspec": {
   "display_name": "Python 3",
   "language": "python",
   "name": "python3"
  },
  "language_info": {
   "codemirror_mode": {
    "name": "ipython",
    "version": 3
   },
   "file_extension": ".py",
   "mimetype": "text/x-python",
   "name": "python",
   "nbconvert_exporter": "python",
   "pygments_lexer": "ipython3",
   "version": "3.8.10"
  }
 },
 "nbformat": 4,
 "nbformat_minor": 4
}
