{
 "cells": [
  {
   "cell_type": "markdown",
   "metadata": {},
   "source": [
    "# Closed Conduit (Pipe) Flow\n",
    "\n",
    "## Lesson Outline\n",
    "- Analyze and design pipe systems with various fittings and connections\n",
    "- topic"
   ]
  },
  {
   "cell_type": "markdown",
   "metadata": {},
   "source": [
    "### Background\n",
    "\n",
    "\n",
    "```{note}\n",
    "Energy (head) losses in conduits (pipes) arise from frictional losses at the pipe wall (major loss), and additional losses from fittings (minor losses).  \n",
    "Major and minor refer to the distances over which the losses occur, and not the magnitude.\n",
    "```\n",
    "\n",
    "Recall the modified bernoulli equation for a pipeline system\n",
    "\n",
    "$$\\frac{p_1}{\\rho g}+\\frac{V_1^2}{2g}+z_1+h_p = \\frac{p_2}{\\rho g}+\\frac{V_2^2}{2g}+z_2+h_T +h_{loss}$$\n",
    "\n",
    "Examine the $h_{loss}$ term:\n",
    "\n",
    "$$h_{loss} = f\\frac{L}{D}\\frac{V^2}{2g} + \\sum_{i=1}^{n_{fit}} K_i \\frac{V_i^2}{2g} $$\n",
    "\n",
    "The first part is the pipeline (major) loss (using the Darcy-Weisbach head loss model), the second part is the fitting losses.\n",
    "\n",
    "The kinds of fittings include:\n",
    "\n",
    "- Entrances and exits as depicted below\n",
    "\n",
    "```{figure} entrance-effects.png\n",
    "---\n",
    "width: 400px\n",
    "name: entrance-effects\n",
    "---\n",
    "Entrances and exits\n",
    "```\n",
    "\n",
    "- Bends, transitions, and valves\n",
    "\n",
    "```{figure} fittings.png\n",
    "---\n",
    "width: 400px\n",
    "name: fittings\n",
    "---\n",
    "Classes of fittings\n",
    "```\n",
    "\n",
    "The loss coefficients are tabulated and nearly always require some kind of table look-up.  Here are a few examples:\n",
    "\n",
    "- [K-values neutrium.net](https://neutrium.net/fluid-flow/pressure-loss-from-fittings-excess-head-k-method/)\n",
    "- [K-values metropumps.com](http://www.metropumps.com/ResourcesFrictionLossData.pdf)\n",
    "- [K-values powderprocess.net](https://powderprocess.net/Tools_html/Piping/Pressure_Drop_Key_Piping_Elements_K_Coefficient.html)"
   ]
  },
  {
   "cell_type": "markdown",
   "metadata": {},
   "source": [
    "## Example 1: \n",
    "\n",
    "(Pg 532 Hibbler) The 6-inch diameter galvanized iron pipe depicted below transports water from a reservoir at a temperature of 100$^o~F$.  Determine the head loss and pressure drop in 200 feet of pipe for a discharge of $Q=400~gpm$\n",
    "\n",
    "```{figure} IMG-6180.png\n",
    "---\n",
    "width: 400px\n",
    "name: IMG-6180\n",
    "---\n",
    "Sketch of pipeline situation\n",
    "```\n",
    "\n",
    "### Sketch\n",
    "\n",
    "Above \n",
    "\n",
    "### Known\n",
    "\n",
    "$Q=400~gpm$<br>\n",
    "$D=0.5~ft$<br>\n",
    "material = \"galvanized iron pipe\" (use to find roughness height)<br>\n",
    "$L=200~ft$<br>\n",
    "$T=100^o~F$<br>\n",
    "\n",
    "### Unknown\n",
    "\n",
    "$h_f$<br>\n",
    "$\\Delta p$<br>\n",
    "\n",
    "### Governing Equations\n",
    "\n",
    "- Darcy-Wiseass head loss model $h_f=f\\frac{L}{D}\\frac{V^2}{2g}$ \n",
    "- Reynolds' number $Re_d = \\frac{VD}{\\nu}$\n",
    "- Modified bernoulli equation (to find $\\Delta p$)\n",
    "\n",
    "### Analysis (Solution)\n",
    "\n",
    "- Starting with the given temperature find the necessary water properties; easiest to use an on-line resource such as [http://54.243.252.9/toolbox/fluidmechanics/WaterPropertiesUS/WaterPropertiesUS.html](http://54.243.252.9/toolbox/fluidmechanics/WaterPropertiesUS/WaterPropertiesUS.html)\n",
    "\n",
    "The relevant properties are displayed below \n",
    "\n",
    "```{figure} fluid-properties14.png\n",
    "---\n",
    "width: 400px\n",
    "name: fluid-properties14\n",
    "---\n",
    "Fluid Properties On-line Database\n",
    "```\n",
    "\n",
    "Now we can compute the Reynolds number as depicted below; first a prototype function."
   ]
  },
  {
   "cell_type": "code",
   "execution_count": 1,
   "metadata": {},
   "outputs": [],
   "source": [
    "# reynolds number function - execute this cell to prototype the function\n",
    "def reynolds(velocity,diameter,viscosity):\n",
    "    reynolds = velocity*diameter/viscosity\n",
    "    return(reynolds)"
   ]
  },
  {
   "cell_type": "markdown",
   "metadata": {},
   "source": [
    "Then the actual computations"
   ]
  },
  {
   "cell_type": "code",
   "execution_count": 2,
   "metadata": {},
   "outputs": [
    {
     "name": "stdout",
     "output_type": "stream",
     "text": [
      "Reynolds number: 307116.266  flow is turbulent\n"
     ]
    }
   ],
   "source": [
    "# compute the reynolds number\n",
    "gpm = 400\n",
    "diam = 0.5\n",
    "long = 200\n",
    "grav = 32.2\n",
    "# gpm to cfs\n",
    "cfs = gpm*(1/60)*(1/7.48)\n",
    "import math\n",
    "area = 0.25*math.pi*diam**2\n",
    "vel = cfs/area\n",
    "nu = 7.39e-06 # from the database lookup\n",
    "Re = reynolds(vel,diam,nu)\n",
    "if Re > 2300:\n",
    "    print(\"Reynolds number:\",round(Re,3),\" flow is turbulent\")\n",
    "if Re >= 2000 and Re <=2300:\n",
    "    print(\"Reynolds number:\",round(Re,3),\" flow is transitional\")\n",
    "if Re < 2000:\n",
    "    print(\"Reynolds number:\",round(Re,3),\" flow is laminar\")"
   ]
  },
  {
   "cell_type": "markdown",
   "metadata": {},
   "source": [
    "Next we need to find the roughness height from the material describtion, again an on-line tool is helpful [http://54.243.252.9/toolbox/Databases/RoughnessHeight/RoughnessHeight.html](http://54.243.252.9/toolbox/Databases/RoughnessHeight/RoughnessHeight.html)\n",
    "\n",
    "```{figure} roughness14.png\n",
    "---\n",
    "width: 400px\n",
    "name: roughness14\n",
    "---\n",
    "Galvanized Iron Roughness from On-line Database\n",
    "```\n",
    "\n",
    "With the roughness height we can complete the analysis."
   ]
  },
  {
   "cell_type": "code",
   "execution_count": 3,
   "metadata": {},
   "outputs": [
    {
     "name": "stdout",
     "output_type": "stream",
     "text": [
      "Relative roughness 0.000984251968503937\n"
     ]
    }
   ],
   "source": [
    "roughness = 0.15 #mm\n",
    "roughness = roughness/25.4/12 #mm to inches, inches to feet\n",
    "relative_roughness = roughness/diam\n",
    "print(\"Relative roughness\",relative_roughness)"
   ]
  },
  {
   "cell_type": "markdown",
   "metadata": {},
   "source": [
    "Use this value to find a friction factor, easiest to use the Jain equation(s)\n",
    "\n",
    "$$f = \\frac{0.25}{[log_{10}(\\frac{K_s}{3.7D} + \\frac{5.74}{Re^{0.9}})]^2}$$"
   ]
  },
  {
   "cell_type": "code",
   "execution_count": 4,
   "metadata": {},
   "outputs": [
    {
     "name": "stdout",
     "output_type": "stream",
     "text": [
      "Friction factor : 0.0207\n"
     ]
    }
   ],
   "source": [
    "def friction_fact(roughness,diameter,reynolds):\n",
    "    import math\n",
    "    numerator = 0.25\n",
    "    denominator = math.log10((roughness/(3.7*diameter)) + (5.74/reynolds**0.9))\n",
    "    ratio = numerator/denominator**2\n",
    "    return(ratio)\n",
    "\n",
    "ff = friction_fact(roughness,diam,Re)\n",
    "print(\"Friction factor :\",round(ff,4))"
   ]
  },
  {
   "cell_type": "markdown",
   "metadata": {},
   "source": [
    "Now we can compute the head loss"
   ]
  },
  {
   "cell_type": "code",
   "execution_count": 5,
   "metadata": {},
   "outputs": [
    {
     "name": "stdout",
     "output_type": "stream",
     "text": [
      "Head loss : 2.644\n"
     ]
    }
   ],
   "source": [
    "headloss = ff*(long/diam)*((vel**2)/(2*grav))\n",
    "print(\"Head loss :\",round(headloss,3))"
   ]
  },
  {
   "cell_type": "markdown",
   "metadata": {},
   "source": [
    "Now to find the pressure drop, we simply express the head loss as an equivalent pressure (assuming horizontal pipe) using the modified bernoulli equation.\n",
    "\n",
    "Start with:\n",
    "\n",
    "$$\\frac{p_1}{\\rho g}+\\frac{V_1^2}{2g}+z_1+h_p = \\frac{p_2}{\\rho g}+\\frac{V_2^2}{2g}+z_2+h_T +h_{loss}$$\n",
    "\n",
    "No pumps or turbines, horizontal, constant diameter pipe all thats left is\n",
    "\n",
    "$$\\frac{p_1}{\\rho g} = \\frac{p_2}{\\rho g} +h_{loss}$$\n",
    "\n",
    "or\n",
    "\n",
    "$$\\frac{p_1}{\\rho g} - \\frac{p_2}{\\rho g} = \\frac{\\Delta p}{\\rho g} = h_{loss}$$"
   ]
  },
  {
   "cell_type": "code",
   "execution_count": 6,
   "metadata": {},
   "outputs": [
    {
     "name": "stdout",
     "output_type": "stream",
     "text": [
      "Pressure drop 1.138  psi \n"
     ]
    }
   ],
   "source": [
    "deltap = headloss*62.0 # use density for 100F wasser\n",
    "deltap = deltap*(1/12)*(1/12) # convert psf to psi\n",
    "print(\"Pressure drop\",round(deltap,3),\" psi \")"
   ]
  },
  {
   "cell_type": "markdown",
   "metadata": {},
   "source": [
    "### Discussion of Results"
   ]
  },
  {
   "cell_type": "markdown",
   "metadata": {},
   "source": []
  },
  {
   "cell_type": "markdown",
   "metadata": {},
   "source": [
    "## Example 2: \n",
    "\n",
    "Commerical steel pipe in the sketch below has a diameter of 3-inches and transfers glycerin from the tank to a mixing basin at outlet $B$.  The tank is vented at the top as shown. Determine the initial discharge at $B$ when the gate valve at $C$ is fully opened.  \n",
    "\n",
    "```{figure} tank-drain14.png\n",
    "---\n",
    "width: 400px\n",
    "name: tank-drain14\n",
    "---\n",
    "Sketch of Chemical Transfer Tank System\n",
    "```\n",
    "\n",
    "### Sketch\n",
    "\n",
    "Above, nothing special to add\n",
    "\n",
    "### Known\n",
    "\n",
    "```{figure} fluid-properties14-2.png\n",
    "---\n",
    "width: 400px\n",
    "name: fluid-properties14-2\n",
    "---\n",
    "Typical Tabulated Fluid Properties\n",
    "```\n",
    "\n",
    "Fluid properties: glycerine $\\rho= 2.45 slug/ft^3 $,$\\nu= 1.22 \\times 10^{-2}~ft^2/s$<br>\n",
    "Minor Loss Components: 2 Elbows $K_{elb}=0.9$, Flush Entrance $K_{ent}=0.5$, Gate valve $K_{v}=0.19$<br>\n",
    "\n",
    "### Unknown\n",
    "\n",
    "$Q_{initial}$ before the liquid level drops very much.  We will stipulste that valve is opened quickly and flow develops rapidly before liquid level drops very much.\n",
    "\n",
    "### Governing Principles\n",
    "\n",
    "- Darcy-Weisbach head loss model $h_{loss}=f\\frac{L}{D}\\frac{V^2}{2g} + \\sum_i{K\\frac{V^2}{2g}}$ \n",
    "- Reynolds' number definition $Re_d = \\frac{VD}{\\nu}$\n",
    "- Modified bernoulli equation $\\frac{p_1}{\\rho g}+\\frac{V_1^2}{2g}+z_1+h_p = \\frac{p_2}{\\rho g}+\\frac{V_2^2}{2g}+z_2+h_T +h_{loss}$"
   ]
  },
  {
   "cell_type": "markdown",
   "metadata": {},
   "source": [
    "### Analysis (Solution)\n",
    "\n",
    "- Starting with the given fluid find the necessary properties (which are already displayed)\n",
    "- Stipulate the CV will be applied from $A$ to $B$ with tha datum set at $B$.\n",
    "- Apply the modified bernoulli equation: \n",
    "\n",
    "$\\frac{p_1}{\\rho g}+\\frac{V_1^2}{2g}+z_1+h_p = \\frac{p_2}{\\rho g}+\\frac{V_2^2}{2g}+z_2+h_T +h_{loss}$\n",
    "\n",
    "- Substutute the DW head loss model into the modified bernoulli equation\n",
    "\n",
    "$\\frac{p_A}{\\rho g}+\\frac{V_A^2}{2g}+z_A+h_p = \\frac{p_B}{\\rho g}+\\frac{V_B^2}{2g}+z_B+h_T +f\\frac{L}{D}\\frac{V^2}{2g} + K_{ent}\\frac{V^2}{2g} + 2*K_{elbow}\\frac{V^2}{2g}+K_{valve}\\frac{V^2}{2g}$\n",
    "\n",
    "- Insert loss coefficient values (remove the pump and turbine, they do not exist in this example)\n",
    "\n",
    "$$z_A = \\frac{V_B^2}{2g} +f\\frac{L}{D}\\frac{V^2}{2g} + 0.5\\frac{V^2}{2g} + 2*0.9\\frac{V^2}{2g}+0.19\\frac{V^2}{2g}$$\n",
    "\n",
    "- Insert numerical values\n",
    "\n",
    "$$8 = \\frac{V_B^2}{2g} +f\\frac{18}{0.25}\\frac{V^2}{64.4} + 0.5\\frac{V^2}{64.4} + 2*0.9\\frac{V^2}{64.4}+0.19\\frac{V^2}{64.4}$$\n",
    "\n",
    "- Algebra\n",
    "\n",
    "$$8 = (72f + 3.49)\\frac{V^2}{64.4} $$\n",
    "\n",
    "Now we need to build a tool to iteratively solve the equation and compute $f$ as it proceedes.  A simple trial-and-error method is shown below"
   ]
  },
  {
   "cell_type": "code",
   "execution_count": 7,
   "metadata": {},
   "outputs": [
    {
     "name": "stdout",
     "output_type": "stream",
     "text": [
      "Re : 2049.18 f : 0.052\n",
      "Guess : 1119.93 Target : 8 Reduce V and try again\n"
     ]
    }
   ],
   "source": [
    "# properties\n",
    "grav = 32.2\n",
    "nugl = 1.22e-02\n",
    "rough = 0.09/25.4/12\n",
    "dia = 0.25 # 3in==0.25feet\n",
    "#####  guess Velocity  ##########\n",
    "vguess = 100                   ##\n",
    "#################################\n",
    "# compute Re\n",
    "Re_d = reynolds(vguess,dia,nugl)\n",
    "if Re_d < 2000:\n",
    "    ffg = 64/Re_d\n",
    "else:\n",
    "    ffg = friction_fact(rough,dia,Re_d)\n",
    "print(\"Re :\",round(Re_d,2),\"f :\",round(ffg,3))\n",
    "# evaluate formula\n",
    "rhs = (1/64.4)*(72*ffg+3.49)*vguess**2\n",
    "lhs = 8 # given\n",
    "tolerance = 0.001\n",
    "if rhs - lhs > tolerance:\n",
    "    print(\"Guess :\",round(rhs,2),\"Target :\",lhs,\"Reduce V and try again\")\n",
    "elif rhs - lhs < -1*tolerance:\n",
    "    print(\"Guess :\",round(rhs,2),\"Target :\",lhs,\"Increase V and try again\")\n",
    "else:\n",
    "    print(\"Guess :\",round(rhs,2),\"Target :\",lhs,\"Close enough!\")\n",
    "    flow = vguess*0.25*math.pi*dia**2\n",
    "    print(\"Flow Rate :\",round(flow,3))"
   ]
  },
  {
   "cell_type": "code",
   "execution_count": 8,
   "metadata": {},
   "outputs": [
    {
     "name": "stdout",
     "output_type": "stream",
     "text": [
      "Re : 20.49 f : 3.123\n",
      "Guess : 3.55 Target : 8 Increase V and try again\n"
     ]
    }
   ],
   "source": [
    "# properties\n",
    "grav = 32.2\n",
    "nugl = 1.22e-02\n",
    "rough = 0.09/25.4/12\n",
    "dia = 0.25 # 3in==0.25feet\n",
    "#####  guess Velocity  ##########\n",
    "vguess = 1.0                   ##\n",
    "#################################\n",
    "# compute Re\n",
    "Re_d = reynolds(vguess,dia,nugl)\n",
    "if Re_d < 2000:\n",
    "    ffg = 64/Re_d\n",
    "else:\n",
    "    ffg = friction_fact(rough,dia,Re_d)\n",
    "print(\"Re :\",round(Re_d,2),\"f :\",round(ffg,3))\n",
    "# evaluate formula\n",
    "rhs = (1/64.4)*(72*ffg+3.49)*vguess**2\n",
    "lhs = 8 # given\n",
    "tolerance = 0.001\n",
    "if rhs - lhs > tolerance:\n",
    "    print(\"Guess :\",round(rhs,2),\"Target :\",lhs,\"Reduce V and try again\")\n",
    "elif rhs - lhs < -1*tolerance:\n",
    "    print(\"Guess :\",round(rhs,2),\"Target :\",lhs,\"Increase V and try again\")\n",
    "else:\n",
    "    print(\"Guess :\",round(rhs,2),\"Target :\",lhs,\"Close enough!\")\n",
    "    flow = vguess*0.25*math.pi*dia**2\n",
    "    print(\"Flow Rate :\",round(flow,3))"
   ]
  },
  {
   "cell_type": "markdown",
   "metadata": {},
   "source": [
    "A few more guesses to get close:"
   ]
  },
  {
   "cell_type": "code",
   "execution_count": 9,
   "metadata": {},
   "outputs": [
    {
     "name": "stdout",
     "output_type": "stream",
     "text": [
      "Re : 45.39 f : 1.41\n",
      "Guess : 8.0 Target : 8 Close enough!\n",
      "Flow Rate : 0.109\n"
     ]
    }
   ],
   "source": [
    "# properties\n",
    "grav = 32.2\n",
    "nugl = 1.22e-02\n",
    "rough = 0.09/25.4/12\n",
    "dia = 0.25 # 3in==0.25feet\n",
    "#####  guess Velocity  ##########\n",
    "vguess = 2.215                 ##\n",
    "#################################\n",
    "# compute Re\n",
    "Re_d = reynolds(vguess,dia,nugl)\n",
    "if Re_d < 2000:\n",
    "    ffg = 64/Re_d\n",
    "else:\n",
    "    ffg = friction_fact(rough,dia,Re_d)\n",
    "print(\"Re :\",round(Re_d,2),\"f :\",round(ffg,3))\n",
    "# evaluate formula\n",
    "rhs = (1/64.4)*(72*ffg+3.49)*vguess**2\n",
    "lhs = 8 # given\n",
    "tolerance = 0.001\n",
    "if rhs - lhs > tolerance:\n",
    "    print(\"Guess :\",round(rhs,2),\"Target :\",lhs,\"Reduce V and try again\")\n",
    "elif rhs - lhs < -1*tolerance:\n",
    "    print(\"Guess :\",round(rhs,2),\"Target :\",lhs,\"Increase V and try again\")\n",
    "else:\n",
    "    print(\"Guess :\",round(rhs,2),\"Target :\",lhs,\"Close enough!\")\n",
    "    flow = vguess*0.25*math.pi*dia**2\n",
    "    print(\"Flow Rate :\",round(flow,3))"
   ]
  },
  {
   "cell_type": "markdown",
   "metadata": {},
   "source": [
    "### Discussion of Results"
   ]
  },
  {
   "cell_type": "code",
   "execution_count": 34,
   "metadata": {},
   "outputs": [],
   "source": []
  },
  {
   "cell_type": "markdown",
   "metadata": {},
   "source": [
    "\n",
    "## Readings\n",
    "\n",
    "1. CE-3305-2022-1 Syllabus. [http://54.243.252.9/ce-3305-webroot/0-Syllabus/ce-3305-2022-1-syllabus.html](http://54.243.252.9/ce-3305-webroot/0-Syllabus/ce-3305-2022-1-syllabus.html)\n",
    "\n",
    "2. Hibbeler, R.C, Fluid Mechanics, 2ed. Prentice Hall, 2018. ISBN: 9780134655413 pp. 517-539\n",
    "\n",
    "3. DF Elger, BC Williams, Crowe, CT and JA Roberson, *Engineering Fluid Mechanics 10th edition*, John Wiley & Sons, Inc., 2013. [http://54.243.252.9/ce-3305-webroot/3-Readings/EFM-13.pdf](http://54.243.252.9/ce-3305-webroot/3-Readings/EFM-13.pdf)\n",
    "\n",
    "4. Cleveland, T. G. (2014) *Fluid Mechanics Notes to Accompany CE 3305 at Jade-Holshule (TTU Study Abroad 2015-2019)*, Department of Civil, Environmental, and Construction Engineering, Whitacre College of Engineering. [http://54.243.252.9/ce-3305-webroot/3-Readings/ce3305-lecture13.pdf](http://54.243.252.9/ce-3305-webroot/3-Readings/ce3305-lecture13.pdf)\n",
    "\n",
    " "
   ]
  },
  {
   "cell_type": "code",
   "execution_count": null,
   "metadata": {},
   "outputs": [],
   "source": []
  },
  {
   "cell_type": "code",
   "execution_count": null,
   "metadata": {},
   "outputs": [],
   "source": []
  }
 ],
 "metadata": {
  "kernelspec": {
   "display_name": "Python 3",
   "language": "python",
   "name": "python3"
  },
  "language_info": {
   "codemirror_mode": {
    "name": "ipython",
    "version": 3
   },
   "file_extension": ".py",
   "mimetype": "text/x-python",
   "name": "python",
   "nbconvert_exporter": "python",
   "pygments_lexer": "ipython3",
   "version": "3.8.10"
  }
 },
 "nbformat": 4,
 "nbformat_minor": 4
}