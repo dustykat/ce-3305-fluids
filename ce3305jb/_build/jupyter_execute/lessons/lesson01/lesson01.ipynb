{
 "cells": [
  {
   "cell_type": "markdown",
   "metadata": {},
   "source": [
    "# Introduction"
   ]
  },
  {
   "cell_type": "markdown",
   "metadata": {},
   "source": [
    "\n",
    "## Overview\n",
    "The title of the course is Mechanics of Fluids.  The catalog description is: \n",
    "> CE 3305: Mechanics of Fluids (3:3:0).  Prerequisites: CE 2301.  Hydrostatics; dynamics of viscous and nonviscous fluids; resistance to flow; flow in pipes and open channels.\n",
    "\n",
    "## Purpose\n",
    "The purpose of this required course is to provide engineering students with the fundamentals of fluid mechanics.  Students should be able to use this foundation for the more in-depth courses to follow.  This course shall provide students with a set of tools and concepts that are directly applicable to pipe systems, open channels, pumping plants, and measurement of fluid flows as well as other related problems that may be encountered as practicing engineers. \n",
    "\n",
    "## Objectives:\n",
    "Upon sucessful completion of this course, students will have demonstrated the Knowledge, Skill, and Ability (KSA) to:\n",
    "\n",
    "1. Identify and apply fluid properties to analyze and solve fluid mechanics problems\n",
    "2. Interpret conservation laws and apply them to analyze problems in hydrodynamics\n",
    "3. Identify and apply systems and control volume methods based on conservation principles\n",
    "4. Analyze steady pipe flow in networks using associated concepts and Computational Thinking (ENGR 1330) tools\n",
    "5. Differentiate and apply principles of dimensional homogeneity\n",
    "6. Analyze boundary layer flows and drag for hydraulic analysis\n",
    "7. Apply Computational Thinking (ENGR 1330) methods to analyze data and create mathematical models\n",
    "8. Recognize how specific sensors and instruments in fluid mechanics work\n",
    "9. Characterize, analyze and design open channels for steady one-dimensional flow\n",
    "\n",
    "## Assesment\n",
    "\n",
    "The graded components of the course are:\n",
    "\n",
    "- Quizzes (administered on a learning management system); individual activity\n",
    "- Exercises (collected on a learning management system); individual activity\n",
    "- Exams (administered on a learning management system); individual activity\n",
    "\n",
    "The complete syllabus is located at [http://54.243.252.9/ce-3305-webroot/0-Syllabus/CE-3305-2022-1-syllabus.html](http://54.243.252.9/ce-3372-webroot/0-Syllabus/CE-3305-2022-1-syllabus.html)"
   ]
  },
  {
   "cell_type": "markdown",
   "metadata": {},
   "source": [
    "## Definition(s)\n",
    "\n",
    "<hr>"
   ]
  },
  {
   "cell_type": "markdown",
   "metadata": {},
   "source": [
    "## Readings\n",
    "\n",
    "CE-3305-2022-1 Syllabus. [http://54.243.252.9/ce-3305-webroot/0-Syllabus/CE-3305-2022-1-syllabus.html](http://54.243.252.9/ce-3372-webroot/0-Syllabus/CE-3305-2022-1-syllabus.html)\n",
    "\n",
    "Engineering Fluid Mechanics (placeholder file to get links working). [http://54.243.252.9/ce-3305-webroot/3-Readings/EFM-1.pdf](http://54.243.252.9/ce-3372-webroot/3-Readings/EFM-1.pdf)\n"
   ]
  },
  {
   "cell_type": "code",
   "execution_count": null,
   "metadata": {},
   "outputs": [],
   "source": []
  }
 ],
 "metadata": {
  "kernelspec": {
   "display_name": "Python 3",
   "language": "python",
   "name": "python3"
  },
  "language_info": {
   "codemirror_mode": {
    "name": "ipython",
    "version": 3
   },
   "file_extension": ".py",
   "mimetype": "text/x-python",
   "name": "python",
   "nbconvert_exporter": "python",
   "pygments_lexer": "ipython3",
   "version": "3.8.10"
  }
 },
 "nbformat": 4,
 "nbformat_minor": 4
}