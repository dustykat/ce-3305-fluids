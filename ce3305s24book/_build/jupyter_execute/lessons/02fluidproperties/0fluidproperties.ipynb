{
 "cells": [
  {
   "cell_type": "markdown",
   "metadata": {},
   "source": [
    "# Fluid Properties\n",
    "\n",
    "## Lesson Outline\n",
    "1. Intensive and Extensive Properties\n",
    "2. Viscosity\n",
    "3. Liquid Properties\n",
    "4. Surface Tension, Vapor Pressure\n",
    "\n",
    "### Readings \n",
    "\n",
    "1. DF Elger, BC Williams, Crowe, CT and JA Roberson, *Engineering Fluid Mechanics 10th edition*, John Wiley & Sons, Inc., 2013. [Engineering Fluid Mechanics 10-th Ed. Chapter 2](http://54.243.252.9/ce-3305-webroot/3-Readings/EFM-2.pdf)\n",
    "\n",
    "2. Cleveland, T. G. (2014) *Fluid Mechanics Notes to Accompany CE 3305 at [Jade-Holshule](https://www.jade-hs.de/en/the-university/departments/engineering/) (TTU Study Abroad 2015-2019)*, Department of Civil, Environmental, and Construction Engineering, Whitacre College of Engineering. [http://54.243.252.9/ce-3305-webroot/3-Readings/ce3305-lecture-002.1.pdf](http://54.243.252.9/ce-3305-webroot/3-Readings/ce3305-lecture-002.1.pdf)\n"
   ]
  },
  {
   "cell_type": "code",
   "execution_count": null,
   "metadata": {},
   "outputs": [],
   "source": []
  }
 ],
 "metadata": {
  "kernelspec": {
   "display_name": "Python 3",
   "language": "python",
   "name": "python3"
  },
  "language_info": {
   "codemirror_mode": {
    "name": "ipython",
    "version": 3
   },
   "file_extension": ".py",
   "mimetype": "text/x-python",
   "name": "python",
   "nbconvert_exporter": "python",
   "pygments_lexer": "ipython3",
   "version": "3.8.10"
  }
 },
 "nbformat": 4,
 "nbformat_minor": 4
}