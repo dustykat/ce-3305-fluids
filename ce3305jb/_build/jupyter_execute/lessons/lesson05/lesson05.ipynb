{
 "cells": [
  {
   "cell_type": "markdown",
   "metadata": {},
   "source": [
    "# Euler Equation\n",
    "\n",
    "## Lesson Outline\n",
    "- Background\n",
    "- Constant velocity; constant acceleration\n",
    "- Translation\n",
    "- Rotation"
   ]
  },
  {
   "cell_type": "markdown",
   "metadata": {},
   "source": [
    "### Background\n",
    "\n",
    "This lesson introduces the Euler (and Bernoulli) equations which arefundamental in applied fluid mechanics.\n",
    "\n",
    "The lesson also examines lagrangian and eularian reference frames in the contaext of variational gonckulus as applied to fluid mechanics.  \n",
    "\n",
    "Start with flow patterns"
   ]
  },
  {
   "cell_type": "markdown",
   "metadata": {},
   "source": [
    "#### Flow Patterns and Visualization\n",
    "\n",
    "In real fluids, markers such as dye, smoke, heat are used to visualize how things flow.\n",
    "\n",
    "The markers are tracers; the tracer hypothesis is that the tracer moves with the host fluid.  \n",
    "\n",
    "> [MIT videos of different flow regimes](https://www.youtube.com/watch?v=nuQyKGuXJOs) \n",
    "\n",
    "Some of the patterns are:\n",
    "\n",
    "- **Timeline** is a line formed by marking adjacent particles at some instant\n",
    "- **Pathline** is the trajectory of a particular fluid particle\n",
    "- **Streakline** is the trajectory of many particles that pass through some common point in space\n",
    "- **Streamline** is a line in a flow field that is tangent to velocity; no flow crosses a streamline (3D equivalent is called a streamtube)\n",
    "\n",
    "In steady flow streamlines, streaklines, and pathlines are coincident.  In unsteady (time-varying) flow this relationship is not preserved (and the three patterns will look different)\n",
    "\n",
    "```{figure} buckner-funnel.png\n",
    "---\n",
    "width: 400px\n",
    "name: buckner-funnel\n",
    "---\n",
    "Flow in a tank with a holy bottom\n",
    "```\n",
    "Consider the flow depicted in the tank above; is the flow field uniform or non-uniform?  What about the flow above the dashed line?"
   ]
  },
  {
   "cell_type": "markdown",
   "metadata": {},
   "source": [
    "Flow dimensions are classified by how many space coordinates are required to speciofy the velocity field.  All real flows are 3D, but useful results are possible with 2D and 1D approximations.\n",
    "\n",
    "### Velocity Field\n",
    "\n",
    "Velocities are expressed in either a LaGrangian sense, or Eulerian sense.\n",
    "\n",
    "```{figure} velocity-field.png\n",
    "---\n",
    "width: 500px\n",
    "name: velocity-field\n",
    "---\n",
    "Coordinate systems for velocity description\n",
    "```\n",
    "\n",
    "Field is from the mathematical description of a field.  Various rules apply to fields, and these are used later on.\n",
    "\n",
    "- Magnetic Fields\n",
    "- Elactric Fields\n",
    "- Gravitational Fields\n",
    "- Strawberry Fields (forever)\n",
    "\n",
    "Are examples of \"things\" that are fields.  The idea is that if you know location, you know behavior.\n",
    "```{figure} velocity-equation.png\n",
    "---\n",
    "width: 500px\n",
    "name: velocity-equation\n",
    "---\n",
    "Parametric (in time) velocity field equation\n",
    "```\n",
    "\n",
    "```{figure} velocity-stream.png\n",
    "---\n",
    "width: 500px\n",
    "name: velocity-stream\n",
    "---\n",
    "Streamline coordinates for a velocity \n",
    "```"
   ]
  },
  {
   "cell_type": "code",
   "execution_count": null,
   "metadata": {},
   "outputs": [],
   "source": []
  },
  {
   "cell_type": "markdown",
   "metadata": {},
   "source": [
    "### Will it float\n"
   ]
  },
  {
   "cell_type": "code",
   "execution_count": null,
   "metadata": {},
   "outputs": [],
   "source": []
  },
  {
   "cell_type": "markdown",
   "metadata": {},
   "source": [
    "\n",
    "## Readings\n",
    "\n",
    "1. CE-3305-2022-1 Syllabus. [http://54.243.252.9/ce-3305-webroot/0-Syllabus/ce-3305-2022-1-syllabus.html](http://54.243.252.9/ce-3305-webroot/0-Syllabus/ce-3305-2022-1-syllabus.html)\n",
    "\n",
    "2. Hibbeler, R.C, Fluid Mechanics, 2ed. Prentice Hall, 2018. ISBN: 9780134655413 pp. 93-177\n",
    "\n",
    "3. DF Elger, BC Williams, Crowe, CT and JA Roberson, *Engineering Fluid Mechanics 10th edition*, John Wiley & Sons, Inc., 2013.  (placeholder file to get links working). [http://54.243.252.9/ce-3305-webroot/3-Readings/EFM-5.pdf](http://54.243.252.9/ce-3305-webroot/3-Readings/EFM-5.pdf)\n",
    "\n",
    "4. Cleveland, T. G. (2014) *Fluid Mechanics Notes to Accompany CE 3305 at Jade-Holshule (TTU Study Abroad 2015-2019)*, Department of Civil, Environmental, and Construction Engineering, Whitacre College of Engineering. [http://54.243.252.9/ce-3305-webroot/3-Readings/ce3305-lecture-005.0.pdf](http://54.243.252.9/ce-3305-webroot/3-Readings/ce3305-lecture-005.0.pdf)\n",
    "\n",
    "5. De Lima, R. P., Cleveland, T. G., De Carvalho, R.P., 2014. *Infrared thermography as a heat tracer method for velocity estimation in shallow flows* [Die Bodenkultur, Journal for Land Management, Food, and Envrionment, Vol 65, No. 3-4, pp. 71-77. ISSN 006-5471](http://54.243.252.9/ce-3305-webroot/3-Readings/Thermal-Image.PDF)"
   ]
  },
  {
   "cell_type": "code",
   "execution_count": null,
   "metadata": {},
   "outputs": [],
   "source": []
  },
  {
   "cell_type": "code",
   "execution_count": null,
   "metadata": {},
   "outputs": [],
   "source": []
  }
 ],
 "metadata": {
  "kernelspec": {
   "display_name": "Python 3",
   "language": "python",
   "name": "python3"
  },
  "language_info": {
   "codemirror_mode": {
    "name": "ipython",
    "version": 3
   },
   "file_extension": ".py",
   "mimetype": "text/x-python",
   "name": "python",
   "nbconvert_exporter": "python",
   "pygments_lexer": "ipython3",
   "version": "3.8.10"
  }
 },
 "nbformat": 4,
 "nbformat_minor": 4
}