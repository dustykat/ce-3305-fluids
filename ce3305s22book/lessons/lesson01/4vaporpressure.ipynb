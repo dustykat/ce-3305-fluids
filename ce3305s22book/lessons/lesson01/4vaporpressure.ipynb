{
 "cells": [
  {
   "cell_type": "markdown",
   "metadata": {},
   "source": [
    "# Vapor Pressure\n",
    "\n",
    "[Vapor pressure](https://en.wikipedia.org/wiki/Vapor_pressure) is the pressure exerted by a vapor in thermodynamic equilibrium with its condensed phases (solid or liquid) at a given temperature in a closed system.\n",
    "\n",
    "It varies by substance for example [water](https://en.wikipedia.org/wiki/Vapour_pressure_of_water) is extensively tabulated, as is that for [mercury](https://www.govinfo.gov/content/pkg/GOVPUB-C13-66a1ade54071892930184393b1802e69/pdf/GOVPUB-C13-66a1ade54071892930184393b1802e69.pdf), and many other practically useful substances.  It matters most in barometers and pipelines that have negative gage pressures - if the negative pressure gets too large the liquid will flash into vapor and can stop flow or go boom!"
   ]
  },
  {
   "cell_type": "markdown",
   "metadata": {},
   "source": [
    ":::{admonition} Exercise Set 2\n",
    "\n",
    "Best access is through the Blackboard LMS\n",
    "\n",
    "[http://54.243.252.9/ce-3305-webroot/2-Exercises/ES2/ES2.html](http://54.243.252.9/ce-3305-webroot/2-Exercises/ES2/ES2.html)\n",
    ":::\n"
   ]
  },
  {
   "cell_type": "code",
   "execution_count": null,
   "metadata": {},
   "outputs": [],
   "source": []
  }
 ],
 "metadata": {
  "kernelspec": {
   "display_name": "Python 3",
   "language": "python",
   "name": "python3"
  },
  "language_info": {
   "codemirror_mode": {
    "name": "ipython",
    "version": 3
   },
   "file_extension": ".py",
   "mimetype": "text/x-python",
   "name": "python",
   "nbconvert_exporter": "python",
   "pygments_lexer": "ipython3",
   "version": "3.8.10"
  }
 },
 "nbformat": 4,
 "nbformat_minor": 4
}
