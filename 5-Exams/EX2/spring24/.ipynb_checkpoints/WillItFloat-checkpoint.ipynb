{
 "cells": [
  {
   "cell_type": "markdown",
   "metadata": {},
   "source": [
    "<!--**Download** (right-click, save target as ...) this page as a Jupyterlab notebook from: [EX-1](http://54.243.252.9/ce-3305-webroot-su22/5-Exams/EX2/EX2.ipynb)-->\n",
    "\n",
    "___"
   ]
  },
  {
   "cell_type": "markdown",
   "metadata": {},
   "source": [
    "# <font color=darkblue>CE 3305 Engineering Fluid Mechanics <br> Spring 2024 Exam 2 Extra Credit</font>\n",
    "\n",
    "**LAST NAME, FIRST NAME**\n",
    "\n",
    "**R00000000**\n",
    "\n",
    "___\n",
    "\n",
    "### Purpose : \n",
    "Demonstrate ability to apply fluid mechanics and problem solving principles covering topics such as: geometry, density, bouyancy.\n"
   ]
  },
  {
   "cell_type": "markdown",
   "metadata": {},
   "source": [
    "___\n",
    "\n",
    "### Problem\n",
    "\n",
    "A small piece of volcanic ejecta from Amboy Crater is at the front of the classroom\n",
    "\n",
    "![](amboy.png)\n",
    "\n",
    "The mass of the object is 23.93 grams.  The porosity of typical pumice is $\\eta = 64–85\\%$ by volume [Wikipedia](https://en.wikipedia.org/wiki/Pumice)\n",
    "\n",
    "The ellipsoid method to approximate volume uses 3 measurements $A$,$B$, and $C$, called semi-axes.\n",
    "\n",
    "![](ellipsoid.png)\n",
    "\n",
    "$V = \\frac{4}{3} * \\pi * A * B * C$\n",
    "\n",
    "The porosity of typical pumice is $\\eta = 64–85\\%$ by volume [Wikipedia](https://en.wikipedia.org/wiki/Pumice).  The porosity can be used to approximate the solids volume from the expression:\n",
    "\n",
    "$V_{total} \\cdot (1-\\eta) \\approx V_{solids}$\n",
    "\n",
    "Determine:\n",
    "1. An estimate of the volume of the irregular shaped object (in milliliters).\n",
    "2. An estimate of the solids volume, based on a porosity of $64\\%$ \n",
    "2. Will it float?"
   ]
  },
  {
   "cell_type": "markdown",
   "metadata": {},
   "source": [
    "**sketch(s) here**"
   ]
  },
  {
   "cell_type": "markdown",
   "metadata": {},
   "source": [
    "**list known quantities**"
   ]
  },
  {
   "cell_type": "markdown",
   "metadata": {},
   "source": [
    "**list unknown quantities**"
   ]
  },
  {
   "cell_type": "markdown",
   "metadata": {},
   "source": [
    "**governing principles**"
   ]
  },
  {
   "cell_type": "markdown",
   "metadata": {},
   "source": [
    "**solution (step-by-step)** "
   ]
  },
  {
   "cell_type": "code",
   "execution_count": null,
   "metadata": {},
   "outputs": [],
   "source": [
    "# script (code) here"
   ]
  },
  {
   "cell_type": "markdown",
   "metadata": {},
   "source": [
    "**discussion**"
   ]
  }
 ],
 "metadata": {
  "kernelspec": {
   "display_name": "Python 3",
   "language": "python",
   "name": "python3"
  },
  "language_info": {
   "codemirror_mode": {
    "name": "ipython",
    "version": 3
   },
   "file_extension": ".py",
   "mimetype": "text/x-python",
   "name": "python",
   "nbconvert_exporter": "python",
   "pygments_lexer": "ipython3",
   "version": "3.8.10"
  }
 },
 "nbformat": 4,
 "nbformat_minor": 4
}
