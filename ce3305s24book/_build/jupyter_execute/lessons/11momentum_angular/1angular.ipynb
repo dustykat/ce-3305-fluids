{
 "cells": [
  {
   "cell_type": "markdown",
   "metadata": {},
   "source": [
    "## Example 1: Application of Angular Momentum to a Reaction Turbine\n",
    "\n",
    "Application of angular momentum often involves use of continunity and energy (bernoulli's equation).  Selection of CV is important to make analysis straightforward.  Consider the following example involving a reaction turbine (like a Rain-Bird)\n",
    "\n",
    "![](https://5.imimg.com/data5/RX/YB/MY-710552/x-500x500.jpeg)\n",
    "\n",
    "The problem statement is depicted in {numref}`angular-ex1-1`\n",
    "\n",
    "```{figure} angular-ex1-1.png\n",
    "---\n",
    "width: 600px\n",
    "name: angular-ex1-1\n",
    "---\n",
    "Caption\n",
    "```\n",
    "\n",
    "Apply continunity as in {numref}`angular-ex1-2`\n",
    "\n",
    "```{figure} angular-ex1-2.png\n",
    "---\n",
    "width: 600px\n",
    "name: angular-ex1-2\n",
    "---\n",
    "Caption\n",
    "```\n",
    "\n",
    "Then momentum as in {numref}`angular-ex1-3`\n",
    "\n",
    "```{figure} angular-ex1-3.png\n",
    "---\n",
    "width: 600px\n",
    "name: angular-ex1-3\n",
    "---\n",
    "Caption\n",
    "```\n",
    "\n",
    "Continue the analysis (break the CV into upper and lower arm, use symmetry to cancel the volume integrals) as in {numref}`angular-ex1-4`\n",
    "\n",
    "\n",
    "```{figure} angular-ex1-4.png\n",
    "---\n",
    "width: 600px\n",
    "name: angular-ex1-4\n",
    "---\n",
    "Caption\n",
    "```\n",
    "\n",
    "Complete the analysis as in {numref}`angular-ex1-5`\n",
    "\n",
    "```{figure} angular-ex1-5.png\n",
    "---\n",
    "width: 600px\n",
    "name: angular-ex1-5\n",
    "---\n",
    "Caption\n",
    "```\n",
    "\n",
    "now apply ENGR-1330 to perform the calculations."
   ]
  },
  {
   "cell_type": "code",
   "execution_count": 1,
   "metadata": {},
   "outputs": [
    {
     "name": "stdout",
     "output_type": "stream",
     "text": [
      "Power  62360.77  Newton-meters/sec    \n"
     ]
    }
   ],
   "source": [
    "# computational thinning\n",
    "import math\n",
    "q = 0.1 #discharge\n",
    "v_jet = 50.0\n",
    "omega = 500*2*math.pi/60\n",
    "radius = 0.5\n",
    "rho = 1000.0\n",
    "power = rho*q*v_jet*radius*omega - rho*q*omega**2*radius**2\n",
    "print(\"Power \",round(power,2),\" Newton-meters/sec    \")"
   ]
  },
  {
   "cell_type": "markdown",
   "metadata": {},
   "source": [
    "## Example 2: Application of Angular Momentum to a Reaction Turbine\n",
    "\n",
    "Here we will do the same problem, but using a fixed reference frame CV\n",
    "\n",
    "```{figure} angular-ex2-1.png\n",
    "---\n",
    "width: 600px\n",
    "name: angular-ex2-1\n",
    "---\n",
    "Caption\n",
    "```\n",
    "{numref}`angular-ex1-5` is analysis of the volume integral in a vector representation of the moment of momentum\n",
    "\n",
    "```{figure} angular-ex2-2.png\n",
    "---\n",
    "width: 600px\n",
    "name: angular-ex2-2\n",
    "---\n",
    "Caption\n",
    "```\n",
    "{numref}`angular-ex1-5` is analysis of the flux integrals in a vector representation of the moment of momentum\n",
    "After the equations are constructed, the analysys proceedes the same as in the earlier example."
   ]
  }
 ],
 "metadata": {
  "kernelspec": {
   "display_name": "Python 3",
   "language": "python",
   "name": "python3"
  },
  "language_info": {
   "codemirror_mode": {
    "name": "ipython",
    "version": 3
   },
   "file_extension": ".py",
   "mimetype": "text/x-python",
   "name": "python",
   "nbconvert_exporter": "python",
   "pygments_lexer": "ipython3",
   "version": "3.8.10"
  }
 },
 "nbformat": 4,
 "nbformat_minor": 4
}