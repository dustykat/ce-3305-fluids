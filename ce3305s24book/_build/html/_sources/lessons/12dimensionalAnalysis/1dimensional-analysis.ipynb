{
 "cells": [
  {
   "cell_type": "markdown",
   "metadata": {},
   "source": [
    "# Dimensional Analysis (pp. 410-426)\n",
    "\n",
    ":::{admonition} Course Website\n",
    "[http://54.243.252.9/ce-3305-webroot/](http://54.243.252.9/ce-3305-webroot/)\n",
    ":::\n",
    "\n",
    "Fluid mechanics design problems rely upon experimental data, either collected directly or inferred from prior published works.  In most cases empirical results do not directly apply to general situations so engineers need to interpret the original data in normal design practice.\n",
    "\n",
    "Such data are found in handbooks, journals, and other authorative sources.  Some examples are friction loss coefficients for pipes, valves, and other fittings; drag coefficients; fluid properties. \n",
    "\n",
    "**Dimensional Analysis** is a tool used to guide such expermental design and practice and reduce the number of experiments required. **Similitude** is a tool used to *scale* laboratory results to full-scale situations.\n"
   ]
  },
  {
   "cell_type": "markdown",
   "metadata": {},
   "source": [
    "\n",
    "## Readings\n",
    "\n",
    "1. Hibbeler, R.C, Fluid Mechanics, 3ed. Prentice Hall, 2022.  pp. 410-426\n",
    "\n",
    "1. Hibbeler, R.C, Fluid Mechanics, 2ed. Prentice Hall, 2018. ISBN: 9780134655413 pp. 444-469\n",
    "\n",
    "3. DF Elger, BC Williams, Crowe, CT and JA Roberson, *Engineering Fluid Mechanics 10th edition*, John Wiley & Sons, Inc., 2013.  (placeholder file to get links working). [http://54.243.252.9/ce-3305-webroot/3-Readings/EFM-10.pdf](http://54.243.252.9/ce-3305-webroot/3-Readings/EFM-10.pdf)\n",
    "\n",
    "4. Cleveland, T. G. (2014) *Fluid Mechanics Notes to Accompany CE 3305 at Jade-Holshule (TTU Study Abroad 2015-2019)*, Department of Civil, Environmental, and Construction Engineering, Whitacre College of Engineering. [http://54.243.252.9/ce-3305-webroot/3-Readings/ce3305-lecture11.pdf](http://54.243.252.9/ce-3305-webroot/3-Readings/ce3305-lecture11.pdf)\n",
    "\n",
    "5. Cleveland, T. G. (2009) [Error Analysis](http://54.243.252.9/ce-3305-webroot/3-Readings/ce_5333_1.1_error_analysis.pdf) in *Instructor Notes to Accompany CE 5333 Studies in Dimensional Analysis and Similitude*, Department of Civil, Environmental, and Construction Engineering, Whitacre College of Engineering. \n",
    "\n",
    "5. Cleveland, T. G. (2009) [Propagation of Error](http://54.243.252.9/ce-3305-webroot/3-Readings/ce_5333_1.2_error_analysis.pdf) in *Instructor Notes to Accompany CE 5333 Studies in Dimensional Analysis and Similitude*, Department of Civil, Environmental, and Construction Engineering, Whitacre College of Engineering. \n",
    "\n",
    "5. Cleveland, T. G. (2009) [Dimensional Analysis](http://54.243.252.9/ce-3305-webroot/3-Readings/ce_5333_2.1_dimensional_analysis.pdf) in *Instructor Notes to Accompany CE 5333 Studies in Dimensional Analysis and Similitude*, Department of Civil, Environmental, and Construction Engineering, Whitacre College of Engineering. \n",
    "\n",
    "5. Doebelin, E. O. (1990). Measurement Systems (4th ed.). New York, NY: McGraw-Hill.\n",
    "\n",
    "6. Holman, J. P. (1989). [Analysis of Experimental Data](http://54.243.252.9/ce-3305-webroot/3-Readings/holman1989.pdf) in *Experimental Methods for Engineers, 5th Edition.* New York, NY: McGraw-Hill.\n",
    "\n",
    "7. Kline, S. J. and F. A. McClintock (1953). [Describing uncertainties in single-sample experiments](http://54.243.252.9/ce-3305-webroot/3-Readings/Kline_McClintock1953.pdf). Mechanical Engineering (No. 75), 3–9.\n",
    "\n",
    "8. Buckingham, E. (1915). Model experiments and the forms of empirical equations. Transactions of American Society of Mechancial Engineers (No. 37), 263.\n",
    "\n",
    "9. Hwang, N. H. C. and C. E. Hita (1987). [Dimensional Analysis](http://54.243.252.9/ce-3305-webroot/3-Readings/hwang_1987_selected_readings.pdf) in *Fundamentals of Hydraulic Engineering Systems*. San Diego, CA: Prentice Hall. \n",
    "\n",
    "10. White, F. M. (1979). Fluid Mechanics. New York, NY: McGraw-Hill <br> [Dimensional Analysis Part 1](http://54.243.252.9/ce-3305-webroot/3-Readings/white_1979_part1.pdf)<br> [Dimensional Analysis Part 2](http://54.243.252.9/ce-3305-webroot/3-Readings/white_1979_part2.pdf)<br> [Dimensional Analysis Part 3](http://54.243.252.9/ce-3305-webroot/3-Readings/white_1979_part3.pdf)<br>[Dimensional Analysis Part 4](http://54.243.252.9/ce-3305-webroot/3-Readings/white_1979_part4.pdf)\n",
    " "
   ]
  },
  {
   "cell_type": "markdown",
   "metadata": {},
   "source": [
    "## Videos\n",
    "1. [placeholder](placeholder)"
   ]
  },
  {
   "cell_type": "markdown",
   "metadata": {},
   "source": [
    "## Lesson Outline\n",
    "1. Dimensionless ($\\pi$) groups\n",
    "2. Important dimensionless numbers\n",
    "3.  Buckingham $\\Pi$ Theorem\n",
    "\n",
    "---"
   ]
  },
  {
   "cell_type": "markdown",
   "metadata": {},
   "source": [
    "\n",
    "\n",
    "\n"
   ]
  },
  {
   "cell_type": "markdown",
   "metadata": {},
   "source": [
    "## Example 1: "
   ]
  },
  {
   "cell_type": "code",
   "execution_count": 4,
   "metadata": {},
   "outputs": [
    {
     "name": "stdout",
     "output_type": "stream",
     "text": [
      "Power  62360.77  Newton-meters/sec    \n"
     ]
    }
   ],
   "source": [
    "# computational thinning\n",
    "import math\n",
    "q = 0.1 #discharge\n",
    "v_jet = 50.0\n",
    "omega = 500*2*math.pi/60\n",
    "radius = 0.5\n",
    "rho = 1000.0\n",
    "power = rho*q*v_jet*radius*omega - rho*q*omega**2*radius**2\n",
    "print(\"Power \",round(power,2),\" Newton-meters/sec    \")"
   ]
  },
  {
   "cell_type": "markdown",
   "metadata": {},
   "source": [
    "## Example 2: "
   ]
  },
  {
   "cell_type": "code",
   "execution_count": null,
   "metadata": {},
   "outputs": [],
   "source": []
  },
  {
   "cell_type": "code",
   "execution_count": null,
   "metadata": {},
   "outputs": [],
   "source": []
  },
  {
   "cell_type": "code",
   "execution_count": null,
   "metadata": {},
   "outputs": [],
   "source": []
  },
  {
   "cell_type": "code",
   "execution_count": null,
   "metadata": {},
   "outputs": [],
   "source": []
  }
 ],
 "metadata": {
  "kernelspec": {
   "display_name": "Python 3",
   "language": "python",
   "name": "python3"
  },
  "language_info": {
   "codemirror_mode": {
    "name": "ipython",
    "version": 3
   },
   "file_extension": ".py",
   "mimetype": "text/x-python",
   "name": "python",
   "nbconvert_exporter": "python",
   "pygments_lexer": "ipython3",
   "version": "3.8.10"
  }
 },
 "nbformat": 4,
 "nbformat_minor": 4
}
