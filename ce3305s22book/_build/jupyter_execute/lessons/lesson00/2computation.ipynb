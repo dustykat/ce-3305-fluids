{
 "cells": [
  {
   "cell_type": "markdown",
   "metadata": {},
   "source": [
    "# Computational Hydraulics\n",
    "\n",
    ":::{warning}\n",
    "Fluid mechanics involves a fair amount of computation.  As an engineering task, computation is simply a tool; brute force is quite acceptable.  Keep in mind that elegance is the enemy of getting it done.  Hence use the tool to find an answer, make it general where you can, but remember the tool might be specific to a particular problem. \n",
    ":::\n",
    "\n",
    "Much of the computational work in the class is using Jupyter (or other tools) as a calculator, but you can embed documentation withing a notebook, so thats an improvement over a conventional calculator.\n",
    "\n",
    "<font color=\"blue\">Computational Hydraulics</font> exercises that require integration of Computational Thinking (ENGR 1330) and elementary fluid mechanics are:\n",
    "\n",
    "- a pipe network simulator (summer and long semester)\n",
    "- a water surface profile simulator (summer and long semester)\n",
    "- a pipeline pressure transient simulator (long semester)\n",
    "- a groundwater aquifer simulator (long semester)\n",
    "\n",
    "For professional applications, students should use open-source or commercial applications; a homebrew tool simply won't be trusted by a client.  These exercises will give you a flavor of the kind of work that goes into computational hydraulics (a subset of computational fluid dynamics (CFD)).\n",
    "\n",
    "\n",
    "\n"
   ]
  },
  {
   "cell_type": "code",
   "execution_count": null,
   "metadata": {},
   "outputs": [],
   "source": []
  }
 ],
 "metadata": {
  "kernelspec": {
   "display_name": "Python 3",
   "language": "python",
   "name": "python3"
  },
  "language_info": {
   "codemirror_mode": {
    "name": "ipython",
    "version": 3
   },
   "file_extension": ".py",
   "mimetype": "text/x-python",
   "name": "python",
   "nbconvert_exporter": "python",
   "pygments_lexer": "ipython3",
   "version": "3.8.10"
  }
 },
 "nbformat": 4,
 "nbformat_minor": 4
}