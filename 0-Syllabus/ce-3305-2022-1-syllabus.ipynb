{
 "cells": [
  {
   "cell_type": "markdown",
   "metadata": {},
   "source": [
    "# CE 3305 Mechanics of Fluids\n",
    "\n",
    "## Course Catalog Description: \n",
    "\n",
    "CE 3305: Mechanics of Fluids (3:3:0). Prerequisites: CE 2301. Hydrostatics; dynamics of viscous and nonviscous fluids; resistance to flow; flow in pipes and open channels.\n",
    "\n",
    "## Prerequisites: \n",
    "Engineering Mechanics - Statics (CE 2301) or equivalent\n",
    "Computational Thinking with Data Science (ENGR 1330) or equivalent"
   ]
  },
  {
   "cell_type": "markdown",
   "metadata": {},
   "source": [
    "<!-- ## COVID-19 Important Guidelines:\n",
    "* If Texas Tech University campus operations are required to change because of health concerns related to the COVID-19 pandemic, it is possible that this course will move to a fully online delivery format.  Should that be necessary, students will be advised of technical and/or equipment requirements, including remote proctoring software.  \n",
    "\n",
    "* Policy on absences resulting from illness: We anticipate that some students may have extended absences.  To avoid students feeling compelled to attend in-person class periods when having symptoms or feeling unwell, a standard policy is provided that holds students harmless for illness-related absences (see Section A below).-->\n",
    "\n",
    "\n",
    "### A. Illness-Based Absence Policy (Face-to-Face Classes)\n",
    "If at any time during the semester you are ill, in the interest of your own health and safety as well as the health and safety of your instructors and classmates, you are encouraged not to attend face-to-face class meetings or events.  Please review the steps outlined below that you should follow to ensure your absence for illness will be excused.  These steps also apply to not participating in synchronous online class meetings if you feel too ill to do so and missing specified assignment due dates in asynchronous online classes because of illness.\n",
    "\n",
    "1. If you are ill and think the symptoms might be COVID-19-related:\n",
    "\n",
    "    1. Call Student Health Services at 806.743.2848 or your health care provider.  During after-hours and on weekends, contact TTU COVID-19 Helpline at TBD.\n",
    "    2. Self-report as soon as possible using the Dean of Students COVID-19 webpage. This website has specific directions about how to upload documentation from a medical provider and what will happen if your illness renders you unable to participate in classes for more than one week.\n",
    "    3. If your illness is determined to be COVID-19-related, all remaining documentation and communication will be handled through the Office of the Dean of Students, including notification of your instructors of the time you may be absent from and may return to classes.\n",
    "    4. If your illness is determined not to be COVID-19-related, please follow steps 2.a-d below.\n",
    "\n",
    "\n",
    "2. If you are ill and can attribute your symptoms to something other than COVID-19:\n",
    "\n",
    "    1. If your illness renders you unable to attend face-to-face classes, participate in synchronous online classes, or miss specified assignment due dates in asynchronous online classes, you are encouraged to contact either Student Health Services at 806.743.2848 or your health care provider.  Note that Student Health Services and your own and other health care providers may arrange virtual visits.\n",
    "    2. During the health provider visit, request a “return to school” note.\n",
    "    3. E-mail the instructor a picture of that note.\n",
    "    4. Return to class by the next class period after the date indicated on your note.\n",
    "\n",
    "Following the steps outlined above helps to keep your instructors informed about your absences and ensures your absence or missing an assignment due date because of illness will be marked excused.  You will still be responsible to complete within a week of returning to class any assignments, quizzes, or exams you miss because of illness.\n",
    "\n",
    "### B. Illness-Based Absence Policy (Telepresence/On-Line Classes)\n",
    "Same as above with respect potential to infect others; go to a health care provider if you are ill.  Telepresence courses are recorded and will be available on TTU MediaSite and/or YouTube (unlisted).  Exercises, Quizzes, and Examinations are all administered by a Learning Management System (Blackboard) and students need to allow enough time to complete and upload their work.  Due date adjustments/late submits on case-by-case basis; documentation required as in subsection **A** above."
   ]
  },
  {
   "cell_type": "markdown",
   "metadata": {},
   "source": [
    "## Course Sections\n",
    "Lesson time, days, and location: \n",
    "\n",
    "<!--1. Section 001; CRN 29622; 0800-0920 T-Th ; Mechanical Engineering North 00132-->\n",
    "1. Section 003; CRN 50993; 1530-1650 T-Th ; Mathematics 00114\n",
    "\n",
    "## Course Instructor:\n",
    "\n",
    "Instructor: Theodore G. Cleveland, Ph.D., P.E., M. ASCE, F. EWRI\n",
    "\n",
    "Email: theodore.cleveland@ttu.edu  (put CE 3305-003 into the subject line for email related to this class)\n",
    "\n",
    "Office location: CECE 203F\n",
    "\n",
    "Office hours: TBD \n",
    "\n",
    "## Teaching Assistant:\n",
    "\n",
    "Teaching Assistant: N/A \n",
    "\n",
    "Email : N/A\n",
    "\n",
    "Office location: N/A\n",
    "\n",
    "Office hours: N/A"
   ]
  },
  {
   "cell_type": "markdown",
   "metadata": {},
   "source": [
    "## Textbook: \n",
    "\n",
    "Hibbeler, R.C, Fluid Mechanics, 2ed. Prentice Hall, 2018. ISBN: 9780134655413\n",
    "\n",
    "## Instructor Notes:\n",
    "\n",
    "Cleveland, T. G. (2021) *Fluid Mechanics Notes to Accompany CE 3305 at TTU*, Department of Civil, Environmental, and Construction Engineering, Whitacre College of Engineering, DOI (pending) [http://54.243.252.9/ce-3305-webroot/ce3305jb/_build/html/intro.html](http://54.243.252.9/ce-3305-webroot/ce3305jb/_build/html/intro.html)"
   ]
  },
  {
   "cell_type": "markdown",
   "metadata": {},
   "source": [
    "## Course Objectives: \n",
    "The purpose of this required course is to provide engineering students with the fundamentals of fluid mechanics. Students should be able to use this foundation for the more in-depth courses to follow. This course shall provide students with a set of tools and concepts that are directly applicable to pipe systems, open channels, pumping plants, and measurement of fluid flows as well as other related problems that may be encountered as practicing engineers."
   ]
  },
  {
   "cell_type": "markdown",
   "metadata": {},
   "source": [
    "## Knowledge, Skills, Abilities (KSA) :\n",
    "Upon sucessful completion of this course, students will have demonstrated the Knowledge, Skill, and Ability (KSA) to:\n",
    "\n",
    "1. Identify and apply fluid properties to analyze and solve fluid mechanics problems\n",
    "2. Interpret conservation laws and apply them to analyze problems in hydrodynamics\n",
    "3. Identify and apply systems and control volume methods based on conservation principles\n",
    "4. Analyze steady pipe flow in networks using associated concepts and Computational Thinking (ENGR 1330) tools\n",
    "5. Differentiate and apply principles of dimensional homogeneity\n",
    "6. Analyze boundary layer flows and drag for hydraulic analysis\n",
    "7. Apply Computational Thinking (ENGR 1330) methods to analyze data and create mathematical models\n",
    "8. Recognize how specific sensors and instruments in fluid mechanics work\n",
    "9. Characterize, analyze and design open channels for steady one-dimensional flow"
   ]
  },
  {
   "cell_type": "markdown",
   "metadata": {},
   "source": [
    "## ABET Student Outcomes\n",
    "* Engineering:\n",
    "    1. An ability to identify, formulate, and solve complex engineering problems by applying principles of engineering, science, and mathematics.\n",
    "    2. An ability to acquire and apply new knowledge as needed, using appropriate learning strategies. \n",
    " "
   ]
  },
  {
   "cell_type": "markdown",
   "metadata": {},
   "source": [
    "## Resources/Tools\n",
    "\n",
    "Computational tools equivalent to those used in ENGR 1330 (Jupyter Notebooks accessed using Anaconda) are expected.  \n",
    "\n",
    "### Hardware Requirements\n",
    "The college of engineering has specific laptop requirements for courses that are listed at https://www.depts.ttu.edu/coe/dean/engineeringitservices/buyingtherightcomputer.php\n",
    "\n",
    "### Learning Management System\n",
    "Blackboard(BB) is used as the learning management system (LMS) for this class and all exercises are to be uploaded to BB.  Late submissions are accepted, but scores are automatically reduced 50% \n",
    "\n",
    "### Website\n",
    "The course website **for this section** is located at [http://54.243.252.9/ce-3305-webroot/](http://54.243.252.9/ce-3305-webroot/); the website is not intended as a primary access to course content, but will work when BB fails.  The webbook (below) and exercises, and exams are stored on the website.\n",
    "\n",
    "### Instructor Notes \n",
    "The course notes are located in a webbook at [http://54.243.252.9/ce-3305-webroot/ce3305jb/_build/html/intro.html](http://54.243.252.9/ce-3305-webroot/ce3305jb/_build/html/intro.html)"
   ]
  },
  {
   "cell_type": "code",
   "execution_count": 1,
   "metadata": {},
   "outputs": [
    {
     "data": {
      "text/html": [
       "<style> table {margin-left: 0 !important;} </style>\n"
      ],
      "text/plain": [
       "<IPython.core.display.HTML object>"
      ]
     },
     "metadata": {},
     "output_type": "display_data"
    }
   ],
   "source": [
    "%%html\n",
    "<style> table {margin-left: 0 !important;} </style>"
   ]
  },
  {
   "cell_type": "markdown",
   "metadata": {},
   "source": [
    "---\n",
    "---\n",
    "# Build Notes\n",
    "If you are reading this cell, then this copy of the syllabus is **Not completed**.\n",
    "To do:\n",
    "- test dates need fixing\n",
    "- class dates need fixing\n",
    "- cross links to lesson pages\n",
    "- cross links to homework pages\n",
    "\n",
    "---\n",
    "---"
   ]
  },
  {
   "cell_type": "markdown",
   "metadata": {},
   "source": [
    "## Course Schedule ##"
   ]
  },
  {
   "cell_type": "markdown",
   "metadata": {},
   "source": [
    "### Week 1 \n",
    "---\n",
    "(120 cumulative minutes)\n",
    "\n",
    "|date|topic|reading|homework due|\n",
    "|:---|:---|:---|:---|\n",
    "|13Jan22|Introduction <br> - Syllabus  <br> - Problem Solving  <br> - Dimensions <br> - Units| pp. 3-14 |none|"
   ]
  },
  {
   "cell_type": "markdown",
   "metadata": {},
   "source": [
    "### Week 2\n",
    "---\n",
    "(360 cumulative minutes)\n",
    "\n",
    "|date|topic|reading|homework due|\n",
    "|:---|:---|:---|:---|\n",
    "|18Jan22|Intensive and Extensive Fluid Properties <br> - Basic Fluid Properties <br> - Viscosimiters <br> - Vapor Pressure |pp. 14-47|[ES-1](http://54.243.252.9/ce-3305-webroot/2-Exercises/ES1/ES1.html)|\n",
    "|20Jan22|Fluid Statics and Pressure <br> - Measuring Devices <br> - Hydrostatic Force on a Plane Surface <br>   |pp. 47-80|[ES-2](http://54.243.252.9/ce-3305-webroot/2-Exercises/ES2/ES2.html)|"
   ]
  },
  {
   "cell_type": "markdown",
   "metadata": {},
   "source": [
    "### Week 3 \n",
    "---\n",
    "(600 cumulative minutes)\n",
    "\n",
    "|date|topic|reading|homework due|\n",
    "|:---|:---|:---|:---|\n",
    "|25Jan22|Fluid Statics and Pressure <br>- Forces on Submerged Objects <br> - Bouyancy <br> - Stability|pp. 77-93|[ES-3](http://54.243.252.9/ce-3305-webroot/2-Exercises/ES3/ES3.html)|\n",
    "|27Jan22|Euler Equation <br> - Constant Acceleration, Translation <br> -  Constant Velocity, Rotation   |pp. 93-141|[ES-4](http://54.243.252.9/ce-3305-webroot/2-Exercises/ES4/ES4.html)|"
   ]
  },
  {
   "cell_type": "markdown",
   "metadata": {},
   "source": [
    "### Week 4\n",
    "---\n",
    "(840 cumulative minutes)\n",
    "\n",
    "|date|topic|reading|homework|\n",
    "|:---|:---|:---|:---|\n",
    "|1Feb22|Kinematics <br> - Eulerian Coordinates <br> - Lagrangian Coordinates <br> - Acceleration |pp. 141-177|[ES-5](http://54.243.252.9/ce-3305-webroot/2-Exercises/ES5/ES5.html)|\n",
    "|3Feb22|Reynold’s Transport Theorem   <br> - Control Volumes <br> - Conservation of Mass <br> - Mean Section Velocity |pp. 177-223|[ES-6](http://54.243.252.9/ce-3305-webroot/2-Exercises/ES6/ES6.html)|\n",
    "\n",
    "**<font color=\"red\">Test 1 on BB for 24 hours</font>**"
   ]
  },
  {
   "cell_type": "markdown",
   "metadata": {},
   "source": [
    "### Week 5\n",
    "---\n",
    "(1180 cumulative minutes)\n",
    "\n",
    "|date|topic|reading|homework|\n",
    "|:---|:---|:---|:---|\n",
    "|8Feb22|Bernoulli Equation  <br> - Energy Grade Lines <br> - Hydraulic Grade Lines <br> - Energy (Modified Bernoulli) Equation|pp. 223-293|ES-7|\n",
    "|10Feb22|Reynold’s Transport Theorem <br> - Linear Momentum <br> - Angular Momentum |pp. 293-355|ES-8|\n"
   ]
  },
  {
   "cell_type": "markdown",
   "metadata": {},
   "source": [
    "### Week 6\n",
    "---\n",
    "(1920 cumulative minutes)\n",
    "\n",
    "|date|topic|reading|homework|\n",
    "|:---|:---|:---|:---|\n",
    "|15Feb22|Differential Fluid Flow <br> - Kinematics <br> - Circulation <br> - Vorticity |pp. 355-372 |ES-9|\n",
    "|17Feb22|Differential Fluid Flow <br> - Stream Function/Velocity Potential <br> - Ideal Flows <br> - Navier-Stokes Equations |pp. 372-429|ES-10|"
   ]
  },
  {
   "cell_type": "markdown",
   "metadata": {},
   "source": [
    "### Week 7\n",
    "---\n",
    "(1920 cumulative minutes)\n",
    "\n",
    "|date|topic|reading|homework|\n",
    "|:---|:---|:---|:---|\n",
    "|22Feb22|Dimensional Analysis <br> - Pi groups <br> – Correlation Functions |pp. 429-444 |ES-11| \n",
    "|24Feb22|Similitude  <br> - Geometric Similarity <br> - Kinematic Similarity <br> - Dynamic Similarity |pp. 444-469|ES-12|\n",
    "\n",
    "**<font color=\"red\">Test 2 on BB for 48 hours</font>**"
   ]
  },
  {
   "cell_type": "markdown",
   "metadata": {},
   "source": [
    "### Week 8\n",
    "---\n",
    "(1920 cumulative minutes)\n",
    "\n",
    "|date|topic|reading|homework|\n",
    "|:---|:---|:---|:---|\n",
    "|1Mar22|Viscous Internal Flows <br> - Parallel Plates <br> |pp. 469-480|ES-13|\n",
    "|3Mar22|Viscous Internal Flows <br> - Smooth Circular Conduit <br> - Reynolds Number |pp. 480-517|ES-14|"
   ]
  },
  {
   "cell_type": "markdown",
   "metadata": {},
   "source": [
    "### Week 9\n",
    "---\n",
    "(1920 cumulative minutes)\n",
    "\n",
    "|date|topic|reading|homework|\n",
    "|:---|:---|:---|:---|\n",
    "|8Mar22|Closed Conduit Analysis <br> - Pipeline loss <br> - Fitting loss <br> - Single Pipeline Flow |pp. 517-540 |ES-15|\n",
    "|10Mar22|Pipe Network Analysis <br> - Junction heads <br> - Conduit loss <br> - Equation systems|pp. 540-569|ES-16|"
   ]
  },
  {
   "cell_type": "markdown",
   "metadata": {},
   "source": [
    "### Week 10\n",
    "---\n",
    "(1920 cumulative minutes)\n",
    "\n",
    "|date|topic|reading|homework|\n",
    "|:---|:---|:---|:---|\n",
    "|22Mar22|Computational Hydraulics <br> - Pipe Network Analysis <br> - Newton-Raphson Method |pp. 540-569|ES-17|\n",
    "|24Mar22|Viscous External Flows <br> – Laminar Boundary Layers <br> - Turbulent Boundary Layers|pp. 569-596|ES-18|\n",
    "\n",
    "**<font color=\"red\">Test 3 on BB for 48 hours</font>**"
   ]
  },
  {
   "cell_type": "markdown",
   "metadata": {},
   "source": [
    "### Week 11\n",
    "---\n",
    "(1920 cumulative minutes)\n",
    "\n",
    "|date|topic|reading|homework|\n",
    "|:---|:---|:---|:---|\n",
    "|29Mar22|Viscous External Flows <br> - Drag and Lift<br> - Flow over Flat Plate <br> - Flow around Cylinder|pp. 596-647|ES-19|\n",
    "|31Mar22|Open Conduits <br> - Flow Types <br> - Specific Energy |pp. 647-666|ES-20|"
   ]
  },
  {
   "cell_type": "markdown",
   "metadata": {},
   "source": [
    "### Week 12\n",
    "---\n",
    "(1920 cumulative minutes)\n",
    "\n",
    "|date|topic|reading|homework|\n",
    "|:---|:---|:---|:---|\n",
    "|5Apr22|Steady Flows <br> - Uniform Flow <br> - Gradually Varied Flow |pp. 666-680|ES-21|\n",
    "|7Apr22|Steady Flows (continued) <br> - Rapidly Varied Flow <br> - Hydraulic Jump <br> - Weirs|pp. 680-707|ES-22|"
   ]
  },
  {
   "cell_type": "markdown",
   "metadata": {},
   "source": [
    "### Week 13\n",
    "---\n",
    "(1920 cumulative minutes)\n",
    "\n",
    "|date|topic|reading|homework|\n",
    "|:---|:---|:---|:---|\n",
    "|12Apr22|Computational Hydraulics <br> - GVF Backwater Curves <br> - GVF Frontwater Curves|ppXX-XX|ES-23|\n",
    "|14Apr22|Fluid machines <br> - Fans <br> - Compressors <br> - Pumps|ppXX-XX|ES-24|\n",
    "\n",
    "**<font color=\"red\">Test 4 on BB for 48 hours</font>**"
   ]
  },
  {
   "cell_type": "markdown",
   "metadata": {},
   "source": [
    "### Week 14\n",
    "---\n",
    "(1920 cumulative minutes)\n",
    "\n",
    "|date|topic|reading|homework|\n",
    "|:---|:---|:---|:---|\n",
    "|19Apr22|Fluid machines <br> - Pumps  |ppXX-XX|ES-25|\n",
    "|21Apr22|Computational Hydraulics <br> - Pipeline with Pumps <br> - Pipe network with pumps|ppXX-XX|ES-26|"
   ]
  },
  {
   "cell_type": "markdown",
   "metadata": {},
   "source": [
    "### Week 15\n",
    "---\n",
    "(1920 cumulative minutes)\n",
    "\n",
    "|date|topic|reading|homework|\n",
    "|:---|:---|:---|:---|\n",
    "|26Apr22|Unsteady Flow in Pipelines <br> - Rigid Column Theory <br> -  Elastic Theory|ppXX-XX|ES-27|\n",
    "|28Apr22|Compressible Flow <br> - Types <br> - Nozzles|ppXX-XX|none|"
   ]
  },
  {
   "cell_type": "markdown",
   "metadata": {},
   "source": [
    "### Week 16\n",
    "---\n",
    "(1920 cumulative minutes)\n",
    "\n",
    "|date|topic|reading|homework|\n",
    "|:---|:---|:---|:---|\n",
    "|3May22|Compressible Flow <br> - Heat Transfer <br> - Shock Waves <br> - Measurement |ppXX-XX|ES-28|\n",
    "\n",
    "**<font color=\"red\">Test 5 on BB for 48 hours</font>**"
   ]
  },
  {
   "cell_type": "markdown",
   "metadata": {},
   "source": [
    "---\n",
    "## Course Assessment and Grading Criteria:\n",
    "There will be $\\approx$ 15 homework assignments, five tests, and a final project report and presentation for this course.  \n",
    "<strong>Late</strong> assignments will be scored at 50% reduced value \n",
    "\n",
    "Grades will be based on the following components; weighting is approximate:\n",
    "\n",
    "|Assessment Instrument|Weight(%)|Points|\n",
    "|---|---:|---:|\n",
    "|Test-1|10|100|\n",
    "|Test-2|10|100|\n",
    "|Test-3|10|100|\n",
    "|Test-4|10|100|\n",
    "|Test-5|10|100|\n",
    "|Homework|40|400|\n",
    "|Attendance|5|50|\n",
    "|Quizzes|5|50|\n",
    "|Overall total|100|1000|\n",
    "\n",
    "Letter grades will be assigned using the following quantile proportions of all assessment instruments:\n",
    "\n",
    "|Quantile Range|Letter Grade|\n",
    "|:-|---:|\n",
    "|90-100|A| \n",
    "|61-89|B|\n",
    "|41-60|C|\n",
    "|21-40|D|\n",
    "|0 - 20|F|\n",
    "\n",
    "<!-- Scores as Quantiles Ranges\n",
    "|81-100|A| \n",
    "|61-80|B|\n",
    "|41-60|C|\n",
    "|21-40|D|\n",
    "|<= 0-20|F|\n",
    "-->\n"
   ]
  },
  {
   "cell_type": "markdown",
   "metadata": {},
   "source": [
    "## Classroom Policy:\n",
    "The following activities are not allowed in the classroom: Texting or talking on the cellphone or other electronic devices, and reading non-course related materials.\n",
    "### Telepresence (On-line) Courses\n",
    "Obviously electronic devices are vital; disrupting the conference is prohibited, please mute your microphone unless you have a question - consider typing your question into the chat window as well. Be aware of bandwidth issues and remember most lessons and laboratory sessions are recorded and posted on youtube.  Recording, editing, and rendering takes awhile, so expect 24-36 hour delay before video is available. "
   ]
  },
  {
   "cell_type": "markdown",
   "metadata": {},
   "source": [
    "---\n",
    "## ADA Statement: \n",
    "Any student who, because of a disability, may require special arrangements in order to meet the course requirements should contact the instructor as soon as possible to make necessary arrangements.  Students must present appropriate verification from Student Disability Services during the instructor's office hours.  Please note that instructors are not allowed to provide classroom accommodation to a student until appropriate verification from Student Disability Services has been provided.  For additional information, please contact Student Disability Services \n",
    "office in 335 West Hall or call 806.742.2405.\n",
    "\n",
    "## Academic Integrity Statement:\n",
    "Academic integrity is taking responsibility for one’s own class and/or course work, being individually accountable, and demonstrating intellectual honesty and ethical behavior.  Academic integrity is a personal choice to abide by the standards of intellectual honesty and responsibility.  Because education is a shared effort to achieve learning through the exchange of ideas, students, faculty, and staff have the collective responsibility to build mutual trust and respect.  Ethical behavior and independent thought are essential for the highest level of academic achievement, which then must be measured.  Academic achievement includes scholarship, teaching, and learning, all of which are shared endeavors.  Grades are a device used to quantify the successful accumulation of knowledge through learning.  Adhering to the standards of academic integrity ensures grades are earned honestly.  Academic integrity is the foundation upon which students, faculty, and staff build their educational and professional careers.  [Texas Tech University (“University”) Quality Enhancement Plan, Academic Integrity Task Force, 2010].\n",
    "\n",
    "## Religious Holy Day Statement: \n",
    "“Religious holy day” means a holy day observed by a religion whose places of worship are exempt from property taxation under Texas Tax Code §11.20.  A student who intends to observe a religious holy day should make that intention known to the instructor prior to the absence.  A student who is absent from classes for the observance of a religious holy day shall be allowed to take an examination or complete an assignment scheduled for that day within a reasonable time after the absence.  A student who is excused may not be penalized for the absence; however, the instructor may respond appropriately if the student fails to complete the assignment satisfactorily.\n",
    "\n",
    "## Ethical Conduct Policy:\n",
    "Cheating is prohibited, and the representation of the work of another person as your own will be grounds for receiving a failing grade in the course.\n",
    "\n",
    "**DISCRIMINATION, HARASSMENT, AND SEXUAL VIOLENCE STATEMENT:**\n",
    "Texas Tech University is committed to providing and strengthening an educational, working, and living environment where students, faculty, staff, and visitors are free from gender and/or sex discrimination of any kind. Sexual assault, discrimination, harassment, and other Title IX violations are not tolerated by the University. Report any incidents to the Office for Student Rights & Resolution, (806)-742-SAFE (7233) or file a report online at titleix.ttu.edu/students. Faculty and staff members at TTU are committed to connecting you to resources on campus. Some of these available resources are: TTU Student Counseling Center, 806- 742-3674, https://www.depts.ttu.edu/scc/(Provides confidential support on campus.) TTU 24-hour Crisis Helpline, 806-742-5555, (Assists students who are experiencing a mental health or interpersonal violence crisis. If you call the helpline, you will speak with a mental health counselor.) Voice of Hope Lubbock Rape Crisis Center, 806-763-7273, voiceofhopelubbock.org (24-hour hotline that provides support for survivors of sexual violence.) The Risk, Intervention, Safety and Education (RISE) Office, 806-742-2110,  https://www.depts.ttu.edu/rise/ (Provides a range of resources and support options focused on prevention education and student wellness.) Texas Tech Police Department, 806-742- 3931,http://www.depts.ttu.edu/ttpd/ (To report criminal activity that occurs on or near Texas Tech campus.)\n",
    "\n",
    "**CIVILITY IN THE CLASSROOM STATEMENT:**\n",
    "Texas Tech University is a community of faculty, students, and staff that enjoys an expectation of cooperation, professionalism, and civility during the conduct of all forms of university business, including the conduct of student–student and student–faculty interactions in and out of the classroom. Further, the classroom is a setting in which an exchange of ideas and creative thinking should be encouraged and where intellectual growth and development are fostered. Students who disrupt this classroom mission by rude, sarcastic, threatening, abusive or obscene language and/or behavior will be subject to appropriate sanctions according to university policy. Likewise, faculty members are expected to maintain the highest standards of professionalism in all interactions with all constituents of the university.\n",
    "To ensure that you are fully engaged in class discussions and account team meetings during class time, you are expected to do the following:\n",
    "- Maintain the same level of civility and professionalism that would be expected in a face-to-face classroom setting.\n",
    "- Attend all classes regularly.\n",
    "- Log into the video conference on time and remain logged in for the duration of the class period.\n",
    "- Activate your camera so that you are visible to the instructor and other students in the class. If you have concerns about leaving your camera on (such as childcare obligations, privacy issues, or a particular circumstance during a class period), please talk to the instructor.\n",
    "- Refrain from engaging in non-class related activities during class time that create a distraction for other students in the class and/or limit your ability to engage in the course.\n",
    "Failure to meet these expectations may result in the following consequences:\n",
    "1. Being counted as absent for the class meeting.\n",
    "2. Not receiving credit for class participation for that class period.\n",
    "3. Other consequences as stipulated in the syllabus, Texas Tech Code of Student Conduct, or other university policy.\n",
    "Repeated failure to meet expectations (e.g., attendance, participation in class, etc.), in addition to the above consequences, may result in the one or more of the following consequences:\n",
    "1. Referral to the appropriate Associate Dean.\n",
    "2. Academic penalty, ranging from a warning to failure of the course.\n",
    "(www.depts.ttu.edu/ethics/matadorchallenge/ethicalprinciples.php).\n",
    "\n",
    "**LGBTQIA SUPPORT STATEMENT:**\n",
    "I identify as an ally to the lesbian, gay, bisexual, transgender, queer, intersex, and asexual (LGBTQIA) community, and I am available to listen and support you in an affirming manner. I can assist in connecting you with resources on campus to address problems you may face pertaining to sexual orientation and/or gender identity that could interfere with your success at Texas Tech. Please note that additional resources are available through the Office of LGBTQIA within the Center for Campus Life, Student Union Building Room 201, www.lgbtqia.ttu.edu, 806.742.5433.”\n",
    "\n",
    "Office of LGBTQIA, Student Union Building Room 201, www.lgbtqia.ttu.edu, 806.742.5433\n",
    "Within the Center for Campus Life, the Office serves the Texas Tech community through facilitation and leadership of programming and advocacy efforts. This work is aimed at strengthening the lesbian, gay, bisexual, transgender, queer, intersex, and asexual (LGBTQIA) community and sustaining an inclusive campus that welcomes people of all sexual orientations, gender identities, and gender expressions.\n"
   ]
  },
  {
   "cell_type": "code",
   "execution_count": null,
   "metadata": {},
   "outputs": [],
   "source": []
  },
  {
   "cell_type": "code",
   "execution_count": 1,
   "metadata": {},
   "outputs": [
    {
     "data": {
      "text/plain": [
       "14.285714285714286"
      ]
     },
     "execution_count": 1,
     "metadata": {},
     "output_type": "execute_result"
    }
   ],
   "source": []
  },
  {
   "cell_type": "code",
   "execution_count": null,
   "metadata": {},
   "outputs": [],
   "source": []
  }
 ],
 "metadata": {
  "kernelspec": {
   "display_name": "Python 3",
   "language": "python",
   "name": "python3"
  },
  "language_info": {
   "codemirror_mode": {
    "name": "ipython",
    "version": 3
   },
   "file_extension": ".py",
   "mimetype": "text/x-python",
   "name": "python",
   "nbconvert_exporter": "python",
   "pygments_lexer": "ipython3",
   "version": "3.8.10"
  }
 },
 "nbformat": 4,
 "nbformat_minor": 4
}
