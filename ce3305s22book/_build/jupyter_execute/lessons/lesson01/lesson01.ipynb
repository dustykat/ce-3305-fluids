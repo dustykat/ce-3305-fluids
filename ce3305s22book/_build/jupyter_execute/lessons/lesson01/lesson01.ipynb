{
 "cells": [
  {
   "cell_type": "markdown",
   "metadata": {},
   "source": [
    "# Fluid Properties\n",
    "\n",
    "## Lesson Outline\n",
    "1. Intensive and Extensive Properties\n",
    "2. Viscosity\n",
    "3. Liquid Properties\n",
    "4. topic\n",
    "5. topic\n",
    "6. topic"
   ]
  }
 ],
 "metadata": {
  "kernelspec": {
   "display_name": "Python 3",
   "language": "python",
   "name": "python3"
  },
  "language_info": {
   "codemirror_mode": {
    "name": "ipython",
    "version": 3
   },
   "file_extension": ".py",
   "mimetype": "text/x-python",
   "name": "python",
   "nbconvert_exporter": "python",
   "pygments_lexer": "ipython3",
   "version": "3.8.10"
  }
 },
 "nbformat": 4,
 "nbformat_minor": 4
}