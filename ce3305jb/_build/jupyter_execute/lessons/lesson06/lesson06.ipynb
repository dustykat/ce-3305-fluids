{
 "cells": [
  {
   "cell_type": "markdown",
   "metadata": {},
   "source": [
    "# Bernoulli Applications\n",
    "\n",
    "## Lesson Outline\n",
    "- Applications\n",
    "-"
   ]
  },
  {
   "cell_type": "markdown",
   "metadata": {},
   "source": [
    "### Background\n",
    "\n",
    "The last lesson introduced the Euler (and Bernoulli) equations which are fundamental in applied fluid mechanics.\n",
    "\n",
    "This lesson also examines applications using the equations as-is.\n",
    "\n",
    "### Bernoulli Equation\n",
    "\n",
    "Recall from last time the equation of \n",
    "\n",
    "- steady ($\\frac{\\partial}{\\partial t} = 0$)\n",
    "- inviscid ($ \\frac{\\partial V}{\\partial y} = 0$)\n",
    "- gravity vector is down ($-z$)\n",
    "- incompressible ($\\rho = constant$)\n",
    "- irrotational ($curl(V)=0$)\n",
    "\n",
    "Results in \n",
    "\n",
    "$ \\frac{p_1}{\\rho g} + \\frac{V_1^2}{2g} + z_1 = \\frac{p_2}{\\rho g} + \\frac{V_2^2}{2g} + z_2  $\n",
    "\n",
    "Below are some examples illustrating its use"
   ]
  },
  {
   "cell_type": "markdown",
   "metadata": {},
   "source": [
    "#### Example: Flow out of a holy tank\n",
    "\n",
    "Identify the problem solving steps employed\n",
    "\n",
    "```{figure} bernoulli-ex1.png\n",
    "---\n",
    "width: 600px\n",
    "name: bernoulli-ex1\n",
    "---\n",
    "\n",
    "```"
   ]
  },
  {
   "cell_type": "markdown",
   "metadata": {},
   "source": [
    "#### Example: Pressure near tank outlet\n",
    "\n",
    "Identify the problem solving steps employed\n",
    "\n",
    "```{figure} bernoulli-ex2.png\n",
    "---\n",
    "width: 600px\n",
    "name: bernoulli-ex2\n",
    "---\n",
    "\n",
    "```\n",
    "\n"
   ]
  },
  {
   "cell_type": "markdown",
   "metadata": {},
   "source": [
    "#### Example: How high will a fountain go?\n",
    "\n",
    "Consider the fountains at a resort.  What kind of pressures and velocities are required to make the show happen?\n",
    "\n",
    "```{figure} bellagio.png\n",
    "---\n",
    "width: 400px\n",
    "name: bellagio\n",
    "---\n",
    "\n",
    "```\n",
    "\n",
    "Here's a related problem that could form the basis of fountain design.\n",
    "\n",
    "Identify the problem solving steps employed\n",
    "\n",
    "```{figure} bernoulli-ex3.png\n",
    "---\n",
    "width: 600px\n",
    "name: bernoulli-ex3\n",
    "---\n",
    "\n",
    "```\n",
    "\n"
   ]
  },
  {
   "cell_type": "markdown",
   "metadata": {},
   "source": [
    "### Rotation of a Fluid\n",
    "\n",
    "\n",
    "\n",
    "```{figure} rotation-one.png\n",
    "---\n",
    "width: 600px\n",
    "name: rotation-one\n",
    "---\n",
    "\n",
    "```\n",
    "\n",
    "```{figure} rotation-two.png\n",
    "---\n",
    "width: 600px\n",
    "name: rotation-two\n",
    "---\n",
    "\n",
    "```"
   ]
  },
  {
   "cell_type": "markdown",
   "metadata": {},
   "source": [
    "### Control Volumes and Continunity"
   ]
  },
  {
   "cell_type": "markdown",
   "metadata": {},
   "source": [
    "\n",
    "## Readings\n",
    "\n",
    "1. CE-3305-2022-1 Syllabus. [http://54.243.252.9/ce-3305-webroot/0-Syllabus/ce-3305-2022-1-syllabus.html](http://54.243.252.9/ce-3305-webroot/0-Syllabus/ce-3305-2022-1-syllabus.html)\n",
    "\n",
    "2. Hibbeler, R.C, Fluid Mechanics, 2ed. Prentice Hall, 2018. ISBN: 9780134655413 pp. 141-177\n",
    "\n",
    "3. DF Elger, BC Williams, Crowe, CT and JA Roberson, *Engineering Fluid Mechanics 10th edition*, John Wiley & Sons, Inc., 2013.  (placeholder file to get links working). [http://54.243.252.9/ce-3305-webroot/3-Readings/EFM-5.pdf](http://54.243.252.9/ce-3305-webroot/3-Readings/EFM-5.pdf)\n",
    "\n",
    "4. Cleveland, T. G. (2014) *Fluid Mechanics Notes to Accompany CE 3305 at Jade-Holshule (TTU Study Abroad 2015-2019)*, Department of Civil, Environmental, and Construction Engineering, Whitacre College of Engineering. [http://54.243.252.9/ce-3305-webroot/3-Readings/ce3305-lecture-006.0.pdf](http://54.243.252.9/ce-3305-webroot/3-Readings/ce3305-lecture-006.0.pdf)\n"
   ]
  }
 ],
 "metadata": {
  "kernelspec": {
   "display_name": "Python 3",
   "language": "python",
   "name": "python3"
  },
  "language_info": {
   "codemirror_mode": {
    "name": "ipython",
    "version": 3
   },
   "file_extension": ".py",
   "mimetype": "text/x-python",
   "name": "python",
   "nbconvert_exporter": "python",
   "pygments_lexer": "ipython3",
   "version": "3.8.10"
  }
 },
 "nbformat": 4,
 "nbformat_minor": 4
}