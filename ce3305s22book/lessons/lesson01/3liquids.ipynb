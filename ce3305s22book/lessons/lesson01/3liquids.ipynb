{
 "cells": [
  {
   "cell_type": "markdown",
   "metadata": {},
   "source": [
    "## Liquid Properties\n",
    "\n",
    "A liquid is one kind of fluid, but it has a few added properties that are important.  One such property is surface tension, $\\sigma$.\n",
    "\n",
    "Surface tension is the force per unit area required to separate two fluids.  It is measured with a ring tensiometer [https://en.wikipedia.org/wiki/Du_No%C3%BCy_ring_method](https://en.wikipedia.org/wiki/Du_No%C3%BCy_ring_method), and a few other ways.\n",
    "Dimensionally it is a force per unit length, and is one reason why liquids can rise up capillary tubes, or into porous materials (like a sponge).  Surface tension controls how liquids spread or bead up on a surface.\n",
    "\n",
    "```{figure} surface-tension.png\n",
    "---\n",
    "width: 600px\n",
    "name: surface-tension\n",
    "---\n",
    "Wetting and non-wetting fluid-fluid-solid systems.\n",
    "```\n",
    "{numref}`surface-tension` is a schematic of a wetting and non-wetting drop of fluid onto a surface.\n",
    "\n",
    "### Capillary Rise\n",
    "\n",
    "We can explain capillary rise using a force-balance and the concepts of wetting and non-wetting fluids.\n",
    "\n",
    "```{figure} capillary-fbd.png\n",
    "---\n",
    "width: 600px\n",
    "name: capillary-fbd\n",
    "---\n",
    "Schematic of capillary tube\n",
    "```\n",
    "{numref}`capillary-fbd`\n",
    "\n",
    "```{figure} capillary-analysis.png\n",
    "---\n",
    "width: 600px\n",
    "name: capillary-analysis\n",
    "---\n",
    "Force balance analysis of portion above free surface.\n",
    "```\n",
    "{numref}`capillary-analysis`\n",
    "\n",
    ":::{note}\n",
    "Some of the intermediate algebra is shown below to illustrate the terms that are cancelled.  Many equations in the book are shown without intermediate steps; its up to you to trust explicitly, or check the intermediate steps yourselves - textbooks are a bit more reliable than Facebook for facts, but not much (even this notebook should be held suspect until you check the work for errors and ommissions!)\n",
    "\n",
    "```{figure} capillary-algebra.png\n",
    "---\n",
    "width: 400px\n",
    "name: capillary-algebra\n",
    "---\n",
    "Intermediate algebra\n",
    "```\n",
    "{numref}`capillary-algebra` is some of the intermediate algebra for capillary tubes.\n",
    ":::\n",
    "\n",
    "Using our equations and knowledge of contact angle for water in the note above we can calculate the rise in a capillary tube."
   ]
  },
  {
   "cell_type": "markdown",
   "metadata": {},
   "source": [
    "## Example 3 - Capillary Tube\n",
    "\n",
    "```{figure} capillary-water-1.png\n",
    "---\n",
    "width: 600px\n",
    "name: capillary-water-1\n",
    "---\n",
    "Intermediate algebra\n",
    "```\n",
    "{numref}`capillary-water-1` is a brief problem statement, sketch, and list of known values.\n",
    "\n",
    "```{figure} capillary-water-2.png\n",
    "---\n",
    "width: 600px\n",
    "name: capillary-water-2\n",
    "---\n",
    "Intermediate algebra\n",
    "```\n",
    "{numref}`capillary-water-2` is the remainder of the solution, with a list of unknowns, the governing equation, and worked out solution.  Notice the solution protocol is still followed but greatly simplified in this example."
   ]
  }
 ],
 "metadata": {
  "kernelspec": {
   "display_name": "Python 3",
   "language": "python",
   "name": "python3"
  },
  "language_info": {
   "codemirror_mode": {
    "name": "ipython",
    "version": 3
   },
   "file_extension": ".py",
   "mimetype": "text/x-python",
   "name": "python",
   "nbconvert_exporter": "python",
   "pygments_lexer": "ipython3",
   "version": "3.8.10"
  }
 },
 "nbformat": 4,
 "nbformat_minor": 4
}
