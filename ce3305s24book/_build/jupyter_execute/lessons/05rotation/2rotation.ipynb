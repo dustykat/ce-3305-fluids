{
 "cells": [
  {
   "cell_type": "markdown",
   "metadata": {},
   "source": [
    "# Rotation of a Fluid\n",
    "\n",
    "\n",
    "\n",
    "```{figure} rotation-one.png\n",
    "---\n",
    "width: 600px\n",
    "name: rotation-one\n",
    "---\n",
    "\n",
    "```\n",
    "\n",
    "```{figure} rotation-two.png\n",
    "---\n",
    "width: 600px\n",
    "name: rotation-two\n",
    "---\n",
    "\n",
    "```\n",
    "\n",
    "```{figure} rotation-three.png\n",
    "---\n",
    "width: 600px\n",
    "name: rotation-three\n",
    "---\n",
    "\n",
    "```"
   ]
  }
 ],
 "metadata": {
  "kernelspec": {
   "display_name": "Python 3",
   "language": "python",
   "name": "python3"
  },
  "language_info": {
   "codemirror_mode": {
    "name": "ipython",
    "version": 3
   },
   "file_extension": ".py",
   "mimetype": "text/x-python",
   "name": "python",
   "nbconvert_exporter": "python",
   "pygments_lexer": "ipython3",
   "version": "3.8.10"
  }
 },
 "nbformat": 4,
 "nbformat_minor": 4
}