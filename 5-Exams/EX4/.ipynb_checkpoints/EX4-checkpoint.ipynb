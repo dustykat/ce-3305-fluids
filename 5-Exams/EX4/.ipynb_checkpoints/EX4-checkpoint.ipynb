{
 "cells": [
  {
   "cell_type": "markdown",
   "metadata": {},
   "source": [
    "**Download** (right-click, save target as ...) this page as a Jupyterlab notebook from: [EX-4](http://54.243.252.9/ce-3305-webroot/5-Exams/EX4/EX4.ipynb)\n",
    "\n",
    "___"
   ]
  },
  {
   "cell_type": "markdown",
   "metadata": {},
   "source": [
    "# <font color=darkblue>CE 3305 Engineering Fluid Mechanics <br> Summer 2022 Exam 4</font>\n",
    "\n",
    "**LAST NAME, FIRST NAME**\n",
    "\n",
    "**R00000000**\n",
    "\n",
    "___\n",
    "\n",
    "### Purpose : \n",
    "Demonstrate ability to apply fluid mechanics and problem solving principles covering topics such as: Bernoulli's equation, Conservation of Mass, Control Volume Analysis, Conservation of Linear Momentum.\n"
   ]
  },
  {
   "cell_type": "markdown",
   "metadata": {},
   "source": [
    "---\n",
    "\n",
    "### Problem 1:\n",
    "\n",
    "In the design of a lift station, a bypass line is often installed parallel to the pump so some liquid recirculates as shown on Figure 1.  The bypass valve then controls the flow rate in the system.\n",
    "\n",
    "<figure align=\"center\">\n",
    "<!--<img src=\"./pump-bypass.png\" width=\"400\" > -->\n",
    "<img src=\"http://54.243.252.9/ce-3305-webroot/5-Exams/EX4/pump-bypass.png\" width=\"400\" >\n",
    "<figcaption>Figure 1. Pump By-Pass Plumbing Schematic </figcaption>\n",
    "</figure>\n",
    "\n",
    "The pump performance function is $$h_p = 100 - 100Q$$ where $h_p$ is in meters, and $Q$ is in $\\frac{m^3}{sec}$ The bypass line is 10 cm in diameter.  The valve setting produces a loss coefficient of 0.2 and the valve loss is the only head loss at the lift station.  For a discharge leaving the lift station of 0.2 $\\frac{m^3}{sec}$ \n",
    "\n",
    "Determine:\n",
    "1. The discharge through the pump\n",
    "2. The discharge through the bypass line\n"
   ]
  },
  {
   "cell_type": "code",
   "execution_count": 6,
   "metadata": {},
   "outputs": [],
   "source": [
    "# sketch here"
   ]
  },
  {
   "cell_type": "code",
   "execution_count": 7,
   "metadata": {},
   "outputs": [],
   "source": [
    "# list known quantities"
   ]
  },
  {
   "cell_type": "code",
   "execution_count": 8,
   "metadata": {},
   "outputs": [],
   "source": [
    "# list unknown quantities"
   ]
  },
  {
   "cell_type": "code",
   "execution_count": 9,
   "metadata": {},
   "outputs": [],
   "source": [
    "# governing principles"
   ]
  },
  {
   "cell_type": "code",
   "execution_count": 10,
   "metadata": {},
   "outputs": [],
   "source": [
    "# solution (step-by-step)"
   ]
  },
  {
   "cell_type": "code",
   "execution_count": 11,
   "metadata": {},
   "outputs": [],
   "source": [
    "# discussion"
   ]
  },
  {
   "cell_type": "markdown",
   "metadata": {},
   "source": [
    "---\n",
    "\n",
    "### Problem 2\n",
    "\n",
    "Figure 2 is a schematic of a parallel pipe system.  Flow occurs from A to B as shown. To augment the flow a pump is located between C and C'. The network is on a plane (flat) surface; all the junction elevations are the same. The pipes are commercial steel.\n",
    "\n",
    "<figure align=\"center\">\n",
    "<!--<img src=\"./network-layout.png\" width=\"400\" > -->\n",
    "<img src=\"http://54.243.252.9/ce-3305-webroot/5-Exams/EX4/network-layout.png\" width=\"400\" >\n",
    "<figcaption>Figure 2. Network Layout (Plan View) </figcaption>\n",
    "</figure>\n",
    "\n",
    "The pump characteristic curve is shown on Figure 3.\n",
    "\n",
    "<figure align=\"center\">\n",
    "<!-- <img src=\"./pump-curve-ex4.png\" width=\"400\" > -->\n",
    "<img src=\"http://54.243.252.9/ce-3305-webroot/5-Exams/EX4/pump-curve-ex4.png\" width=\"400\" >\n",
    "<figcaption>Figure 3. Pump performance curve  </figcaption>\n",
    "</figure>\n",
    "\n",
    "Total discharge is 0.60 $\\frac{m^3}{sec}$ \n",
    "\n",
    "Determine:\n",
    "1. The division of flow between pipes A-B and A-C-B\n",
    "2. The head loss in pipe A-B\n",
    "3. The head loss in pipe A-C\n",
    "4. The head loss in pipe C'-B\n",
    "5. The pump operating conditions.\n"
   ]
  },
  {
   "cell_type": "code",
   "execution_count": 12,
   "metadata": {},
   "outputs": [],
   "source": [
    "# sketch(s) here"
   ]
  },
  {
   "cell_type": "code",
   "execution_count": 2,
   "metadata": {},
   "outputs": [],
   "source": [
    "# list known quantities"
   ]
  },
  {
   "cell_type": "code",
   "execution_count": 3,
   "metadata": {},
   "outputs": [],
   "source": [
    "# list unknown quantities"
   ]
  },
  {
   "cell_type": "code",
   "execution_count": 4,
   "metadata": {},
   "outputs": [],
   "source": [
    "# governing principles"
   ]
  },
  {
   "cell_type": "code",
   "execution_count": 5,
   "metadata": {},
   "outputs": [],
   "source": [
    "# solution (step-by-step) "
   ]
  },
  {
   "cell_type": "code",
   "execution_count": 7,
   "metadata": {},
   "outputs": [],
   "source": [
    "# discussion"
   ]
  },
  {
   "cell_type": "markdown",
   "metadata": {},
   "source": [
    "---\n",
    "\n",
    "### Problem 3\n",
    "\n",
    "The pump curve for a particular pump is\n",
    "\n",
    "$$h_{p,pump} = 20[1-(\\frac{Q}{100})^2] $$\n",
    "\n",
    "where $h_{p,pump}$ is the added pump head in feet, and $Q$ is the discharge in gallons per minute.\n",
    "\n",
    "The system curve for a pumping application is\n",
    "\n",
    "$$h_{p,sys} = 5 + 0.002 Q^2 $$\n",
    "\n",
    "where $h_{p,sys}$ is the required added head in feet, and $Q$ is the discharge in gallons per minute.\n",
    "\n",
    "Determine:\n",
    "1. The operating point Q for a single pump\n",
    "2. The operating point Q for two identical pumps in series\n",
    "3. The operating point Q for two identical pumps in parallel"
   ]
  },
  {
   "cell_type": "code",
   "execution_count": 12,
   "metadata": {},
   "outputs": [],
   "source": [
    "# sketch(s) here"
   ]
  },
  {
   "cell_type": "code",
   "execution_count": 2,
   "metadata": {},
   "outputs": [],
   "source": [
    "# list known quantities"
   ]
  },
  {
   "cell_type": "code",
   "execution_count": 3,
   "metadata": {},
   "outputs": [],
   "source": [
    "# list unknown quantities"
   ]
  },
  {
   "cell_type": "code",
   "execution_count": 4,
   "metadata": {},
   "outputs": [],
   "source": [
    "# governing principles"
   ]
  },
  {
   "cell_type": "code",
   "execution_count": 5,
   "metadata": {},
   "outputs": [],
   "source": [
    "# solution (step-by-step) "
   ]
  },
  {
   "cell_type": "code",
   "execution_count": 7,
   "metadata": {},
   "outputs": [],
   "source": [
    "# discussion"
   ]
  },
  {
   "cell_type": "markdown",
   "metadata": {},
   "source": []
  },
  {
   "cell_type": "markdown",
   "metadata": {},
   "source": [
    "---\n",
    "\n",
    "### Problem 4\n",
    "\n",
    "Figure 4 is a schematic of a pumped-storage system. A flow of 0.10 $m^3/s$ of water is to be maintained in the system shown. The pipe is made of steel and is 15 cm in diameter.\n",
    "\n",
    "<figure align=\"center\">\n",
    "<!-- <img src=\"./windmill.png\" width=\"300\" > -->\n",
    "<img src=\"http://54.243.252.9/ce-3305-webroot/5-Exams/EX4/pump-storage.png\" width=\"300\" >\n",
    "<figcaption>Figure 4. Pump-Storage System </figcaption>\n",
    "</figure>\n",
    "\n",
    "Determine:\n",
    "1.  The power (in Watts) that must be added to the water by the pump"
   ]
  },
  {
   "cell_type": "code",
   "execution_count": 12,
   "metadata": {},
   "outputs": [],
   "source": [
    "# sketch(s) here"
   ]
  },
  {
   "cell_type": "code",
   "execution_count": 2,
   "metadata": {},
   "outputs": [],
   "source": [
    "# list known quantities"
   ]
  },
  {
   "cell_type": "code",
   "execution_count": 3,
   "metadata": {},
   "outputs": [],
   "source": [
    "# list unknown quantities"
   ]
  },
  {
   "cell_type": "code",
   "execution_count": 4,
   "metadata": {},
   "outputs": [],
   "source": [
    "# governing principles"
   ]
  },
  {
   "cell_type": "code",
   "execution_count": 5,
   "metadata": {},
   "outputs": [],
   "source": [
    "# solution (step-by-step) "
   ]
  },
  {
   "cell_type": "code",
   "execution_count": 7,
   "metadata": {},
   "outputs": [],
   "source": [
    "# discussion"
   ]
  }
 ],
 "metadata": {
  "kernelspec": {
   "display_name": "Python 3",
   "language": "python",
   "name": "python3"
  },
  "language_info": {
   "codemirror_mode": {
    "name": "ipython",
    "version": 3
   },
   "file_extension": ".py",
   "mimetype": "text/x-python",
   "name": "python",
   "nbconvert_exporter": "python",
   "pygments_lexer": "ipython3",
   "version": "3.8.10"
  }
 },
 "nbformat": 4,
 "nbformat_minor": 4
}
