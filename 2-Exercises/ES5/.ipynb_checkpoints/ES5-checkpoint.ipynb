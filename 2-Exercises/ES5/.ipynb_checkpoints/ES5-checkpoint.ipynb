{
 "cells": [
  {
   "cell_type": "markdown",
   "metadata": {},
   "source": [
    "**Download** (right-click, save target as ...) this page as a Jupyterlab notebook from: [ES-5](http://54.243.252.9/ce-3305-webroot/2-Exercises/ES5/ES5.ipynb)\n",
    "\n",
    "___"
   ]
  },
  {
   "cell_type": "markdown",
   "metadata": {},
   "source": [
    "# <font color=darkblue>CE 3305 Engineering Fluid Mechanics <br> Summer 2022 Exercise Set 5</font>\n",
    "\n",
    "**LAST NAME, FIRST NAME**\n",
    "\n",
    "**R00000000**\n",
    "\n",
    "___\n",
    "\n",
    "### Purpose : \n",
    "Application of static pressure to find forces on submerged plates.\n",
    "### Assessment Criteria : \n",
    "Completion, plausible solutions, use of Jupyter Notebook as a calculator/documentation method\n",
    "\n",
    "___"
   ]
  },
  {
   "cell_type": "markdown",
   "metadata": {},
   "source": [
    "### Problem 1.\n",
    "Figure 1 is a schematic of a panel at the bottom of a tank filled with water. The panel is square. The distance from the free surface to the top of the panel is d = 1 m, and h = 2 m.\n",
    "\n",
    "<figure align=\"center\">\n",
    "<!--<img src=\"./panel.png\" width=\"200\" > -->\n",
    "<img src=\"http://54.243.252.9/ce-3305-webroot/2-Exercises/ES5/panel.png\" width=\"200\" >\n",
    "<figcaption>Figure 1. Panel at bottom of a tank</figcaption>\n",
    "</figure>\n",
    "\n",
    "Find:\n",
    "- the depth to the centroid of the panel.\n",
    "- the resultant force on the panel.\n",
    "- the distance from the centroid to the center of pressure."
   ]
  },
  {
   "cell_type": "code",
   "execution_count": 22,
   "metadata": {},
   "outputs": [],
   "source": [
    "# sketch here"
   ]
  },
  {
   "cell_type": "code",
   "execution_count": 23,
   "metadata": {},
   "outputs": [],
   "source": [
    "# list known quantities"
   ]
  },
  {
   "cell_type": "code",
   "execution_count": 24,
   "metadata": {},
   "outputs": [],
   "source": [
    "# list unknown quantities"
   ]
  },
  {
   "cell_type": "code",
   "execution_count": 25,
   "metadata": {},
   "outputs": [],
   "source": [
    "# governing principles"
   ]
  },
  {
   "cell_type": "code",
   "execution_count": 26,
   "metadata": {},
   "outputs": [],
   "source": [
    "# solution (step-by-step)"
   ]
  },
  {
   "cell_type": "code",
   "execution_count": 27,
   "metadata": {},
   "outputs": [],
   "source": [
    "# discussion"
   ]
  },
  {
   "cell_type": "markdown",
   "metadata": {},
   "source": [
    "---"
   ]
  },
  {
   "cell_type": "markdown",
   "metadata": {},
   "source": [
    "### Problem 2.\n",
    "\n",
    "Figure 2 is a schematic of a hinged gate with the hinge at the waterline. \n",
    "The gate is 4 ft high and 8 ft wide. The specific weight of water is $62.4~\\frac{lbf}{ft^3}$ \n",
    "\n",
    "<figure align=\"center\">\n",
    "<!--<img src=\"./gate.png\" width=\"200\" > -->\n",
    "<img src=\"http://54.243.252.9/ce-3305-webroot/2-Exercises/ES5/gate.png\" width=\"200\" >\n",
    "<figcaption>Figure 2: Hinged gate</figcaption>\n",
    "</figure>\n",
    "\n",
    "Find the required force (in lbf) applied at the bottom of the gate to keep it shut."
   ]
  },
  {
   "cell_type": "code",
   "execution_count": 43,
   "metadata": {},
   "outputs": [],
   "source": [
    "# sketch here"
   ]
  },
  {
   "cell_type": "code",
   "execution_count": 44,
   "metadata": {},
   "outputs": [],
   "source": [
    "# list known quantities"
   ]
  },
  {
   "cell_type": "code",
   "execution_count": 45,
   "metadata": {},
   "outputs": [],
   "source": [
    "# list unknown quantities"
   ]
  },
  {
   "cell_type": "code",
   "execution_count": 5,
   "metadata": {},
   "outputs": [],
   "source": [
    "# governing principles"
   ]
  },
  {
   "cell_type": "code",
   "execution_count": 6,
   "metadata": {},
   "outputs": [],
   "source": [
    "# solution (step-by-step)"
   ]
  },
  {
   "cell_type": "code",
   "execution_count": 7,
   "metadata": {},
   "outputs": [],
   "source": [
    "# discussion"
   ]
  },
  {
   "cell_type": "markdown",
   "metadata": {},
   "source": [
    "\n",
    "---\n",
    "\n",
    "<a href=\"https://youtu.be/NY7bf1LrHtA\"> <img src=\"http://54.243.252.9/ce-3305-webroot/2-Exercises/ES5/easy-button.png\" alt=\"EZ Button Link to ES-5 sample solution\" style=\"width:42px;height:42px;align:left\"> </a> "
   ]
  }
 ],
 "metadata": {
  "kernelspec": {
   "display_name": "Python 3",
   "language": "python",
   "name": "python3"
  },
  "language_info": {
   "codemirror_mode": {
    "name": "ipython",
    "version": 3
   },
   "file_extension": ".py",
   "mimetype": "text/x-python",
   "name": "python",
   "nbconvert_exporter": "python",
   "pygments_lexer": "ipython3",
   "version": "3.8.10"
  }
 },
 "nbformat": 4,
 "nbformat_minor": 4
}
