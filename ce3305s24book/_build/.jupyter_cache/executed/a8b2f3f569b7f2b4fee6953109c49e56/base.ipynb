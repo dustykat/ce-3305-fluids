{
 "cells": [
  {
   "cell_type": "code",
   "execution_count": 1,
   "metadata": {},
   "outputs": [],
   "source": [
    "# sketch here"
   ]
  },
  {
   "cell_type": "code",
   "execution_count": 2,
   "metadata": {},
   "outputs": [
    {
     "name": "stdout",
     "output_type": "stream",
     "text": [
      "Metacentric height  0.454  meters \n",
      "Bouy is self-righting STABLE\n"
     ]
    }
   ],
   "source": [
    "import math\n",
    "rhog = 9800 #N/m^3 sp. weight of water\n",
    "sgpb = 11.3 #SG lead\n",
    "sgpine = 0.5 #SG wood\n",
    "sgseaw = 1.03 #SG sea water\n",
    "D = 0.61 #m diameter of spar\n",
    "hpb = 0.15 #m length of lead portion\n",
    "hpine = 4.88 #m length of wood portion\n",
    "A = (math.pi*D**2)/4\n",
    "weight_lead = hpb*A*sgpb*rhog\n",
    "weight_pine = hpine*A*sgpine*rhog\n",
    "weight_spar = weight_lead+weight_pine\n",
    "hseaw=weight_spar/(A*sgseaw*rhog)\n",
    "CG_bouy = (weight_lead*(hpb/2) + weight_pine*(hpine/2+hpb))/(weight_spar)\n",
    "CB_bouy = hseaw/2\n",
    "GB = CG_bouy - CB_bouy # distance from CG to CB\n",
    "I = A*(D**2)*4/64 #2nd moment of area at waterline (for a circle this case)\n",
    "VS = hseaw*A #Volume submerged portion\n",
    "MB = I/VS # Distance from metacenter to center of bouyancy\n",
    "MG=MB-GB # Compute metacentric height\n",
    "if MG >= 0.0:\n",
    "    print(\"Metacentric height \",round(MG,3),\" meters \")\n",
    "    print(\"Bouy is self-righting STABLE\")\n",
    "else:\n",
    "    print(\"Metacentric height \",round(MG,3),\" meters \")\n",
    "    print(\"Bouy is self-tipping UNSTABLE\")"
   ]
  },
  {
   "cell_type": "code",
   "execution_count": 3,
   "metadata": {},
   "outputs": [
    {
     "name": "stdout",
     "output_type": "stream",
     "text": [
      "Metacentric height  -0.0  meters \n",
      "Bouy is self-tipping UNSTABLE\n"
     ]
    }
   ],
   "source": [
    "import math\n",
    "rhog = 9800 #N/m^3 sp. weight of water\n",
    "sgpb = 11.3 #SG lead\n",
    "sgpine = 0.5 #SG wood\n",
    "sgseaw = 1.03 #SG sea water\n",
    "D = 0.61 #m diameter of spar\n",
    "hpb = 0.15 #m length of lead portion\n",
    "#############################################\n",
    "hpine = 7.207 #m length of wood portion    ##\n",
    "#############################################\n",
    "A = (math.pi*D**2)/4\n",
    "weight_lead = hpb*A*sgpb*rhog\n",
    "weight_pine = hpine*A*sgpine*rhog\n",
    "weight_spar = weight_lead+weight_pine\n",
    "hseaw=weight_spar/(A*sgseaw*rhog)\n",
    "CG_bouy = (weight_lead*(hpb/2) + weight_pine*(hpine/2+hpb))/(weight_spar)\n",
    "CB_bouy = hseaw/2\n",
    "GB = CG_bouy - CB_bouy # distance from CG to CB\n",
    "I = A*(D**2)*4/64 #2nd moment of area at waterline (for a circle this case)\n",
    "VS = hseaw*A #Volume submerged portion\n",
    "MB = I/VS # Distance from metacenter to center of bouyancy\n",
    "MG=MB-GB # Compute metacentric height\n",
    "if MG >= 0.0:\n",
    "    print(\"Metacentric height \",round(MG,3),\" meters \")\n",
    "    print(\"Bouy is self-righting STABLE\")\n",
    "else:\n",
    "    print(\"Metacentric height \",round(MG,3),\" meters \")\n",
    "    print(\"Bouy is self-tipping UNSTABLE\")"
   ]
  },
  {
   "cell_type": "code",
   "execution_count": null,
   "metadata": {},
   "outputs": [],
   "source": []
  }
 ],
 "metadata": {
  "kernelspec": {
   "display_name": "Python 3",
   "language": "python",
   "name": "python3"
  },
  "language_info": {
   "codemirror_mode": {
    "name": "ipython",
    "version": 3
   },
   "file_extension": ".py",
   "mimetype": "text/x-python",
   "name": "python",
   "nbconvert_exporter": "python",
   "pygments_lexer": "ipython3",
   "version": "3.8.10"
  }
 },
 "nbformat": 4,
 "nbformat_minor": 4
}