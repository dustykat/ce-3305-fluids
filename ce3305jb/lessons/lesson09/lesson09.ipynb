{
 "cells": [
  {
   "cell_type": "markdown",
   "metadata": {},
   "source": [
    "# Conservation of Linear Momentum\n",
    "\n",
    "## Lesson Outline\n",
    "- Measuring velocity and pressure using pitot-static systems (Bernoulli application)\n",
    "- Examples of CV applications for continunity\n",
    "- CV Relationships for momentum"
   ]
  },
  {
   "cell_type": "markdown",
   "metadata": {},
   "source": [
    "### Background\n",
    "\n",
    "Linear momentum relates forces to changes in translational velocity.  Reynolds Transport Theorem is used to generate integral expressions of momentum balances in a control volume.\n",
    "\n",
    "### Linear Momentum\n",
    "\n",
    "```{figure} momentum-p1-1.png\n",
    "---\n",
    "width: 600px\n",
    "name: momentum-p1-1\n",
    "---\n",
    "Caption\n",
    "```\n",
    "{numref}`momentum-p1-1` relates the extensive property of linear momentum for a system to the intensive property of momentum per unit mass which is the velocity vector. {numref}`momentum-p1-2` extends to the intensive property of momentum per unit volume which is the product of density and velocity vector $\\rho \\bar V$\n",
    "\n",
    "```{figure} momentum-p1-2.png\n",
    "---\n",
    "width: 600px\n",
    "name: momentum-p1-2\n",
    "---\n",
    "Caption\n",
    "```\n",
    "The result of application of theReynolds Transport Theorem to the linear momentum term is an integral equation that relates the sum of external forces to the rate of change of linear momentum in the control volume plus the net momentum leaving across the control surface as depicted in {numref}`momentum-p1-3`\n",
    "\n",
    "```{figure} momentum-p1-3.png\n",
    "---\n",
    "width: 600px\n",
    "name: momentum-p1-3\n",
    "---\n",
    "Caption\n",
    "```\n",
    "\n",
    "```{note} Application of momentum principles uses three primary principles:\n",
    "- Select an inertial (non-acelerating) reference frame\n",
    "- Indicate positive and negative coordinate directions\n",
    "- Draw the CV/CS and indicate\n",
    "    - Forces\n",
    "    - Velocities\n",
    "    - Outward pointing area vectors ($dA \\bar$ vectors)\n",
    "```\n",
    "\n"
   ]
  },
  {
   "cell_type": "markdown",
   "metadata": {},
   "source": [
    "## Example 1: Application of Momentum to a Jet Pump\n",
    "\n",
    "A water jet pump has jet area of 0.01 sq.m. and jet speed of 30 m/s. The jet is within a secondary stream of water having speed 3 m/sec.  The total duct area is 0.075 sq.m. The water is completely mixed in the pump and exits at uniform velocity; find the speed at the pump exit and the pressure rise in the pump.\n",
    "\n",
    "The problem statement is explicitly repeated in {numref}`momentum-ex1-1`\n",
    "\n",
    "```{figure} momentum-ex1-1.png\n",
    "---\n",
    "width: 600px\n",
    "name: momentum-ex1-1\n",
    "---\n",
    "Caption\n",
    "```\n",
    "\n",
    "Apply our problem solving protocol as in {numref}`momentum-ex1-2`\n",
    "\n",
    "```{figure} momentum-ex1-2.png\n",
    "---\n",
    "width: 600px\n",
    "name: momentum-ex1-2\n",
    "---\n",
    "Caption\n",
    "```\n",
    "Note on the CV diagram to draw:\n",
    "\n",
    "- the +/- directions\n",
    "- the CV/CS\n",
    "- the $\\bar dA $ vectors, and \n",
    "- the $\\bar V $ vector(s)\n",
    "\n",
    "Then apply continunity and momentum to find the unknown values as in {numref}`momentum-ex1-3`\n",
    "\n",
    "```{figure} momentum-ex1-3.png\n",
    "---\n",
    "width: 600px\n",
    "name: momentum-ex1-3\n",
    "---\n",
    "Caption\n",
    "```"
   ]
  },
  {
   "cell_type": "code",
   "execution_count": 4,
   "metadata": {},
   "outputs": [
    {
     "name": "stdout",
     "output_type": "stream",
     "text": [
      "Pump exit velocity  6.6      meters per second\n",
      "Added pressure      84240.0  Pascals\n"
     ]
    }
   ],
   "source": [
    "# computational thinning\n",
    "u_jet = 30.0\n",
    "u_approach = 3.0\n",
    "a_jet = 0.01\n",
    "a_approach = 0.065\n",
    "a_total = 0.075\n",
    "rho = 1000.0\n",
    "# continunity\n",
    "u_exit = (u_jet*a_jet+u_approach*a_approach)/a_total\n",
    "# momentum\n",
    "delta_p = -(rho/a_total)*(a_total*u_exit**2 - a_jet*u_jet**2 - a_approach*u_approach**2)\n",
    "# results\n",
    "print(\"Pump exit velocity \",round(u_exit,3),\"     meters per second\")\n",
    "print(\"Added pressure     \",round(delta_p,3),\" Pascals\")"
   ]
  },
  {
   "cell_type": "markdown",
   "metadata": {},
   "source": [
    "## Example 2: Forces in a Pipe Fitting\n",
    "\n",
    "Consider a pipe fitting as depicted in {numref}`momentum-ex2-1`\n",
    "\n",
    "```{figure} momentum-ex2-1.png\n",
    "---\n",
    "width: 600px\n",
    "name: momentum-ex2-1\n",
    "---\n",
    "Caption\n",
    "```\n",
    "\n",
    "Apply our problem solving protocol as in {numref}`momentum-ex2-2`\n",
    "\n",
    "```{figure} momentum-ex2-2.png\n",
    "---\n",
    "width: 600px\n",
    "name: momentum-ex2-2\n",
    "---\n",
    "Problem Solving Protocol: Sketch, CV Definition, Governing Principles, Knowns and Unknowns\n",
    "```\n",
    "Apply our analysis tools as in {numref}`momentum-ex2-3`\n",
    "\n",
    "```{figure} momentum-ex2-3.png\n",
    "---\n",
    "width: 600px\n",
    "name: momentum-ex2-3\n",
    "---\n",
    "Application of linear momentum in the two coordinate directions\n",
    "```\n"
   ]
  },
  {
   "cell_type": "code",
   "execution_count": null,
   "metadata": {},
   "outputs": [],
   "source": []
  },
  {
   "cell_type": "markdown",
   "metadata": {},
   "source": [
    "## Applications of Momentum\n",
    "\n",
    "Momentum is used to find forces on objects that are changing the flow field.\n",
    "\n",
    "Forces are important in things like\n",
    "\n",
    "- Bridge piers\n",
    "- Wind turbine support columns\n",
    "- Retaining walls\n",
    "- Dams\n",
    "\n",
    "As an example consider the force on a sluice gate (underflow from a powerhouse) as depicted in {numref}`momentum-p2-1`\n",
    "\n",
    "```{figure} momentum-p2-1.png\n",
    "---\n",
    "width: 600px\n",
    "name: momentum-p2-1\n",
    "---\n",
    "Schematic elevation view of a sluice gate\n",
    "```\n",
    "Upon first inspection one would be tempted to treat the gate as a submerged plate and use hydrostatic calculations, except at point A the pressure is atmospheric, same as at the free surface just upstream of the gate, so the required conditions for hydrostatic analysis do not apply in this case. \n",
    "\n",
    "So instead of trying to find pressure on the gate, find force of gate on the water, then by eth equal-opposite action-reaction (Newtons's 2nd law) we can find force of water on the gate .\n",
    "\n",
    "A first step is to draw a control volume as depicted in {numref}`momentum-p2-2`\n",
    "\n",
    "```{figure} momentum-p2-2.png\n",
    "---\n",
    "width: 600px\n",
    "name: momentum-p2-2\n",
    "---\n",
    "CV/CS for sluice gate\n",
    "```"
   ]
  },
  {
   "cell_type": "markdown",
   "metadata": {},
   "source": [
    "### Example 4\n",
    "\n"
   ]
  },
  {
   "cell_type": "code",
   "execution_count": null,
   "metadata": {},
   "outputs": [],
   "source": []
  },
  {
   "cell_type": "markdown",
   "metadata": {},
   "source": [
    "While not at all perfect it illustrates using a calculator to approximate the problem.  "
   ]
  },
  {
   "cell_type": "markdown",
   "metadata": {},
   "source": [
    "\n",
    "## Readings\n",
    "\n",
    "1. CE-3305-2022-1 Syllabus. [http://54.243.252.9/ce-3305-webroot/0-Syllabus/ce-3305-2022-1-syllabus.html](http://54.243.252.9/ce-3305-webroot/0-Syllabus/ce-3305-2022-1-syllabus.html)\n",
    "\n",
    "2. Hibbeler, R.C, Fluid Mechanics, 2ed. Prentice Hall, 2018. ISBN: 9780134655413 pp. 293-355\n",
    "\n",
    "3. DF Elger, BC Williams, Crowe, CT and JA Roberson, *Engineering Fluid Mechanics 10th edition*, John Wiley & Sons, Inc., 2013.  (placeholder file to get links working). [http://54.243.252.9/ce-3305-webroot/3-Readings/EFM-9.pdf](http://54.243.252.9/ce-3305-webroot/3-Readings/EFM-9.pdf)\n",
    "\n",
    "4. Cleveland, T. G. (2014) *Fluid Mechanics Notes to Accompany CE 3305 at Jade-Holshule (TTU Study Abroad 2015-2019)*, Department of Civil, Environmental, and Construction Engineering, Whitacre College of Engineering. [http://54.243.252.9/ce-3305-webroot/3-Readings/ce3305-lecture-9.pdf](http://54.243.252.9/ce-3305-webroot/3-Readings/ce3305-lecture09.pdf)\n"
   ]
  },
  {
   "cell_type": "code",
   "execution_count": null,
   "metadata": {},
   "outputs": [],
   "source": []
  }
 ],
 "metadata": {
  "kernelspec": {
   "display_name": "Python 3",
   "language": "python",
   "name": "python3"
  },
  "language_info": {
   "codemirror_mode": {
    "name": "ipython",
    "version": 3
   },
   "file_extension": ".py",
   "mimetype": "text/x-python",
   "name": "python",
   "nbconvert_exporter": "python",
   "pygments_lexer": "ipython3",
   "version": "3.8.10"
  }
 },
 "nbformat": 4,
 "nbformat_minor": 4
}
