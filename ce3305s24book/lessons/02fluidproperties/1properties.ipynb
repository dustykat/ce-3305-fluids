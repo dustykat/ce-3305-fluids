{
 "cells": [
  {
   "cell_type": "markdown",
   "metadata": {},
   "source": [
    "# Intensive and Extensive Properties (pp. 28-35)\n",
    "\n",
    "Extensive properties apply to a system and are associated with a fixed quantity of mass.\n",
    "\n",
    "Intensive properties apply to components of a system, and are defined with restect to a boundary in space. \n",
    "\n",
    "Imagine a gallon of water; its weight is an extensive property assocated with that gallon.  The specific weight, $\\gamma$, is the weight per volume is an intensive property. The properties in the textboox (pp 14-19) are for the most part intensive properties (mostly defined per unit volume)\n",
    "\n",
    "```{figure} gallon-properties.png\n",
    "---\n",
    "width: 400px\n",
    "name: gallon-properties\n",
    "---\n",
    "One gallon, and a 30cc sample removed\n",
    "```\n",
    "{numref}`gallon-properties` is a schematic of a simple example to relate extensive and intensive properties.  \n",
    "We first weigh the entire gallon, 8.32 lbs. Then we weigh the 30cc subsample, 0.065 lbs.\n",
    "\n",
    "The extensive property of weight for the gallon is 8.32 lbs; the extensive property of weight for the 30cc is 0.065 lbs.\n",
    "\n",
    "If we now compute specific weights of each entity and adjust to a common basis volume:"
   ]
  },
  {
   "cell_type": "code",
   "execution_count": 3,
   "metadata": {},
   "outputs": [
    {
     "name": "stdout",
     "output_type": "stream",
     "text": [
      "Sp. Wt. of 1 gallon sample =  8.32\n",
      "Sp. Wt. of 30 cc sample =  8.32\n"
     ]
    }
   ],
   "source": [
    "spwt_gallon = 8.32 # lbs per gallon\n",
    "spwt_30cc = 0.065 # lbs per 30 cc\n",
    "# convert to common volume\n",
    "spwt_30cc = spwt_30cc*(128/1)  # 30cc==1oz; 128oz==1gal conversion to common volume basis.\n",
    "print('Sp. Wt. of 1 gallon sample = ',round(spwt_gallon,3))\n",
    "print('Sp. Wt. of 30 cc sample = ',round(spwt_30cc,3))"
   ]
  },
  {
   "cell_type": "markdown",
   "metadata": {},
   "source": [
    "They are the same value (as anticipated); intensive properties are useful in most fluid mechanics problems because they are a property of a specific fluid, rather that some fixed volume of that fluid - however we must be comfortable using both."
   ]
  },
  {
   "cell_type": "markdown",
   "metadata": {},
   "source": [
    "## Common Fluid Physical Properties \n",
    "\n",
    "### Density\n",
    "Density (or mass density) is the mass per unit volume.  Typical symbol is $\\rho$, sometimes subscripted to identify fluid in multiiple fluid problems.\n",
    "\n",
    "$$ \\rho = \\frac{m}{V} $$\n",
    "\n",
    "### Specific Weight\n",
    "Specific weight is the weight per unit volume.  Typical symbol is $\\gamma$.\n",
    "It is related to density by gravitational acceleration: \n",
    "\n",
    "$$\\gamma = \\rho g$$\n",
    "\n",
    "### Specific Gravity\n",
    "\n",
    "Specific gravity is the ratio of density of a fluid to a reference fluid.  In Civil Engineering the reference fluid is typically liquid water. Typical symbol is $S$ \n",
    "\n",
    "$$ S =\\frac{\\rho_{i}}{\\rho_{water}}=\\frac{\\gamma_{i}}{\\gamma_{water}} $$\n",
    "\n",
    "### Bulk Modulus (of elasticity)\n",
    "\n",
    "The bulk modulus relates the change in volume of a fluid element to a change in pressure.  For liquids it is quite high, gasses quite a bit smaller - it is essentially a Hooke's law (springs) for a continuum element.  It conveys how much pressure change is needed to effect a incremental volume change.\n",
    "\n",
    "$$ E_v = -\\frac{dp}{(\\frac{dV}{V})} $$\n",
    "\n",
    "Dimensionally it is a pressure.  For water at terresterial pressure and temperature its value is upwards of 2.2 GPa (about 23 atmospheres); for solid steel well over 150 GPa (about 1550 atmospheres).\n",
    "\n",
    "In our practical sense, gas is compressible, water is not very compressible, steel smaller still.\n",
    "\n",
    "All the properties above are temperature dependent, and in gasses the compressibility is small, hence they are called compressible fluids.\n",
    "\n",
    "## Common Thermodynamic Properties\n",
    "\n",
    "A few thermodynamic properties are useful too:\n",
    "\n",
    "### Constant Volume Specific Heat\n",
    "\n",
    "The heat amount added to a unit mass of fluid to raise the temperature one degree (units system dependent!) while volume is held constant.  \n",
    "Typical symbol is $c_v$.\n",
    "\n",
    "### Constant Pressure Specific Heat\n",
    "\n",
    "The heat amount added to a unit mass of fluid to raise the temperature one degree (units system dependent!) while pressure is held constant.  \n",
    "\n",
    "Typical symbol is $c_p$.\n",
    "\n",
    "### Specific Internal Energy\n",
    "\n",
    "Energy a unit mass possesses because of its state of molecular activity.  Typical symbol is $u$\n",
    "\n",
    ":::{note}\n",
    "The symbol $u$ is also commonly used for the x-component, or streamline component of velocity.  Be aware of context to avoid confusion.  In some documents $U$ is the velocity vector - again the context should be a clue.\n",
    ":::\n",
    "\n",
    "### Specific Enthalpy\n",
    "\n",
    "Energy a substance possesses because of internal energy and applied normal stress (aka pressure).  Typical symbol is $h = u + \\frac{p}{\\rho}$"
   ]
  },
  {
   "cell_type": "markdown",
   "metadata": {},
   "source": [
    "## Equation of State\n",
    "\n",
    "The state of a fluid is the value of all its properties at specified temperature, pressure, and gravitational filed strength.  The Ideal Gas Law is a relatively simple equation of state for gasses.\n",
    "\n",
    "```{figure} pvnrt.png\n",
    "---\n",
    "width: 400px\n",
    "name: pvnrt\n",
    "---\n",
    "Ideal Gas Law (Equation of State)\n",
    "```\n",
    "{numref}`pvnrt` is the equation of state in two different forms for gasses. An equation of state allows prediction of state as temperature, pressure, or volume are changed.  "
   ]
  },
  {
   "cell_type": "markdown",
   "metadata": {},
   "source": []
  }
 ],
 "metadata": {
  "kernelspec": {
   "display_name": "Python 3",
   "language": "python",
   "name": "python3"
  },
  "language_info": {
   "codemirror_mode": {
    "name": "ipython",
    "version": 3
   },
   "file_extension": ".py",
   "mimetype": "text/x-python",
   "name": "python",
   "nbconvert_exporter": "python",
   "pygments_lexer": "ipython3",
   "version": "3.8.10"
  }
 },
 "nbformat": 4,
 "nbformat_minor": 4
}
