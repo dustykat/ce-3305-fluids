{
 "cells": [
  {
   "cell_type": "markdown",
   "metadata": {},
   "source": [
    "$p_2=\\rho g (z_1 - \\frac{V^2}{2g})$"
   ]
  },
  {
   "cell_type": "code",
   "execution_count": 1,
   "metadata": {},
   "outputs": [
    {
     "name": "stdout",
     "output_type": "stream",
     "text": [
      "pressure is 688.7183 pounds per square foot\n"
     ]
    }
   ],
   "source": [
    "rhog = 62.4\n",
    "g = 32.3\n",
    "v = 16\n",
    "z = 15\n",
    "pressure=rhog*(z-(v**2)/(2*g))\n",
    "print(\"pressure is\",round(pressure,4),\"pounds per square foot\")\n"
   ]
  },
  {
   "cell_type": "code",
   "execution_count": 2,
   "metadata": {},
   "outputs": [
    {
     "name": "stdout",
     "output_type": "stream",
     "text": [
      "pressure is 4.7828 pounds per square inch\n"
     ]
    }
   ],
   "source": [
    "print(\"pressure is\",round(pressure/144,4),\"pounds per square inch\")"
   ]
  },
  {
   "cell_type": "code",
   "execution_count": null,
   "metadata": {},
   "outputs": [],
   "source": []
  }
 ],
 "metadata": {
  "kernelspec": {
   "display_name": "Python 3",
   "language": "python",
   "name": "python3"
  },
  "language_info": {
   "codemirror_mode": {
    "name": "ipython",
    "version": 3
   },
   "file_extension": ".py",
   "mimetype": "text/x-python",
   "name": "python",
   "nbconvert_exporter": "python",
   "pygments_lexer": "ipython3",
   "version": "3.8.10"
  }
 },
 "nbformat": 4,
 "nbformat_minor": 4
}