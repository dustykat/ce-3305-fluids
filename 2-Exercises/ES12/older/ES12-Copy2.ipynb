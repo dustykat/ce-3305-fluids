{
 "cells": [
  {
   "cell_type": "markdown",
   "metadata": {},
   "source": [
    "# <font color=darkblue>CE 3305 Engineering Fluid Mechanics <br> Spring 2023 Exercise Set 12</font>\n",
    "\n",
    "**LAST NAME, FIRST NAME**\n",
    "\n",
    "**R00000000**\n",
    "\n",
    "___\n",
    "\n",
    "### Purpose : \n",
    "Application of Dimensional Analysis and Similitude.\n",
    "### Assessment Criteria : \n",
    "Completion, plausible solutions, use JupyterLab or equivalent as a calculator.\n",
    "___"
   ]
  },
  {
   "cell_type": "markdown",
   "metadata": {},
   "source": [
    "### Problem 1. (Problem 8-19 pg.441)\n",
    "\n",
    "The discharge, $Q$, over the weir $A$ depends on the width, $b$, of the weir, the head, $H$ above the weir crest, and the gravitational acceleration constant, $g$.\n",
    "\n",
    "![](weir.png)\n",
    "\n",
    "For the case(s) where $Q$ is known to be directly proportional to $b$,\n",
    "\n",
    "Determine:\n",
    "1. The relation between $Q$ and these parameters.\n",
    "2. The resulting value for $Q$ if $H$ is doubled.\n",
    "\n",
    "---"
   ]
  },
  {
   "cell_type": "markdown",
   "metadata": {},
   "source": [
    "**sketch here**"
   ]
  },
  {
   "cell_type": "markdown",
   "metadata": {},
   "source": [
    "**list known quantities**"
   ]
  },
  {
   "cell_type": "markdown",
   "metadata": {},
   "source": [
    "**list unknown quantities**"
   ]
  },
  {
   "cell_type": "markdown",
   "metadata": {},
   "source": [
    "**governing principles**"
   ]
  },
  {
   "cell_type": "markdown",
   "metadata": {},
   "source": [
    "**solution (step-by-step)**"
   ]
  },
  {
   "cell_type": "code",
   "execution_count": 1,
   "metadata": {},
   "outputs": [],
   "source": [
    "# code cell(s) here"
   ]
  },
  {
   "cell_type": "markdown",
   "metadata": {},
   "source": [
    "**discussion**"
   ]
  },
  {
   "cell_type": "markdown",
   "metadata": {},
   "source": [
    "---\n",
    "\n",
    "### Problem 2. (Problem 8-53 pg. 446)\n",
    "\n",
    "The flow of water around a bridge pier is to be studied with a $\\frac{1}{15}$ scale model.  \n",
    "\n",
    "![](bridge-pier-2.png)\n",
    "\n",
    "The anticipated river (prototype) velocity is 0.8 m/s.\n",
    "\n",
    "Determine:\n",
    "\n",
    "1. The water velocity in the model at the same temperature. \n",
    "\n",
    "---"
   ]
  },
  {
   "cell_type": "markdown",
   "metadata": {},
   "source": [
    "**sketch here**"
   ]
  },
  {
   "cell_type": "markdown",
   "metadata": {},
   "source": [
    "**list known quantities**"
   ]
  },
  {
   "cell_type": "markdown",
   "metadata": {},
   "source": [
    "**list unknown quantities**"
   ]
  },
  {
   "cell_type": "markdown",
   "metadata": {},
   "source": [
    "**governing principles**"
   ]
  },
  {
   "cell_type": "markdown",
   "metadata": {},
   "source": [
    "**solution (step-by-step)**"
   ]
  },
  {
   "cell_type": "code",
   "execution_count": 1,
   "metadata": {},
   "outputs": [],
   "source": [
    "# code cell(s) here"
   ]
  },
  {
   "cell_type": "markdown",
   "metadata": {},
   "source": [
    "**discussion**"
   ]
  },
  {
   "cell_type": "markdown",
   "metadata": {},
   "source": [
    "---"
   ]
  },
  {
   "cell_type": "markdown",
   "metadata": {},
   "source": [
    "### Problem 3.\n",
    "\n",
    "Experiments are performed to measure the pressure drop in a pipe with water at 20$^oC$ and crude oil at the same temperature. Data was gathered with pipes of two diameters, 5 cm and 10 cm for pressure drop per unit length of pipe, and are tabulated below:\n",
    "\n",
    "|Liquid|Pipe Diameter (cm)|Velocity (m/s)|Pressure Drop (N/m$^3$)|\n",
    "|:---|---:|---:|---:|\n",
    "|Water|5|1|210|\n",
    "|Oil|5|1|310|\n",
    "|Water|5|2|730|\n",
    "|Oil|5|2|1040|\n",
    "|Water|5|5|3750|\n",
    "|Oil|5|5|5300|\n",
    "|Water|10|1|86|\n",
    "|Oil|10|1|130|\n",
    "|Water|10|2|320|\n",
    "|Oil|10|2|450|\n",
    "|Water|10|5|1650|\n",
    "|Oil|10|5|2210|\n",
    "\n",
    "The presure drop per unit length is postulated to be a some function of pipe diameter, liquid density, liquid viscosity, and flow velocity as:\n",
    "\n",
    "$$\\frac{\\Delta p}{L}=f(\\rho,\\mu,V,D)$$\n",
    "\n",
    "Perform a dimensional analysis to identify suitable $\\pi-$groups and reduce the data and plot the results using the dimensionless values.  Select an appropriate data model based on the plot.\n",
    "\n",
    "---"
   ]
  },
  {
   "cell_type": "markdown",
   "metadata": {},
   "source": [
    "**sketch here**"
   ]
  },
  {
   "cell_type": "markdown",
   "metadata": {},
   "source": [
    "**list known quantities**"
   ]
  },
  {
   "cell_type": "markdown",
   "metadata": {},
   "source": [
    "**list unknown quantities**"
   ]
  },
  {
   "cell_type": "markdown",
   "metadata": {},
   "source": [
    "**governing principles**"
   ]
  },
  {
   "cell_type": "markdown",
   "metadata": {},
   "source": [
    "**solution (step-by-step)**"
   ]
  },
  {
   "cell_type": "code",
   "execution_count": 1,
   "metadata": {},
   "outputs": [],
   "source": [
    "# code cell(s) here"
   ]
  },
  {
   "cell_type": "markdown",
   "metadata": {},
   "source": [
    "**discussion**"
   ]
  },
  {
   "cell_type": "markdown",
   "metadata": {},
   "source": [
    "---\n",
    "\n",
    "### Problem 4. \n",
    "\n",
    "A smooth pipe prototype designed to carry crude oil:\n",
    "\n",
    "- $D = 47$ inches\n",
    "- $\\rho= 1.75$ slugs/$ft^3$\n",
    "- $\\mu= 4 \\times 10^{−4}~ lbf − s/ft^2$\n",
    "\n",
    "is to be modeled with a smooth pipe 4 inches in diameter carrying water (T =60$^o$F ).\n",
    "If the mean velocity in the prototype is to be 2 ft/s, what should be the mean velocity of the water in the model to ensure dynamically similar conditions?"
   ]
  },
  {
   "cell_type": "markdown",
   "metadata": {},
   "source": [
    "**sketch here**"
   ]
  },
  {
   "cell_type": "markdown",
   "metadata": {},
   "source": [
    "**list known quantities**"
   ]
  },
  {
   "cell_type": "markdown",
   "metadata": {},
   "source": [
    "**list unknown quantities**"
   ]
  },
  {
   "cell_type": "markdown",
   "metadata": {},
   "source": [
    "**governing principles**"
   ]
  },
  {
   "cell_type": "markdown",
   "metadata": {},
   "source": [
    "**solution (step-by-step)**"
   ]
  },
  {
   "cell_type": "code",
   "execution_count": 1,
   "metadata": {},
   "outputs": [],
   "source": [
    "# code cell(s) here"
   ]
  },
  {
   "cell_type": "markdown",
   "metadata": {},
   "source": [
    "**discussion**"
   ]
  }
 ],
 "metadata": {
  "kernelspec": {
   "display_name": "Python 3",
   "language": "python",
   "name": "python3"
  },
  "language_info": {
   "codemirror_mode": {
    "name": "ipython",
    "version": 3
   },
   "file_extension": ".py",
   "mimetype": "text/x-python",
   "name": "python",
   "nbconvert_exporter": "python",
   "pygments_lexer": "ipython3",
   "version": "3.8.10"
  }
 },
 "nbformat": 4,
 "nbformat_minor": 4
}
