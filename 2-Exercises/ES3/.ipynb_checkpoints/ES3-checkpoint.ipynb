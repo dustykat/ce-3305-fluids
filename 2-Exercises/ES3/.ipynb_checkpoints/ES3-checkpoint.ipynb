{
 "cells": [
  {
   "cell_type": "markdown",
   "metadata": {},
   "source": [
    "# <font color=darkblue>CE 3305 Engineering Fluid Mechanics <br> Spring 2024 Exercise Set 3</font>\n",
    "\n",
    "**LAST NAME, FIRST NAME**\n",
    "\n",
    "**R00000000**\n",
    "\n",
    "___\n",
    "\n",
    "### Purpose : \n",
    "Apply concept of density and hydrostatic pressure in different fluids and determine pressure variation in layered fluids of different densities. Apply principles of manometry to determine density of unknown fluid. \n",
    "### Assessment Criteria : \n",
    "Completion, plausible solutions, use of Jupyter Notebook or equivalent as a calculator/documentation method\n",
    "\n",
    "___"
   ]
  },
  {
   "cell_type": "markdown",
   "metadata": {},
   "source": [
    "### Problem 1.\n",
    "\n",
    "Imagine two tanks (both open to air). Tank A is filled to a depth $h$ with water. Tank B is filled to a depth $h$ with oil.\n",
    "\n",
    "Determine:\n",
    "1. Which tank has the largest pressure?\n",
    "2. Why?\n",
    "3. Where in the tank does the largest pressure occur?\n",
    "\n",
    "---"
   ]
  },
  {
   "cell_type": "markdown",
   "metadata": {},
   "source": [
    "**sketch here**"
   ]
  },
  {
   "cell_type": "markdown",
   "metadata": {},
   "source": [
    "**list known quantities**"
   ]
  },
  {
   "cell_type": "markdown",
   "metadata": {},
   "source": [
    "**list unknown quantities**"
   ]
  },
  {
   "cell_type": "markdown",
   "metadata": {},
   "source": [
    "**governing principles**"
   ]
  },
  {
   "cell_type": "markdown",
   "metadata": {},
   "source": [
    "**solution (step-by-step)**"
   ]
  },
  {
   "cell_type": "code",
   "execution_count": 1,
   "metadata": {},
   "outputs": [],
   "source": [
    "# code cell(s) here"
   ]
  },
  {
   "cell_type": "markdown",
   "metadata": {},
   "source": [
    "**discussion**"
   ]
  },
  {
   "cell_type": "markdown",
   "metadata": {},
   "source": [
    "---"
   ]
  },
  {
   "cell_type": "markdown",
   "metadata": {},
   "source": [
    "### Problem 2.\n",
    "Figure 2 is a schematic of a **closed** tank with Bourdon-tube gages tapped into it.\n",
    "\n",
    "<figure align=\"center\">\n",
    "<!--<img src=\"./layers-o-fluid.png\" width=\"400\" > -->\n",
    "<img src=\"http://54.243.252.9/ce-3305-webroot/2-Exercises/ES4/layers-o-fluid.png\" width=\"400\" >\n",
    "<figcaption>Figure 2. Closed tank with three phase system (Air, Oil, Water)</figcaption>\n",
    "</figure>\n",
    "\n",
    "Determine:\n",
    "\n",
    "1. The specific gravity of the oil?\n",
    "2. The pressure reading on gage C?\n",
    "\n",
    "---"
   ]
  },
  {
   "cell_type": "markdown",
   "metadata": {},
   "source": [
    "**sketch here**"
   ]
  },
  {
   "cell_type": "markdown",
   "metadata": {},
   "source": [
    "**list known quantities**"
   ]
  },
  {
   "cell_type": "markdown",
   "metadata": {},
   "source": [
    "**list unknown quantities**"
   ]
  },
  {
   "cell_type": "markdown",
   "metadata": {},
   "source": [
    "**governing principles**"
   ]
  },
  {
   "cell_type": "markdown",
   "metadata": {},
   "source": [
    "**solution (step-by-step)**"
   ]
  },
  {
   "cell_type": "code",
   "execution_count": 1,
   "metadata": {},
   "outputs": [],
   "source": [
    "# code cell(s) here"
   ]
  },
  {
   "cell_type": "markdown",
   "metadata": {},
   "source": [
    "**discussion**"
   ]
  },
  {
   "cell_type": "markdown",
   "metadata": {},
   "source": [
    "---"
   ]
  },
  {
   "cell_type": "markdown",
   "metadata": {},
   "source": [
    "### Problem 3.\n",
    "\n",
    "A device for measuring the specific weight of a liquid consists of a (U-,You-, or Ewe-) Tube manometer as depicted in Figure 3. \n",
    "The manometer tube has an internal diameter of $0.5~cm$ and originally has water in it. \n",
    "Exactly $2~cm^3$ of unknown liquid is poured into one leg of the manometer, and a displacement of $5~cm$ is measured between the free surfaces as shown. \n",
    "\n",
    "<figure align=\"center\">\n",
    "<!-- <img src=\"./you-tube-manometer.png\" width=\"400\" > -->\n",
    "<img src=\"http://54.243.252.9/ce-3305-webroot/2-Exercises/ES4/you-tube-manometer.png\" width=\"400\" >\n",
    "<figcaption>Figure 3: U-Tube manometer for measuring specific weight</figcaption>\n",
    "</figure>\n",
    "\n",
    "Determine:\n",
    "\n",
    "1. The specific weight of the unknown liquid?\n",
    "\n",
    "---"
   ]
  },
  {
   "cell_type": "markdown",
   "metadata": {},
   "source": [
    "**sketch here**"
   ]
  },
  {
   "cell_type": "markdown",
   "metadata": {},
   "source": [
    "**list known quantities**"
   ]
  },
  {
   "cell_type": "markdown",
   "metadata": {},
   "source": [
    "**list unknown quantities**"
   ]
  },
  {
   "cell_type": "markdown",
   "metadata": {},
   "source": [
    "**governing principles**"
   ]
  },
  {
   "cell_type": "markdown",
   "metadata": {},
   "source": [
    "**solution (step-by-step)**"
   ]
  },
  {
   "cell_type": "code",
   "execution_count": 1,
   "metadata": {},
   "outputs": [],
   "source": [
    "# code cell(s) here"
   ]
  },
  {
   "cell_type": "markdown",
   "metadata": {},
   "source": [
    "**discussion**"
   ]
  }
 ],
 "metadata": {
  "kernelspec": {
   "display_name": "Python 3",
   "language": "python",
   "name": "python3"
  },
  "language_info": {
   "codemirror_mode": {
    "name": "ipython",
    "version": 3
   },
   "file_extension": ".py",
   "mimetype": "text/x-python",
   "name": "python",
   "nbconvert_exporter": "python",
   "pygments_lexer": "ipython3",
   "version": "3.8.10"
  }
 },
 "nbformat": 4,
 "nbformat_minor": 4
}
