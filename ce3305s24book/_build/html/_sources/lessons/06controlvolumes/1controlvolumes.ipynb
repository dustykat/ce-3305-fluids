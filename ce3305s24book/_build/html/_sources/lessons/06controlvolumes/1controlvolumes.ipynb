{
 "cells": [
  {
   "cell_type": "markdown",
   "metadata": {},
   "source": [
    "# Control Volumes (pp. 178)\n",
    "\n",
    "A control volume (CV) is the equivalent of a free-body diagram in other fields of engineering mechanics (statics, dynamics).\n",
    "\n",
    "A control volume is some defined area in space, as depicted by the cube below.  \n",
    "\n",
    "```{figure} control-volume.png\n",
    "---\n",
    "width: 600px\n",
    "name: control-volume\n",
    "---\n",
    "\n",
    "```\n",
    "\n",
    "```{note}\n",
    "The control volume is the basis of Reynolds' transport theorem that is employed to allow analysis from a Eulerian reference frame rather than tracking individual particles.  The goal is to describe fundamental laws of mechanics in integral form\n",
    "```\n",
    "The bounding surface is called the *control surface* (CS)\n",
    "\n",
    "```{figure} cs-areas.png\n",
    "---\n",
    "width: 600px\n",
    "name: cs-areas\n",
    "---\n",
    "\n",
    "```\n",
    "The outward pointing area vectors for each face are shown above; these play an important role in application of CV analysis.\n",
    "\n",
    "The principle is to express various conservation principles in integral form including:\n",
    "\n",
    "> ## Conservation of mass (continunity)<br>\n",
    ">\n",
    "> $\\frac{dm}{dt}|_{sys} = 0$\n",
    ">\n",
    "> ## Conservation of linear momentum <br>\n",
    ">\n",
    "> $m\\frac{d\\bar V}{dt}|_{sys} = \\sum \\bar F$\n",
    ">\n",
    "> ## Conservation of angular momentum <br>\n",
    ">\n",
    "> $m\\frac{d\\bar \\omega}{dt}|_{sys} = \\sum (\\bar r \\times \\bar F)$\n",
    ">\n",
    "> ## Conservation of energy<br>\n",
    ">\n",
    "> $\\frac{E}{dt}|_{sys} = \\frac{dQ}{dt} - \\frac{dW}{dt}$\n",
    ">\n",
    "> where $Q$ is heat flow into the system and $W$ is work done by the system.\n",
    ">\n",
    "> ## Entropy principle<br>\n",
    ">\n",
    "> $\\frac{S}{dt}|_{sys} >= \\frac{1}{T}\\frac{dQ}{dt}$\n",
    ">\n",
    "> where $Q$ is heat flow into the system, S is entropy, and T is the absolute temperature of the system.\n",
    "\n",
    "The first four conservation principles are the most useful in fluid mechanics problems; the last principle is applied in various forms in mechanical and chemical thermodynamics problems - its relevant in Civil and Environmental Engineering, but covered in later classes."
   ]
  },
  {
   "cell_type": "code",
   "execution_count": null,
   "metadata": {},
   "outputs": [],
   "source": []
  }
 ],
 "metadata": {
  "kernelspec": {
   "display_name": "Python 3",
   "language": "python",
   "name": "python3"
  },
  "language_info": {
   "codemirror_mode": {
    "name": "ipython",
    "version": 3
   },
   "file_extension": ".py",
   "mimetype": "text/x-python",
   "name": "python",
   "nbconvert_exporter": "python",
   "pygments_lexer": "ipython3",
   "version": "3.8.10"
  }
 },
 "nbformat": 4,
 "nbformat_minor": 4
}
