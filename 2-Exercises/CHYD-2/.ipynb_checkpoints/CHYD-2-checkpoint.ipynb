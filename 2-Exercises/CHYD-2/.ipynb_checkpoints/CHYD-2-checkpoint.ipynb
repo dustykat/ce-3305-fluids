{
 "cells": [
  {
   "cell_type": "markdown",
   "metadata": {},
   "source": [
    "**Download** (right-click, save target as ...) this page as a Jupyterlab notebook from: [CHYD-1](http://54.243.252.9/ce-3305-webroot/2-Exercises/CHYD-1/CHYD-1.ipynb)\n",
    "\n",
    "___"
   ]
  },
  {
   "cell_type": "markdown",
   "metadata": {},
   "source": [
    "# <font color=darkblue>CE 3305 Engineering Fluid Mechanics <br> Summer 2022 Computational Hydraulics Exercise Set 2</font>\n",
    "\n",
    "**LAST NAME, FIRST NAME**\n",
    "\n",
    "**R00000000**\n",
    "\n",
    "___\n",
    "\n",
    "### Purpose : \n",
    "Apply computational thinking (ENGR 1330) principles and hydraulics/fluid mechanics principles to produce a plot of water surface in an open channel.\n",
    "### Assessment Criteria : \n",
    "Completion, plausible solutions, use JupyterLab as a calculator.\n",
    "___"
   ]
  },
  {
   "cell_type": "markdown",
   "metadata": {},
   "source": [
    "### Problem 1.\n",
    "\n",
    "Water flows at a steady rate of 192 $\\frac{ft^3}{s}$ through a concrete-lined rectangular channel 16 ft wide as depicted in Figure 1. Water enters the 0.35% sloped channel ($S_0$ = 0.0035) at location 1 and is flowing at 110% normal depth ($1.1 \\times y_n$). The water exits over a 3-foot tall weir (assume sharp-crest weir) at location 2.1\n",
    "\n",
    "<figure align=\"center\">\n",
    "<!--<img src=\"./pipe-network.png\" width=\"400\" > -->\n",
    "<img src=\"http://54.243.252.9/ce-3305-webroot/2-Exercises/CHYD-2/channel_profile.png\" width=\"600\" >\n",
    "<figcaption>Figure 1. Concrete-lined rectangular channel</figcaption>\n",
    "</figure>\n",
    "\n",
    "Find:\n",
    "- Critical depth for the channel.\n",
    "- Pool depth just upstream of the weir. (Hint: Add the critical depth to the weir height as an approximation to the pool depth)\n",
    "- Plot the water surface profile for the channel from location 1 to location 2\n",
    "- Estimate the distance upstream from the weir to location 1 "
   ]
  },
  {
   "cell_type": "code",
   "execution_count": null,
   "metadata": {},
   "outputs": [],
   "source": [
    "# sketch here"
   ]
  },
  {
   "cell_type": "code",
   "execution_count": null,
   "metadata": {},
   "outputs": [],
   "source": [
    "# list known quantities"
   ]
  },
  {
   "cell_type": "code",
   "execution_count": null,
   "metadata": {},
   "outputs": [],
   "source": [
    "# list unknown quantities"
   ]
  },
  {
   "cell_type": "code",
   "execution_count": null,
   "metadata": {},
   "outputs": [],
   "source": [
    "# governing principles (fluid mechanics)"
   ]
  },
  {
   "cell_type": "code",
   "execution_count": null,
   "metadata": {},
   "outputs": [],
   "source": [
    "# solution (using JupyterLab notebook) (computational thinking/algorithm development)"
   ]
  },
  {
   "cell_type": "code",
   "execution_count": null,
   "metadata": {},
   "outputs": [],
   "source": [
    "# discussion"
   ]
  }
 ],
 "metadata": {
  "kernelspec": {
   "display_name": "Python 3",
   "language": "python",
   "name": "python3"
  },
  "language_info": {
   "codemirror_mode": {
    "name": "ipython",
    "version": 3
   },
   "file_extension": ".py",
   "mimetype": "text/x-python",
   "name": "python",
   "nbconvert_exporter": "python",
   "pygments_lexer": "ipython3",
   "version": "3.8.10"
  }
 },
 "nbformat": 4,
 "nbformat_minor": 4
}
