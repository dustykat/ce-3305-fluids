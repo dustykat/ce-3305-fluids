{
 "cells": [
  {
   "cell_type": "code",
   "execution_count": 1,
   "metadata": {},
   "outputs": [
    {
     "name": "stdout",
     "output_type": "stream",
     "text": [
      "Pump exit velocity  6.6      meters per second\n",
      "Added pressure      84240.0  Pascals\n"
     ]
    }
   ],
   "source": [
    "# computational thinning\n",
    "u_jet = 30.0\n",
    "u_approach = 3.0\n",
    "a_jet = 0.01\n",
    "a_approach = 0.065\n",
    "a_total = 0.075\n",
    "rho = 1000.0\n",
    "# continunity\n",
    "u_exit = (u_jet*a_jet+u_approach*a_approach)/a_total\n",
    "# momentum\n",
    "delta_p = -(rho/a_total)*(a_total*u_exit**2 - a_jet*u_jet**2 - a_approach*u_approach**2)\n",
    "# results\n",
    "print(\"Pump exit velocity \",round(u_exit,3),\"     meters per second\")\n",
    "print(\"Added pressure     \",round(delta_p,3),\" Pascals\")"
   ]
  },
  {
   "cell_type": "code",
   "execution_count": null,
   "metadata": {},
   "outputs": [],
   "source": []
  },
  {
   "cell_type": "code",
   "execution_count": 2,
   "metadata": {},
   "outputs": [
    {
     "name": "stdout",
     "output_type": "stream",
     "text": [
      "Upstream Depth 1.5  m\n",
      "Upstream Speed 0.2 m/s\n",
      "Downstream Depth 0.0563  m\n",
      "Downstream Speed 5.33 m/s\n",
      "Force/width 9470.05 N/m\n"
     ]
    }
   ],
   "source": [
    "d1 = 1.5 # depth upstream\n",
    "d2 = 0.0563 # depth downstream\n",
    "u1 = 0.2 # upstream velocity\n",
    "u2 = 5.33 # downstream velocity\n",
    "rho = 1000.0 # density\n",
    "g = 9.8 # gravitational acceleration\n",
    "w = 1.0 # channel width\n",
    "Rg = (0.5*rho*g)*(d1**2 - d2**2)+rho*(d1*u1**2 - d2*u2**2)\n",
    "print('Upstream Depth',d1,' m')\n",
    "print('Upstream Speed',u1,'m/s')\n",
    "print('Downstream Depth',d2,' m')\n",
    "print('Downstream Speed',u2,'m/s')\n",
    "print('Force/width',round(Rg,2),'N/m')"
   ]
  },
  {
   "cell_type": "code",
   "execution_count": null,
   "metadata": {},
   "outputs": [],
   "source": []
  }
 ],
 "metadata": {
  "kernelspec": {
   "display_name": "Python 3",
   "language": "python",
   "name": "python3"
  },
  "language_info": {
   "codemirror_mode": {
    "name": "ipython",
    "version": 3
   },
   "file_extension": ".py",
   "mimetype": "text/x-python",
   "name": "python",
   "nbconvert_exporter": "python",
   "pygments_lexer": "ipython3",
   "version": "3.8.10"
  }
 },
 "nbformat": 4,
 "nbformat_minor": 4
}