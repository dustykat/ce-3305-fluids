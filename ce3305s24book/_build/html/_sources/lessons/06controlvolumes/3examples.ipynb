{
 "cells": [
  {
   "cell_type": "markdown",
   "metadata": {},
   "source": [
    "# Example Applications of Continunity (pp. 182)"
   ]
  },
  {
   "cell_type": "markdown",
   "metadata": {},
   "source": [
    "## Example 1: Application of Continunity to a Spa\n",
    "\n",
    "Consider an open tank with two connections as depicted in {numref}`example-2`\n",
    "\n",
    "```{figure} example-2.png\n",
    "---\n",
    "width: 600px\n",
    "name: example-2\n",
    "---\n",
    "Open tank with inlet and outlet\n",
    "```\n",
    "\n",
    "Apply our problem solving protocol as in {numref}`example-2-2`\n",
    "\n",
    "```{figure} example-2-2.png\n",
    "---\n",
    "width: 600px\n",
    "name: example-2-2\n",
    "---\n",
    "Problem Solving Protocol: Sketch, CV Definition, Governing Principles, Knowns and Unknowns\n",
    "```\n",
    "\n",
    "Once we have a formula we can use ENGR-1330 tools (as a calculator):"
   ]
  },
  {
   "cell_type": "code",
   "execution_count": 5,
   "metadata": {},
   "outputs": [
    {
     "name": "stdout",
     "output_type": "stream",
     "text": [
      "equilibrium depth is .... wait for it ... 10.1 feat\n"
     ]
    }
   ],
   "source": [
    "import math\n",
    "# known\n",
    "Q_in = 20 # cuft/s\n",
    "D_out = 1.0 # m^2\n",
    "gravity = 32.2 # ft/s/s\n",
    "# intermediate\n",
    "A_out = math.pi*pow(D_out,2)/4.0\n",
    "# equilibrium depth\n",
    "h = pow(Q_in/A_out,2)/(2*gravity)\n",
    "print('equilibrium depth is .... wait for it ...',round(h,1),'feat')"
   ]
  },
  {
   "cell_type": "markdown",
   "metadata": {},
   "source": [
    "## Example 2: Time to Drain a Tank\n",
    "\n",
    "Consider an open tank as depicted in {numref}`time-2-drain`\n",
    "\n",
    "```{figure} time-2-drain.png\n",
    "---\n",
    "width: 600px\n",
    "name: time-2-drain\n",
    "---\n",
    "Open tank with outlet\n",
    "```\n",
    "\n",
    "Apply our problem solving protocol as in {numref}`example-3-2`\n",
    "\n",
    "```{figure} example-3-2.png\n",
    "---\n",
    "width: 600px\n",
    "name: example-3-2\n",
    "---\n",
    "Problem Solving Protocol: Sketch, CV Definition, Governing Principles, Knowns and Unknowns\n",
    "```\n",
    "Apply our Calculus tools from MATH 2450\n",
    "\n",
    "```{figure} example-3-3.png\n",
    "---\n",
    "width: 600px\n",
    "name: example-3-3\n",
    "---\n",
    "Separation and Integration\n",
    "```\n",
    "\n",
    "Once we have a formula we can use ENGR-1330 tools (as a calculator):"
   ]
  },
  {
   "cell_type": "code",
   "execution_count": 10,
   "metadata": {},
   "outputs": [
    {
     "name": "stdout",
     "output_type": "stream",
     "text": [
      "Time to drain is 214.0 seconds\n"
     ]
    }
   ],
   "source": [
    "import math\n",
    "H_0 = 3    # meters initial depth\n",
    "H   = 0.3  # meters ending depth\n",
    "D   = 0.6  # meters tank diameter\n",
    "d   = 0.03 # meters outlet diameter\n",
    "g   = 9.8  # m/s/s gravitational avcceleeration conastant\n",
    "# calculations\n",
    "time = (2*math.sqrt(H)-2*math.sqrt(H_0)) / -(math.sqrt(2*g)*pow(d/D,2))\n",
    "print('Time to drain is',round(time,1),'seconds')"
   ]
  },
  {
   "cell_type": "markdown",
   "metadata": {},
   "source": [
    "## Example 3: Time to Drain a Tank \n",
    "\n",
    "Now consider a similar problem\n",
    "\n",
    "```{figure} example-3-4.png\n",
    "---\n",
    "width: 600px\n",
    "name: example-3-4\n",
    "---\n",
    "Open tank with outlet\n",
    "```\n",
    "\n",
    "We can inspect and establish that it is an identical situation with different diameters of the tank and hole, and different starting and ending depths, so we can use our tool just developed."
   ]
  },
  {
   "cell_type": "code",
   "execution_count": 3,
   "metadata": {},
   "outputs": [
    {
     "name": "stdout",
     "output_type": "stream",
     "text": [
      "Time to drain is 185.2 seconds\n"
     ]
    }
   ],
   "source": [
    "import math\n",
    "H_0 = 3    # meters initial depth\n",
    "H   = 0.5  # meters ending depth\n",
    "D   = 0.6  # meters tank diameter\n",
    "d   = 0.03 # meters outlet diameter\n",
    "g   = 9.8  # m/s/s gravitational acceleration conastant\n",
    "# calculations\n",
    "time = (2*math.sqrt(H)-2*math.sqrt(H_0)) / -(math.sqrt(2*g)*pow(d/D,2))\n",
    "print('Time to drain is',round(time,1),'seconds')"
   ]
  },
  {
   "cell_type": "markdown",
   "metadata": {},
   "source": [
    "### Example 4: Time to Drain a Tank (Computational Methods)\n",
    "\n",
    "Now consider a pressure tank with oil\n",
    "\n",
    "```{figure} example-live.png\n",
    "---\n",
    "width: 600px\n",
    "name: example-live\n",
    "---\n",
    "Pressure tank with outlet\n",
    "```\n",
    "\n",
    "Here we are given the drainage equation, and the variable pressure terms, but cannot apply analysis (Calculus) to obtain a closed-form solution, thus we can:\n",
    "- Give up\n",
    "- Practice saying \"How about a hot apple pie to go with that slop?\"\n",
    "- Approximate using ENGR-1330 tools\n",
    "\n",
    "Simply insert the pressure term into the drainage equation and develop a function to estimate the change in eleveation over a short time as:\n",
    "\n",
    "\n",
    "```{figure} example-live-fd.png\n",
    "---\n",
    "width: 600px\n",
    "name: example-live-fd\n",
    "---\n",
    "Pressure tank with outlet\n",
    "```\n",
    "Now we can build a tool\n"
   ]
  },
  {
   "cell_type": "code",
   "execution_count": 83,
   "metadata": {},
   "outputs": [
    {
     "data": {
      "image/png": "[encoded data removed]",
      "text/plain": [
       "<Figure size 720x360 with 1 Axes>"
      ]
     },
     "metadata": {
      "needs_background": "light"
     },
     "output_type": "display_data"
    }
   ],
   "source": [
    "import math\n",
    "import matplotlib.pyplot as plt\n",
    "# a plotting function\n",
    "def make2plot(listx1,listy1,listx2,listy2,strlablx,strlably,strtitle):\n",
    "    mydata = plt.figure(figsize = (10,5)) # build a square drawing canvass from figure class\n",
    "    plt.plot(listx1,listy1, c='red', marker='v',linewidth=0) # basic data plot\n",
    "    plt.plot(listx2,listy2, c='blue',linewidth=1) # basic model plot\n",
    "    plt.xlabel(strlablx)\n",
    "    plt.ylabel(strlably)\n",
    "    plt.legend(['Tank Level',''])# modify for argument insertion\n",
    "    plt.title(strtitle)\n",
    "    plt.show()\n",
    "    return\n",
    "# constants\n",
    "pie = math.pi\n",
    "p_initial = 3e05 #Pa initial pressure\n",
    "p_atm     = 1.01e05 #Pa atmospheric pressure\n",
    "g         = 9.8  #m/s/s\n",
    "rho_oil   = 1000 #kg/m^3\n",
    "L         = 6    #m tank height\n",
    "De        = 0.02 #m outlet diameter\n",
    "Dt        = 2.0  #m tank diameter\n",
    "H0        = 5    #m initial depth\n",
    "time      = []   # time seconds, an empty list\n",
    "depth     = []   # depth meters, an empty list\n",
    "pnow      = []   # pressure, an empty list\n",
    "ddepth    = []   #change in depth, empty list for debuggiun'\n",
    "how_many  = 60   #time steps\n",
    "deltat    = 60   #seconds a time step length\n",
    "# constants\n",
    "Ae = (pie*De**2)/4\n",
    "At = (pie*Dt**2)/4\n",
    "# pressure function\n",
    "def p_now(p_initial,p_atm,L,H0,H):\n",
    "    p_now = (p_initial+p_atm)*((L-H0)/(L-H))#-p_atm\n",
    "    return(p_now)\n",
    "# CV velocity function\n",
    "def dhdt(Ae,At,g,H,p,rho):\n",
    "    dhdt = -(Ae/At)*math.sqrt(2*g*h + 2*p/rho)\n",
    "    return(dhdt)\n",
    "# initial conditions\n",
    "time.append(0)\n",
    "depth.append(H0)\n",
    "pnow.append(p_initial)\n",
    "ddepth.append(dhdt(Ae,At,g,H0,p_now(p_initial,p_atm,L,H0,H0),rho_oil))\n",
    "\n",
    "for i in range(1,how_many):\n",
    "    time.append(i*deltat)\n",
    "    depth.append(depth[i-1]+deltat*ddepth[i-1])\n",
    "    if depth[i] < 0:\n",
    "        depth[i]=0.0\n",
    "    pnow.append(p_now(p_initial,p_atm,L,H0,depth[i]));\n",
    "    ddepth.append(dhdt(Ae,At,g,depth[i],pnow[i],rho_oil))\n",
    "\n",
    "    \n",
    "    \n",
    "#for i in range(how_many):    \n",
    "#    print(time[i],round(depth[i],3),round(pnow[i],3),round(ddepth[i],6))\n",
    "    \n",
    "#now plot\n",
    "make2plot(time,depth,time,depth,'Time(sec)',\"Depth(m)\",\"Tank oil level\")\n",
    "    "
   ]
  },
  {
   "cell_type": "markdown",
   "metadata": {},
   "source": [
    "While not at all perfect it illustrates using a computational method  to approximate the problem, and more importantly determine a good guess of the time to drain the tank."
   ]
  }
 ],
 "metadata": {
  "kernelspec": {
   "display_name": "Python 3",
   "language": "python",
   "name": "python3"
  },
  "language_info": {
   "codemirror_mode": {
    "name": "ipython",
    "version": 3
   },
   "file_extension": ".py",
   "mimetype": "text/x-python",
   "name": "python",
   "nbconvert_exporter": "python",
   "pygments_lexer": "ipython3",
   "version": "3.8.10"
  }
 },
 "nbformat": 4,
 "nbformat_minor": 4
}
