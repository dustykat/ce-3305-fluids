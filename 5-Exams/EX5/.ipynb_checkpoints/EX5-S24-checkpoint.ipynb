{
 "cells": [
  {
   "cell_type": "markdown",
   "metadata": {},
   "source": [
    "**Download** (right-click, save target as ...) this page as a Jupyterlab notebook from: [EX-5](http://54.243.252.9/ce-3305-webroot/5-Exams/EX5/EX5.ipynb)\n",
    "\n",
    "___"
   ]
  },
  {
   "cell_type": "markdown",
   "metadata": {},
   "source": [
    "# <font color=darkblue>CE 3305 Engineering Fluid Mechanics <br> Summer 2022 Exam 5</font>\n",
    "\n",
    "**LAST NAME, FIRST NAME**\n",
    "\n",
    "**R00000000**\n",
    "\n",
    "___\n",
    "\n",
    "### Purpose : \n",
    "Demonstrate ability to apply fluid mechanics and problem solving principles covering topics such as: Bernoulli's equation, Conservation of Mass, Control Volume Analysis, Conservation of Linear Momentum.\n"
   ]
  },
  {
   "cell_type": "markdown",
   "metadata": {},
   "source": [
    "___\n",
    "\n",
    "### Problem 1\n",
    "\n",
    "A rectangular channel 14 feet wide carries water at 500 cubic feet per second. The channel ends in a free overfall as depicted in Figure 1.\n",
    "\n",
    "<figure align=\"center\">\n",
    "<!--<img src=\"./sluicegate.png\" width=\"400\" > -->\n",
    "<img src=\"http://54.243.252.9/ce-3305-webroot/5-Exams/EX5/freeoverfall.png\" width=\"500\">\n",
    "<figcaption>Figure 1. Free (willy) overfall diagram </figcaption>\n",
    "</figure>\n",
    "\n",
    "Determine:\n",
    "- Flow depth at the outfall\n"
   ]
  },
  {
   "cell_type": "code",
   "execution_count": 1,
   "metadata": {},
   "outputs": [],
   "source": [
    "# sketch(s) here"
   ]
  },
  {
   "cell_type": "code",
   "execution_count": 2,
   "metadata": {},
   "outputs": [],
   "source": [
    "# list known quantities"
   ]
  },
  {
   "cell_type": "code",
   "execution_count": 3,
   "metadata": {},
   "outputs": [],
   "source": [
    "# list unknown quantities"
   ]
  },
  {
   "cell_type": "code",
   "execution_count": 4,
   "metadata": {},
   "outputs": [],
   "source": [
    "# governing principles"
   ]
  },
  {
   "cell_type": "code",
   "execution_count": 5,
   "metadata": {},
   "outputs": [],
   "source": [
    "# solution (step-by-step) "
   ]
  },
  {
   "cell_type": "code",
   "execution_count": 7,
   "metadata": {},
   "outputs": [],
   "source": [
    "# discussion"
   ]
  },
  {
   "cell_type": "markdown",
   "metadata": {},
   "source": [
    "---\n",
    "\n",
    "### Problem 2:\n",
    "\n",
    "Figure 2 is a schematic of water flowing under a sluice gate in a horizontal channel 5 feet wide.\n",
    "\n",
    "<figure align=\"center\">\n",
    "<!--<img src=\"./sluicegate.png\" width=\"400\" > -->\n",
    "<img src=\"http://54.243.252.9/ce-3305-webroot/5-Exams/EX5/sluicegate.png\" width=\"500\">\n",
    "<figcaption>Figure 2. Sluice gate schematic </figcaption>\n",
    "</figure>\n",
    "\n",
    "The flow depths are $y_0 = 65~ft$ and $y_1=1~ft$.  \n",
    "\n",
    "Determine:\n",
    "1. Discharge through the sluice gate\n",
    "2. Power dissipated in the jump\n",
    "3. The alternate depth (depth of flow after the jump)"
   ]
  },
  {
   "cell_type": "code",
   "execution_count": 6,
   "metadata": {},
   "outputs": [],
   "source": [
    "# sketch here"
   ]
  },
  {
   "cell_type": "code",
   "execution_count": 7,
   "metadata": {},
   "outputs": [],
   "source": [
    "# list known quantities"
   ]
  },
  {
   "cell_type": "code",
   "execution_count": 8,
   "metadata": {},
   "outputs": [],
   "source": [
    "# list unknown quantities"
   ]
  },
  {
   "cell_type": "code",
   "execution_count": 9,
   "metadata": {},
   "outputs": [],
   "source": [
    "# governing principles"
   ]
  },
  {
   "cell_type": "code",
   "execution_count": 10,
   "metadata": {},
   "outputs": [],
   "source": [
    "# solution (step-by-step)"
   ]
  },
  {
   "cell_type": "code",
   "execution_count": 11,
   "metadata": {},
   "outputs": [],
   "source": [
    "# discussion"
   ]
  },
  {
   "cell_type": "markdown",
   "metadata": {},
   "source": [
    "---\n",
    "\n",
    "### Problem 3\n",
    "\n",
    "Figure 3 is a schematic of wind blowing on a traffic barrier drum (A 55-gallon drum painted orange). The empty mass of the drum is 24 lbm, the diameter is 22.5 inches, and the height is 34.5 inches.\n",
    "\n",
    "<figure align=\"center\">\n",
    "<!--<img src=\"./trafficdrum.png\" width=\"400\" > -->\n",
    "<img src=\"http://54.243.252.9/ce-3305-webroot/5-Exams/EX5/trafficdrum.png\" width=\"400\">\n",
    "<figcaption>Figure 3. Traffic Barrier Drum </figcaption>\n",
    "</figure>\n",
    "\n",
    "Determine:\n",
    "\n",
    "- Will a drum 1/2 full of water tip over in a wind with gusts of 90 miles/hour? \n"
   ]
  },
  {
   "cell_type": "code",
   "execution_count": 12,
   "metadata": {},
   "outputs": [],
   "source": [
    "# sketch(s) here"
   ]
  },
  {
   "cell_type": "code",
   "execution_count": 2,
   "metadata": {},
   "outputs": [],
   "source": [
    "# list known quantities"
   ]
  },
  {
   "cell_type": "code",
   "execution_count": 3,
   "metadata": {},
   "outputs": [],
   "source": [
    "# list unknown quantities"
   ]
  },
  {
   "cell_type": "code",
   "execution_count": 4,
   "metadata": {},
   "outputs": [],
   "source": [
    "# governing principles"
   ]
  },
  {
   "cell_type": "code",
   "execution_count": 5,
   "metadata": {},
   "outputs": [],
   "source": [
    "# solution (step-by-step) "
   ]
  },
  {
   "cell_type": "code",
   "execution_count": 7,
   "metadata": {},
   "outputs": [],
   "source": [
    "# discussion"
   ]
  },
  {
   "cell_type": "markdown",
   "metadata": {},
   "source": [
    "---\n",
    "\n",
    "### Problem 4\n",
    "\n",
    "High-speed rail (HSR) trains are streamlined to reduce shear force. The cross section of a HSR car is shown in Figure 4. \n",
    "\n",
    "<figure align=\"center\">\n",
    "<!-- <img src=\"./HSRcar.png\" width=\"300\" >  -->\n",
    "<img src=\"http://54.243.252.9/ce-3305-webroot/5-Exams/EX5/HSRcar.png\" width=\"400\" >\n",
    "<figcaption>Figure 4. High-Speed Rail Car.</figcaption>\n",
    "</figure>\n",
    "\n",
    "For a 201 meter long train, estimate:\n",
    "1. The shear force on the car skin as 109 km/hr.\n",
    "2. The shear force on the car skin as 288 km/hr.\n",
    "3. The power (in kilowatts) required to just to overcome the frictional shear force at 109 km/hr.\n",
    "4. The power (in kilowatts) required to just to overcome the frictional shear force at 288 km/hr.\n"
   ]
  },
  {
   "cell_type": "code",
   "execution_count": 12,
   "metadata": {},
   "outputs": [],
   "source": [
    "# sketch(s) here"
   ]
  },
  {
   "cell_type": "code",
   "execution_count": 2,
   "metadata": {},
   "outputs": [],
   "source": [
    "# list known quantities"
   ]
  },
  {
   "cell_type": "code",
   "execution_count": 3,
   "metadata": {},
   "outputs": [],
   "source": [
    "# list unknown quantities"
   ]
  },
  {
   "cell_type": "code",
   "execution_count": 4,
   "metadata": {},
   "outputs": [],
   "source": [
    "# governing principles"
   ]
  },
  {
   "cell_type": "code",
   "execution_count": 5,
   "metadata": {},
   "outputs": [],
   "source": [
    "# solution (step-by-step) "
   ]
  },
  {
   "cell_type": "code",
   "execution_count": 7,
   "metadata": {},
   "outputs": [],
   "source": [
    "# discussion"
   ]
  },
  {
   "cell_type": "markdown",
   "metadata": {},
   "source": [
    "---\n",
    "\n",
    "### Problem 5\n",
    "\n",
    "A windmill is connected directly to a mechanical pump (inertia-type) to lift water from a well that is 10 feet deep as depicted on Figure 5.  The wind turbine is a conventional horizontal-axis type with a fan diameter of 10 feet.  The efficiency of the mechanical pump is 80%. The pump discharges to atmospheric pressure as shown through 20 feet of 2-inch galvanized pipe.\n",
    "\n",
    "<figure align=\"center\">\n",
    "<!-- <img src=\"./windmill.png\" width=\"300\" > -->\n",
    "<img src=\"http://54.243.252.9/ce-3305-webroot/5-Exams/EX5/windmill.png\" width=\"300\" >\n",
    "<figcaption>Figure 5. Windmill-driven well pump </figcaption>\n",
    "</figure>\n",
    "\n",
    "For an air density $\\rho_{air}=0.07~\\frac{lbm}{ft^3}$ and a wind speed of 30 miles per hour\n",
    "\n",
    "Determine:\n",
    "1. Well discharge in gallons per minute "
   ]
  },
  {
   "cell_type": "code",
   "execution_count": 12,
   "metadata": {},
   "outputs": [],
   "source": [
    "# sketch(s) here"
   ]
  },
  {
   "cell_type": "code",
   "execution_count": 2,
   "metadata": {},
   "outputs": [],
   "source": [
    "# list known quantities"
   ]
  },
  {
   "cell_type": "code",
   "execution_count": 3,
   "metadata": {},
   "outputs": [],
   "source": [
    "# list unknown quantities"
   ]
  },
  {
   "cell_type": "code",
   "execution_count": 4,
   "metadata": {},
   "outputs": [],
   "source": [
    "# governing principles"
   ]
  },
  {
   "cell_type": "code",
   "execution_count": 5,
   "metadata": {},
   "outputs": [],
   "source": [
    "# solution (step-by-step) "
   ]
  },
  {
   "cell_type": "code",
   "execution_count": 7,
   "metadata": {},
   "outputs": [],
   "source": [
    "# discussion"
   ]
  }
 ],
 "metadata": {
  "kernelspec": {
   "display_name": "Python 3",
   "language": "python",
   "name": "python3"
  },
  "language_info": {
   "codemirror_mode": {
    "name": "ipython",
    "version": 3
   },
   "file_extension": ".py",
   "mimetype": "text/x-python",
   "name": "python",
   "nbconvert_exporter": "python",
   "pygments_lexer": "ipython3",
   "version": "3.8.10"
  }
 },
 "nbformat": 4,
 "nbformat_minor": 4
}
