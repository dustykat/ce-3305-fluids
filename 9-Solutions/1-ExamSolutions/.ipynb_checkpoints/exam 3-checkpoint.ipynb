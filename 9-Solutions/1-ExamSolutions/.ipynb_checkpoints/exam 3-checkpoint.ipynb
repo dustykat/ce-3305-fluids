{
 "cells": [
  {
   "cell_type": "markdown",
   "metadata": {},
   "source": [
    "**Download** (right-click, save target as ...) this page as a Jupyterlab notebook from: [EX-3](http://54.243.252.9/ce-3305-webroot/5-Exams/EX3/EX3.ipynb)\n",
    "\n",
    "___"
   ]
  },
  {
   "cell_type": "markdown",
   "metadata": {},
   "source": [
    "# <font color=darkblue>CE 3305 Engineering Fluid Mechanics <br> Spring 2022 Exam 3</font>\n",
    "\n",
    "**Russell, Alexis**\n",
    "\n",
    "**R11517246**\n",
    "\n",
    "___\n",
    "\n",
    "### Purpose : \n",
    "Demonstrate ability to apply fluid mechanics and problem solving principles covering topics such as: Bernoulli's equation, Conservation of Mass, Control Volume Analysis, Conservation of Linear Momentum, and applications in closed conduit systems.\n"
   ]
  },
  {
   "cell_type": "markdown",
   "metadata": {},
   "source": [
    "___\n",
    "\n",
    "### Problem 1\n",
    "\n",
    "Figure 1 depicts a reservoir draining through a valve used to\n",
    "control the flow rate. The head loss across the valve is $h_l = 4 \\frac{V^2}{2g}$ , where V is the velocity\n",
    "in the pipe. The cross-sectional area of the pipe is $8~cm^2$. The elevation of the water level in the reservoir above the pipe outlet is 9 m.\n",
    "\n",
    "<figure align=\"center\"> \n",
    "<!--<img src=\"./TankDrainB.png\" width=\"400\" >-->\n",
    "<img src=\"http://54.243.252.9/ce-3305-webroot/5-Exams/EX3/TankDrainB.png\" width=\"400\" >\n",
    "<figcaption>Figure 1. Tank draining through a valve</figcaption>\n",
    "</figure>\n",
    "\n",
    "Assuming all loss occurs in the valve. Find the discharge in the pipe; assume α = 1.0 at all locations in the system."
   ]
  },
  {
   "cell_type": "code",
   "execution_count": 20,
   "metadata": {},
   "outputs": [],
   "source": [
    "# sketch(s) here"
   ]
  },
  {
   "cell_type": "code",
   "execution_count": 45,
   "metadata": {},
   "outputs": [],
   "source": [
    "# list known quantities\n",
    "# A = 8 cm^2\n",
    "# h1 = 4(V^2/2g)"
   ]
  },
  {
   "cell_type": "code",
   "execution_count": null,
   "metadata": {},
   "outputs": [],
   "source": [
    "# list unknown quantities\n",
    "# discharge in the pipe"
   ]
  },
  {
   "cell_type": "code",
   "execution_count": null,
   "metadata": {},
   "outputs": [],
   "source": [
    "# governing principles"
   ]
  },
  {
   "cell_type": "code",
   "execution_count": 51,
   "metadata": {},
   "outputs": [
    {
     "name": "stdout",
     "output_type": "stream",
     "text": [
      "The discharge in the pipe: 0.005 m^3/s\n"
     ]
    }
   ],
   "source": [
    "# solution (step-by-step) \n",
    "# convert cross-sectional area into m^2\n",
    "# A = SA/10000\n",
    "# solve for V2 using the equation\n",
    "# P1/(r*g) + V1^2/(2*g) + z1 + h = P2/(r*g) + V2^2/(2*g) + z2 + h\n",
    "# z1 = (5*V2^2)/(2*g) + z2\n",
    "# V2 = (( (2 * g)) * ( z1 - z2 )) / 5) **(1/2)\n",
    "# Q = A * V2\n",
    "print('The discharge in the pipe:', '0.005', 'm^3/s')"
   ]
  },
  {
   "cell_type": "code",
   "execution_count": null,
   "metadata": {},
   "outputs": [],
   "source": [
    "# discussion"
   ]
  },
  {
   "cell_type": "markdown",
   "metadata": {},
   "source": [
    "---\n",
    "\n",
    "### Problem 2:\n",
    "\n",
    "Figure 2 is a schematic of water (15$^o$C) flowing from a tank through a tube and discharging into ambient conditions (a jet at the outlet). \n",
    "\n",
    "<figure align=\"center\">\n",
    "<!-- <img src=\"./ex2-tanks.png\" width=\"400\" > -->\n",
    "<img src=\"http://54.243.252.9/ce-3305-webroot/5-Exams/EX3/TankDrainC.png\" width=\"500\" >\n",
    "<figcaption>Figure 2. Tank draining through a tube.</figcaption>\n",
    "</figure>\n",
    "\n",
    "The tube has an inside diameter of $8~mm$ and a length of $L=6~m$, and the frictional resistance coefficient is $f =0.015$. \n",
    "Assuming only pipeline head loss in the tube (ignoring any minor losses), find:\n",
    "\n",
    "1. The exit velocity in m/s if the water level is H=3m.\n",
    "2. The discharge in L/s.\n",
    "3. Sketch the HGL and the EGL.\n"
   ]
  },
  {
   "cell_type": "code",
   "execution_count": null,
   "metadata": {},
   "outputs": [],
   "source": [
    "# sketch here"
   ]
  },
  {
   "cell_type": "code",
   "execution_count": 44,
   "metadata": {},
   "outputs": [],
   "source": [
    "# list known quantities\n",
    "# d = 8 mm\n",
    "# L = 6 m\n",
    "# f = 0.015"
   ]
  },
  {
   "cell_type": "code",
   "execution_count": null,
   "metadata": {},
   "outputs": [],
   "source": [
    "# list unknown quantities\n",
    "# the exit velocity\n",
    "# the discharge"
   ]
  },
  {
   "cell_type": "code",
   "execution_count": 22,
   "metadata": {},
   "outputs": [],
   "source": [
    "# governing principles\n",
    "# A = pi/4*d^2\n",
    "# Q = V * A"
   ]
  },
  {
   "cell_type": "code",
   "execution_count": 38,
   "metadata": {},
   "outputs": [
    {
     "name": "stdout",
     "output_type": "stream",
     "text": [
      "The exit velocity: 25.57 m/s\n",
      "The discharge: 1.29 L/s\n"
     ]
    }
   ],
   "source": [
    "# solution (step-by-step)\n",
    "# convert the diameter to m\n",
    "# dn = d / 1000\n",
    "# V2 = ((2*g*dn*H)/(dn*f*L))**(1/2)\n",
    "# A = math.pi/4 * dn**2\n",
    "# Q = A * V2\n",
    "print('The exit velocity:', '25.57','m/s')\n",
    "print('The discharge:', '1.29','L/s')"
   ]
  },
  {
   "cell_type": "code",
   "execution_count": null,
   "metadata": {},
   "outputs": [],
   "source": [
    "# discussion"
   ]
  },
  {
   "cell_type": "markdown",
   "metadata": {},
   "source": [
    "---\n",
    "\n",
    "### Problem 3\n",
    "\n",
    "Figure 3 is a schematic of a pumped-storage system. If a flow of $0.10~m^3/s$ of water is to be maintained in the system shown, what power must be added to the water by the pump? The pipe is made of steel and is $15~cm$ in diameter.\n",
    "\n",
    "<figure align=\"center\">\n",
    "<!--<img src=\"./ex2-tee.png\" width=\"400\" > -->\n",
    "<img src=\"http://54.243.252.9/ce-3305-webroot/5-Exams/EX3/PumpStorageB.png\" width=\"600\" >\n",
    "<figcaption>Figure 3. Pump-Storage System </figcaption>\n",
    "</figure>\n",
    "\n"
   ]
  },
  {
   "cell_type": "code",
   "execution_count": null,
   "metadata": {},
   "outputs": [],
   "source": [
    "# sketch(s) here"
   ]
  },
  {
   "cell_type": "code",
   "execution_count": null,
   "metadata": {},
   "outputs": [],
   "source": [
    "# list known quantities"
   ]
  },
  {
   "cell_type": "code",
   "execution_count": null,
   "metadata": {},
   "outputs": [],
   "source": [
    "# list unknown quantities"
   ]
  },
  {
   "cell_type": "code",
   "execution_count": null,
   "metadata": {},
   "outputs": [],
   "source": [
    "# governing principles"
   ]
  },
  {
   "cell_type": "code",
   "execution_count": 53,
   "metadata": {},
   "outputs": [
    {
     "name": "stdout",
     "output_type": "stream",
     "text": [
      "The power that must be added to the water by the pump is 16.65 KW\n"
     ]
    }
   ],
   "source": [
    "# solution (step-by-step)\n",
    "# dn = d/100\n",
    "# V = Q/(math.pi / 4 * dn**2)\n",
    "# R = V*dn/v\n",
    "\n",
    "# dm = d*10\n",
    "# RR = E/dm\n",
    "# f = 0.01605\n",
    "\n",
    "# A = math.pi/4 * dn**2\n",
    "# hf = (f * L * (Q/A)**2)/(2 * g * dn)\n",
    "\n",
    "# bernoulli equation\n",
    "\n",
    "# hp = z2 + hf - z1\n",
    "# P = r * g * hp * Q\n",
    "\n",
    "print('The power that must be added to the water by the pump is', '16.65', 'KW')"
   ]
  },
  {
   "cell_type": "code",
   "execution_count": null,
   "metadata": {},
   "outputs": [],
   "source": [
    "# discussion"
   ]
  },
  {
   "cell_type": "markdown",
   "metadata": {},
   "source": [
    "---\n",
    "\n",
    "### Problem 4\n",
    "\n",
    "The pressure drop over 150 m of 10-cm-diameter galvanized iron pipe is measured to be $100~kPa$. Roughness height is $k_s = 0.20~mm$. The viscosity of water is $\\nu = 10^{−6}~m^2/sec$.\n",
    "\n",
    "<figure align=\"center\">\n",
    "<!--<img src=\"./ex2-tee.png\" width=\"400\" > -->\n",
    "<img src=\"http://54.243.252.9/ce-3305-webroot/5-Exams/EX3/PipelineSketch.png\" width=\"600\" >\n",
    "<figcaption>Figure 4-1. Pipeline Sketch </figcaption>\n",
    "</figure>\n",
    "\n",
    "If the pipe is horizontal, estimate the flow rate of water using the Moody chart below.\n",
    "\n",
    "<figure align=\"center\">\n",
    "<!--<img src=\"./ex2-tee.png\" width=\"400\" > -->\n",
    "<img src=\"http://54.243.252.9/ce-3305-webroot/5-Exams/EX3/Moody.png\" width=\"600\" >\n",
    "<figcaption>Figure 4-2. Moody (Blue) Chart </figcaption>\n",
    "</figure>\n",
    "\n",
    "Express the result in Liters per second. "
   ]
  },
  {
   "cell_type": "code",
   "execution_count": null,
   "metadata": {},
   "outputs": [],
   "source": [
    "# sketch(s) here"
   ]
  },
  {
   "cell_type": "code",
   "execution_count": null,
   "metadata": {},
   "outputs": [],
   "source": [
    "# list known quantities"
   ]
  },
  {
   "cell_type": "code",
   "execution_count": null,
   "metadata": {},
   "outputs": [],
   "source": [
    "# list unknown quantities"
   ]
  },
  {
   "cell_type": "code",
   "execution_count": 24,
   "metadata": {},
   "outputs": [],
   "source": [
    "# governing principles"
   ]
  },
  {
   "cell_type": "code",
   "execution_count": 25,
   "metadata": {},
   "outputs": [],
   "source": [
    "# solution (step-by-step) "
   ]
  },
  {
   "cell_type": "code",
   "execution_count": 26,
   "metadata": {},
   "outputs": [],
   "source": [
    "# discussion"
   ]
  },
  {
   "cell_type": "markdown",
   "metadata": {},
   "source": []
  },
  {
   "cell_type": "markdown",
   "metadata": {},
   "source": [
    "---\n",
    "\n",
    "### Problem 5\n",
    "\n",
    "The pressure drop over 150 m of 10-cm-diameter galvanized iron pipe is measured to be $100~kPa$. Roughness height is $k_s = 0.20~mm$. The viscosity of water is $\\nu = 10^{−6}~m^2/sec$.\n",
    "\n",
    "<figure align=\"center\">\n",
    "<!--<img src=\"./ex2-tee.png\" width=\"400\" > -->\n",
    "<img src=\"http://54.243.252.9/ce-3305-webroot/5-Exams/EX3/PipelineSketch.png\" width=\"600\">\n",
    "<figcaption>Figure 5. Pipeline Sketch </figcaption>\n",
    "</figure>\n",
    "\n",
    "If the pipe is horizontal, estimate the flow rate of water using the Jain friction factor formula.\n",
    "\n",
    "$$f = \\frac{0.25}{[log_{10}(\\frac{K_s}{3.7D} + \\frac{5.74}{Re^{0.9}})]^2}$$\n",
    "\n",
    "Express the result in $m^3/s$. "
   ]
  },
  {
   "cell_type": "code",
   "execution_count": 27,
   "metadata": {},
   "outputs": [],
   "source": [
    "# sketch(s) here"
   ]
  },
  {
   "cell_type": "code",
   "execution_count": 28,
   "metadata": {},
   "outputs": [],
   "source": [
    "# list known quantities\n",
    "# v = 10^-6 m^2/s\n",
    "# d = 10 cm\n",
    "# Ks = 0.20 mm"
   ]
  },
  {
   "cell_type": "code",
   "execution_count": 29,
   "metadata": {},
   "outputs": [],
   "source": [
    "# list unknown quantities\n",
    "#The flow rate of water "
   ]
  },
  {
   "cell_type": "code",
   "execution_count": 30,
   "metadata": {},
   "outputs": [],
   "source": [
    "# governing principles\n",
    "# f = 0.25/[log10(Ks/3.7D + 5.74/Re^0.9)]^2"
   ]
  },
  {
   "cell_type": "code",
   "execution_count": 55,
   "metadata": {},
   "outputs": [
    {
     "name": "stdout",
     "output_type": "stream",
     "text": [
      "The flow rate of water is: 0.019 m^3/s\n"
     ]
    }
   ],
   "source": [
    "# solution (step-by-step) \n",
    "# convert diameter to mm\n",
    "# dm = d*10\n",
    "# convert diameter to m\n",
    "# D = d/100\n",
    "# convert pressure to N/m^2\n",
    "# P = dP*1000\n",
    "# convert Ks to m\n",
    "# K = Ks/1000\n",
    "# u = r * v\n",
    "# Solve for V using: dP/L = 32 * u * v / d^2\n",
    "# V = (P * D**2)/(L*32*u)\n",
    "# Re = (V * D) / v\n",
    "# f = 0.25/(math.log10(K/(3.7*D)+5.74/Re**0.9))**2\n",
    "# hf = P/(g*r)\n",
    "# Q = ((hf * 12 * D**5)/(f * L))**(1/2)\n",
    "print('The flow rate of water is:','0.019','m^3/s')"
   ]
  },
  {
   "cell_type": "code",
   "execution_count": null,
   "metadata": {},
   "outputs": [],
   "source": [
    "# discussion"
   ]
  },
  {
   "cell_type": "code",
   "execution_count": null,
   "metadata": {},
   "outputs": [],
   "source": []
  }
 ],
 "metadata": {
  "kernelspec": {
   "display_name": "Python 3 (ipykernel)",
   "language": "python",
   "name": "python3"
  },
  "language_info": {
   "codemirror_mode": {
    "name": "ipython",
    "version": 3
   },
   "file_extension": ".py",
   "mimetype": "text/x-python",
   "name": "python",
   "nbconvert_exporter": "python",
   "pygments_lexer": "ipython3",
   "version": "3.9.7"
  }
 },
 "nbformat": 4,
 "nbformat_minor": 4
}
