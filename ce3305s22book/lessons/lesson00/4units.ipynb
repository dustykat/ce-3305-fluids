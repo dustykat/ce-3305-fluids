{
 "cells": [
  {
   "cell_type": "markdown",
   "metadata": {},
   "source": [
    "# Dimensions and Units (pp. 6-12)\n",
    "\n",
    "<font color=purple>Dimensions</font> are things that can be measured such as:\n",
    "\n",
    "- length\n",
    "- weight\n",
    "- temperature\n",
    "- speed\n",
    "- time\n",
    "\n",
    "Most things are expressed in a set of primary dimensions defined either by\n",
    "\n",
    "- length-mass-acceleration or\n",
    "- length-weight-acceleration\n",
    "\n",
    "Primary dimensions are used to construct secondary dimensions.  These secondary dimensions are often more practical in engineering\n",
    "\n",
    "<font color=purple>Units</font> are how much of a dimension is measured or counted.\n",
    "\n",
    "A **meter** is a unit of **length**\n",
    "\n",
    "Consistent units is a set of units with conversion factors equal to unity.  The U.S. Customary (Imperial) is conststent as is the SI (System Internationale), but mixing systems leads to spectular errors (the Hubble Telescope comes to mind!). Using a single system, when possible, reduces errors because of fewer arithmetic operations.  Many practical cases commonly use blends of both systems so unit conversions are required.  The problem solving format example contained embedded conversions.\n",
    "\n",
    "## Cancelling, carrying, and converting units\n",
    "\n",
    "Vital in most engineering applications; results of calculations need to be in useful units - but should use primary units so that errors can be detected and quickly repaired, and dimensional homogenity can be checked\n",
    "\n",
    ":::{note}\n",
    "Many practical formulas are \"empirical\" and the resulting equations are not dimensionally homogeneous; expecting dimensional homogenity using these is absurd - don't even try.  A common example from hydrology is something called the rational runoff formula.  It looks like <br>\n",
    "$Q_p = CiA$<br>\n",
    "where the various terms are in the following explicit units:\n",
    "$Q_p$ is discharge in cubic feet per second<br>\n",
    "$C$ is the runoff coefficient (essentially dimensionless)<br>\n",
    "$i$ is rainfall intensity in inches per hour<br>\n",
    "$A$ is drainage area in acres. <br>\n",
    "In this formula, converting units is a mistake and the results won't make sense - don't even bother.  We still use the formula because it has practical value and there has never been much motivation to pursue its equivalent in a dimensionally homogeneous fashion.\n",
    ":::\n",
    "\n",
    "The textbook calls its unit conversion method the grid method; the idea is simple enough; express original quantity in its units and use unit conversions to produce a desired practical unit.  Consider the example that follows\n",
    "<hr>\n",
    "\n",
    "**Example Unit Conversion**<br>\n",
    "A 20 lb-m projectile is to be accelerated at 100$ft/s^2$.  What force is required?\n",
    "\n",
    "**State the problem**<br>\n",
    " What force is required to accelerate a 20 lb-m projectile at 100$ft/s^2$? \n",
    " \n",
    "**Sketch the situation**<br>\n",
    "<!--![](projectile-acceleration.png)-->\n",
    "\n",
    "```{figure} projectile-acceleration.png\n",
    "---\n",
    "width: 400px\n",
    "name: projectile-acceleration\n",
    "```\n",
    "\n",
    "**List known quantities**<br>\n",
    "$m=20~lbm$ (note that pounds mass is a unit of mass, not weight in the usual sense)<br>\n",
    "$a= 100~ft/s^2$<br>\n",
    "\n",
    "**List unknown quantities**<br>\n",
    "$F$ the requires force (acting as shown, if we were accelerating upward would need to consider gravity)<br>\n",
    "\n",
    "**Identify and list governing principles, assumptions, and equations**<br>\n",
    "$\\bar F = m \\bar a$\n",
    "\n",
    "**Analyse the problem - solve for the unknowns**<br>\n",
    "$F_x = m a_x = (20~lbm)(100~ft/s^2)$"
   ]
  },
  {
   "cell_type": "code",
   "execution_count": 1,
   "metadata": {},
   "outputs": [
    {
     "name": "stdout",
     "output_type": "stream",
     "text": [
      "Applied force is 2000 lbm-ft/s^2\n"
     ]
    }
   ],
   "source": [
    "mass = 20 #mass in pounds-mass\n",
    "acceleration = 100 #in ft/s/s\n",
    "force = mass*acceleration\n",
    "print(\"Applied force is\",round(force,2),\"lbm-ft/s^2\")"
   ]
  },
  {
   "cell_type": "markdown",
   "metadata": {},
   "source": [
    "**Discuss the results**<br>\n",
    "Notice the numerical result, the answer is correct but not in useful units, but by the unit conversion\n",
    "$1~lbf=1~lbm \\cdot g$ we can obtain a useful result in pounds force.\n",
    "\n",
    "The conversion is\n",
    "$2000~\\frac{lbm-ft}{s^2} \\cdot \\frac{1~lbf}{1~lbm \\cdot g}$"
   ]
  },
  {
   "cell_type": "code",
   "execution_count": 2,
   "metadata": {},
   "outputs": [
    {
     "name": "stdout",
     "output_type": "stream",
     "text": [
      "Applied force is 62.11 lbf\n"
     ]
    }
   ],
   "source": [
    "grabity = 32.2 #gravitational acceleration in US customary units\n",
    "force = force*(1.0/(1.0*grabity))\n",
    "print(\"Applied force is\",round(force,2),\"lbf\")"
   ]
  },
  {
   "cell_type": "markdown",
   "metadata": {},
   "source": [
    "So if the 20 lbm mass is acted upon by a 62.11 lbf, it is anticipated that it will accelerate at a rate of 100 $ft/s^2$ (until the force is removed).\n",
    "\n",
    ":::{note}\n",
    "A pound mass is a very archaic unit, and used herein to illustrate unit conversions. Learn more at [Shedding those Pounds!](https://en.wikipedia.org/wiki/Pound_(force))\n",
    ":::"
   ]
  },
  {
   "cell_type": "code",
   "execution_count": null,
   "metadata": {},
   "outputs": [],
   "source": []
  }
 ],
 "metadata": {
  "kernelspec": {
   "display_name": "Python 3",
   "language": "python",
   "name": "python3"
  },
  "language_info": {
   "codemirror_mode": {
    "name": "ipython",
    "version": 3
   },
   "file_extension": ".py",
   "mimetype": "text/x-python",
   "name": "python",
   "nbconvert_exporter": "python",
   "pygments_lexer": "ipython3",
   "version": "3.8.10"
  }
 },
 "nbformat": 4,
 "nbformat_minor": 4
}
