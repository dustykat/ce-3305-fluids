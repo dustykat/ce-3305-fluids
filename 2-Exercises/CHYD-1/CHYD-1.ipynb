{
 "cells": [
  {
   "cell_type": "markdown",
   "metadata": {},
   "source": [
    "**Download** (right-click, save target as ...) this page as a Jupyterlab notebook from: [CHYD-1](http://54.243.252.9/ce-3305-webroot/2-Exercises/CHYD-1/CHYD-1.ipynb)\n",
    "\n",
    "___"
   ]
  },
  {
   "cell_type": "markdown",
   "metadata": {},
   "source": [
    "# <font color=darkblue>CE 3305 Engineering Fluid Mechanics <br> Summer 2022 Computational Hydraulics Exercise Set 1</font>\n",
    "\n",
    "**LAST NAME, FIRST NAME**\n",
    "\n",
    "**R00000000**\n",
    "\n",
    "___\n",
    "\n",
    "### Purpose : \n",
    "Apply computational thinking (ENGR 1330) principles and hydraulics/fluid mechanics principles to analyze flow distribution in a pipe network.\n",
    "### Assessment Criteria : \n",
    "Completion, plausible solutions, use JupyterLab as a calculator.\n",
    "___"
   ]
  },
  {
   "cell_type": "markdown",
   "metadata": {},
   "source": [
    "### Problem 1.\n",
    "\n",
    "Figure 1 is a gravity-flow pipe network with water supplied from a fixed-grade reservoir (pool elevation 100 meters) connected to node N2.  All pipes are ductile iron.\n",
    "\n",
    "<figure align=\"center\">\n",
    "<img src=\"./pipe-network.png\" width=\"400\" > \n",
    "<img src=\"http://54.243.252.9/ce-3305-webroot/5-Exams/EX4/pipe-network.png\" width=\"400\" >\n",
    "<figcaption>Figure 1. Network Layout (Plan View) </figcaption>\n",
    "</figure>\n",
    "\n",
    "The pipe dimensions and node demands are shown in the tables below.\n",
    "\n",
    "|Pipe ID|Length(m)|Diameter(mm)|\n",
    "|:---|---:|:---|\n",
    "|1|1,220|254|\n",
    "|2|1,829|254|\n",
    "|3|1,829|305|\n",
    "|4|1,982|610|\n",
    "|5|2,134|254|\n",
    "|6|915|457|\n",
    "|7|1,524|254|\n",
    "|8|91|305|\n",
    "\n",
    "|Node ID|Elevation(m)|Demand(liters/sec)|\n",
    "|:---|---:|---:|\n",
    "|N1|51.8|31.5|\n",
    "|N2|54.9|31.5|\n",
    "|N3|50.3|31.5|\n",
    "|N4|47.3|94.6|\n",
    "|N5|45.7|63.1|\n",
    "|N6|44.2|94.6|\n",
    "\n",
    "Determine:\n",
    "\n",
    "1. The flow rate (and direction of flow) for each pipe in the network, for the case where the total head at the supply reservoir is 100 meters.\n",
    "2. The resultant pressure in SI units at each node.\n",
    "3. The Darcy-Weisbach friction factor for each ductile iron pipe of the network.\n",
    "4. The head loss from Node 2 to Node 6.\n",
    "5. The node with the lowest pressure."
   ]
  },
  {
   "cell_type": "code",
   "execution_count": null,
   "metadata": {},
   "outputs": [],
   "source": [
    "# sketch here"
   ]
  },
  {
   "cell_type": "code",
   "execution_count": null,
   "metadata": {},
   "outputs": [],
   "source": [
    "# list known quantities"
   ]
  },
  {
   "cell_type": "code",
   "execution_count": null,
   "metadata": {},
   "outputs": [],
   "source": [
    "# list unknown quantities"
   ]
  },
  {
   "cell_type": "code",
   "execution_count": null,
   "metadata": {},
   "outputs": [],
   "source": [
    "# governing principles (fluid mechanics)"
   ]
  },
  {
   "cell_type": "code",
   "execution_count": null,
   "metadata": {},
   "outputs": [],
   "source": [
    "# solution (using JupyterLab notebook) (computational thinking/algorithm development)"
   ]
  },
  {
   "cell_type": "code",
   "execution_count": null,
   "metadata": {},
   "outputs": [],
   "source": [
    "# discussion"
   ]
  }
 ],
 "metadata": {
  "kernelspec": {
   "display_name": "Python 3",
   "language": "python",
   "name": "python3"
  },
  "language_info": {
   "codemirror_mode": {
    "name": "ipython",
    "version": 3
   },
   "file_extension": ".py",
   "mimetype": "text/x-python",
   "name": "python",
   "nbconvert_exporter": "python",
   "pygments_lexer": "ipython3",
   "version": "3.8.10"
  }
 },
 "nbformat": 4,
 "nbformat_minor": 4
}
