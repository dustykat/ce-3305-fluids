{
 "cells": [
  {
   "cell_type": "markdown",
   "metadata": {},
   "source": [
    "**Download** (right-click, save target as ...) this page as a Jupyterlab notebook from: [EX-2](http://54.243.252.9/ce-3305-webroot/5-Exams/EX2/EX2.ipynb)\n",
    "\n",
    "___"
   ]
  },
  {
   "cell_type": "markdown",
   "metadata": {},
   "source": [
    "# <font color=darkblue>CE 3305 Engineering Fluid Mechanics <br> Summer 2022 Exam 2</font>\n",
    "\n",
    "**LAST NAME, FIRST NAME**\n",
    "\n",
    "**R00000000**\n",
    "\n",
    "___\n",
    "\n",
    "### Purpose : \n",
    "Demonstrate ability to apply fluid mechanics and problem solving principles covering topics such as: Bernoulli's equation, Conservation of Mass, Control Volume Analysis, Conservation of Linear Momentum.\n"
   ]
  },
  {
   "cell_type": "markdown",
   "metadata": {},
   "source": [
    "___\n",
    "\n",
    "### Problem 1\n",
    "\n",
    "<figure align=\"center\">\n",
    "<!-- <img src=\"./ex2-tanks.png\" width=\"400\" > -->\n",
    "<img src=\"http://54.243.252.9/ce-3305-webroot/5-Exams/EX2/ex2-tanks.png\" width=\"500\" >\n",
    "<figcaption>Figure 1. Schematic of cylindrical tank with a hole in the side</figcaption>\n",
    "</figure>\n",
    "\n",
    "A cylindrical water tank with diameter of 60 cm is shown in Figure 1.  Find the time required for the water surface to drop from a depth of 3.0 m to 0.5 m."
   ]
  },
  {
   "cell_type": "markdown",
   "metadata": {},
   "source": [
    "# sketch(s) here\n",
    "![](http://54.243.252.9/ce-3305-webroot/5-Exams/EX2/problem1.png)"
   ]
  },
  {
   "cell_type": "code",
   "execution_count": 2,
   "metadata": {},
   "outputs": [],
   "source": [
    "# list known quantities"
   ]
  },
  {
   "cell_type": "code",
   "execution_count": 3,
   "metadata": {},
   "outputs": [],
   "source": [
    "# list unknown quantities"
   ]
  },
  {
   "cell_type": "code",
   "execution_count": 4,
   "metadata": {},
   "outputs": [],
   "source": [
    "# governing principles"
   ]
  },
  {
   "cell_type": "code",
   "execution_count": 4,
   "metadata": {},
   "outputs": [
    {
     "name": "stdout",
     "output_type": "stream",
     "text": [
      "Time to Drain =  185.1  seconds\n"
     ]
    }
   ],
   "source": [
    "# solution (step-by-step) \n",
    "import math\n",
    "h_begin=3.0\n",
    "h_end=0.5\n",
    "D_t = 60\n",
    "D_j = 3\n",
    "A_t = 0.25*math.pi*D_t**2\n",
    "A_j = 0.25*math.pi*D_j**2\n",
    "g = 9.81\n",
    "time = -(2*(math.sqrt(h_end)-math.sqrt(h_begin)))*(A_t/A_j)*(1/math.sqrt(2*g))\n",
    "print(\"Time to Drain = \",round(time,1),\" seconds\")"
   ]
  },
  {
   "cell_type": "code",
   "execution_count": 7,
   "metadata": {},
   "outputs": [],
   "source": [
    "# discussion"
   ]
  },
  {
   "cell_type": "markdown",
   "metadata": {},
   "source": [
    "---\n",
    "\n",
    "### Problem 2:\n",
    "\n",
    "A spherical water tank with diameter of 1 meter is 1/2 full of water. A valve at the bottom of the tank is opened and water exits from the 1 cm diameter hole with a velocity of $V_e = \\sqrt{2gh}$ where $h$ is the depth of water in the tank above the outlet.  Find the time required to drain the tank.\n"
   ]
  },
  {
   "cell_type": "markdown",
   "metadata": {},
   "source": [
    "# sketch here\n",
    "![](http://54.243.252.9/ce-3305-webroot/5-Exams/EX2/problem2.png)"
   ]
  },
  {
   "cell_type": "code",
   "execution_count": 7,
   "metadata": {},
   "outputs": [],
   "source": [
    "# list known quantities"
   ]
  },
  {
   "cell_type": "code",
   "execution_count": 8,
   "metadata": {},
   "outputs": [],
   "source": [
    "# list unknown quantities"
   ]
  },
  {
   "cell_type": "code",
   "execution_count": 9,
   "metadata": {},
   "outputs": [],
   "source": [
    "# governing principles"
   ]
  },
  {
   "cell_type": "code",
   "execution_count": 36,
   "metadata": {},
   "outputs": [
    {
     "data": {
      "image/png": "[encoded data removed]",
      "text/plain": [
       "<Figure size 720x360 with 1 Axes>"
      ]
     },
     "metadata": {
      "needs_background": "light"
     },
     "output_type": "display_data"
    }
   ],
   "source": [
    "# solution (step-by-step)\n",
    "# Numerical Approximation by forward difference\n",
    "import math\n",
    "# input values\n",
    "g = 9.81\n",
    "D = 1.00\n",
    "d = 0.01\n",
    "h_start = 1.0\n",
    "h_end = 0.0\n",
    "# prototype function\n",
    "def Atank(D,h):\n",
    "    Atank = 0.25*math.pi*(D*math.sin( 0.5*math.acos((D-2*h)/D) ))**2\n",
    "    return(Atank)\n",
    "    \n",
    "def dhdt(g,h,D,d):\n",
    "    atank = Atank(D,h) # tank surface area\n",
    "    adrain = 0.25*math.pi*d**2\n",
    "    num = -math.sqrt(2*g*h)*adrain\n",
    "    den = atank\n",
    "    dhdt = num/den\n",
    "    return(dhdt)\n",
    "# finite difference model\n",
    "dt = 1\n",
    "hnow = h_start\n",
    "etime = 0\n",
    "time = [] # list to store times\n",
    "depth = [] # list to store tank depth\n",
    "time.append(etime)\n",
    "depth.append(hnow)\n",
    "while hnow > h_end:\n",
    "    dh = dhdt(g,hnow,D,d)*dt  # estimate change in depth\n",
    "    hnew = hnow + dh # increment for new depth\n",
    "    etime = etime +dt # increment for new time\n",
    "    if hnew >= h_end:\n",
    "        hnow = hnew\n",
    "        depth.append(hnew)\n",
    "        time.append(etime)\n",
    "    else:\n",
    "        hnow = 0\n",
    "        depth.append(0)\n",
    "        time.append(etime)\n",
    "        break\n",
    "#print(hnow,etime,dh,at)\n",
    "\n",
    "import matplotlib.pyplot as plt # the python plotting library\n",
    "plottitle ='Time to drain ' + str(round(etime,1)) + ' seconds '\n",
    "mydata = plt.figure(figsize = (10,5)) # build a square drawing canvass from figure class\n",
    "plt.plot(time, depth, c='red') # basic line plot\n",
    "plt.xlabel('Time (sec)')\n",
    "plt.ylabel('Depth in Tank (meters)')\n",
    "plt.title(plottitle)\n",
    "plt.show()\n"
   ]
  },
  {
   "cell_type": "code",
   "execution_count": 32,
   "metadata": {},
   "outputs": [],
   "source": [
    "# discussion\n"
   ]
  },
  {
   "cell_type": "markdown",
   "metadata": {},
   "source": [
    "---\n",
    "\n",
    "### Problem 3\n",
    "\n",
    "What is the velocity of the flow of water in leg B of the tee in Figure 3\n",
    "\n",
    "<figure align=\"center\">\n",
    "<!--<img src=\"./ex2-tee.png\" width=\"400\" > -->\n",
    "<img src=\"http://54.243.252.9/ce-3305-webroot/5-Exams/EX2/ex2-tee.png\" width=\"600\" >\n",
    "<figcaption>Figure 3. Water flow in T connection </figcaption>\n",
    "</figure>\n",
    "\n"
   ]
  },
  {
   "cell_type": "markdown",
   "metadata": {},
   "source": [
    "# sketch(s) here\n",
    "![](http://54.243.252.9/ce-3305-webroot/5-Exams/EX2/problem3.png)"
   ]
  },
  {
   "cell_type": "code",
   "execution_count": 2,
   "metadata": {},
   "outputs": [],
   "source": [
    "# list known quantities"
   ]
  },
  {
   "cell_type": "code",
   "execution_count": 3,
   "metadata": {},
   "outputs": [],
   "source": [
    "# list unknown quantities"
   ]
  },
  {
   "cell_type": "code",
   "execution_count": 4,
   "metadata": {},
   "outputs": [],
   "source": [
    "# governing principles"
   ]
  },
  {
   "cell_type": "code",
   "execution_count": 5,
   "metadata": {},
   "outputs": [],
   "source": [
    "# solution (step-by-step) (Put the plot here, or in discussion)"
   ]
  },
  {
   "cell_type": "code",
   "execution_count": 7,
   "metadata": {},
   "outputs": [],
   "source": [
    "# discussion"
   ]
  },
  {
   "cell_type": "markdown",
   "metadata": {},
   "source": [
    "---\n",
    "\n",
    "### Problem 4\n",
    "\n",
    "Figure 4 is a vertical bend in a pipe with a 2 foot diameter.  It conveys water ($\\rho=62.4 \\frac{lbm}{ft^3}$) at a rate of 31.4 $\\frac{ft^3}{s}$.  \n",
    "\n",
    "<figure align=\"center\">\n",
    "<!--<img src=\"./ex2-bend.png\" width=\"400\" > --> \n",
    "<img src=\"http://54.243.252.9/ce-3305-webroot/5-Exams/EX2/ex2-bend.png\" width=\"600\" >\n",
    "<figcaption>Figure 4. Vertical pipe bend </figcaption>\n",
    "</figure>\n",
    "\n",
    "The pressure $p_1$ is 10 $psi$ at the lower end of the bend where the elevation is 100 feet.\n",
    "The pressure $p_2$ is 8.5 $psi$ at the upper end of the bend where the elevation is 103 feet.\n",
    "\n",
    "What is the vertical component of force that must be exherted by the anchor block on the bend to hold it in place?  The bend itself weighs 300 lbf and the length $L$ is 4 feet."
   ]
  },
  {
   "cell_type": "markdown",
   "metadata": {},
   "source": [
    "# sketch(s) here\n",
    "![](http://54.243.252.9/ce-3305-webroot/5-Exams/EX2/problem4-part1.png)\n",
    "\n",
    "![](http://54.243.252.9/ce-3305-webroot/5-Exams/EX2/problem4-part2.png)"
   ]
  },
  {
   "cell_type": "code",
   "execution_count": 2,
   "metadata": {},
   "outputs": [],
   "source": [
    "# list known quantities"
   ]
  },
  {
   "cell_type": "code",
   "execution_count": 3,
   "metadata": {},
   "outputs": [],
   "source": [
    "# list unknown quantities"
   ]
  },
  {
   "cell_type": "code",
   "execution_count": 4,
   "metadata": {},
   "outputs": [],
   "source": [
    "# governing principles"
   ]
  },
  {
   "cell_type": "code",
   "execution_count": 5,
   "metadata": {},
   "outputs": [],
   "source": [
    "# solution (step-by-step) "
   ]
  },
  {
   "cell_type": "code",
   "execution_count": 7,
   "metadata": {},
   "outputs": [],
   "source": [
    "# discussion"
   ]
  },
  {
   "cell_type": "markdown",
   "metadata": {},
   "source": []
  },
  {
   "cell_type": "markdown",
   "metadata": {},
   "source": [
    "---\n",
    "\n",
    "### Problem 5\n",
    "\n",
    "A firehose on a boat is producing a 4-in. -diameter, horizontal, water jet with a speed of V=\n",
    "60 mph. The boat is held stationary by a cable attached to a pier. The water temperature\n",
    "is 50oF. What is the tension in the cable?"
   ]
  },
  {
   "cell_type": "markdown",
   "metadata": {},
   "source": [
    "# sketch(s) here\n",
    "![](http://54.243.252.9/ce-3305-webroot/5-Exams/EX2/problem5.png)"
   ]
  },
  {
   "cell_type": "code",
   "execution_count": 2,
   "metadata": {},
   "outputs": [],
   "source": [
    "# list known quantities"
   ]
  },
  {
   "cell_type": "code",
   "execution_count": 3,
   "metadata": {},
   "outputs": [],
   "source": [
    "# list unknown quantities"
   ]
  },
  {
   "cell_type": "code",
   "execution_count": 4,
   "metadata": {},
   "outputs": [],
   "source": [
    "# governing principles"
   ]
  },
  {
   "cell_type": "code",
   "execution_count": 5,
   "metadata": {},
   "outputs": [],
   "source": [
    "# solution (step-by-step) "
   ]
  },
  {
   "cell_type": "code",
   "execution_count": 7,
   "metadata": {},
   "outputs": [],
   "source": [
    "# discussion"
   ]
  }
 ],
 "metadata": {
  "kernelspec": {
   "display_name": "Python 3",
   "language": "python",
   "name": "python3"
  },
  "language_info": {
   "codemirror_mode": {
    "name": "ipython",
    "version": 3
   },
   "file_extension": ".py",
   "mimetype": "text/x-python",
   "name": "python",
   "nbconvert_exporter": "python",
   "pygments_lexer": "ipython3",
   "version": "3.8.10"
  }
 },
 "nbformat": 4,
 "nbformat_minor": 4
}
