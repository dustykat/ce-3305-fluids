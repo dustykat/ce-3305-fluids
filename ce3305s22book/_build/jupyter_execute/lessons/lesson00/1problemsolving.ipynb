{
 "cells": [
  {
   "cell_type": "markdown",
   "metadata": {},
   "source": [
    "# Problem Solving and Documentation\n",
    "\n",
    "Three major work components for the course are:\n",
    "\n",
    "1. Exercises (called \"Exercise Sets\")\n",
    "2. Quizzes\n",
    "3. Exams\n",
    "\n",
    ":::{warning} \n",
    "All the above instruments should be engaged with a mindset of engaging in the practice of problem solving as a process (regardless of how difficult the actual problem may be).  Most of the problems are  [Cheggable](https://www.chegg.com/); however the Chegg solutions are pretty minimal and often incorrect (Input values change, and the tutors dont fucking read the problems).  Use Chegg if you wish with this limitation in mind - beware in other classes Chegg is considered cheating; You are warned!\n",
    ":::\n",
    "\n",
    "The exercises and exams (and to a lesser extent the quizzes) purpose is threefold: \n",
    "\n",
    "1. Practice a systematic method to solve and document closed engineering problems;\n",
    "2. Develop a type of \"muscle memory\" in applying the process;\n",
    "3. Become accustomed to documenting effort so that others can replicate your work.\n",
    "\n",
    "The fundamental protocol is\n",
    "\n",
    "1. State the problem\n",
    "2. Sketch the situation\n",
    "3. List known quantities\n",
    "4. List unknown quantities\n",
    "5. Identify and list governing principles, assumptions, and equations\n",
    "6. Analyse the problem - solve for the unknowns\n",
    "7. Discuss the results; validate when possible, examine effect of changing an assumption.\n",
    "\n",
    "There is also an issue of format or the visual structure of a solution.  The use of Jupyter Notebooks as your computation tool is expected - as part of a documentation process and the WCOE's integration of computational thinking throughout the curriculum.  Most problems you will work a large part by hand then transfer the computational burden the the Jupyter Notebook. \n",
    "\n"
   ]
  }
 ],
 "metadata": {
  "kernelspec": {
   "display_name": "Python 3",
   "language": "python",
   "name": "python3"
  },
  "language_info": {
   "codemirror_mode": {
    "name": "ipython",
    "version": 3
   },
   "file_extension": ".py",
   "mimetype": "text/x-python",
   "name": "python",
   "nbconvert_exporter": "python",
   "pygments_lexer": "ipython3",
   "version": "3.8.10"
  }
 },
 "nbformat": 4,
 "nbformat_minor": 4
}