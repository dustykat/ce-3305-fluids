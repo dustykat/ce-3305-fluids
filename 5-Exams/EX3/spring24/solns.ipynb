{
 "cells": [
  {
   "cell_type": "code",
   "execution_count": 6,
   "metadata": {},
   "outputs": [],
   "source": [
    "def Qp(qpstar,Qout,coef):\n",
    "    Qp= 1-coef*((Qout-qpstar)**2)\n",
    "    return(Qp)"
   ]
  },
  {
   "cell_type": "code",
   "execution_count": 40,
   "metadata": {},
   "outputs": [
    {
     "name": "stdout",
     "output_type": "stream",
     "text": [
      "0.6545\n",
      "0.6536849758750001\n",
      "-0.0008150241249998968\n"
     ]
    }
   ],
   "source": [
    "qpstar = 0.6545\n",
    "print(qpstar)\n",
    "print(Qp(qpstar,0.2,1.6765))\n",
    "print(Qp(qpstar,0.2,1.6765)-qpstar)"
   ]
  },
  {
   "cell_type": "code",
   "execution_count": 48,
   "metadata": {},
   "outputs": [
    {
     "name": "stdout",
     "output_type": "stream",
     "text": [
      "0.0 40.0 68.7 -28.700000000000003\n",
      "0.1 41.99119484104368 68.64 -26.64880515895632\n",
      "0.2 47.9647793641747 62.040000000000006 -14.075220635825303\n",
      "0.3 57.92075356939308 48.9 9.02075356939308\n",
      "0.4 71.85911745669881 29.22 42.63911745669881\n",
      "0.5 89.77987102609188 3.0 86.77987102609188\n",
      "0.6 111.68301427757231 -29.75999999999999 141.4430142775723\n",
      "0.7 137.5685472111401 -69.05999999999999 206.62854721114007\n",
      "0.8 167.43646982679527 -114.90000000000002 282.3364698267953\n",
      "0.9 201.28678212453775 -167.28 368.5667821245378\n"
     ]
    }
   ],
   "source": [
    "def Hp(Q):\n",
    "    Hp = 68.7+32.1*Q-327*Q**2\n",
    "    return(Hp)\n",
    "\n",
    "def Hl(Q,fric,L,dee,gee,kay):\n",
    "    import math\n",
    "    Hl = (8*fric*L*Q**2)/(dee**5*gee*math.pi**2)+kay*(8*Q**2)/(dee**4*gee*math.pi**2)\n",
    "    return(Hl)\n",
    "\n",
    "fric=0.029\n",
    "dee=0.3\n",
    "L=150\n",
    "gee=9.8\n",
    "kay=5.0\n",
    "\n",
    "for i in range(10):\n",
    "    qqq = float(i)/10.0\n",
    "    print(qqq,Hl(qqq,fric,L,dee,gee,kay)+40,Hp(qqq),Hl(qqq,fric,L,dee,gee,kay)+40-Hp(qqq))"
   ]
  },
  {
   "cell_type": "code",
   "execution_count": 65,
   "metadata": {},
   "outputs": [
    {
     "name": "stdout",
     "output_type": "stream",
     "text": [
      "0.266444 54.13597108600858 54.038335920528006 0.09763516548057538\n"
     ]
    }
   ],
   "source": [
    "qqq = 0.266444\n",
    "print(qqq,Hl(qqq,fric,L,dee,gee,kay)+40,Hp(qqq),Hl(qqq,fric,L,dee,gee,kay)+40-Hp(qqq))"
   ]
  },
  {
   "cell_type": "code",
   "execution_count": 96,
   "metadata": {},
   "outputs": [
    {
     "name": "stdout",
     "output_type": "stream",
     "text": [
      "Q total :  0.6  cu.m./sec\n",
      "Q ab :  0.27  cu.m./sec\n",
      "Q acb :  0.33  cu.m./sec\n",
      "loss path ab :  4.626  meters\n",
      "hac :  6.9105  meters\n",
      "hcb :  13.821  meters\n",
      "loss path acb :  4.7315  meters\n"
     ]
    }
   ],
   "source": [
    "def dhead(ff,L,D,Q,g): #head loss formula\n",
    "    import math\n",
    "    numerator = 8*ff*L*Q**2\n",
    "    denominator = (math.pi**2)*(D**5)*g\n",
    "    dhead = numerator/denominator \n",
    "    return(dhead)\n",
    "\n",
    "\n",
    "    # inputs\n",
    "ff = 0.012 # value from https://kdusling.github.io/teaching/\n",
    "           #           Applied-Fluids/SteelPipeTable.html?sch=40&mat=comSteel\n",
    "Lab = 2000 #given\n",
    "Dab = 0.5 #given\n",
    "Lac = 2000 #given\n",
    "Dac = 0.5 #given\n",
    "Lcb = 4000 #given\n",
    "Dcb = 0.5 #given\n",
    "Qtotal = 0.6 #given\n",
    "Qab = 0.270 #guess\n",
    "Qacb = Qtotal - Qab # computed\n",
    "# pump curve supplied as a plot, so will need manual points\n",
    "print(\"Q total : \",round(Qtotal,4),\" cu.m./sec\")\n",
    "print(\"Q ab : \",round(Qab,4),\" cu.m./sec\")\n",
    "print(\"Q acb : \",round(Qacb,4),\" cu.m./sec\")\n",
    "\n",
    "hp = 16 # read from curve\n",
    "hab = dhead(ff,Lab,Dab,Qab,9.81)\n",
    "print(\"loss path ab : \",round(hab,4),\" meters\")\n",
    "hac = dhead(ff,Lac,Dac,Qacb,9.81)\n",
    "hcb = dhead(ff,Lcb,Dcb,Qacb,9.81)\n",
    "print(\"hac : \",round(hac,4),\" meters\")\n",
    "print(\"hcb : \",round(hcb,4),\" meters\")\n",
    "print(\"loss path acb : \",round(hac+hcb-hp,4),\" meters\")"
   ]
  },
  {
   "cell_type": "code",
   "execution_count": 70,
   "metadata": {},
   "outputs": [
    {
     "name": "stdout",
     "output_type": "stream",
     "text": [
      "Q total :  0.6  cu.m./sec\n",
      "Q ab :  0.1  cu.m./sec\n",
      "Q acb :  0.5  cu.m./sec\n",
      "hab :  0.6346  meters\n",
      "hac :  15.8644  meters\n",
      "hcb :  31.7287  meters\n"
     ]
    }
   ],
   "source": []
  },
  {
   "cell_type": "code",
   "execution_count": null,
   "metadata": {},
   "outputs": [],
   "source": []
  }
 ],
 "metadata": {
  "kernelspec": {
   "display_name": "Python 3",
   "language": "python",
   "name": "python3"
  },
  "language_info": {
   "codemirror_mode": {
    "name": "ipython",
    "version": 3
   },
   "file_extension": ".py",
   "mimetype": "text/x-python",
   "name": "python",
   "nbconvert_exporter": "python",
   "pygments_lexer": "ipython3",
   "version": "3.8.10"
  }
 },
 "nbformat": 4,
 "nbformat_minor": 4
}
