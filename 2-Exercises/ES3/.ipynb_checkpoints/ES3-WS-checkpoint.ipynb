{
 "cells": [
  {
   "cell_type": "code",
   "execution_count": null,
   "metadata": {},
   "outputs": [],
   "source": []
  },
  {
   "cell_type": "markdown",
   "metadata": {},
   "source": [
    "**Download** (right-click, save target as ...) this page as a Jupyterlab notebook from: [ES-3](http://54.243.252.9/ce-3305-webroot/2-Exercises/ES3/ES3.ipynb)\n",
    "\n",
    "___"
   ]
  },
  {
   "cell_type": "markdown",
   "metadata": {},
   "source": [
    "# <font color=darkblue>CE 3305 Engineering Fluid Mechanics <br> Summer 2022 Exercise Set 3</font>\n",
    "\n",
    "**LAST NAME, FIRST NAME**\n",
    "\n",
    "**R00000000**\n",
    "\n",
    "___\n",
    "\n",
    "### Purpose : \n",
    "Application of surface tension to find water column rise height in a\n",
    "capillary tube. Application of steady fall velocity and viscosity definition to relate kinematic behavior of objects. \n",
    "### Assessment Criteria : \n",
    "Completion, plausible solutions, use of Jupyter Notebook as a calculator/documentation method\n",
    "\n",
    "___"
   ]
  },
  {
   "cell_type": "markdown",
   "metadata": {},
   "source": [
    "### Problem 1.\n",
    "<figure align=\"center\">\n",
    "<!-- <img src=\"./SlidingPlateViscosity.png\" width=\"400\" > -->\n",
    "<img src=\"http://54.243.252.9/ce-3305-webroot/2-Exercises/ES3/ParallelPlates.png\" width=\"200\" > \n",
    "<figcaption>Figure 1. Parallel Glass Plates.</figcaption>\n",
    "</figure>\n",
    "\n",
    "Figure 1 is a schematic of two glass plates spaced 1 millimeter\n",
    "apart. Calculate the maximum capillary rise of water between the two plates."
   ]
  },
  {
   "cell_type": "markdown",
   "metadata": {},
   "source": [
    "# sketch here\n",
    "\n",
    "<figure align=\"center\">\n",
    "<!-- <img src=\"./SlidingPlateViscosity.png\" width=\"400\" > -->\n",
    "<img src=\"http://54.243.252.9/ce-3305-webroot/2-Exercises/ES3/solnplates.png\" width=\"200\" > \n",
    "<!--<figcaption> Parallel Glass Plates in Water</figcaption>-->\n",
    "</figure>"
   ]
  },
  {
   "cell_type": "markdown",
   "metadata": {},
   "source": [
    "# list known quantities\n",
    "\n",
    "- water between glass plates\n",
    "- surface tension $\\approx~7.3 \\times 10^{-2}~\\frac{N}{m}$\n",
    "- spacing of plates $1~mm = 0.01~m$"
   ]
  },
  {
   "cell_type": "markdown",
   "metadata": {},
   "source": [
    "# list unknown quantities\n",
    "\n",
    "- $h$ capillary rise"
   ]
  },
  {
   "cell_type": "markdown",
   "metadata": {},
   "source": [
    "# governing principles\n",
    "\n",
    "Capillary force balance water is wetting in a water-air-glass system.  From a static force balance:\n",
    "\n",
    "$$h = \\frac{2 \\sigma sin(\\alpha)}{\\rho g t}$$\n",
    "\n",
    "For a water-air-glass system $\\alpha \\approx~\\frac{\\pi}{2}$, thus\n",
    "\n",
    "$$h = \\frac{2 \\sigma }{\\gamma t}$$"
   ]
  },
  {
   "cell_type": "code",
   "execution_count": 17,
   "metadata": {},
   "outputs": [
    {
     "name": "stdout",
     "output_type": "stream",
     "text": [
      "Capillary Rise is  14.883  millimeters\n"
     ]
    }
   ],
   "source": [
    "# solution (step-by-step)\n",
    "def rise(sigma,gamma,thickness): #prototype function\n",
    "    rise = (2*sigma)/(gamma*thickness)\n",
    "    return(rise)\n",
    "\n",
    "# input\n",
    "sigma = 7.3e-02 #N/m\n",
    "thickness = 1.0 #mm\n",
    "thickness = thickness/1000 #convert mm into meters\n",
    "rho = 1000 #kg/m^3\n",
    "gravity = 9.81 #m/s^2\n",
    "\n",
    "# intermediate values\n",
    "gamma = rho*gravity #N/m^3\n",
    "\n",
    "#output\n",
    "print(\"Capillary Rise is \",round(1000*rise(sigma,gamma,thickness),3),\" millimeters\")"
   ]
  },
  {
   "cell_type": "code",
   "execution_count": null,
   "metadata": {},
   "outputs": [],
   "source": [
    "# discussion"
   ]
  },
  {
   "cell_type": "markdown",
   "metadata": {},
   "source": [
    "---"
   ]
  },
  {
   "cell_type": "markdown",
   "metadata": {},
   "source": [
    "### Problem 2.\n",
    "\n",
    "<figure align=\"center\">\n",
    "<!-- <img src=\"./SlidingPlateViscosity.png\" width=\"400\" > -->\n",
    "<img src=\"http://54.243.252.9/ce-3305-webroot/2-Exercises/ES3/FallingCylinderViscosity.png\" width=\"200\" > \n",
    "<figcaption>Figure 2. Falling Cylinder Viscosimeter.</figcaption>\n",
    "</figure>\n",
    "\n",
    "Figure 2 is a schematic of a cylinder falling inside a pipe that is filled with oil. The annular space between the cylinder and the pipe is lubricated with an oil film that has viscosity $\\mu$.\n",
    "1. Derive a formula for the steady rate of descent of a cylinder with weight W, diameter d, and length l sliding inside a vertical smooth pipe that has inside diameter D. Assume the cylinder remains concentric with the pipe as it falls.\n",
    "2. Use the general formula you develop to estimate the rate of descent for a cylinder 100 millimeters in diameter that slides inside a 100.5 millimeter inside diameter pipe. The cylinder is 200 millimeters long and weighs 15 Newtons. The lubricant is SAE 20W oil at 10$^o$C.\n"
   ]
  },
  {
   "cell_type": "markdown",
   "metadata": {},
   "source": [
    "# sketch here\n",
    "\n",
    "<figure align=\"center\">\n",
    "<!-- <img src=\"./SlidingPlateViscosity.png\" width=\"400\" > -->\n",
    "<img src=\"http://54.243.252.9/ce-3305-webroot/2-Exercises/ES3/solnplates.png\" width=\"200\" > \n",
    "<!--<figcaption> Parallel Glass Plates in Water</figcaption>-->\n",
    "</figure>"
   ]
  },
  {
   "cell_type": "markdown",
   "metadata": {},
   "source": [
    "# list known quantities\n",
    "\n",
    "- Inside diameter of tube, $D$\n",
    "- Diameter of cylinder, $d$\n",
    "- Weight of cylinder, $W$\n",
    "- Length of cylinder, $L$\n",
    "- Oil viscosity (temperature dependent), $\\mu_{SAE 20}(10^o~C) \\approx~ 0.3~\\frac{N-s}{m^2}$"
   ]
  },
  {
   "cell_type": "code",
   "execution_count": null,
   "metadata": {},
   "outputs": [],
   "source": [
    "# list unknown quantities"
   ]
  },
  {
   "cell_type": "code",
   "execution_count": null,
   "metadata": {},
   "outputs": [],
   "source": [
    "# governing principles"
   ]
  },
  {
   "cell_type": "markdown",
   "metadata": {},
   "source": [
    "<figure align=\"center\">\n",
    "<!-- <img src=\"./SlidingPlateViscosity.png\" width=\"400\" > -->\n",
    "<img src=\"http://54.243.252.9/ce-3305-webroot/2-Exercises/ES3/FBDcylinder.png\" width=\"200\" > \n",
    "<figcaption> FBD of cylinder </figcaption>\n",
    "</figure>\n",
    "\n",
    "<figure align=\"center\">\n",
    "<!-- <img src=\"./SlidingPlateViscosity.png\" width=\"400\" > -->\n",
    "<img src=\"http://54.243.252.9/ce-3305-webroot/2-Exercises/ES3/FBDoil.png\" width=\"200\" > \n",
    "<figcaption> FBD of oil, showing velocity gradient </figcaption>\n",
    "</figure>\n",
    "\n",
    "<figure align=\"center\">\n",
    "<!-- <img src=\"./SlidingPlateViscosity.png\" width=\"400\" > -->\n",
    "<img src=\"http://54.243.252.9/ce-3305-webroot/2-Exercises/ES3/Unwind.png\" width=\"200\" > \n",
    "<figcaption> Parallel Glass Plates in Water</figcaption>\n",
    "</figure>"
   ]
  },
  {
   "cell_type": "code",
   "execution_count": 8,
   "metadata": {},
   "outputs": [
    {
     "name": "stdout",
     "output_type": "stream",
     "text": [
      "Fall velocity =  0.199  meters per second\n"
     ]
    }
   ],
   "source": [
    "# solution (step-by-step)\n",
    "def vfall(weight,Diameter,diameter,length,viscosity):\n",
    "    import math\n",
    "    numerator = weight*(Diameter-diameter)\n",
    "    denominator = 2*math.pi*diameter*length*viscosity\n",
    "    vfall=numerator/denominator\n",
    "    return(vfall)\n",
    "\n",
    "Diameter = 0.1005 #meters\n",
    "diameter = 0.1000 #meters\n",
    "length   = 0.2000 #meters\n",
    "viscosity = 0.3 #N-s/m^2\n",
    "weight = 15 #Newtons\n",
    "\n",
    "print(\"Fall velocity = \",round(vfall(weight,Diameter,diameter,length,viscosity),3),\" meters per second\")\n"
   ]
  },
  {
   "cell_type": "code",
   "execution_count": null,
   "metadata": {},
   "outputs": [],
   "source": [
    "# discussion"
   ]
  },
  {
   "cell_type": "markdown",
   "metadata": {},
   "source": [
    "---"
   ]
  },
  {
   "cell_type": "markdown",
   "metadata": {},
   "source": [
    "### Problem 3.\n",
    "Figure 3 is a schematic of a hydraulic machine lifting an elephant using the weight of a mouse.\n",
    "<figure align=\"center\">\n",
    "<!--<img src=\"./mouseUndHeffaklump.png\" width=\"500\" > -->\n",
    "<img src=\"http://54.243.252.9/ce-3305-webroot/2-Exercises/ES3/mouseUndHeffaklump.png\" width=\"400\" > \n",
    "<figcaption>Figure 3. Mechanical advantage using a hydraulic jack – or a mouse supports a heffalump!</figcaption>\n",
    "</figure>\n",
    "\n",
    "1. Develop an algebraic equation that gives the mechanical advantage of the hydraulic machine shown. Neglect piston friction and piston mass.\n",
    "2. A mouse can have a mass of 25 grams while an elephant can have a mass of 7500 kilograms. Determine the values of D1 and D2 so that a mouse can support an elephant."
   ]
  },
  {
   "cell_type": "markdown",
   "metadata": {},
   "source": [
    "####  Problem 3.1 here (by-hand + image is OK)"
   ]
  },
  {
   "cell_type": "code",
   "execution_count": null,
   "metadata": {},
   "outputs": [],
   "source": [
    "# sketch here"
   ]
  },
  {
   "cell_type": "code",
   "execution_count": null,
   "metadata": {},
   "outputs": [],
   "source": [
    "# list known quantities"
   ]
  },
  {
   "cell_type": "code",
   "execution_count": null,
   "metadata": {},
   "outputs": [],
   "source": [
    "# list unknown quantities"
   ]
  },
  {
   "cell_type": "code",
   "execution_count": null,
   "metadata": {},
   "outputs": [],
   "source": [
    "# governing principles"
   ]
  },
  {
   "cell_type": "code",
   "execution_count": 12,
   "metadata": {},
   "outputs": [
    {
     "name": "stdout",
     "output_type": "stream",
     "text": [
      "D2 38.34057902536163  for D1 =  0.07 meters\n"
     ]
    }
   ],
   "source": [
    "# solution (step-by-step)\n",
    "import math\n",
    "gravity = 9.8 #m/s^2\n",
    "mouse = 0.025 #kg\n",
    "elephant = 7500 #kg\n",
    "d1 = 0.07 #m 70 mm on the mouse side\n",
    "d2 = math.sqrt((elephant*d1**2)/(mouse))\n",
    "print(\"D2\",d2,\" for D1 = \",d1,\"meters\")\n"
   ]
  },
  {
   "cell_type": "code",
   "execution_count": null,
   "metadata": {},
   "outputs": [],
   "source": [
    "# discussion"
   ]
  },
  {
   "cell_type": "markdown",
   "metadata": {},
   "source": [
    "#### Problem 3.2 here (by-hand + image is OK)"
   ]
  },
  {
   "cell_type": "code",
   "execution_count": null,
   "metadata": {},
   "outputs": [],
   "source": [
    "# sketch here"
   ]
  },
  {
   "cell_type": "code",
   "execution_count": null,
   "metadata": {},
   "outputs": [],
   "source": [
    "# list known quantities"
   ]
  },
  {
   "cell_type": "code",
   "execution_count": null,
   "metadata": {},
   "outputs": [],
   "source": [
    "# list unknown quantities"
   ]
  },
  {
   "cell_type": "code",
   "execution_count": null,
   "metadata": {},
   "outputs": [],
   "source": [
    "# governing principles"
   ]
  },
  {
   "cell_type": "code",
   "execution_count": null,
   "metadata": {},
   "outputs": [],
   "source": [
    "# solution (step-by-step)"
   ]
  },
  {
   "cell_type": "code",
   "execution_count": null,
   "metadata": {},
   "outputs": [],
   "source": [
    "# discussion"
   ]
  },
  {
   "cell_type": "markdown",
   "metadata": {},
   "source": [
    "---\n",
    "\n",
    "### Problem 4. (Application of ENGR-1330 Computational Thinking)\n",
    "\n",
    "Develop a script (Jupyter Notebook; Matlab; EXCEL ...) that takes as input the mass of the mouse, the elephant, and the D1 value and returns a D2 value. Apply the script to the following cases:\n",
    "\n",
    "- Case 1: $m_{mouse} = $ 0.025 kg; $m_{elephant} = $ 7500 kg; D1 = 70 mm (about 3 inches)\n",
    "- Case 2: $m_{mouse} = $ 0.020 kg; $m_{elephant} = $ 7300 kg; D1 = 100 mm (about 4 inches)\n",
    "- Case 3: $m_{mouse} = $ 0.015 kg; $m_{elephant} = $ 8000 kg; D1 = 700 mm (about 30 inches)"
   ]
  },
  {
   "cell_type": "code",
   "execution_count": null,
   "metadata": {},
   "outputs": [],
   "source": [
    "# list input quantities/specifications"
   ]
  },
  {
   "cell_type": "code",
   "execution_count": null,
   "metadata": {},
   "outputs": [],
   "source": [
    "# list output quantities/specifications"
   ]
  },
  {
   "cell_type": "code",
   "execution_count": null,
   "metadata": {},
   "outputs": [],
   "source": [
    "# governing principles/equations"
   ]
  },
  {
   "cell_type": "code",
   "execution_count": null,
   "metadata": {},
   "outputs": [],
   "source": [
    "# solution (step-by-step) algorithm (aka code)"
   ]
  },
  {
   "cell_type": "code",
   "execution_count": 15,
   "metadata": {},
   "outputs": [
    {
     "name": "stdout",
     "output_type": "stream",
     "text": [
      "D2 38.34057902536163  for D1 =  0.07 meters\n",
      "D2 60.41522986797286  for D1 =  0.1 meters\n",
      "D2 511.207720338155  for D1 =  0.7 meters\n"
     ]
    }
   ],
   "source": [
    "# application\n",
    "import math\n",
    "gravity = 9.8 #m/s^2\n",
    "mouse = 0.025 #kg\n",
    "elephant = 7500 #kg\n",
    "d1 = 0.07 #m 70 mm on the mouse side\n",
    "d2 = math.sqrt((elephant*d1**2)/(mouse))\n",
    "print(\"D2\",d2,\" for D1 = \",d1,\"meters\")\n",
    "\n",
    "import math\n",
    "gravity = 9.8 #m/s^2\n",
    "mouse = 0.020 #kg\n",
    "elephant = 7300 #kg\n",
    "d1 = 0.1 #m 70 mm on the mouse side\n",
    "d2 = math.sqrt((elephant*d1**2)/(mouse))\n",
    "print(\"D2\",d2,\" for D1 = \",d1,\"meters\")\n",
    "\n",
    "import math\n",
    "gravity = 9.8 #m/s^2\n",
    "mouse = 0.015 #kg\n",
    "elephant = 8000 #kg\n",
    "d1 = 0.7 #m 70 mm on the mouse side\n",
    "d2 = math.sqrt((elephant*d1**2)/(mouse))\n",
    "print(\"D2\",d2,\" for D1 = \",d1,\"meters\")\n",
    "\n"
   ]
  },
  {
   "cell_type": "code",
   "execution_count": null,
   "metadata": {},
   "outputs": [],
   "source": [
    "# discussion of results"
   ]
  }
 ],
 "metadata": {
  "kernelspec": {
   "display_name": "Python 3",
   "language": "python",
   "name": "python3"
  },
  "language_info": {
   "codemirror_mode": {
    "name": "ipython",
    "version": 3
   },
   "file_extension": ".py",
   "mimetype": "text/x-python",
   "name": "python",
   "nbconvert_exporter": "python",
   "pygments_lexer": "ipython3",
   "version": "3.8.10"
  }
 },
 "nbformat": 4,
 "nbformat_minor": 4
}
