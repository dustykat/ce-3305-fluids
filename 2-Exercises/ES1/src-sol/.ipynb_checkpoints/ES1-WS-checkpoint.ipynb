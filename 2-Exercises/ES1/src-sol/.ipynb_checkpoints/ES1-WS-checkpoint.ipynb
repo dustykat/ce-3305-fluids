{
 "cells": [
  {
   "cell_type": "markdown",
   "metadata": {},
   "source": [
    "**Download** (right-click, save target as ...) this page as a Jupyterlab notebook from: [ES-1](http://54.243.252.9/ce-3305-webroot/2-Exercises/ES1/ES1.ipynb)\n",
    "\n",
    "___"
   ]
  },
  {
   "cell_type": "markdown",
   "metadata": {},
   "source": [
    "# <font color=darkblue>CE 3305 Engineering Fluid Mechanics <br> Spring 2023 Exercise Set 1</font>\n",
    "\n",
    "**LAST NAME, FIRST NAME**\n",
    "\n",
    "**R00000000**\n",
    "\n",
    "___\n",
    "\n",
    "### Purpose : \n",
    "Apply the ideal gas law under isothermal conditions. Perform analysis in absolute and gage pressures.\n",
    "### Assessment Criteria : \n",
    "Completion, results plausible, format correct, calculations (Jupyter Notebook) are shown.  \n",
    "\n",
    "___"
   ]
  },
  {
   "cell_type": "markdown",
   "metadata": {},
   "source": [
    "### Problem 1 (Problem 1-5 p. 32):\n",
    "The tank contains a liquid with density of 1.22 $\\frac{slug}{ft^3}$.  \n",
    "\n",
    "![](prob1-5.png)\n",
    "\n",
    "Determine:\n",
    "\n",
    "1. Weight (in pounds) of liquid when it is at level shown.\n",
    "\n",
    "> Use may wish to use a Jupyter Notebook to create a script to handle the computations and show the results of the script. \n",
    "> Upload your completed Notebook as a PDF to Blackboard.  You can print the notebook to a PDF file, and upload that; if that method fails export the notebook as `HTML` then use the on-line [https://html2pdf.com/](https://html2pdf.com/) converter"
   ]
  },
  {
   "cell_type": "markdown",
   "metadata": {},
   "source": [
    "**sketch**\n",
    "\n",
    "- Use above drawing; key is to note the 1-foot \"freeboard\" in the tank to obtain fluid bulk dimension"
   ]
  },
  {
   "cell_type": "markdown",
   "metadata": {},
   "source": [
    "**list known quantities**\n",
    "\n",
    "- liquid bulk dimension: 4 ft X 2 ft X (3-1)ft cubic feet \n",
    "- liquid density : 1.22 $\\frac{slug}{ft^3}$"
   ]
  },
  {
   "cell_type": "markdown",
   "metadata": {},
   "source": [
    "**list unknown quantities**\n",
    "- liquid weight (W=mg)"
   ]
  },
  {
   "cell_type": "markdown",
   "metadata": {},
   "source": [
    "**governing principles**\n",
    "\n",
    "- W = mg\n",
    "- m = $\\rho \\times \\text{volume}$\n",
    "- volume = L $\\times$ W $\\times$ H"
   ]
  },
  {
   "cell_type": "markdown",
   "metadata": {},
   "source": [
    "**solution (step-by-step)**"
   ]
  },
  {
   "cell_type": "code",
   "execution_count": 6,
   "metadata": {},
   "outputs": [
    {
     "name": "stdout",
     "output_type": "stream",
     "text": [
      "Weight of :  16.0  ft^3 of liquid is :  629.0  pounds-force\n"
     ]
    }
   ],
   "source": [
    "length = 4 #ft\n",
    "width = 2 #ft\n",
    "height = 3-1 #ft\n",
    "volume = length*width*height\n",
    "rho_l = 1.22 #slug/ft^3\n",
    "mass = rho_l * volume\n",
    "gravity = 32.2 #ft/s^2\n",
    "weight = mass * gravity\n",
    "print(\"Weight of : \",round(float(volume),0),\" ft^3 of liquid is : \",round(weight,0),\" pounds-force\")"
   ]
  },
  {
   "cell_type": "markdown",
   "metadata": {},
   "source": [
    "**discussion**\n",
    "- Direct application of definition of mass density and weight as a force."
   ]
  },
  {
   "cell_type": "markdown",
   "metadata": {},
   "source": [
    "---"
   ]
  },
  {
   "cell_type": "markdown",
   "metadata": {},
   "source": [
    "---\n",
    "\n",
    "### Problem 2 (Problem 1-7 pg. 32):\n",
    "The tank has a volume of 0.35$m^3$ and contains 40 kg of nitrogen at a temperature of 40$^oC$.\n",
    "\n",
    "![](prob1-7.png)\n",
    "\n",
    "Determine:\n",
    "\n",
    "1. Absolute pressure (in kPa) in the tank."
   ]
  },
  {
   "cell_type": "markdown",
   "metadata": {},
   "source": [
    "**sketch here**\n",
    "\n",
    "- Use above sketch; tank dimensions not supplied, but P&T are"
   ]
  },
  {
   "cell_type": "markdown",
   "metadata": {},
   "source": [
    "**list known quantities**\n",
    "\n",
    "- Temperature: 40 $^o$C\n",
    "- Gas Volume: 0.35 $m^3$\n",
    "- Gas Mass: 40 kg N$_2$  Need to be aware Nitrogen is diatomic in gas phase, so will adjust for 2-atom MW"
   ]
  },
  {
   "cell_type": "markdown",
   "metadata": {},
   "source": [
    "**list unknown quantities**\n",
    "\n",
    "- Pressure"
   ]
  },
  {
   "cell_type": "markdown",
   "metadata": {},
   "source": [
    "**governing principles**\n",
    "\n",
    "- Ideal gas law $pV = \\frac{m}{MW} RT$\n",
    "- MW Nitrogen is 14 g/mol\n",
    "- Ideal gas constant is 0.0821 L$\\cdot$atm/K$\\cdot$mol"
   ]
  },
  {
   "cell_type": "markdown",
   "metadata": {},
   "source": [
    "**solution (step-by-step)**"
   ]
  },
  {
   "cell_type": "code",
   "execution_count": 8,
   "metadata": {},
   "outputs": [
    {
     "name": "stdout",
     "output_type": "stream",
     "text": [
      "Pressure in tank : 104.89  atmospheres\n",
      "Pressure in tank : 10627.67  kiloPascals\n"
     ]
    }
   ],
   "source": [
    "R = 0.0821 #l-atm/K-mol\n",
    "m = 40*1000 #grams - given\n",
    "MW = 14*2 #grams/mol - diatomic gas\n",
    "V = 0.35*1000 #liters\n",
    "T = 40+273 #Kelvin\n",
    "p = ((m/MW)*R*T)/V\n",
    "print(\"Pressure in tank :\",round(p,2),\" atmospheres\")\n",
    "p = p*101.325\n",
    "print(\"Pressure in tank :\",round(p,2),\" kiloPascals\")"
   ]
  },
  {
   "cell_type": "markdown",
   "metadata": {},
   "source": [
    "**discussion**\n",
    "\n",
    "- Direct application of pvnrt-bong theory; convert atmospheres to kPa; note unusual (for engineering) units."
   ]
  },
  {
   "cell_type": "markdown",
   "metadata": {},
   "source": [
    "---\n",
    "\n",
    "### Problem 3 (Problem 1-18 pg. 33):\n",
    "A solid has a specific weight of 310 lb/ft$^3$.  When a pressure of 650 psi is applied the specific weight increases to 312 lb/ft$^3$.\n",
    "\n",
    "\n",
    "\n",
    "Determine:\n",
    "\n",
    "1. Bulk modulus (of elasticity)"
   ]
  },
  {
   "cell_type": "markdown",
   "metadata": {
    "jupyter": {
     "source_hidden": true
    }
   },
   "source": [
    "**sketch here**"
   ]
  },
  {
   "cell_type": "markdown",
   "metadata": {},
   "source": [
    "**list known quantities**"
   ]
  },
  {
   "cell_type": "markdown",
   "metadata": {},
   "source": [
    "**list unknown quantities**"
   ]
  },
  {
   "cell_type": "markdown",
   "metadata": {},
   "source": [
    "**governing principles**"
   ]
  },
  {
   "cell_type": "markdown",
   "metadata": {},
   "source": [
    "**solution (step-by-step)**"
   ]
  },
  {
   "cell_type": "markdown",
   "metadata": {},
   "source": [
    "**discussion**"
   ]
  },
  {
   "cell_type": "markdown",
   "metadata": {},
   "source": [
    "---\n",
    "\n",
    "<a href=\"https://youtu.be/LXJB0M2fjqk\"> <img src=\"http://54.243.252.9/ce-3305-webroot/2-Exercises/ES1/easy-button.png\" alt=\"EZ Button Link to ES-1 sample solution\" style=\"width:42px;height:42px;align:left\"> </a> \n"
   ]
  },
  {
   "cell_type": "code",
   "execution_count": null,
   "metadata": {},
   "outputs": [],
   "source": []
  }
 ],
 "metadata": {
  "kernelspec": {
   "display_name": "Python 3",
   "language": "python",
   "name": "python3"
  },
  "language_info": {
   "codemirror_mode": {
    "name": "ipython",
    "version": 3
   },
   "file_extension": ".py",
   "mimetype": "text/x-python",
   "name": "python",
   "nbconvert_exporter": "python",
   "pygments_lexer": "ipython3",
   "version": "3.8.10"
  }
 },
 "nbformat": 4,
 "nbformat_minor": 4
}
