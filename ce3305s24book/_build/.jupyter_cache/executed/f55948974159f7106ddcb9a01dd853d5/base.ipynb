{
 "cells": [
  {
   "cell_type": "code",
   "execution_count": 1,
   "metadata": {},
   "outputs": [],
   "source": [
    "# problem statement - above Yay!"
   ]
  },
  {
   "cell_type": "code",
   "execution_count": 2,
   "metadata": {},
   "outputs": [],
   "source": [
    "# sketch"
   ]
  },
  {
   "cell_type": "code",
   "execution_count": 3,
   "metadata": {},
   "outputs": [
    {
     "name": "stdout",
     "output_type": "stream",
     "text": [
      "storage accumulation is .... wait for it ... 0.014500000000000002\n"
     ]
    }
   ],
   "source": [
    "# known\n",
    "V_in = 7 # m/s\n",
    "A_in = 0.0025 # m^2\n",
    "Q_out = 0.003 #m^3/s\n",
    "# rho = 1000 # kg/m3\n",
    "# grabity = 9.8 # m/s/s\n",
    "\n",
    "# change in storage\n",
    "dSdt = V_in*A_in - Q_out\n",
    "print('storage accumulation is .... wait for it ...',dSdt)"
   ]
  },
  {
   "cell_type": "code",
   "execution_count": null,
   "metadata": {},
   "outputs": [],
   "source": []
  }
 ],
 "metadata": {
  "kernelspec": {
   "display_name": "Python 3",
   "language": "python",
   "name": "python3"
  },
  "language_info": {
   "codemirror_mode": {
    "name": "ipython",
    "version": 3
   },
   "file_extension": ".py",
   "mimetype": "text/x-python",
   "name": "python",
   "nbconvert_exporter": "python",
   "pygments_lexer": "ipython3",
   "version": "3.8.10"
  }
 },
 "nbformat": 4,
 "nbformat_minor": 4
}