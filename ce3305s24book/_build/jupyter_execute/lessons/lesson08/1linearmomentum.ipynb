{
 "cells": [
  {
   "cell_type": "markdown",
   "metadata": {},
   "source": [
    "# Linear Momentum\n",
    "\n",
    "{numref}`momentum-p1-1` relates the extensive property of linear momentum for a system to the intensive property of momentum per unit mass which is the velocity vector. \n",
    "\n",
    "```{figure} momentum-p1-1.png\n",
    "---\n",
    "width: 600px\n",
    "name: momentum-p1-1\n",
    "---\n",
    "Caption\n",
    "```\n",
    "{numref}`momentum-p1-2` extends to the intensive property of momentum per unit volume which is the product of density and velocity vector $\\rho \\bar V$\n",
    "\n",
    "```{figure} momentum-p1-2.png\n",
    "---\n",
    "width: 600px\n",
    "name: momentum-p1-2\n",
    "---\n",
    "Caption\n",
    "```\n",
    "The result of application of the Reynolds Transport Theorem to the linear momentum term is an integral equation that relates the sum of external forces to the rate of change of linear momentum in the control volume plus the net momentum leaving across the control surface as depicted in {numref}`momentum-p1-3`\n",
    "\n",
    "```{figure} momentum-p1-3.png\n",
    "---\n",
    "width: 600px\n",
    "name: momentum-p1-3\n",
    "---\n",
    "Caption\n",
    "```\n",
    "\n",
    "```{note} Application of momentum principles uses three primary principles:\n",
    "- Select an inertial (non-acelerating) reference frame\n",
    "- Indicate positive and negative coordinate directions\n",
    "- Draw the CV/CS and indicate\n",
    "    - Forces\n",
    "    - Velocities\n",
    "    - Outward pointing area vectors \n",
    "```\n",
    "\n"
   ]
  }
 ],
 "metadata": {
  "kernelspec": {
   "display_name": "Python 3",
   "language": "python",
   "name": "python3"
  },
  "language_info": {
   "codemirror_mode": {
    "name": "ipython",
    "version": 3
   },
   "file_extension": ".py",
   "mimetype": "text/x-python",
   "name": "python",
   "nbconvert_exporter": "python",
   "pygments_lexer": "ipython3",
   "version": "3.8.10"
  }
 },
 "nbformat": 4,
 "nbformat_minor": 4
}