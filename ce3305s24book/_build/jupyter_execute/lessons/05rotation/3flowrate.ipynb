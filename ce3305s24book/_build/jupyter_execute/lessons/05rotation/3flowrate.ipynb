{
 "cells": [
  {
   "cell_type": "markdown",
   "metadata": {},
   "source": [
    "# Volumetric and Mass Flow Rate (pp. 168-174)\n",
    "\n",
    "Consider a conduit with cross section area, $A$.\n",
    "\n",
    "The volume of fluid that passes area $A$ at location $x$ in some time interval $\\Delta t$ is given by\n",
    "$ A \\Delta x = V$\n",
    "\n",
    "```{figure} discharge.png\n",
    "---\n",
    "width: 600px\n",
    "name: discharge\n",
    "---\n",
    "\n",
    "```\n",
    "\n",
    "The flow rate is $Q = \\frac{V}{\\Delta t} = \\frac{\\Delta x}{\\Delta t}A$, the \"velocity term\" $u = \\frac{\\Delta x}{\\Delta t}$ is the \"mean section velocity\".\n",
    "\n",
    "If the velocity varies over the cross section one can obtain the mean section velocity by integration; and in fact this is how streamflow is determined.  \n",
    "\n",
    "```{figure} velocity-dist.png\n",
    "---\n",
    "width: 600px\n",
    "name: velocity-dist\n",
    "---\n",
    "\n",
    "```\n",
    "\n",
    "If the orientation is not orthogonal the integrals are the result of the inner product of the velocity vector $\\bar V$ and the area vector $\\bar {dA}$\n",
    "\n",
    "```{figure} q-flux.png\n",
    "---\n",
    "width: 600px\n",
    "name: q-flux\n",
    "---\n",
    "\n",
    "```\n",
    "\n",
    "The mass flow rate is the product of the volumetric rate and the fluid density\n",
    "\n",
    "```{figure} mass-flow.png\n",
    "---\n",
    "width: 600px\n",
    "name: mass-flow\n",
    "---\n",
    "\n",
    "```\n",
    "\n",
    "As with volume, the mass flows also are obtained by inner products as:\n",
    "\n",
    "\n",
    "```{figure} frux-integrals.png\n",
    "---\n",
    "width: 600px\n",
    "name: frux-integrals\n",
    "---\n",
    "\n",
    "```"
   ]
  },
  {
   "cell_type": "markdown",
   "metadata": {},
   "source": [
    "## Example: Flow in a Rectangular Conduit\n",
    "\n",
    "```{figure} rect-channel.png\n",
    "---\n",
    "width: 600px\n",
    "name: rect-channel\n",
    "---\n",
    "\n",
    "```"
   ]
  },
  {
   "cell_type": "markdown",
   "metadata": {},
   "source": [
    "## Example: Flow in a Triangular Conduit\n",
    "\n",
    "```{figure} v-channel.png\n",
    "---\n",
    "width: 600px\n",
    "name: v-channel\n",
    "---\n",
    "\n",
    "```"
   ]
  }
 ],
 "metadata": {
  "kernelspec": {
   "display_name": "Python 3",
   "language": "python",
   "name": "python3"
  },
  "language_info": {
   "codemirror_mode": {
    "name": "ipython",
    "version": 3
   },
   "file_extension": ".py",
   "mimetype": "text/x-python",
   "name": "python",
   "nbconvert_exporter": "python",
   "pygments_lexer": "ipython3",
   "version": "3.8.10"
  }
 },
 "nbformat": 4,
 "nbformat_minor": 4
}