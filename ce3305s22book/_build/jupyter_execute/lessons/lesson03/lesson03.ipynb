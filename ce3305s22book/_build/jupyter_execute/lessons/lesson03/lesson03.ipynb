{
 "cells": [
  {
   "cell_type": "markdown",
   "metadata": {},
   "source": [
    "# Pressure Forces, Bouyancy, Stability\n",
    "\n",
    "## Lesson Outline\n",
    "1. Forces on Submerged Objects \n",
    "2. Bouyancy \n",
    "3. Stability"
   ]
  },
  {
   "cell_type": "markdown",
   "metadata": {},
   "source": [
    "### Examples\n",
    "\n",
    "Below are some example applications of the force and line-of-action expressions of the previous lesson.\n",
    "\n",
    "#### Example 1: Concrete retaining wall form specification\n",
    "\n",
    "Assuming that concrete behaves as a liquid ($\\gamma = 150\\frac{lbf}{ft^3}$) just after placement, determine the force per foot of length exherted on a form by the concrete if it is poured into forms for a wall that is to be 9 feet tall.  \n",
    "\n",
    "```{figure} wall-setup.png\n",
    "---\n",
    "width: 500px\n",
    "name: wall-setup\n",
    "---\n",
    "Concrete retaining wall form design\n",
    "```\n",
    "If the forms are held in place as shown in {numref}`wall-setup`, with ties between vertical braces spaced every 2 feet, what force is exherted on the bottom tie?\n",
    "\n",
    "Now recall our problem protocol.\n",
    "\n",
    "\n",
    "1. State the problem\n",
    "2. Sketch the situation (sketching no matter how ugly helps organize thoughts!). Identify (list) known quantities\n",
    "3. Identify (list) unknown quantities\n",
    "4. Identify (list) governing principles and equations that appear relevant to the problem\n",
    "5. Starting from one or more governing principles and the known quantities solve for the unknowns.\n",
    "6. Validate/discuss results\n",
    "\n",
    "\n",
    "##### State the problem\n",
    "\n",
    "Essentially same as above, but there is some simplification in {numref}`pr-state`\n",
    "\n",
    "```{figure} pr-state.png\n",
    "---\n",
    "width: 300px\n",
    "name: pr-state\n",
    "---\n",
    "Concrete retaining wall form design, problem statement\n",
    "```\n",
    "##### Sketch the situation\n",
    "\n",
    "A sketch of one side of the form is shown in {numref}`wall-side`\n",
    "\n",
    "```{figure} wall-side.png\n",
    "---\n",
    "width: 300px\n",
    "name: wall-side\n",
    "---\n",
    "Concrete retaining wall FBD and force identification.\n",
    "```\n",
    "Using the sketch as a guide our known quantities are the dimensions, the specific weight of concrete as a liquid.\n",
    "\n",
    "##### Identify (list) unknown quantities\n",
    "The unknown quantities are the resultant force (the equivalent point load) $F_R$. per unit length.\n",
    "\n",
    "##### Identify (list) governing principles\n",
    "- hydrostatic equation of a liquid\n",
    "- centroid of a rectangle (to find magnitude of the pressure force)\n",
    "- centroid of a triangle (to find point of application in the pressure prism\n",
    "- moment balance to find how force is resisted by the ties\n",
    "\n",
    "##### Solve for the unknowns\n",
    "\n",
    "```{figure} unknowns-1.png\n",
    "---\n",
    "width: 600px\n",
    "name: unknowns-1\n",
    "---\n",
    "Solve for pressure force per unit length (foot of wall)\n",
    "```\n",
    "{numref}`unknowns-1` shows the analysis and solution for pressure force and line of application for each foot of wall.\n",
    "\n",
    "```{figure} unknowns-2.png\n",
    "---\n",
    "width: 600px\n",
    "name: unknowns-2\n",
    "---\n",
    "Solve for load distribution in upper and lower ties per unit length (foot of wall)\n",
    "```\n",
    "{numref}`unknowns-2` shows the analysis and solution for load distribution in the ties for each foot of wall. Each tie pair must support 2-feet of wall (except for the end pairs) which gives the end result of 8100 lbs for the lower ties.  Using this value we can decide what size rods to use as ties.  For example \n",
    "- [1/4 all-thread tensile strength](https://www.google.com/search?client=firefox-b-1-d&q=What+is+the+tensile+strength+of+1/4+threaded+rod%3F&sa=X&ved=2ahUKEwin-YjDlLf1AhVfl2oFHRmHDI0Qzmd6BAgdEAU&biw=1063&bih=882&dpr=1) has an upper limit strength of 150000 psi, so we multiply by the rod cross sectional area to see if it is strong enough.\n",
    "- [1/2 all-thread tensile strength](https://www.google.com/search?q=What+is+the+tensile+strength+of+1%2F2+threaded+rod%3F&client=firefox-b-1-d&biw=1063&bih=882&ei=1obkYbjvD_qzqtsP8dSo0Aw&ved=0ahUKEwi4ssvTlLf1AhX6mWoFHXEqCsoQ4dUDCA0&uact=5&oq=What+is+the+tensile+strength+of+1%2F2+threaded+rod%3F&gs_lcp=Cgdnd3Mtd2l6EAMyBAgAEB4yBQgAEIYDMgUIABCGAzoHCAAQRxCwA0oECEEYAEoECEYYAFD_BVj_BWDlD2gBcAJ4AIABR4gBR5IBATGYAQCgAQHIAQjAAQE&sclient=gws-wiz)\n",
    "has an upper limit strength of 60000 psi, so we multiply by the rod cross sectional area to see if it is strong enough.\n",
    "\n",
    "The scripts to compute the strength are below; 1/4-inch is suitable for the upper ties; 1/2-inch is plenty strong for the lower ties."
   ]
  },
  {
   "cell_type": "code",
   "execution_count": 1,
   "metadata": {},
   "outputs": [
    {
     "name": "stdout",
     "output_type": "stream",
     "text": [
      "1/4 inch tie rod strength =  7363.108 lbs\n"
     ]
    }
   ],
   "source": [
    "import math\n",
    "tensile = 150000 #psi\n",
    "diameter = 0.25 #inches\n",
    "area = 0.25*math.pi*diameter**2 #area in inches\n",
    "force = tensile*area\n",
    "print('1/4 inch tie rod strength = ', round(force,3), 'lbs')"
   ]
  },
  {
   "cell_type": "code",
   "execution_count": 2,
   "metadata": {
    "jupyter": {
     "source_hidden": true
    }
   },
   "outputs": [
    {
     "name": "stdout",
     "output_type": "stream",
     "text": [
      "1/2 inch tie rod strength =  11780.972 lbs\n"
     ]
    }
   ],
   "source": [
    "import math\n",
    "tensile = 60000 #psi\n",
    "diameter = 0.50 #inches\n",
    "area = 0.25*math.pi*diameter**2 #area in inches\n",
    "force = tensile*area\n",
    "print('1/2 inch tie rod strength = ', round(force,3), 'lbs')"
   ]
  },
  {
   "cell_type": "markdown",
   "metadata": {},
   "source": [
    "### Forces on Submarged Objects\n",
    "\n",
    "The integral methods will always work, but an easier approach for common geometries is a projection of volumes approach.\n",
    "\n",
    "```{figure} fd-4.1.png\n",
    "---\n",
    "width: 300px\n",
    "name: fd-4.1\n",
    "---\n",
    "Force diagram submerged plate\n",
    "```\n",
    "\n",
    "The idea is that the distributed force as depicted in {numref}`fd-4.1` is equivalent to the vertical and horizontal component forces depicted in {numref}`fd-4.2`.  The horizontal component is found using the hydrostatic equation applied to the projection of the object onto a vertical plane.\n",
    "\n",
    "```{figure} fd-4.2.png\n",
    "---\n",
    "width: 300px\n",
    "name: fd-4.2\n",
    "---\n",
    "Resultant forces by displacement\n",
    "```\n",
    "\n",
    "The vertical component is found as the weight of the volume of liquid above the object."
   ]
  },
  {
   "cell_type": "code",
   "execution_count": null,
   "metadata": {},
   "outputs": [],
   "source": []
  },
  {
   "cell_type": "code",
   "execution_count": null,
   "metadata": {},
   "outputs": [],
   "source": []
  },
  {
   "cell_type": "markdown",
   "metadata": {},
   "source": [
    "### Will it float?\n",
    "\n",
    "[Will it float?](https://www.google.com/search?client=firefox-b-1-d&q=will+it+float) was a popular TV sgement on Late Night with David Letterman.  We can use these bouyancy principles to answer the question for most things (not nearly as fun as the TV show's way to answer the question).\n",
    "\n",
    "Imagine a cube of material, 1-foot on each side.  Further imagine the cube has specific weight ($\\gamma = 40 \\frac{lbf}{ft^3}$).  The cube is placed in the \"will it float\" tank. The tank is filled with water.  How deep will it float (or will it sink)?\n",
    "\n",
    "Now recall our problem protocol.\n",
    "\n",
    "\n",
    "1. State the problem\n",
    "2. Sketch the situation (sketching no matter how ugly helps organize thoughts!). Identify (list) known quantities\n",
    "3. Identify (list) unknown quantities\n",
    "4. Identify (list) governing principles and equations that appear relevant to the problem\n",
    "5. Starting from one or more governing principles and the known quantities solve for the unknowns.\n",
    "6. Validate/discuss results\n",
    "\n",
    "#### State the problem\n",
    "\n",
    "```{figure} will-it-float-setup.png\n",
    "---\n",
    "width: 400px\n",
    "name: will-it-float-setup\n",
    "---\n",
    "Cube floating in water; problem statement\n",
    "```\n",
    "\n",
    "#### Sketch and list knowns\n",
    "\n",
    "```{figure} will-it-floatFBD.png\n",
    "---\n",
    "width: 200px\n",
    "name: will-it-floatFBD\n",
    "---\n",
    "Vertical force balance on the cube\n",
    "```\n",
    "The known values are:\n",
    "\n",
    "- $\\rho g = 40 \\frac{lbf}{ft^3}$\n",
    "- $V_{block} = (1ft)(1ft)(1ft) = 1 ft^3$\n",
    "\n",
    "#### Unknowns\n",
    "\n",
    "Draft of the block ($d$ in the drawing)\n",
    "\n",
    "#### Governing Principles\n",
    "\n",
    "```{figure} will-it-float-gov-eqn.png\n",
    "---\n",
    "width: 400px\n",
    "name: will-it-float-gov-eqn\n",
    "---\n",
    "Governing principles (vertical force balance, and definition of bouyant force)\n",
    "```\n",
    "\n",
    "#### Solve for unknowns\n",
    "```{figure} will-it-float-soln1.png\n",
    "---\n",
    "width: 400px\n",
    "name: will-it-float-soln1\n",
    "---\n",
    "Finding the volume displaced to make bouyant force and weight of block equal\n",
    "```\n",
    "\n",
    "```{figure} will-it-float-soln2.png\n",
    "---\n",
    "width: 400px\n",
    "name: will-it-float-soln2\n",
    "---\n",
    "Insert numerical values and compute draft\n",
    "```\n",
    "#### Validate/Discuss\n",
    "\n",
    "Now you can do \"will it float\" on your own, so if there is ever a revival of the sketch you can win serious prizes!\n",
    "\n",
    "This kind of computation is vital in near shore vessel (boat) operations to prevent running aground.  It also plays a role in offshore oil platforms in controlling their stability in rough seas.\n",
    "\n"
   ]
  },
  {
   "cell_type": "code",
   "execution_count": null,
   "metadata": {},
   "outputs": [],
   "source": []
  },
  {
   "cell_type": "markdown",
   "metadata": {},
   "source": [
    "\n",
    "## Readings\n",
    "\n",
    "1. CE-3305-2022-1 Syllabus. [http://54.243.252.9/ce-3305-webroot/0-Syllabus/ce-3305-2022-1-syllabus.html](http://54.243.252.9/ce-3305-webroot/0-Syllabus/ce-3305-2022-1-syllabus.html)\n",
    "\n",
    "2. Hibbeler, R.C, Fluid Mechanics, 2ed. Prentice Hall, 2018. ISBN: 9780134655413 pp. 3-14\n",
    "\n",
    "3. DF Elger, BC Williams, Crowe, CT and JA Roberson, *Engineering Fluid Mechanics 10th edition*, John Wiley & Sons, Inc., 2013.  (placeholder file to get links working). [http://54.243.252.9/ce-3305-webroot/3-Readings/EFM-1.pdf](http://54.243.252.9/ce-3305-webroot/3-Readings/EFM-4.pdf)\n",
    "\n",
    "4. Cleveland, T. G. (2014) *Fluid Mechanics Notes to Accompany CE 3305 at Jade-Holshule (TTU Study Abroad 2015-2019)*, Department of Civil, Environmental, and Construction Engineering, Whitacre College of Engineering. [http://54.243.252.9/ce-3305-webroot/3-Readings/ce3305-lecture-004.0.pdf](http://54.243.252.9/ce-3305-webroot/3-Readings/ce3305-lecture-004.0.pdf)"
   ]
  },
  {
   "cell_type": "code",
   "execution_count": null,
   "metadata": {},
   "outputs": [],
   "source": []
  },
  {
   "cell_type": "markdown",
   "metadata": {},
   "source": [
    "### Topic 1\n",
    "\n",
    "ipsum lorem\n",
    "\n",
    "#### Subtopic \n",
    "\n",
    "ipsum lorem\n",
    "\n",
    "#### Subtopic\n",
    "\n",
    "ipsum lorem\n"
   ]
  },
  {
   "cell_type": "markdown",
   "metadata": {},
   "source": [
    "### Topic 2\n",
    "\n",
    "ipsum lorem\n",
    "\n",
    "#### Subtopic \n",
    "\n",
    "ipsum lorem\n",
    "\n",
    "#### Subtopic\n",
    "\n",
    "ipsum lorem\n"
   ]
  },
  {
   "cell_type": "markdown",
   "metadata": {},
   "source": [
    "### Topic 3\n",
    "\n",
    "ipsum lorem\n",
    "\n",
    "#### Subtopic \n",
    "\n",
    "ipsum lorem\n",
    "\n",
    "#### Subtopic\n",
    "\n",
    "ipsum lorem\n"
   ]
  },
  {
   "cell_type": "markdown",
   "metadata": {},
   "source": [
    "## Readings\n",
    "\n",
    "1. [CE-3305-2022-2 (Summer2) Syllabus](http://54.243.252.9/ce-3305-webroot-su22/0-Syllabus/ce-3305-2022-1-syllabus.html)\n",
    "\n",
    "2. Hibbeler, R.C, Fluid Mechanics, 2ed. Prentice Hall, 2018. ISBN: 9780134655413 pp. 3-14\n",
    "\n",
    "3. DF Elger, BC Williams, Crowe, CT and JA Roberson, *Engineering Fluid Mechanics 10th edition*, John Wiley & Sons, Inc., 2013.  (placeholder file to get links working). [http://54.243.252.9/ce-3305-webroot/3-Readings/EFM-1.pdf](http://54.243.252.9/ce-3305-webroot/3-Readings/EFM-1.pdf)\n",
    "\n",
    "4. Cleveland, T. G. (2014) *Fluid Mechanics Notes to Accompany CE 3305 at Jade-Holshule (TTU Study Abroad 2015-2019)*, Department of Civil, Environmental, and Construction Engineering, Whitacre College of Engineering. [http://54.243.252.9/ce-3305-webroot/3-Readings/ce3305-lecture-001.1.pdf](http://54.243.252.9/ce-3305-webroot/3-Readings/ce3305-lecture-001.1.pdf)"
   ]
  },
  {
   "cell_type": "markdown",
   "metadata": {},
   "source": [
    "## Exercises\n"
   ]
  }
 ],
 "metadata": {
  "kernelspec": {
   "display_name": "Python 3",
   "language": "python",
   "name": "python3"
  },
  "language_info": {
   "codemirror_mode": {
    "name": "ipython",
    "version": 3
   },
   "file_extension": ".py",
   "mimetype": "text/x-python",
   "name": "python",
   "nbconvert_exporter": "python",
   "pygments_lexer": "ipython3",
   "version": "3.8.10"
  }
 },
 "nbformat": 4,
 "nbformat_minor": 4
}