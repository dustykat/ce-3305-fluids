{
 "cells": [
  {
   "cell_type": "markdown",
   "metadata": {},
   "source": [
    "# <font color=darkblue>ENGR 1330-2022-2 Exam1-Laboratory Portion  </font>\n",
    "\n",
    "**LAST NAME, FIRST NAME**\n",
    "\n",
    "**R00000000**\n",
    "\n",
    "ENGR 1330 Exam 1 - Laboratory/Programming Skills\n",
    "\n",
    "---\n",
    "\n",
    "**Download** (right-click, save target as ...) this page as a jupyterlab notebook from: [s22-ex1-deploy.ipynb](http://54.243.252.9/engr-1330-webroot/5-ExamProblems/Exam1/Exam1/spring2022/s22-ex1-deploy.ipynb)\n",
    "\n",
    "**If you are unable to download the file, create an empty notebook and copy paste the problems into Markdown cells and Code cells (problem-by-problem)**\n",
    "\n"
   ]
  },
  {
   "cell_type": "markdown",
   "metadata": {},
   "source": [
    "---\n",
    "\n",
    "## Problem 0 (5 pts) : <font color = 'magenta'>*Profile your computer*</font>\n",
    "\n",
    "Execute the code cell below exactly as written.  If you get an error just continue to the remaining problems."
   ]
  },
  {
   "cell_type": "code",
   "execution_count": null,
   "metadata": {},
   "outputs": [],
   "source": [
    "# Preamble script block to identify host, user, and kernel\n",
    "import sys\n",
    "! hostname\n",
    "! whoami\n",
    "print(sys.executable)\n",
    "print(sys.version)\n",
    "print(sys.version_info)"
   ]
  },
  {
   "cell_type": "markdown",
   "metadata": {},
   "source": [
    "---\n",
    "\n",
    "## Problem 1 NUMPY (10 points) : <font color = 'magenta'> *Show me the money!* </font>\n",
    "\n",
    "Assume that you have access to 900,000 bank accounts belonging to other people. All of these account balances start with \\\\$101.23 USD in them. The interest rate for all the accounts is 5%, compounded daily. [Daily compounding](https://www.eduworks.com/Documents/Workshops/EdMedia1998/class/compound.htm) generally means that the stated annual rate is applied daily $\\frac{5\\%}{365}=0.01369\\%$ per day. \n",
    "The interest is added to the balance of each account, with the exception of the fractions of cents (anything past the third decimal place) that are truncated (dropped). \n",
    "\n",
    "Let's pretend we are online robbers and we want to write some code to skim the excesss interest and place it into our own account. We are going to illegally skim the fractions that get truncated (dropped) out of the other people's accounts evertime their interest is calculated, and add the truncated amounts into our own account. Our account will begin with $0 but grow by the day.\n",
    "\n",
    "Execute the code block below to create the accounts"
   ]
  },
  {
   "cell_type": "code",
   "execution_count": 35,
   "metadata": {},
   "outputs": [],
   "source": [
    "import numpy as np\n",
    "# create the accounts\n",
    "accounts = np.array([101.23 for i in range(900000)])"
   ]
  },
  {
   "cell_type": "markdown",
   "metadata": {},
   "source": [
    "The daily interest is simply the product of the daily compounding rate and the account value\n",
    "\n",
    "$ P_{n+1} = P_{n} + i*P_{n}$  in this problem the result $i*P_{n}$ is only reported to the penny, any smaller part of the value is skimmed into the illegal bitcoin account.\n",
    "\n",
    "A function that performs the computations is shown below"
   ]
  },
  {
   "cell_type": "code",
   "execution_count": 36,
   "metadata": {},
   "outputs": [],
   "source": [
    "# execute this code block to prototype the function\n",
    "def add_interest(current_value,daily_rate):\n",
    "    compounding_amount = current_value*daily_rate      # compute compounding amount.\n",
    "    whole_dollar_ammount = current_value*daily_rate//1 # compute compounding amount whole dollar portion\n",
    "    fractional_dollar_amount = compounding_amount - whole_dollar_ammount # compute compounding amount fractional dollar portion\n",
    "    pennies = fractional_dollar_amount*100//1  # compute portion of fraction that are pennies\n",
    "    skim = fractional_dollar_amount - pennies/100 \n",
    "    output=(whole_dollar_ammount+pennies/100,skim) # return a tuple of interest to add, and amount to skim\n",
    "    return(output) "
   ]
  },
  {
   "cell_type": "markdown",
   "metadata": {},
   "source": [
    "Implement the steps necessary to increase each of the 500,000 accounts by (5/365)% per day, truncate the accounts to the nearest penny, and add the truncated amount into a seperate account titled “bitcoin”\n",
    "    \n",
    "Using a repetition structure, iterate over your code until the bitcoin account has accumulated \\\\$1,000,000. Report how long (how many days) it takes to reach \\\\$1,000,000."
   ]
  },
  {
   "cell_type": "code",
   "execution_count": 38,
   "metadata": {},
   "outputs": [
    {
     "name": "stdout",
     "output_type": "stream",
     "text": [
      "1\n",
      "3482.8767123541866\n",
      "2\n",
      "6966.986301580323\n",
      "3\n",
      "10452.328767263385\n",
      "4\n",
      "13938.904109403371\n",
      "5\n",
      "17426.712328489706\n",
      "6\n",
      "20915.753425180632\n",
      "7\n",
      "24406.027398328482\n",
      "8\n",
      "27897.534247933258\n",
      "9\n",
      "31390.273973994957\n",
      "10\n",
      "34884.246578496706\n"
     ]
    },
    {
     "ename": "KeyboardInterrupt",
     "evalue": "",
     "output_type": "error",
     "traceback": [
      "\u001b[0;31m---------------------------------------------------------------------------\u001b[0m",
      "\u001b[0;31mKeyboardInterrupt\u001b[0m                         Traceback (most recent call last)",
      "\u001b[0;32m<ipython-input-38-e31cd4a93d34>\u001b[0m in \u001b[0;36m<module>\u001b[0;34m\u001b[0m\n\u001b[1;32m      6\u001b[0m     \u001b[0;32mfor\u001b[0m \u001b[0mi\u001b[0m \u001b[0;32min\u001b[0m \u001b[0mrange\u001b[0m\u001b[0;34m(\u001b[0m\u001b[0mlen\u001b[0m\u001b[0;34m(\u001b[0m\u001b[0maccounts\u001b[0m\u001b[0;34m)\u001b[0m\u001b[0;34m)\u001b[0m\u001b[0;34m:\u001b[0m\u001b[0;34m\u001b[0m\u001b[0;34m\u001b[0m\u001b[0m\n\u001b[1;32m      7\u001b[0m         \u001b[0maccounts\u001b[0m\u001b[0;34m[\u001b[0m\u001b[0mi\u001b[0m\u001b[0;34m]\u001b[0m\u001b[0;34m=\u001b[0m\u001b[0maccounts\u001b[0m\u001b[0;34m[\u001b[0m\u001b[0mi\u001b[0m\u001b[0;34m]\u001b[0m\u001b[0;34m+\u001b[0m\u001b[0madd_interest\u001b[0m\u001b[0;34m(\u001b[0m\u001b[0maccounts\u001b[0m\u001b[0;34m[\u001b[0m\u001b[0mi\u001b[0m\u001b[0;34m]\u001b[0m\u001b[0;34m,\u001b[0m\u001b[0;36m0.05\u001b[0m\u001b[0;34m/\u001b[0m\u001b[0;36m365\u001b[0m\u001b[0;34m)\u001b[0m\u001b[0;34m[\u001b[0m\u001b[0;36m0\u001b[0m\u001b[0;34m]\u001b[0m\u001b[0;34m\u001b[0m\u001b[0;34m\u001b[0m\u001b[0m\n\u001b[0;32m----> 8\u001b[0;31m         \u001b[0mbitcoin\u001b[0m \u001b[0;34m=\u001b[0m \u001b[0mbitcoin\u001b[0m \u001b[0;34m+\u001b[0m \u001b[0madd_interest\u001b[0m\u001b[0;34m(\u001b[0m\u001b[0maccounts\u001b[0m\u001b[0;34m[\u001b[0m\u001b[0mi\u001b[0m\u001b[0;34m]\u001b[0m\u001b[0;34m,\u001b[0m\u001b[0;36m0.05\u001b[0m\u001b[0;34m/\u001b[0m\u001b[0;36m365\u001b[0m\u001b[0;34m)\u001b[0m\u001b[0;34m[\u001b[0m\u001b[0;36m1\u001b[0m\u001b[0;34m]\u001b[0m\u001b[0;34m\u001b[0m\u001b[0;34m\u001b[0m\u001b[0m\n\u001b[0m\u001b[1;32m      9\u001b[0m     \u001b[0mdays\u001b[0m \u001b[0;34m=\u001b[0m \u001b[0mdays\u001b[0m\u001b[0;34m+\u001b[0m\u001b[0;36m1\u001b[0m\u001b[0;34m\u001b[0m\u001b[0;34m\u001b[0m\u001b[0m\n\u001b[1;32m     10\u001b[0m     \u001b[0mprint\u001b[0m\u001b[0;34m(\u001b[0m\u001b[0mdays\u001b[0m\u001b[0;34m)\u001b[0m\u001b[0;34m\u001b[0m\u001b[0;34m\u001b[0m\u001b[0m\n",
      "\u001b[0;32m<ipython-input-36-b0ddf160d130>\u001b[0m in \u001b[0;36madd_interest\u001b[0;34m(current_value, daily_rate)\u001b[0m\n\u001b[1;32m      2\u001b[0m \u001b[0;32mdef\u001b[0m \u001b[0madd_interest\u001b[0m\u001b[0;34m(\u001b[0m\u001b[0mcurrent_value\u001b[0m\u001b[0;34m,\u001b[0m\u001b[0mdaily_rate\u001b[0m\u001b[0;34m)\u001b[0m\u001b[0;34m:\u001b[0m\u001b[0;34m\u001b[0m\u001b[0;34m\u001b[0m\u001b[0m\n\u001b[1;32m      3\u001b[0m     \u001b[0mcompounding_amount\u001b[0m \u001b[0;34m=\u001b[0m \u001b[0mcurrent_value\u001b[0m\u001b[0;34m*\u001b[0m\u001b[0mdaily_rate\u001b[0m      \u001b[0;31m# compute compounding amount.\u001b[0m\u001b[0;34m\u001b[0m\u001b[0;34m\u001b[0m\u001b[0m\n\u001b[0;32m----> 4\u001b[0;31m     \u001b[0mwhole_dollar_ammount\u001b[0m \u001b[0;34m=\u001b[0m \u001b[0mcurrent_value\u001b[0m\u001b[0;34m*\u001b[0m\u001b[0mdaily_rate\u001b[0m\u001b[0;34m//\u001b[0m\u001b[0;36m1\u001b[0m \u001b[0;31m# compute compounding amount whole dollar portion\u001b[0m\u001b[0;34m\u001b[0m\u001b[0;34m\u001b[0m\u001b[0m\n\u001b[0m\u001b[1;32m      5\u001b[0m     \u001b[0mfractional_dollar_amount\u001b[0m \u001b[0;34m=\u001b[0m \u001b[0mcompounding_amount\u001b[0m \u001b[0;34m-\u001b[0m \u001b[0mwhole_dollar_ammount\u001b[0m \u001b[0;31m# compute compounding amount fractional dollar portion\u001b[0m\u001b[0;34m\u001b[0m\u001b[0;34m\u001b[0m\u001b[0m\n\u001b[1;32m      6\u001b[0m     \u001b[0mpennies\u001b[0m \u001b[0;34m=\u001b[0m \u001b[0mfractional_dollar_amount\u001b[0m\u001b[0;34m*\u001b[0m\u001b[0;36m100\u001b[0m\u001b[0;34m//\u001b[0m\u001b[0;36m1\u001b[0m  \u001b[0;31m# compute portion of fraction that are pennies\u001b[0m\u001b[0;34m\u001b[0m\u001b[0;34m\u001b[0m\u001b[0m\n",
      "\u001b[0;31mKeyboardInterrupt\u001b[0m: "
     ]
    }
   ],
   "source": [
    "# generate the bitcoin account\n",
    "bitcoin = 0\n",
    "days = 0\n",
    "# compute daily addition to each account, sweep fractional portion into bitcoin\n",
    "while bitcoin < 1e6:\n",
    "    for i in range(len(accounts)):\n",
    "        accounts[i]=accounts[i]+add_interest(accounts[i],0.05/365)[0]\n",
    "        bitcoin = bitcoin + add_interest(accounts[i],0.05/365)[1]\n",
    "    days = days+1\n",
    "    print(days)\n",
    "    print(bitcoin)\n",
    "# report bitcoin amount and days since steal begin\n",
    "print(days)\n",
    "print(bitcoin)\n",
    "# stop when have a million dollars"
   ]
  },
  {
   "cell_type": "markdown",
   "metadata": {},
   "source": []
  },
  {
   "cell_type": "markdown",
   "metadata": {},
   "source": [
    "## Problem 2 (5 pts) : <font color = 'magenta'>*Get the data files*</font>\n"
   ]
  },
  {
   "cell_type": "code",
   "execution_count": null,
   "metadata": {},
   "outputs": [],
   "source": [
    "######### CODE TO AUTOMATICALLY DOWNLOAD THE DATABASE ################\n",
    "import requests # import needed modules to interact with the internet\n",
    "# make the connection to the remote file (actually its implementing \"bash curl -O http://fqdn/path ...\")\n",
    "remote_url = 'http://54.243.252.9/engr-1330-webroot/8-Labs/Lab15/galton_subset.csv' # a csv file\n",
    "response = requests.get(remote_url) # Gets the file contents puts into an object\n",
    "output = open('galton_subset.csv', 'wb') # Prepare a destination, local\n",
    "output.write(response.content) # write contents of object to named local file\n",
    "output.close() # close the connection"
   ]
  },
  {
   "cell_type": "markdown",
   "metadata": {},
   "source": [
    "---\n",
    "\n",
    "## Problem 3: Dataframe read/organize (10 pts): <font color = 'magenta'>*read file into a dataframe, rename columns, show a few rows of the dataframe*</font>\n",
    "\n",
    "Read the `galton_subset.csv` into a dataframe.  Name/rename the columns to **\"Father\",\"Mother\",\"Child\"**.  Display the first 9 rows of the dataframe."
   ]
  },
  {
   "cell_type": "code",
   "execution_count": 1,
   "metadata": {},
   "outputs": [],
   "source": [
    "# import necessary packages\n",
    "# read the csv file into a dataframe\n",
    "# rename son to child\n",
    "# show dataframe head"
   ]
  },
  {
   "cell_type": "markdown",
   "metadata": {},
   "source": [
    "---\n",
    "\n",
    "## Problem 4 Dataframe analyse/summarize (10 pts): <font color = 'magenta'>*find mean values, father, mother, child*</font>\n",
    "\n",
    "Using the dataframe from the previous problem, find the average height of **\"Father\",\"Mother\",\"Child\"** columns (series) and the standard deviation of these columns.\n",
    "\n",
    "On average which category is taller (father, mother, child)?"
   ]
  },
  {
   "cell_type": "code",
   "execution_count": 2,
   "metadata": {},
   "outputs": [],
   "source": [
    "# query dataframe by each series\n",
    "# print average height and standard deviation"
   ]
  },
  {
   "cell_type": "code",
   "execution_count": 3,
   "metadata": {},
   "outputs": [],
   "source": [
    "# who is taller?"
   ]
  },
  {
   "cell_type": "markdown",
   "metadata": {},
   "source": [
    "---\n",
    "\n",
    "## Problem 5 Dataframe Histograms (10 points) : <font color = 'magenta'> *histograms; df['...'].hist(alpha=0.5,color='...')* </font>\n",
    "Using the dataframe from the Problem 4, produce a histogram of fathers and a histogram of mothers on the same plot.  Do the histograms suggest that one group is shorter than the other? "
   ]
  },
  {
   "cell_type": "code",
   "execution_count": 23,
   "metadata": {},
   "outputs": [],
   "source": [
    "# build histograms df['...'].hist(alpha=0.5,color='...') of father and mother\n",
    "# show the plot same figure"
   ]
  },
  {
   "cell_type": "code",
   "execution_count": null,
   "metadata": {},
   "outputs": [],
   "source": [
    "# who is shorter?"
   ]
  }
 ],
 "metadata": {
  "kernelspec": {
   "display_name": "Python 3",
   "language": "python",
   "name": "python3"
  },
  "language_info": {
   "codemirror_mode": {
    "name": "ipython",
    "version": 3
   },
   "file_extension": ".py",
   "mimetype": "text/x-python",
   "name": "python",
   "nbconvert_exporter": "python",
   "pygments_lexer": "ipython3",
   "version": "3.8.10"
  }
 },
 "nbformat": 4,
 "nbformat_minor": 4
}
