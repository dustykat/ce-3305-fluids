{
 "cells": [
  {
   "cell_type": "markdown",
   "metadata": {},
   "source": [
    "# Conservation of Angular Momentum\n",
    "\n",
    "## Lesson Outline\n",
    "- Definition of angular momentum\n",
    "- Example appliocation"
   ]
  },
  {
   "cell_type": "markdown",
   "metadata": {},
   "source": [
    "### Background\n",
    "\n",
    "Angular momentum (moment of momentum) relates forces to changes in rotational velocity.  Reynolds Transport Theorem is used to generate integral expressions of angular momentum balances in a control volume.\n",
    "\n",
    "The ideas are fundamental in pumps, compressors, turbines, and similar machines.\n",
    "\n",
    "### Angular Momentum\n",
    "\n",
    "```{figure} angular-p1-1.png\n",
    "---\n",
    "width: 600px\n",
    "name: angular-p1-1\n",
    "---\n",
    "Caption\n",
    "```\n",
    "{numref}`angular-p1-1` relates the extensive property of angular momentum for a system to the intensive property of moment of momentum per unit mass which is $\\bar r \\times \\bar V$. \n",
    "\n",
    "```{figure} angular-p1-2.png\n",
    "---\n",
    "width: 600px\n",
    "name: angular-p1-2\n",
    "---\n",
    "Caption\n",
    "```\n",
    "The result of application of the Reynolds Transport Theorem to the linear momentum term is an integral equation that relates the sum of external forces to the rate of change of linear momentum in the control volume plus the net momentum leaving across the control surface as depicted in {numref}`angular-p1-2`\n"
   ]
  },
  {
   "cell_type": "markdown",
   "metadata": {},
   "source": [
    "## Example 1: Application of Angular Momentum to a Reaction Turbine\n",
    "\n",
    "Application of angular momentum often involves use of continunity and energy (bernoulli's equation).  Selection of CV is important to make analysis straightforward.  Consider the following example involving a reaction turbine (like a Rain-Bird)\n",
    "\n",
    "![](https://5.imimg.com/data5/RX/YB/MY-710552/x-500x500.jpeg)\n",
    "\n",
    "The problem statement is depicted in {numref}`angular-ex1-1`\n",
    "\n",
    "```{figure} angular-ex1-1.png\n",
    "---\n",
    "width: 600px\n",
    "name: angular-ex1-1\n",
    "---\n",
    "Caption\n",
    "```\n",
    "\n",
    "Apply continunity as in {numref}`angular-ex1-2`\n",
    "\n",
    "```{figure} angular-ex1-2.png\n",
    "---\n",
    "width: 600px\n",
    "name: angular-ex1-2\n",
    "---\n",
    "Caption\n",
    "```\n",
    "\n",
    "Then momentum as in {numref}`angular-ex1-3`\n",
    "\n",
    "```{figure} angular-ex1-3.png\n",
    "---\n",
    "width: 600px\n",
    "name: angular-ex1-3\n",
    "---\n",
    "Caption\n",
    "```\n",
    "\n",
    "Continue the analysis (break the CV into upper and lower arm, use symmetry to cancel the volume integrals) as in {numref}`angular-ex1-4`\n",
    "\n",
    "\n",
    "```{figure} angular-ex1-4.png\n",
    "---\n",
    "width: 600px\n",
    "name: angular-ex1-4\n",
    "---\n",
    "Caption\n",
    "```\n",
    "\n",
    "Complete the analysis as in {numref}`angular-ex1-5`\n",
    "\n",
    "```{figure} angular-ex1-5.png\n",
    "---\n",
    "width: 600px\n",
    "name: angular-ex1-5\n",
    "---\n",
    "Caption\n",
    "```\n",
    "\n",
    "now apply ENGR-1330 to perform the calculations."
   ]
  },
  {
   "cell_type": "code",
   "execution_count": 4,
   "metadata": {},
   "outputs": [
    {
     "name": "stdout",
     "output_type": "stream",
     "text": [
      "Power  62360.77  Newton-meters/sec    \n"
     ]
    }
   ],
   "source": [
    "# computational thinning\n",
    "import math\n",
    "q = 0.1 #discharge\n",
    "v_jet = 50.0\n",
    "omega = 500*2*math.pi/60\n",
    "radius = 0.5\n",
    "rho = 1000.0\n",
    "power = rho*q*v_jet*radius*omega - rho*q*omega**2*radius**2\n",
    "print(\"Power \",round(power,2),\" Newton-meters/sec    \")"
   ]
  },
  {
   "cell_type": "markdown",
   "metadata": {},
   "source": [
    "## Example 2: Application of Angular Momentum to a Reaction Turbine\n",
    "\n",
    "Here we will do the same problem, but using a fixed reference frame CV\n",
    "\n",
    "```{figure} angular-ex2-1.png\n",
    "---\n",
    "width: 600px\n",
    "name: angular-ex2-1\n",
    "---\n",
    "Caption\n",
    "```\n",
    "{numref}`angular-ex1-5` is analysis of the volume integral in a vector representation of the moment of momentum\n",
    "\n",
    "```{figure} angular-ex2-2.png\n",
    "---\n",
    "width: 600px\n",
    "name: angular-ex2-2\n",
    "---\n",
    "Caption\n",
    "```\n",
    "{numref}`angular-ex1-5` is analysis of the flux integrals in a vector representation of the moment of momentum\n",
    "After the equations are constructed, the analysys proceedes the same as in the earlier example."
   ]
  },
  {
   "cell_type": "code",
   "execution_count": null,
   "metadata": {},
   "outputs": [],
   "source": []
  },
  {
   "cell_type": "markdown",
   "metadata": {},
   "source": [
    "\n",
    "## Readings\n",
    "\n",
    "1. CE-3305-2022-1 Syllabus. [http://54.243.252.9/ce-3305-webroot/0-Syllabus/ce-3305-2022-1-syllabus.html](http://54.243.252.9/ce-3305-webroot/0-Syllabus/ce-3305-2022-1-syllabus.html)\n",
    "\n",
    "2. Hibbeler, R.C, Fluid Mechanics, 2ed. Prentice Hall, 2018. ISBN: 9780134655413 pp. 293-355\n",
    "\n",
    "3. DF Elger, BC Williams, Crowe, CT and JA Roberson, *Engineering Fluid Mechanics 10th edition*, John Wiley & Sons, Inc., 2013.  (placeholder file to get links working). [http://54.243.252.9/ce-3305-webroot/3-Readings/EFM-9.pdf](http://54.243.252.9/ce-3305-webroot/3-Readings/EFM-9.pdf)\n",
    "\n",
    "4. Cleveland, T. G. (2014) *Fluid Mechanics Notes to Accompany CE 3305 at Jade-Holshule (TTU Study Abroad 2015-2019)*, Department of Civil, Environmental, and Construction Engineering, Whitacre College of Engineering. [http://54.243.252.9/ce-3305-webroot/3-Readings/ce3305-lecture-9.pdf](http://54.243.252.9/ce-3305-webroot/3-Readings/ce3305-lecture09.pdf)\n"
   ]
  },
  {
   "cell_type": "code",
   "execution_count": null,
   "metadata": {},
   "outputs": [],
   "source": []
  }
 ],
 "metadata": {
  "kernelspec": {
   "display_name": "Python 3",
   "language": "python",
   "name": "python3"
  },
  "language_info": {
   "codemirror_mode": {
    "name": "ipython",
    "version": 3
   },
   "file_extension": ".py",
   "mimetype": "text/x-python",
   "name": "python",
   "nbconvert_exporter": "python",
   "pygments_lexer": "ipython3",
   "version": "3.8.10"
  }
 },
 "nbformat": 4,
 "nbformat_minor": 4
}
