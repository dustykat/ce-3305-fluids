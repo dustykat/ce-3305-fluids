{
 "cells": [
  {
   "cell_type": "markdown",
   "metadata": {},
   "source": [
    "# Application of Drag \n",
    "\n",
    "## Example: Bang the Drum Slowly\n",
    "\n",
    "Figure XX is a schematic of wind blowing on a traffic barrier drum (A 55-gallon drum painted orange). Estimate the wind speed needed to tip the drum over. The weight of the drum is 48 lbs, the diameter is 22.5 inches, and the height is 34.5 inches.\n",
    "\n",
    "<figure align=\"center\">\n",
    "<img src=\"./trafficdrum.png\" width=\"400\" > \n",
    "<!--<img src=\"http://54.243.252.9/ce-3305-webroot/5-Exams/EX4/trafficdrum.png\" width=\"400\">-->\n",
    "<figcaption>Figure XX. Traffic Barrier Drum </figcaption>\n",
    "</figure>\n",
    "\n",
    "### Step 1: Problem Statement\n",
    "\n",
    "The statement above is good enough, to suppliment we will notice this is a fluids problem as well as a static problem.\n",
    "\n",
    "### Step 2: Sketch(s)\n",
    "The first sketch is really a side view of the original conceptualization above.\n",
    "\n",
    "<figure align=\"center\">\n",
    "<img src=\"./drumsketch.png\" width=\"400\" > \n",
    "<!--<img src=\"http://54.243.252.9/ce-3305-webroot/5-Exams/EX4/trafficdrum.png\" width=\"400\">-->\n",
    "<figcaption>Figure XX. Schematic of Situation </figcaption>\n",
    "</figure>\n",
    "\n",
    "The next sketch is key, when the drum starts to tip over there is a moment of a single point of contact which is important to the analysis/\n",
    "\n",
    "<figure align=\"center\">\n",
    "<img src=\"./tippingdrum.png\" width=\"400\" > \n",
    "<!--<img src=\"http://54.243.252.9/ce-3305-webroot/5-Exams/EX4/trafficdrum.png\" width=\"400\">-->\n",
    "<figcaption>Figure XX. Drum at Moment of Tipping </figcaption>\n",
    "</figure>\n",
    "\n",
    "### Step 3: List knowns and unknowns\n",
    "\n",
    "Known:\n",
    "\n",
    "- Mass of drum\n",
    "- Dimensions of drum\n",
    "- Fluid (air)\n",
    "- Fluid properties (table look-up)\n",
    "\n",
    "Unknown:\n",
    "\n",
    "- Wind speed to tip over drum as per drawing above\n",
    "\n",
    "### Step 4: Governing Principles\n",
    "\n",
    "- Drag force formula: $F_D = C_D A \\frac{\\rho V^2}{2}$\n",
    "- Static Force Balance: $\\sum F = 0$ \n",
    "- Static Moment Balance: $\\sum M_A = 0$\n",
    "\n",
    "### Step 5: Analysis\n",
    "\n",
    "From the force balance we conclude if the drum does not slide then at the point of contact the drag force forms the couple shown.  The moment balance at the tipping point (see the pun there!) is\n",
    "\n",
    "$\\sum M_A = 0 = W(\\frac{D}{2}) - F_D (\\frac{H}{2})$\n",
    "\n",
    "Do some of that algebra to obtain<br>\n",
    "\n",
    "$W(\\frac{D}{2}) = F_D (\\frac{H}{2})$\n",
    "\n",
    "substutite in the definition of weight<br>\n",
    "\n",
    "$mg(\\frac{D}{2}) = F_D (\\frac{H}{2})$\n",
    "\n",
    "more of that algebra and substitute in the drag force formula <br>\n",
    "\n",
    "$mg(\\frac{D}{H}) = C_D A \\frac{\\rho V^2}{2} $\n",
    "\n",
    "Next we will need a way to estimate $C_D$ values and using the chart below should suffice.\n",
    "\n",
    "<figure align=\"center\">\n",
    "<img src=\"./cddiagram.png\" width=\"400\" > \n",
    "<!--<img src=\"http://54.243.252.9/ce-3305-webroot/5-Exams/EX4/trafficdrum.png\" width=\"400\">-->\n",
    "<figcaption>Figure XX. $C_D$ Chart </figcaption>\n",
    "</figure>\n",
    "\n",
    "We will simply guess a value for $C_D$ and solve for velocity, then check the Reynolds number and change the coefficient accordingly."
   ]
  },
  {
   "cell_type": "code",
   "execution_count": 133,
   "metadata": {},
   "outputs": [
    {
     "name": "stdout",
     "output_type": "stream",
     "text": [
      "Computed Drag Force =  139.14805320726128 Target Force =  139.44664031620553\n",
      "Computed Reynolds Number =  1322682.2530656245\n"
     ]
    }
   ],
   "source": [
    "def drag(cd,area,rho,vel):\n",
    "    drag = cd*area*rho*vel*vel*0.5\n",
    "    return(drag)\n",
    "\n",
    "def reynolds(velocity,diameter,viscosity,rho):\n",
    "    reynolds = rho*velocity*diameter/viscosity\n",
    "    return(reynolds)\n",
    "######## problem data ###########\n",
    "weightus = 48 # lbs, given\n",
    "weightsi = weightus/2.2 # kilos\n",
    "gravity  = 9.8 # ft/sec*sec\n",
    "mass = weightsi\n",
    "height = (34.5/12)/3.28 # meters\n",
    "diameter = (22.5/12)/3.28 # meters\n",
    "rho = 1.2 #kg/cu.m.\n",
    "air_viscosity = 1.81e-05 #m^2/s\n",
    "######### trial-error-correction ############\n",
    "target = mass*gravity*(diameter/height)\n",
    "area = diameter*height\n",
    "cd = 0.38\n",
    "vel = 34.9\n",
    "print(\"Computed Drag Force = \",drag(cd,area,rho,vel),\"Target Force = \",target)\n",
    "print(\"Computed Reynolds Number = \",reynolds(vel,diameter,air_viscosity,rho))"
   ]
  },
  {
   "cell_type": "markdown",
   "metadata": {},
   "source": [
    "Our value above after a few manual iterations and updates is $Re_D = 1.3 \\times 10^6$ which produces a drag coefficient of $C_D = 0.38$ \n",
    "\n",
    "If we had a functional form for $C_D$ we could simply incorporate it directly into the calculations above and use a quasi-Newton's method to search for the velocity."
   ]
  },
  {
   "cell_type": "code",
   "execution_count": 136,
   "metadata": {},
   "outputs": [
    {
     "name": "stdout",
     "output_type": "stream",
     "text": [
      "Estimated Velocity to Tip Barrel  78.049  mph\n"
     ]
    }
   ],
   "source": [
    "velmph = vel*3.28*3600/5280 # report in miles/hour\n",
    "print(\"Estimated Velocity to Tip Barrel \",round(velmph,3),\" mph\")"
   ]
  },
  {
   "cell_type": "code",
   "execution_count": null,
   "metadata": {},
   "outputs": [],
   "source": []
  }
 ],
 "metadata": {
  "kernelspec": {
   "display_name": "Python 3",
   "language": "python",
   "name": "python3"
  },
  "language_info": {
   "codemirror_mode": {
    "name": "ipython",
    "version": 3
   },
   "file_extension": ".py",
   "mimetype": "text/x-python",
   "name": "python",
   "nbconvert_exporter": "python",
   "pygments_lexer": "ipython3",
   "version": "3.8.10"
  }
 },
 "nbformat": 4,
 "nbformat_minor": 4
}
