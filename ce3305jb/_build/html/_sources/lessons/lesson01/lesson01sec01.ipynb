{
 "cells": [
  {
   "cell_type": "markdown",
   "metadata": {},
   "source": [
    "# **Section1**\n",
    "\n",
    "## Lesson Outline\n",
    "1. Problem Solving and Documentation\n",
    "2. Computational Hydraulics\n",
    "2. What is Fluid Mechanics?\n",
    "3. Dimensions and Units\n",
    "4. Intensive and Extensive Properties"
   ]
  },
  {
   "cell_type": "markdown",
   "metadata": {},
   "source": [
    "## Intensive and Extensive Properties\n",
    "\n",
    "Extensive properties apply to a system and are associated with a fixed quantity of mass.\n",
    "\n",
    "Intensive properties apply to components of a system, and are defined with restect to a boundary in space. \n",
    "\n",
    "Imagine a gallon of water; its weight is an extensive property assocated with that gallon.  The specific weight, $\\gamma$, is the weight per volume is an intensive property. The properties in the textboox (pp 14-19) are for the most part intensive properties (mostly defined per unit volume)\n",
    "\n",
    "```{figure} gallon-properties.png\n",
    "---\n",
    "width: 400px\n",
    "name: gallon-properties\n",
    "---\n",
    "One gallon, and a 30cc sample removed\n",
    "```\n",
    "{numref}`gallon-properties` is a schematic of a simple example to relate extensive and intensive properties.  \n",
    "We first weigh the entire gallon, 8.32 lbs. Then we weigh the 30cc subsample, 0.065 lbs.\n",
    "\n",
    "The extensive property of weight for the gallon is 8.32 lbs; the extensive property of weight for the 30cc is 0.065 lbs.\n",
    "\n",
    "If we now compute specific weights of each entity and adjust to a common basis volume:\n",
    "\n",
    "```{admonition} Tip\n",
    ":class: tip\n",
    "here is a tip\n",
    "```\n",
    "\n",
    "```{warning}\n",
    "here is a warning\n",
    "```\n"
   ]
  }
 ],
 "metadata": {
  "kernelspec": {
   "display_name": "Python 3",
   "language": "python",
   "name": "python3"
  },
  "language_info": {
   "codemirror_mode": {
    "name": "ipython",
    "version": 3
   },
   "file_extension": ".py",
   "mimetype": "text/x-python",
   "name": "python",
   "nbconvert_exporter": "python",
   "pygments_lexer": "ipython3",
   "version": "3.8.10"
  }
 },
 "nbformat": 4,
 "nbformat_minor": 4
}
