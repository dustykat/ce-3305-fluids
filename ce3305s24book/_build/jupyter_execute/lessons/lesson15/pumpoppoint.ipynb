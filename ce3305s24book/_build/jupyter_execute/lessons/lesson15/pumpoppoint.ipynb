{
 "cells": [
  {
   "cell_type": "markdown",
   "metadata": {},
   "source": [
    "# Example: Pump Operating Point\n",
    "\n",
    "A pump with the characteristic curve shown in the accompanying graph is to be installed as shown.  \n",
    "\n",
    "```{figure} example27-1.png\n",
    "---\n",
    "width: 600px\n",
    "name: example27-1\n",
    "---\n",
    "Caption\n",
    "```\n",
    "\n",
    "Determine the anticipated discharge in the system?\n",
    "\n",
    "## Step 1\n",
    "State the problem, done above! But seriously we need to create a system curve $h_p(Q)$ and superimpose it onto the pump characteristic curve shown to find the operating point.\n",
    "\n",
    "## Step 2\n",
    "The sketch is pretty much done for us; so not much to add here.\n",
    "\n",
    "## Step 3\n",
    "Knowns: \n",
    "- Pool elevations\n",
    "- Working fluid (water)\n",
    "- Pipe lengths and diameters, and friction factors (unusual to know these, but we could determine from material properties if needed)\n",
    "- Pump \"location\" \n",
    "- Fitting types\n",
    "\n",
    "Unknowns:\n",
    "- $h_p(Q)$\n",
    "- $Q$\n",
    "\n",
    "## Step 4\n",
    "Governing equations:\n",
    "- Modified bernoulli: $\\frac{p_1}{\\gamma}+z_1+\\frac{V_1^2}{2g}+h_p(Q) = \\frac{p_2}{\\gamma}+z_2+\\frac{V_2^2}{2g}+\\frac{fL}{D}\\frac{V^2}{2g}+K_{entrance}\\frac{V^2}{2g}+K_{bend}\\frac{V^2}{2g}+K_{exit}\\frac{V^2}{2g}$\n",
    "- Darcy-Weisass pipeline loss model:  $h_{pipe loss} = \\frac{fL}{D}\\frac{V^2}{2g}$\n",
    "- Continunity: $Q=VA$\n",
    "\n",
    "## Step 5\n",
    "Analysis\n",
    "\n",
    "Using modified bernoulli, observe constant diameter pipes and start and end at each reservoir pool surface so that\n",
    "\n",
    "$$V_1=V_2$$  \n",
    "\n",
    "and\n",
    "\n",
    "$$p_1 = p_2$$\n",
    "\n",
    "Rearrange what remains into\n",
    "\n",
    "$$h_p(V) = (z_2 - z_1) + \\frac{V^2}{2g}[\\frac{fL}{D}+K_{entrance}+K_{bend}+K_{exit}]$$\n",
    "\n",
    "We will also need to employ continunity to relate $Q$ and $V$ as\n",
    "\n",
    "$$V = \\frac{Q}{(\\pi D^2)/4)}$$\n"
   ]
  },
  {
   "cell_type": "code",
   "execution_count": 1,
   "metadata": {},
   "outputs": [],
   "source": [
    "def velocity(flow,diameter):\n",
    "    import math\n",
    "    velocity = (flow)/(0.25*math.pi*diameter**2)\n",
    "    return(velocity)\n",
    "\n",
    "def system_curve(z1,z2,flow,plength,pdiameter,pfriction_factor,k1,k2,k3,gravity):\n",
    "    lift = (z2-z1)\n",
    "    velocity_head = (velocity(flow,pdiameter)**2)/(2 * gravity)\n",
    "    pipe_loss = (pfriction_factor*plength/pdiameter)*velocity_head\n",
    "    fitting_loss = (k1+k2+k3)*velocity_head\n",
    "    system_curve = lift+pipe_loss+fitting_loss\n",
    "    return(system_curve)\n",
    "\n",
    "def gpm2cfs(flowgpm):\n",
    "    gpm2cfs = flowgpm/(7.48*60) # 1 cfs = 7.48gal/cf * 60 sec/min\n",
    "    return(gpm2cfs)"
   ]
  },
  {
   "cell_type": "markdown",
   "metadata": {},
   "source": [
    "Now use these scripts to make a table of system curve values"
   ]
  },
  {
   "cell_type": "code",
   "execution_count": 2,
   "metadata": {},
   "outputs": [
    {
     "name": "stdout",
     "output_type": "stream",
     "text": [
      "--- System Curve Table --- \n",
      " Flow (gpm)  Added Head (ft)\n",
      "  0          10.0\n",
      "  250          10.4\n",
      "  500          11.6\n",
      "  750          13.7\n",
      "  1000          16.6\n",
      "  1250          20.3\n",
      "  1500          24.8\n",
      "  1750          30.1\n",
      "  2000          36.3\n",
      "  2250          43.3\n",
      "  2500          51.1\n",
      "  2750          59.7\n",
      "  3000          69.2\n",
      "  3250          79.5\n",
      "  3500          90.6\n"
     ]
    }
   ],
   "source": [
    "flowgpm = [i for i in range(0,3750,250)] # list of flowrates\n",
    "flowcfs = [0 for i in range (len(flowgpm))] # empty list for conversion\n",
    "# convert to cfs\n",
    "for i in range(len(flowgpm)):\n",
    "    flowcfs[i]=gpm2cfs(flowgpm[i])\n",
    "addedheads = []\n",
    "for i in range(len(flowgpm)):\n",
    "    addedheads.append(system_curve(10,20,flowcfs[i],1000,10./12.,0.020,0.03,0.35,1.0,32.2))\n",
    "print(\"--- System Curve Table --- \\n Flow (gpm)  Added Head (ft)\")\n",
    "for i in range(len(flowgpm)):\n",
    "    print(\" \",round(flowgpm[i],1),\"        \",round(addedheads[i],1))"
   ]
  },
  {
   "cell_type": "markdown",
   "metadata": {},
   "source": [
    "Now use this table to find operating point from the pump performance curve (draw system curve on the pump curve). "
   ]
  },
  {
   "cell_type": "code",
   "execution_count": 3,
   "metadata": {},
   "outputs": [],
   "source": [
    "pumpflow = [0,500,1000,1500,2000,2500,3000,3500,4000,4500,4900]\n",
    "pumphead = [76,75,74,73,72,70,67,59,50,22,0]"
   ]
  },
  {
   "cell_type": "code",
   "execution_count": 4,
   "metadata": {},
   "outputs": [
    {
     "data": {
      "image/png": "[encoded data removed]",
      "text/plain": [
       "<Figure size 720x576 with 1 Axes>"
      ]
     },
     "metadata": {
      "filenames": {
       "image/png": "/home/sensei/ce-3305-webroot/ce3305s24book/_build/jupyter_execute/lessons/lesson15/pumpoppoint_6_0.png"
      },
      "needs_background": "light"
     },
     "output_type": "display_data"
    }
   ],
   "source": [
    "import matplotlib.pyplot as plt\n",
    "plt.figure(figsize=(10, 8))\n",
    "plt.plot(pumpflow,pumphead,c=\"red\")\n",
    "plt.plot(flowgpm,addedheads, c=\"blue\")\n",
    "plt.legend([\"Pump Curve\",\"System Curve\"])\n",
    "plt.title(\"Operating Conditions for Example System\")\n",
    "plt.xlabel('Discharge (gpm)') \n",
    "plt.ylabel('Head (ft)') \n",
    "plt.grid(which='both')\n",
    "plt.show()"
   ]
  },
  {
   "cell_type": "markdown",
   "metadata": {},
   "source": [
    "## Step 6\n",
    "\n",
    "We are done, and would report that the operating point is $Q \\approx~3000 \\text{gpm } @ 70~\\text{feet of head}$"
   ]
  },
  {
   "cell_type": "markdown",
   "metadata": {},
   "source": [
    "\n",
    "## Readings\n",
    "\n",
    "1. CE-3305-2022-1 Syllabus. [http://54.243.252.9/ce-3305-webroot/0-Syllabus/ce-3305-2022-1-syllabus.html](http://54.243.252.9/ce-3305-webroot/0-Syllabus/ce-3305-2022-1-syllabus.html)\n",
    "\n",
    "2. Hibbeler, R.C, Fluid Mechanics, 2ed. Prentice Hall, 2018. ISBN: 9780134655413 pp. 569-596\n",
    "\n",
    "3. DF Elger, BC Williams, Crowe, CT and JA Roberson, *Engineering Fluid Mechanics 10th edition*, John Wiley & Sons, Inc., 2013. [http://54.243.252.9/ce-3305-webroot/3-Readings/EFM-20.pdf](http://54.243.252.9/ce-3305-webroot/3-Readings/EFM-20.pdf)\n",
    "\n",
    "4. Cleveland, T. G. (2014) *Fluid Mechanics Notes to Accompany CE 3305 at Jade-Holshule (TTU Study Abroad 2015-2019)*, Department of Civil, Environmental, and Construction Engineering, Whitacre College of Engineering. [missing_link](http://54.243.252.9/ce-3305-webroot/3-Readings/ce3305-lecture13.pdf)\n",
    "\n",
    " "
   ]
  }
 ],
 "metadata": {
  "kernelspec": {
   "display_name": "Python 3",
   "language": "python",
   "name": "python3"
  },
  "language_info": {
   "codemirror_mode": {
    "name": "ipython",
    "version": 3
   },
   "file_extension": ".py",
   "mimetype": "text/x-python",
   "name": "python",
   "nbconvert_exporter": "python",
   "pygments_lexer": "ipython3",
   "version": "3.8.10"
  }
 },
 "nbformat": 4,
 "nbformat_minor": 4
}