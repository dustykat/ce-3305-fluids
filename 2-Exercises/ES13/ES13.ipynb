{
 "cells": [
  {
   "cell_type": "markdown",
   "metadata": {},
   "source": [
    "**Download** (right-click, save target as ...) this page as a Jupyterlab notebook from: [ES-13](http://54.243.252.9/ce-3305-webroot/2-Exercises/ES13/ES13.ipynb)\n",
    "\n",
    "___"
   ]
  },
  {
   "cell_type": "markdown",
   "metadata": {},
   "source": [
    "# <font color=darkblue>CE 3305 Engineering Fluid Mechanics <br> Summer 2022 Exercise Set 13</font>\n",
    "\n",
    "**LAST NAME, FIRST NAME**\n",
    "\n",
    "**R00000000**\n",
    "\n",
    "___\n",
    "\n",
    "### Purpose : \n",
    "Application of Modified Bernoulli Equation in pipeline systems.\n",
    "### Assessment Criteria : \n",
    "Completion, plausible solutions, use JupyterLab as a calculator.\n",
    "___"
   ]
  },
  {
   "cell_type": "markdown",
   "metadata": {},
   "source": [
    "### Problem 1.\n",
    "\n",
    "Figure 1 is a schematic of a hydropower system. The elevation\n",
    "difference between the reservoir water surface and the pond water surface downstream\n",
    "of the reservoir (called the tailwater), H, is 24 m. The velocity of the water exiting into the pond is 7 m/s, and the discharge through the system is 4 $m^3/s$. \n",
    "\n",
    "<figure align=\"center\">\n",
    "<!--<img src=\"./Hydropower.png\" width=\"300\" >-->\n",
    "<img src=\"http://54.243.252.9/ce-3305-webroot/2-Exercises/ES13/Hydropower.png\" width=\"300\" >\n",
    "<figcaption>Figure 1: Schematic of hydropower system </figcaption>\n",
    "</figure>\n",
    "\n",
    "Neglecting frictional losses in the penstock (the pipe from the reservoir to the turbine). Estimate the power produced by the turbine in kilowatts."
   ]
  },
  {
   "cell_type": "code",
   "execution_count": null,
   "metadata": {},
   "outputs": [],
   "source": [
    "# sketch here"
   ]
  },
  {
   "cell_type": "code",
   "execution_count": null,
   "metadata": {},
   "outputs": [],
   "source": [
    "# list known quantities"
   ]
  },
  {
   "cell_type": "code",
   "execution_count": null,
   "metadata": {},
   "outputs": [],
   "source": [
    "# list unknown quantities"
   ]
  },
  {
   "cell_type": "code",
   "execution_count": null,
   "metadata": {},
   "outputs": [],
   "source": [
    "# governing principles"
   ]
  },
  {
   "cell_type": "code",
   "execution_count": null,
   "metadata": {},
   "outputs": [],
   "source": [
    "# solution (step-by-step)"
   ]
  },
  {
   "cell_type": "code",
   "execution_count": null,
   "metadata": {},
   "outputs": [],
   "source": [
    "# discussion"
   ]
  },
  {
   "cell_type": "markdown",
   "metadata": {},
   "source": [
    "---"
   ]
  },
  {
   "cell_type": "markdown",
   "metadata": {},
   "source": [
    "### Problem 2.\n",
    "\n",
    "Figure 2 is a schematic of a pumped-storage system. How much power must be supplied to the water by the pump (in kilowatts) to pump water at $0.085~m^3/s$ at 20$^o$C from the lower to the upper reservoir?\n",
    "\n",
    "![](PumpUphill.png)\n",
    "\n",
    "The head loss in the pipes is $h_l = 0.018 \\frac{L}{D} \\frac{V^2}{2g}$ , where $L$ is the length of the pipe in meters, and $D$ is the diameter of the pipe in meters.\n",
    "\n",
    "Sketch the HGL and EGL for the system.\n"
   ]
  },
  {
   "cell_type": "code",
   "execution_count": null,
   "metadata": {},
   "outputs": [],
   "source": []
  }
 ],
 "metadata": {
  "kernelspec": {
   "display_name": "Python 3",
   "language": "python",
   "name": "python3"
  },
  "language_info": {
   "codemirror_mode": {
    "name": "ipython",
    "version": 3
   },
   "file_extension": ".py",
   "mimetype": "text/x-python",
   "name": "python",
   "nbconvert_exporter": "python",
   "pygments_lexer": "ipython3",
   "version": "3.8.10"
  }
 },
 "nbformat": 4,
 "nbformat_minor": 4
}
