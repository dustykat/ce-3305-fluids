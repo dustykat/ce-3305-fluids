{
 "cells": [
  {
   "cell_type": "markdown",
   "metadata": {},
   "source": [
    "# Introduction\n",
    "\n",
    "## Lesson Outline\n",
    "1. Problem Solving and Documentation\n",
    "  - Problem Solving Protocol\n",
    "  - Jupyter Notebooks (preferred way to record your work)\n",
    "  - Illustrative Example\n",
    "2. What is Fluid Mechanics?\n",
    "  - Definition of a Fluid\n",
    "  - Fundamental Properties"
   ]
  },
  {
   "cell_type": "markdown",
   "metadata": {},
   "source": [
    "### Problem Solving and Documentation\n",
    "\n",
    "The exercises are instruments to practice problem solving.  \n",
    "\n",
    "- Format \n",
    "- Process\n",
    "\n",
    "The purpose of such practice is to:\n",
    "\n",
    "- Develop a systematic method to solve closed (solvable) engineering problems.\n",
    "- Develop *muscle memory* to apply the process\n",
    "- Become accustomed to documenting effort\n",
    "\n",
    "#### Suggested Protocol\n",
    "\n",
    "1. State the problem\n",
    "2. Sketch the situation (sketching no matter how ugly helps organize thoughts!). Identify (list) known quantities \n",
    "3. Identify (list) unknown quantities \n",
    "4. Identify (list) governing principles and equations that appear relevant to the problem\n",
    "5. Starting from one or more governing principles and the known quantities solve for the unknowns.\n",
    "6. Validate/discuss results\n",
    "\n",
    "#### Suggested Format (By-Hand)\n",
    "\n",
    "The format will differ if you prepare a Notebook, or work the problem by-hand. Here is an example worked out on paper which will be repeated in a Notebook.\n",
    "\n",
    "```{figure} example-1.png\n",
    "---\n",
    "height: 150px\n",
    "name: directive-fig\n",
    "---\n",
    "Here is my figure caption!\n",
    "```\n"
   ]
  },
  {
   "cell_type": "markdown",
   "metadata": {},
   "source": [
    "## Definition(s)\n",
    "\n",
    "<hr>"
   ]
  },
  {
   "cell_type": "markdown",
   "metadata": {},
   "source": [
    "## Readings\n",
    "\n",
    "CE-3305-2022-1 Syllabus. [http://54.243.252.9/ce-3305-webroot/0-Syllabus/CE-3305-2022-1-syllabus.html](http://54.243.252.9/ce-3372-webroot/0-Syllabus/CE-3305-2022-1-syllabus.html)\n",
    "\n",
    "Engineering Fluid Mechanics (placeholder file to get links working). [http://54.243.252.9/ce-3305-webroot/3-Readings/EFM-1.pdf](http://54.243.252.9/ce-3372-webroot/3-Readings/EFM-1.pdf)\n"
   ]
  },
  {
   "cell_type": "code",
   "execution_count": null,
   "metadata": {},
   "outputs": [],
   "source": []
  }
 ],
 "metadata": {
  "kernelspec": {
   "display_name": "Python 3",
   "language": "python",
   "name": "python3"
  },
  "language_info": {
   "codemirror_mode": {
    "name": "ipython",
    "version": 3
   },
   "file_extension": ".py",
   "mimetype": "text/x-python",
   "name": "python",
   "nbconvert_exporter": "python",
   "pygments_lexer": "ipython3",
   "version": "3.8.10"
  }
 },
 "nbformat": 4,
 "nbformat_minor": 4
}