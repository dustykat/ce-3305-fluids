{
 "cells": [
  {
   "cell_type": "markdown",
   "metadata": {},
   "source": [
    "# Drag and Lift\n",
    "\n",
    ":::{admonition} Course Website\n",
    "[http://54.243.252.9/ce-3305-webroot/](http://54.243.252.9/ce-3305-webroot/)\n",
    ":::"
   ]
  },
  {
   "cell_type": "markdown",
   "metadata": {},
   "source": [
    "## Readings\n",
    "\n",
    "1. [DF Elger, BC Williams, Crowe, CT and JA Roberson, *Engineering Fluid Mechanics 10th edition*, John Wiley & Sons, Inc., 2013.  ](http://54.243.252.9/ce-3305-webroot/3-Readings/EFM-22.pdf)\n",
    "1. [Cleveland, T. G. (2015) *Fluid Mechanics Notes to Accompany CE 3305 at Jade-Holshule (TTU Study Abroad 2015-2019): Drag and Lift *, Department of Civil, Environmental, and Construction Engineering, Whitacre College of Engineering.](http://54.243.252.9/ce-3305-webroot/3-Readings/ce3305-lecture018.pdf)\n",
    "\n"
   ]
  },
  {
   "cell_type": "markdown",
   "metadata": {},
   "source": [
    "## Videos"
   ]
  },
  {
   "cell_type": "markdown",
   "metadata": {},
   "source": [
    "## Lesson Outline"
   ]
  },
  {
   "cell_type": "code",
   "execution_count": null,
   "metadata": {},
   "outputs": [],
   "source": []
  },
  {
   "cell_type": "code",
   "execution_count": null,
   "metadata": {},
   "outputs": [],
   "source": []
  },
  {
   "cell_type": "markdown",
   "metadata": {},
   "source": [
    "## Stoke-em Law"
   ]
  },
  {
   "cell_type": "code",
   "execution_count": 1,
   "metadata": {},
   "outputs": [
    {
     "name": "stdout",
     "output_type": "stream",
     "text": [
      "0.4358952923379111\n",
      "0.052307435080549324\n"
     ]
    }
   ],
   "source": [
    "import math\n",
    "rhos = 6000 #kg/m^3\n",
    "rhoo = 850 # kg/m^3\n",
    "gee = 9.8\n",
    "dsp = 0.012\n",
    "Cd = 5.0\n",
    "muo = 0.1\n",
    "velocity = math.sqrt(  ((rhos*gee-rhoo*gee)*(4/3)*dsp)/(Cd*rhoo))\n",
    "print(velocity)\n",
    "re=velocity*dsp/muo\n",
    "print(re)"
   ]
  },
  {
   "cell_type": "code",
   "execution_count": null,
   "metadata": {},
   "outputs": [],
   "source": []
  }
 ],
 "metadata": {
  "kernelspec": {
   "display_name": "Python 3",
   "language": "python",
   "name": "python3"
  },
  "language_info": {
   "codemirror_mode": {
    "name": "ipython",
    "version": 3
   },
   "file_extension": ".py",
   "mimetype": "text/x-python",
   "name": "python",
   "nbconvert_exporter": "python",
   "pygments_lexer": "ipython3",
   "version": "3.8.10"
  }
 },
 "nbformat": 4,
 "nbformat_minor": 4
}