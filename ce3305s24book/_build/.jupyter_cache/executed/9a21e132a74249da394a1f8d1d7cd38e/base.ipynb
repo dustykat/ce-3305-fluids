{
 "cells": [
  {
   "cell_type": "code",
   "execution_count": 1,
   "metadata": {},
   "outputs": [],
   "source": [
    "# This is a code cell\n",
    "vol_tank = 17 # tank volume in cubic feet\n",
    "p_gas = 500 # gas pressure in psi\n",
    "temp = 20 # gas temperature in celsius\n",
    "wt_tank = 50 # tank weight in pounds"
   ]
  },
  {
   "cell_type": "code",
   "execution_count": 2,
   "metadata": {},
   "outputs": [
    {
     "name": "stdout",
     "output_type": "stream",
     "text": [
      "Total weight =  92.0  pounds\n"
     ]
    }
   ],
   "source": [
    "mwN2=28.014 # MW nitrogen\n",
    "R = 0.0821 # universal gas constant\n",
    "grabity = 9.8 # acceleration of gravity\n",
    "vol_tank_l=vol_tank*((1/3.28)**3)*1000 # tank volume in liters\n",
    "temp_k=temp+273 # temp in kelvin\n",
    "p_atm=p_gas*(1/14.7) # gas pressure in atmospheres\n",
    "mass_gas = (p_atm*vol_tank_l*mwN2)/(R*temp_k) # gas mass in grams\n",
    "wt_gas = mass_gas*grabity/1000 # weight of gas in newtons\n",
    "wt_total = wt_tank + wt_gas*(2.2)/grabity # total weight in pounds\n",
    "print('Total weight = ', round(wt_total,1),' pounds')"
   ]
  },
  {
   "cell_type": "code",
   "execution_count": null,
   "metadata": {},
   "outputs": [],
   "source": []
  }
 ],
 "metadata": {
  "kernelspec": {
   "display_name": "Python 3",
   "language": "python",
   "name": "python3"
  },
  "language_info": {
   "codemirror_mode": {
    "name": "ipython",
    "version": 3
   },
   "file_extension": ".py",
   "mimetype": "text/x-python",
   "name": "python",
   "nbconvert_exporter": "python",
   "pygments_lexer": "ipython3",
   "version": "3.8.10"
  }
 },
 "nbformat": 4,
 "nbformat_minor": 4
}