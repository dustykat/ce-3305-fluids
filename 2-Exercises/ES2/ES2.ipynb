{
 "cells": [
  {
   "cell_type": "markdown",
   "metadata": {},
   "source": [
    "**Download** (right-click, save target as ...) this page as a Jupyterlab notebook from: [ES-2](http://54.243.252.9/ce-3305-webroot/2-Exercises/ES2/ES2.ipynb)\n",
    "\n",
    "___"
   ]
  },
  {
   "cell_type": "markdown",
   "metadata": {},
   "source": [
    "# <font color=darkblue>CE 3305 Engineering Fluid Mechanics <br> Summer 2022 Exercise Set 2</font>\n",
    "\n",
    "**LAST NAME, FIRST NAME**\n",
    "\n",
    "**R00000000**\n",
    "\n",
    "___\n",
    "\n",
    "### Purpose : \n",
    "Use compressibility to relate pressure change to volume change. Apply definition\n",
    "of viscosity in Newtonian fluid.\n",
    "### Assessment Criteria : \n",
    "Completion, plausible solutions, use Jupyter Notebook as a calculator\n",
    "\n",
    "___"
   ]
  },
  {
   "cell_type": "markdown",
   "metadata": {},
   "source": [
    "### Problem 1.\n",
    "Calculate the pressure increase (∆p) required to reduce the volume of a mass of water by 2-percent (2 %)"
   ]
  },
  {
   "cell_type": "code",
   "execution_count": null,
   "metadata": {},
   "outputs": [],
   "source": [
    "# sketch here"
   ]
  },
  {
   "cell_type": "code",
   "execution_count": null,
   "metadata": {},
   "outputs": [],
   "source": [
    "# list known quantities"
   ]
  },
  {
   "cell_type": "code",
   "execution_count": null,
   "metadata": {},
   "outputs": [],
   "source": [
    "# list unknown quantities"
   ]
  },
  {
   "cell_type": "code",
   "execution_count": null,
   "metadata": {},
   "outputs": [],
   "source": [
    "# governing principles"
   ]
  },
  {
   "cell_type": "code",
   "execution_count": null,
   "metadata": {},
   "outputs": [],
   "source": [
    "# solution (step-by-step)"
   ]
  },
  {
   "cell_type": "code",
   "execution_count": null,
   "metadata": {},
   "outputs": [],
   "source": [
    "# discussion"
   ]
  },
  {
   "cell_type": "markdown",
   "metadata": {},
   "source": [
    "---"
   ]
  },
  {
   "cell_type": "markdown",
   "metadata": {},
   "source": [
    "### Problem 2.\n",
    "Figure 1 is a schematic of a sliding plate viscometer used to\n",
    "measure the viscosity of a fluid. The top plate is moving to the right with a constant\n",
    "velocity of 10 meters per second in response to a force of 3 Newtons. What is the\n",
    "viscosity of the fluid?\n",
    "\n",
    "<figure align=\"center\">\n",
    "<!-- <img src=\"./SlidingPlateViscosity.png\" width=\"400\" > -->\n",
    "<img src=\"http://54.243.252.9/ce-3305-webroot/2-Exercises/ES2/SlidingPlateViscosity.png\" width=\"400\" > \n",
    "<figcaption>Figure 1. Sliding Plate Viscosimeter.</figcaption>\n",
    "</figure>\n"
   ]
  },
  {
   "cell_type": "code",
   "execution_count": null,
   "metadata": {},
   "outputs": [],
   "source": [
    "# sketch here"
   ]
  },
  {
   "cell_type": "code",
   "execution_count": null,
   "metadata": {},
   "outputs": [],
   "source": [
    "# list known quantities"
   ]
  },
  {
   "cell_type": "code",
   "execution_count": null,
   "metadata": {},
   "outputs": [],
   "source": [
    "# list unknown quantities"
   ]
  },
  {
   "cell_type": "code",
   "execution_count": null,
   "metadata": {},
   "outputs": [],
   "source": [
    "# governing principles"
   ]
  },
  {
   "cell_type": "code",
   "execution_count": null,
   "metadata": {},
   "outputs": [],
   "source": [
    "# solution (step-by-step)"
   ]
  },
  {
   "cell_type": "code",
   "execution_count": null,
   "metadata": {},
   "outputs": [],
   "source": [
    "# discussion"
   ]
  },
  {
   "cell_type": "markdown",
   "metadata": {},
   "source": [
    "---"
   ]
  },
  {
   "cell_type": "markdown",
   "metadata": {},
   "source": [
    "### Problem 3. (Application of ENGR-1330 Computational Thinking)\n",
    "\n",
    "Develop a Jupyter Notebook to calculate dynamic and kinematic viscosities of air using Sutherland's equation below.\n",
    "\n",
    "$$ \\frac{\\mu}{\\mu_0} = {(\\frac{T}{T_0})}^{3/2} (\\frac{T_0 + S}{T + S}) $$\n",
    "\n",
    "where $\\mu_0$ is the viscosity at temperature $T_0$ and $S$ is Sutherland's constant.  The Sutherland's constant for air is $S=111~K$\n",
    "Use your tool to estimate viscosities at $0^o~C$ to $120^o~C$ in $20^o~C$ increments. The reference values are:\n",
    "$T_0 = 15^o~C$, $\\mu_0 = 1.46 \\times 10^{-5}$"
   ]
  },
  {
   "cell_type": "code",
   "execution_count": null,
   "metadata": {},
   "outputs": [],
   "source": [
    "# list input quantities/specifications"
   ]
  },
  {
   "cell_type": "code",
   "execution_count": null,
   "metadata": {},
   "outputs": [],
   "source": [
    "# list output quantities/specifications"
   ]
  },
  {
   "cell_type": "code",
   "execution_count": null,
   "metadata": {},
   "outputs": [],
   "source": [
    "# governing principles/equations"
   ]
  },
  {
   "cell_type": "code",
   "execution_count": null,
   "metadata": {},
   "outputs": [],
   "source": [
    "# solution (step-by-step) algorithm (aka code)"
   ]
  },
  {
   "cell_type": "code",
   "execution_count": null,
   "metadata": {},
   "outputs": [],
   "source": [
    "# application"
   ]
  },
  {
   "cell_type": "code",
   "execution_count": null,
   "metadata": {},
   "outputs": [],
   "source": [
    "# discussion of results"
   ]
  },
  {
   "cell_type": "markdown",
   "metadata": {},
   "source": [
    "---\n",
    "\n",
    "<a href=\"https://youtu.be/P0izSGMUvBk\"> <img src=\"http://54.243.252.9/ce-3305-webroot/2-Exercises/ES2/easy-button.png\" alt=\"EZ Button Link to ES-2 sample solution\" style=\"width:42px;height:42px;align:left\"> </a> \n",
    "\n"
   ]
  },
  {
   "cell_type": "code",
   "execution_count": null,
   "metadata": {},
   "outputs": [],
   "source": []
  }
 ],
 "metadata": {
  "kernelspec": {
   "display_name": "Python 3",
   "language": "python",
   "name": "python3"
  },
  "language_info": {
   "codemirror_mode": {
    "name": "ipython",
    "version": 3
   },
   "file_extension": ".py",
   "mimetype": "text/x-python",
   "name": "python",
   "nbconvert_exporter": "python",
   "pygments_lexer": "ipython3",
   "version": "3.8.10"
  }
 },
 "nbformat": 4,
 "nbformat_minor": 4
}
