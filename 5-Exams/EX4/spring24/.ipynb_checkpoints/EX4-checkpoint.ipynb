{
 "cells": [
  {
   "cell_type": "markdown",
   "metadata": {},
   "source": [
    "**Download** (right-click, save target as ...) this page as a Jupyterlab notebook from: [EX-5](http://54.243.252.9/ce-3305-webroot/5-Exams/EX5/EX5.ipynb)\n",
    "\n",
    "___"
   ]
  },
  {
   "cell_type": "markdown",
   "metadata": {},
   "source": [
    "# <font color=darkblue>CE 3305 Engineering Fluid Mechanics <br> Spring 2024 Exam 4</font>\n",
    "\n",
    "**LAST NAME, FIRST NAME**\n",
    "\n",
    "**R00000000**\n",
    "\n",
    "___\n",
    "\n",
    "### Purpose : \n",
    "Demonstrate ability to apply fluid mechanics and problem solving principles covering topics such as: Bernoulli's equation, Conservation of Mass, Control Volume Analysis, Conservation of Linear Momentum.\n",
    "\n",
    "open channels\n",
    "boundary layers\n",
    "pipeline chd\n",
    "open channel chd\n"
   ]
  },
  {
   "cell_type": "markdown",
   "metadata": {},
   "source": [
    "<hr>\n",
    "\n",
    "#### Problem 1\n",
    "\n",
    "Water (T =10$^𝑜$C) flows 1.5 m deep in a long rectangular concrete channel that is 3 m wide and is on a slope of 0.001.\n",
    "\n",
    "Determine:\n",
    "\n",
    "1. The volumetric discharge of water in the channel"
   ]
  },
  {
   "cell_type": "markdown",
   "metadata": {},
   "source": [
    "**sketch(s) here**"
   ]
  },
  {
   "cell_type": "markdown",
   "metadata": {},
   "source": [
    "**list known quantities**"
   ]
  },
  {
   "cell_type": "markdown",
   "metadata": {},
   "source": [
    "**list unknown quantities**"
   ]
  },
  {
   "cell_type": "markdown",
   "metadata": {},
   "source": [
    "**governing principles**"
   ]
  },
  {
   "cell_type": "markdown",
   "metadata": {},
   "source": [
    "**solution (step-by-step)** "
   ]
  },
  {
   "cell_type": "code",
   "execution_count": 2,
   "metadata": {},
   "outputs": [],
   "source": [
    "# script (code) here"
   ]
  },
  {
   "cell_type": "markdown",
   "metadata": {},
   "source": [
    "**discussion**"
   ]
  },
  {
   "cell_type": "markdown",
   "metadata": {},
   "source": [
    "<hr>\n",
    "\n",
    "### Problem 2\n",
    "\n",
    "A rectangular channel 14 feet wide carries water at 500 cubic feet per second. The channel ends in a free overfall as depicted below.\n",
    "\n",
    "![](freeoverfall.png)\n",
    "\n",
    "Determine:\n",
    "1. Froude number at the outfall\n",
    "2. Flow depth at the outfall"
   ]
  },
  {
   "cell_type": "markdown",
   "metadata": {},
   "source": [
    "**sketch(s) here**"
   ]
  },
  {
   "cell_type": "markdown",
   "metadata": {},
   "source": [
    "**list known quantities**"
   ]
  },
  {
   "cell_type": "markdown",
   "metadata": {},
   "source": [
    "**list unknown quantities**"
   ]
  },
  {
   "cell_type": "markdown",
   "metadata": {},
   "source": [
    "**governing principles**"
   ]
  },
  {
   "cell_type": "markdown",
   "metadata": {},
   "source": [
    "**solution (step-by-step)** "
   ]
  },
  {
   "cell_type": "code",
   "execution_count": 2,
   "metadata": {},
   "outputs": [],
   "source": [
    "# script (code) here"
   ]
  },
  {
   "cell_type": "markdown",
   "metadata": {},
   "source": [
    "**discussion**"
   ]
  },
  {
   "cell_type": "code",
   "execution_count": 1,
   "metadata": {},
   "outputs": [],
   "source": [
    "# sketch(s) here"
   ]
  },
  {
   "cell_type": "code",
   "execution_count": 2,
   "metadata": {},
   "outputs": [],
   "source": [
    "# list known quantities"
   ]
  },
  {
   "cell_type": "code",
   "execution_count": 3,
   "metadata": {},
   "outputs": [],
   "source": [
    "# list unknown quantities"
   ]
  },
  {
   "cell_type": "code",
   "execution_count": 4,
   "metadata": {},
   "outputs": [],
   "source": [
    "# governing principles"
   ]
  },
  {
   "cell_type": "code",
   "execution_count": 5,
   "metadata": {},
   "outputs": [],
   "source": [
    "# solution (step-by-step) "
   ]
  },
  {
   "cell_type": "code",
   "execution_count": 7,
   "metadata": {},
   "outputs": [],
   "source": [
    "# discussion"
   ]
  },
  {
   "cell_type": "markdown",
   "metadata": {},
   "source": [
    "---\n",
    "\n",
    "### Problem 3:\n",
    "\n",
    "The figure below is a schematic of water flowing under a sluice gate in a horizontal channel 5 feet wide.\n",
    "\n",
    "![](sluicegate.png)\n",
    "\n",
    "The flow depths are $y_0 = 65~ft$ and $y_1=1~ft$.  \n",
    "\n",
    "Determine:\n",
    "1. Discharge through the sluice gate\n",
    "2. Power dissipated in the jump\n",
    "3. The alternate depth (depth of flow after the jump)"
   ]
  },
  {
   "cell_type": "markdown",
   "metadata": {},
   "source": [
    "**sketch(s) here**"
   ]
  },
  {
   "cell_type": "markdown",
   "metadata": {},
   "source": [
    "**list known quantities**"
   ]
  },
  {
   "cell_type": "markdown",
   "metadata": {},
   "source": [
    "**list unknown quantities**"
   ]
  },
  {
   "cell_type": "markdown",
   "metadata": {},
   "source": [
    "**governing principles**"
   ]
  },
  {
   "cell_type": "markdown",
   "metadata": {},
   "source": [
    "**solution (step-by-step)** "
   ]
  },
  {
   "cell_type": "code",
   "execution_count": 2,
   "metadata": {},
   "outputs": [],
   "source": [
    "# script (code) here"
   ]
  },
  {
   "cell_type": "markdown",
   "metadata": {},
   "source": [
    "**discussion**"
   ]
  },
  {
   "cell_type": "markdown",
   "metadata": {},
   "source": [
    "---\n",
    "\n",
    "### Problem 4\n",
    "\n",
    "The figure below is a schematic of wind blowing on a traffic barrier drum (A 55-gallon drum painted orange). The empty mass of the drum is 24 lbm, the diameter is 22.5 inches, and the height is 34.5 inches.\n",
    "\n",
    "![](trafficdrum.png)\n",
    "\n",
    "Determine:\n",
    "\n",
    "1. Will a drum 1/2 full of water tip over in a wind with gusts of 90 miles/hour? \n",
    "2. How full must water be in the drum to resist tipping over in the wind?\n"
   ]
  },
  {
   "cell_type": "code",
   "execution_count": 12,
   "metadata": {},
   "outputs": [],
   "source": [
    "# sketch(s) here"
   ]
  },
  {
   "cell_type": "code",
   "execution_count": 2,
   "metadata": {},
   "outputs": [],
   "source": [
    "# list known quantities"
   ]
  },
  {
   "cell_type": "code",
   "execution_count": 3,
   "metadata": {},
   "outputs": [],
   "source": [
    "# list unknown quantities"
   ]
  },
  {
   "cell_type": "code",
   "execution_count": 4,
   "metadata": {},
   "outputs": [],
   "source": [
    "# governing principles"
   ]
  },
  {
   "cell_type": "code",
   "execution_count": 5,
   "metadata": {},
   "outputs": [],
   "source": [
    "# solution (step-by-step) "
   ]
  },
  {
   "cell_type": "code",
   "execution_count": 7,
   "metadata": {},
   "outputs": [],
   "source": [
    "# discussion"
   ]
  },
  {
   "cell_type": "markdown",
   "metadata": {},
   "source": [
    "---\n",
    "### Problem 5\n",
    "\n",
    "The figure below depicts a gravity-flow pipe network with water supplied from a fixed-grade reservoir (pool elevation 100 meters) connected to node N2.  All pipes are ductile iron.\n",
    "\n",
    "![](pipe-network.png)\n",
    "\n",
    "The pipe dimensions and node demands are shown in the tables below.\n",
    "\n",
    "|Pipe ID|Length(m)|Diameter(mm)|\n",
    "|:---|---:|:---|\n",
    "|1|1,220|254|\n",
    "|2|1,829|254|\n",
    "|3|1,829|305|\n",
    "|4|1,982|610|\n",
    "|5|2,134|254|\n",
    "|6|915|457|\n",
    "|7|1,524|254|\n",
    "|8|91|305|\n",
    "\n",
    "|Node ID|Elevation(m)|Demand(liters/sec)|\n",
    "|:---|---:|---:|\n",
    "|N1|51.8|31.5|\n",
    "|N2|54.9|31.5|\n",
    "|N3|50.3|31.5|\n",
    "|N4|47.3|94.6|\n",
    "|N5|45.7|63.1|\n",
    "|N6|44.2|94.6|\n",
    "\n",
    "Determine:\n",
    "\n",
    "1. The flow rate (and direction of flow) for each pipe in the network, for the case where the total head at the supply reservoir is 100 meters.\n",
    "2. The resultant pressure in SI units at each node.\n",
    "3. The Darcy-Weisbach friction factor for each ductile iron pipe of the network.\n",
    "4. The head loss from Node 2 to Node 6.\n",
    "5. The node with the lowest pressure."
   ]
  },
  {
   "cell_type": "markdown",
   "metadata": {},
   "source": [
    "**sketch(s) here**"
   ]
  },
  {
   "cell_type": "markdown",
   "metadata": {},
   "source": [
    "**list known quantities**"
   ]
  },
  {
   "cell_type": "markdown",
   "metadata": {},
   "source": [
    "**list unknown quantities**"
   ]
  },
  {
   "cell_type": "markdown",
   "metadata": {},
   "source": [
    "**governing principles**"
   ]
  },
  {
   "cell_type": "markdown",
   "metadata": {},
   "source": [
    "**solution (step-by-step)** "
   ]
  },
  {
   "cell_type": "code",
   "execution_count": 2,
   "metadata": {},
   "outputs": [],
   "source": [
    "# script (code) here"
   ]
  },
  {
   "cell_type": "markdown",
   "metadata": {},
   "source": [
    "**discussion**"
   ]
  },
  {
   "cell_type": "markdown",
   "metadata": {},
   "source": [
    "---\n",
    "Water flows at a steady rate of 192 $\\frac{ft^3}{s}$ through a concrete-lined rectangular channel 16 ft wide as depicted in Figure 1. Water enters the 0.35% sloped channel ($S_0$ = 0.0035) at location 1 and is flowing at 110% normal depth ($1.1 \\times y_n$). The water exits over a 3-foot tall weir (assume sharp-crest weir) at location 2.1\n",
    "\n",
    "![](channel_profile.png)\n",
    "\n",
    "Find:\n",
    "1. Normal depth for the channel.\n",
    "2. Critical depth for the channel.\n",
    "3. Pool depth just upstream of the weir. (Hint: Add the critical depth to the weir height as an approximation to the pool depth)\n",
    "4. Plot the water surface profile for the channel from location 1 to location 2\n",
    "5. Estimate the distance upstream from the weir to location 1 \n",
    "### Problem 6\n",
    "\n",
    "A windmill is connected directly to a mechanical pump (inertia-type) to lift water from a well that is 10 feet deep as depicted on Figure 5.  The wind turbine is a conventional horizontal-axis type with a fan diameter of 10 feet.  The efficiency of the mechanical pump is 80%. The pump discharges to atmospheric pressure as shown through 20 feet of 2-inch galvanized pipe.\n",
    "\n",
    "<figure align=\"center\">\n",
    "<!-- <img src=\"./windmill.png\" width=\"300\" > -->\n",
    "<img src=\"http://54.243.252.9/ce-3305-webroot/5-Exams/EX5/windmill.png\" width=\"300\" >\n",
    "<figcaption>Figure 5. Windmill-driven well pump </figcaption>\n",
    "</figure>\n",
    "\n",
    "For an air density $\\rho_{air}=0.07~\\frac{lbm}{ft^3}$ and a wind speed of 30 miles per hour\n",
    "\n",
    "Determine:\n",
    "1. Well discharge in gallons per minute "
   ]
  },
  {
   "cell_type": "code",
   "execution_count": 12,
   "metadata": {},
   "outputs": [],
   "source": [
    "# sketch(s) here"
   ]
  },
  {
   "cell_type": "code",
   "execution_count": 2,
   "metadata": {},
   "outputs": [],
   "source": [
    "# list known quantities"
   ]
  },
  {
   "cell_type": "code",
   "execution_count": 3,
   "metadata": {},
   "outputs": [],
   "source": [
    "# list unknown quantities"
   ]
  },
  {
   "cell_type": "code",
   "execution_count": 4,
   "metadata": {},
   "outputs": [],
   "source": [
    "# governing principles"
   ]
  },
  {
   "cell_type": "code",
   "execution_count": 5,
   "metadata": {},
   "outputs": [],
   "source": [
    "# solution (step-by-step) "
   ]
  },
  {
   "cell_type": "code",
   "execution_count": 7,
   "metadata": {},
   "outputs": [],
   "source": [
    "# discussion"
   ]
  },
  {
   "cell_type": "markdown",
   "metadata": {},
   "source": []
  }
 ],
 "metadata": {
  "kernelspec": {
   "display_name": "Python 3",
   "language": "python",
   "name": "python3"
  },
  "language_info": {
   "codemirror_mode": {
    "name": "ipython",
    "version": 3
   },
   "file_extension": ".py",
   "mimetype": "text/x-python",
   "name": "python",
   "nbconvert_exporter": "python",
   "pygments_lexer": "ipython3",
   "version": "3.8.10"
  }
 },
 "nbformat": 4,
 "nbformat_minor": 4
}
