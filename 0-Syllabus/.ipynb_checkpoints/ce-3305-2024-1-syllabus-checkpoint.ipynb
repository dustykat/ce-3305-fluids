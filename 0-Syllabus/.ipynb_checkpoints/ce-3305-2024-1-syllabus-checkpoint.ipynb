{
 "cells": [
  {
   "cell_type": "markdown",
   "metadata": {},
   "source": [
    "# CE 3305 Mechanics of Fluids Spring 2024\n",
    "\n",
    "## Course Catalog Description: \n",
    "\n",
    "CE 3305: Mechanics of Fluids (3:3:0). Prerequisites: CE 2301. Hydrostatics; dynamics of viscous and nonviscous fluids; resistance to flow; flow in pipes and open channels.\n",
    "\n",
    "## Prerequisites: \n",
    "Engineering Mechanics - Statics (CE 2301) or equivalent<br>\n",
    "Computational Thinking with Data Science (ENGR 1330) or equivalent"
   ]
  },
  {
   "cell_type": "markdown",
   "metadata": {},
   "source": [
    "## Course Sections\n",
    "Lesson time, days, and location: \n",
    "\n",
    "<!--1. Section 001; CRN 29622; 0800-0920 T-Th ; Mechanical Engineering North 00132-->\n",
    "1. Section 002; CRN 39002; 1400-1520 T-TH ; CE 205\n",
    "\n",
    "## Course Instructor:\n",
    "\n",
    "Instructor: Theodore G. Cleveland, Ph.D., P.E., M. ASCE, F. EWRI\n",
    "\n",
    "Email: theodore.cleveland@ttu.edu  (put CE 3305-002 into the subject line for email related to this class)\n",
    "\n",
    "Office location: CECE 203F\n",
    "\n",
    "Office hours: TBD ; CE 203F\n",
    "\n",
    "## Teaching Assistant:\n",
    "\n",
    "Teaching Assistant: none authorized\n",
    "\n",
    "Email : \n",
    "\n",
    "Office location: \n",
    "\n",
    "Office hours: "
   ]
  },
  {
   "cell_type": "markdown",
   "metadata": {},
   "source": [
    "## Textbook: \n",
    "\n",
    "Hibbeler, R.C, Fluid Mechanics, 3ed. Prentice Hall, 2018. ISBN: 978-0-13-803936-3 (print version; rental and online have different ISBN)\n",
    "\n",
    "<!--\n",
    "Elger D.F., LeBret B.A., Crowe C.T., Roberson J.A. (2019) *Engineering Fluid Mechanics 12th Edition* John Wiley & Sons Inc. Hoboken, New Jersey. *ISBN-13: 978-1119723509* \n",
    "- [Amazon New EFM 12th Edition](https://www.amazon.com/Engineering-Fluid-Mechanics-Donald-Elger/dp/1119723507/ref=asc_df_1119723507/?tag=hyprod-20&linkCode=df0&hvadid=459640465657&hvpos=&hvnetw=g&hvrand=16030757883077041011&hvpone=&hvptwo=&hvqmt=&hvdev=c&hvdvcmdl=&hvlocint=&hvlocphy=1026578&hvtargid=pla-947323559251&psc=1&asin=1119723507&revisionId=&format=4&depth=1)<br>\n",
    "- [TTU Bookstore](https://www.depts.ttu.edu/bookstore/)\n",
    "\n",
    "<font color=\"red\">The Follett Discover (Blackboard) edition is the 11-th edition which is also available from [Amazon Used EFM 11th Edition](https://www.amazon.com/Engineering-Fluid-Mechanics-Binder-Version/dp/1118880684/ref=sr_1_1?crid=13AED7NSX4O5A&keywords=Engineering+Fluid+Mechanics+11th+Edition&qid=1648766100&s=books&sprefix=engineering+fluid+mechanics+11th+edition%2Cstripbooks%2C92&sr=1-1). </font>\n",
    "\n",
    "<font color=\"green\">**The instructor notes below are based on the 8-th edition, if you can find one of these used go ahead and buy it [Amazon Used EFM 8th Edition](https://www.amazon.com/Engineering-Fluid-Mechanics-Clayton-Crowe/dp/0470086394/ref=sr_1_3?crid=2ZI22V998TMSU&keywords=Engineering+Fluid+Mechanics+8th+Edition&qid=1648765818&s=books&sprefix=engineering+fluid+mechanics+8th+edition%2Cstripbooks%2C97&sr=1-3)** The current edition is fine; chapters are about the same, there is an added chapter on computational fluid dynamics.</font>\n",
    "\n",
    "**Any of the editions above will be sufficient**; exercise problems will be a bit different, but all the versions are fine for the class. -->"
   ]
  },
  {
   "cell_type": "markdown",
   "metadata": {},
   "source": [
    "## Instructor's Notes:\n",
    "\n",
    "Cleveland, T. G. (2023) *Fluid Mechanics Notes to Accompany CE 3305 at TTU*, Department of Civil, Environmental, and Construction Engineering, Whitacre College of Engineering, DOI (pending) \n",
    "[http://54.243.252.9/ce-3305-webroot/ce3305s24book/_build/html/intro.html](http://54.243.252.9/ce-3305-webroot/ce3305s24book/_build/html/intro.html)"
   ]
  },
  {
   "cell_type": "markdown",
   "metadata": {},
   "source": [
    "## Course Objectives: \n",
    "The purpose of this required course is to provide engineering students with the fundamentals of fluid mechanics. Students should be able to use this foundation for the more in-depth courses to follow. This course shall provide students with a set of tools and concepts that are directly applicable to pipe systems, open channels, pumping plants, and measurement of fluid flows as well as other related problems that may be encountered as practicing engineers."
   ]
  },
  {
   "cell_type": "markdown",
   "metadata": {},
   "source": [
    "## Knowledge, Skills, Abilities (KSA) :\n",
    "Upon sucessful completion of this course, students will have demonstrated the Knowledge, Skill, and Ability (KSA) to:\n",
    "\n",
    "1. Identify and apply fluid properties to analyze and solve fluid mechanics problems\n",
    "2. Interpret conservation laws and apply them to analyze problems in hydrodynamics\n",
    "3. Identify and apply systems and control volume methods based on conservation principles\n",
    "4. Analyze steady pipe flow in networks using associated concepts and Computational Thinking (ENGR 1330) tools\n",
    "5. Differentiate and apply principles of dimensional homogeneity\n",
    "6. Analyze boundary layer flows and drag for hydraulic analysis\n",
    "7. Apply Computational Thinking (ENGR 1330) methods to analyze data and create mathematical models\n",
    "8. Recognize how specific sensors and instruments in fluid mechanics work\n",
    "9. Characterize, analyze and design open channels for steady one-dimensional flow"
   ]
  },
  {
   "cell_type": "markdown",
   "metadata": {},
   "source": [
    "## ABET Student Outcomes\n",
    "* Engineering:\n",
    "    1. An ability to identify, formulate, and solve complex engineering problems by applying principles of engineering, science, and mathematics.\n",
    "    2. An ability to acquire and apply new knowledge as needed, using appropriate learning strategies. \n",
    " "
   ]
  },
  {
   "cell_type": "markdown",
   "metadata": {},
   "source": [
    "## Resources/Tools\n",
    "\n",
    "Computational tools equivalent to those used in ENGR 1330 are expected.  \n",
    "\n",
    "### Hardware Requirements\n",
    "The college of engineering has specific laptop requirements for courses that are listed at https://www.depts.ttu.edu/coe/dean/engineeringitservices/buyingtherightcomputer.php\n",
    "\n",
    "### Learning Management System\n",
    "Blackboard(BB) is used as the learning management system (LMS) for this class and all exercises are to be uploaded to BB.  Late submissions are accepted, but scores are automatically reduced 50% \n",
    "\n",
    "### Website\n",
    "The course website **for this section** is located at [http://54.243.252.9/ce-3305-webroot/](http://54.243.252.9/ce-3305-webroot/); the website is not intended as a primary access to course content, but will work when BB fails.  The webbook (below) and exercises, and exams are stored on the website.\n",
    "\n",
    "### Instructor Notes \n",
    "The course notes are located in a webbook at [http://54.243.252.9/ce-3305-webroot/ce3305s22book/_build/html/intro.html](http://54.243.252.9/ce-3305-webroot/ce3305s22book/_build/html/intro.html)"
   ]
  },
  {
   "cell_type": "code",
   "execution_count": 1,
   "metadata": {},
   "outputs": [
    {
     "data": {
      "text/html": [
       "<style> table {margin-left: 0 !important;} </style>\n"
      ],
      "text/plain": [
       "<IPython.core.display.HTML object>"
      ]
     },
     "metadata": {},
     "output_type": "display_data"
    }
   ],
   "source": [
    "%%html\n",
    "<style> table {margin-left: 0 !important;} </style>"
   ]
  },
  {
   "cell_type": "markdown",
   "metadata": {},
   "source": [
    "---\n",
    "\n",
    "## Course Schedule\n",
    "\n",
    "Each lesson is $\\approx 1.5$ hours; reading needs to be completed in advance\n",
    "\n",
    "---"
   ]
  },
  {
   "cell_type": "markdown",
   "metadata": {},
   "source": [
    "|date|lesson|topic|reading|homework|quiz|\n",
    "|:---|:---|:---|:---|:---|:---|\n",
    "|11Jan24|1|[Introduction](http://54.243.252.9/ce-3305-webroot/ce3305s24book/_build/html/lessons/01introduction/1introduction.html) <br><font color=\"blue\"> - Syllabus  <br> - On-Line Resources  <br> - Problem Solving Strategy <br> - Dimensions <br> - Units </font>| pp. 2-13| none |Quiz 1|\n",
    "|16Jan24|2|<font color=\"blue\">[Fluid Properties](http://54.243.252.9/ce-3305-webroot/ce3305s24book/_build/html/lessons/02fluidproperties/0fluidproperties.html) <br> - Intensive/Extensive <br> - Ideal Gas Law <br> - Viscosity | pp. 13-27|[ES-1](http://54.243.252.9/ce-3305-webroot/2-Exercises/ES1/ES1.html)||\n",
    "|18Jan24|3|<font color=\"blue\">[Fluid Properties](http://54.243.252.9/ce-3305-webroot/ce3305s24book/_build/html/lessons/02fluidproperties/3liquids.html) <br> - Vapor Pressure <br> - Surface Tension <br> - Capillary Rise| pp. 27-43|[ES-2](http://54.243.252.9/ce-3305-webroot/2-Exercises/ES2/ES2.html)|Quiz X|\n",
    "|23Jan24|4|<font color=\"blue\">[Fluid Pressure](http://54.243.252.9/ce-3305-webroot/ce3305s24book/_build/html/lessons/03fluidstatics/1statics.html#) <br> - Hydrostatic Equation <br> - Measuring Devices <br> - Manometers| pp. 44-64 |[ES-3](http://54.243.252.9/ce-3305-webroot/2-Exercises/ES3/ES3.html)|Quiz X|\n",
    "|25Jan24|5|<font color=\"blue\">[Fluid Statics](http://54.243.252.9/ce-3305-webroot/ce3305s24book/_build/html/lessons/04fluidstaticsandpressure/0fluidstaticsandpressure.html) <br> - Forces on planes and submerged objects <br> - Bouyancy <br> - Stability| pp. 64-91 |[ES-XX](dummy)|Quiz X|\n",
    "|30Jan24|6|<font color=\"orange\">[Fluid Kinematics](http://54.243.252.9/ce-3305-webroot/ce3305s24book/_build/html/lessons/05aflowkinematics/0kinematics.html) <br> - Flow Patterns and Visualization <br> - Velocity Field <br> - Eulerian and Lagrangian Description | pp. XXX-XXX <br> -  |[ES-XX](dummy)|Quiz X|\n",
    "|01Feb24|7|<font color=\"orange\">[Flow and Mass Conservation](http://54.243.252.9/ce-3305-webroot/ce3305s24book/_build/html/lessons/06controlvolumes/0controlvolumeanalysis.html) <br> - Control Volumes <br> - Reynold’s Transport Theorem <br> - Conservation of Mass | pp. XXX-XXX <br> -  |[ES-XX](dummy)|Quiz X|\n",
    "|<font color=\"red\">**06Feb24**||<font color=\"blue\">[Exam 1](http://54.243.252.9/ce-3305-webroot/5-Exams/EX1/spring24/EX1.html) <br> - Fluid Properties <br> - Fluid Statics <br> - Pressure |||</font>|\n",
    "|<hr>|<hr>|<hr>|<hr>|<hr>|<hr>|\n",
    "|08Feb24|8|<font color=\"orange\">Work and Energy  <br> - Euler's Equation <br> - Bernoulli's Equation | pp. XXX-XXX <br> -  |[ES-XX](dummy)|Quiz X|\n",
    "|13Feb24|9|<font color=\"orange\">Work and Energy <br> - Energy Grade Line  <br> - Hydraulic Grade Line | pp. XXX-XXX <br> -  |[ES-XX](dummy)|Quiz X|\n",
    "|15Feb24|10|<font color=\"orange\">Work and Energy <br> - Modified Bernoulli's (Energy) Equation <br> - Pumps <br> - Turbines | pp. XXX-XXX <br> -  |[ES-XX](dummy)|Quiz X|\n",
    "|20Feb24|11|<font color=\"orange\">Momentum <br> - Linear Momentum  <br> - sub2  <br> - sub3 <br> - sub4 <br> - sub5| pp. XXX-XXX <br> -  |[ES-XX](dummy)|Quiz X|\n",
    "|22Feb24|12|<font color=\"orange\">Momentum <br> - Angular Momentum  <br> - sub2  <br> - sub3 <br> - sub4 <br> - sub5| pp. XXX-XXX <br> -  |[ES-XX](dummy)|Quiz X|\n",
    "|27Feb24|13|<font color=\"brown\">Dimensional Analysis<br> - Dimensionless ($\\pi$) groups  <br> - Correlations <br> - Important dimensionless numbers  <br> - Buckingham Pi Theory | pp. 410-427 <br> -  |[ES-XX](dummy)|Quiz X|\n",
    "|<font color=\"red\">**29Feb24**||<font color=\"orange\">[Exam 2](http://54.243.252.9/ce-3305-webroot/5-Exams/EX2/spring24/EX2.html) <br> - Mass <br> - Energy <br> - Momentum |||</font>|\n",
    "|<hr>|<hr>|<hr>|<hr>|<hr>|<hr>|\n",
    "|05Mar24|14|<font color=\"brown\"><font color=\"brown\">Similitude <br> - Prototype/Model  <br> - Geometric Similarity <br> - Kinematic Similarity <br> - Dynamic Similarity | pp. 427-449 <br> -  |[ES-XX](dummmy)|Quiz X|\n",
    "|07Mar24|15|<font color=\"brown\">Viscous Internal Flows <br> - Laminar Flow <br> - Parallel Plates <br> - Smooth Circular Conduit |pp. 450-462|[ES-12](http://54.243.252.9/ce-3305-webroot/2-Exercises/ES12/ES12.html)|Quiz X|\n",
    "|<font color=\"green\">**09-17Mar**|<font color=\"green\">Spring Break|||</font>|\n",
    "|05Mar24|16|<font color=\"brown\">Viscous Internal Flows <br> - Turbulent Flow <br> - Reynolds Number <br> - Frictional Losses|pp. 462-473|[ES-XX](dummy)|Quiz X|\n",
    "|07Mar24|17|<font color=\"brown\">Closed Conduit Analysis <br> - Moody Chart <br> - Pipeline loss <br> - Fitting loss <br> - Single Pipeline Flow|pp. 473-524 |[ES-XX](dummy)|Quiz X|\n",
    "|19Mar24|18|<font color=\"brown\">Closed Conduit Analysis <br> - Pipe Systems <br> - Flow Measurement |pp. 524-551|[ES-XX](dummy)|Quiz X|\n",
    "|21Mar24|19|<font color=\"brown\">Fluid machines <br> - Pumps  <br> - Turbines <br> - Fans <br> - Compressors |pp. xxxxx |[ES-XX](dummy)|Quiz X|\n",
    "|26Mar24|20|<font color=\"brown\">[Pump Selection](https://192.168.1.93/ce-3305-webroot/ce3305s24book/_build/html/lessons/19PumpSelection/1fluidmachines.html#)  <br> - Performance curves  <br> - System curves  <br> - Suction head|pp. 524-551|[ES-XX](dummy)|Quiz X|\n",
    "|28Mar24|21|[Pump Selection](https://192.168.1.93/ce-3305-webroot/ce3305s24book/_build/html/lessons/19PumpSelection/1fluidmachines.html#pump-affinity-laws)  <br> - Turbomachine similarity| pp. XXX-XXX <br> -  |[ES-XX](dummy)|Quiz X|\n",
    "|02Apr24|22|<font color=\"magenta\">Computational Hydraulics <br> - Junction heads <br> - Conduit loss <br> - Equation systems<br> - Pipe Network Analysis <br> - Newton-Raphson Method| pp. XXX-XXX <br> -  |[ES-XX](dummy)|Quiz X|\n",
    "|<font color=\"red\">**04Apr24**||<font color=\"brown\">[Exam 3](http://54.243.252.9/ce-3305-webroot/5-Exams/EX3/spring24/EX3.html) <br> - Dimensional Analysis <br> - Similitude <br> - Closed Conduits <br> - Pumps |||</font>|\n",
    "|<hr>|<hr>|<hr>|<hr>|<hr>|<hr>|\n",
    "|09Apr24|23|<font color=\"magenta\">Open Channels <br> - Flow Types <br> - Specific Energy| pp. XXX-XXX <br> - |[ES-XX](dummy)|Quiz X|\n",
    "|11Apr24|24|<font color=\"magenta\">Open Channels <br> - Bump <br> - Sluice Gate | pp. XXX-XXX <br> -  |[ES-XX](dummy)|Quiz X|\n",
    "|16Apr24|25|<font color=\"magenta\">Open Channels <br> - Gradually Varied Flow <br> - Water Surface Profile |pp. xxx-xxx|[ES-XX](dummy)|Quiz X|\n",
    "|18Apr24|26|<font color=\"magenta\">Open Channels <br> - Rapidly Varied Flow <br> - Hydraulic Jump <br> - Weirs| pp. XXX-XXX <br> -  |[ES-XX](dummy)|Quiz X|\n",
    "|23Apr24|27|<font color=\"magenta\">Computational Hydraulics <br> - GVF Backwater Curves <br> - GVF Frontwater Curves|[ES-XX](dummy)|Quiz X|\n",
    "|25Apr24|28|<font color=\"magenta\">Boundary Layers <br> – Laminar <br> - Turbulent <br> - Flow over Flat Plate |pp. xxxx |[ES-XX](dummy)|Quiz X|\n",
    "|30Apr24|29|<font color=\"magenta\">Drag and Lift <br> - Form Drag <br> - Flow around Cylinder|pp. 596-647|[ES-XX](dummy)|Quiz X|\n",
    "|<font color=\"red\">**XXMay24**||<font color=\"magenta\">[Exam 4](http://54.243.252.9/ce-3305-webroot/5-Exams/EX4/spring24/EX4.html) <br> - Open Channels <br> - Boundary Layers <br> - Computational Hydraulics (Pipes) <br> - Computational Hydraulics (Channels)  |||</font>|"
   ]
  },
  {
   "cell_type": "markdown",
   "metadata": {},
   "source": [
    "---\n",
    "## Course Assessment and Grading Criteria:\n",
    "There will be $\\approx$ 20 homework assignments, five tests, and several quizzes for the course.  \n",
    "<strong>Late</strong> assignments will be scored at 50% reduced value \n",
    "\n",
    "Grades will be based on the following components; weighting is approximate:\n",
    "\n",
    "|Assessment Instrument|Weight(%)|\n",
    "|---|---:|\n",
    "|Test-1|10|\n",
    "|Test-2|10|\n",
    "|Test-3|10|\n",
    "|Test-4|10|\n",
    "|Test-5|10|\n",
    "|Homework|30|\n",
    "|Attendance|5|\n",
    "|Quizzes|15|\n",
    "|Overall total|100|\n",
    "\n",
    "Letter grades will be assigned using the following quantile proportions of all assessment instruments:\n",
    "\n",
    "|Quantile Range|Letter Grade|\n",
    "|:-|---:|\n",
    "|90-100|A| \n",
    "|71-89|B|\n",
    "|51-70|C|\n",
    "|31-50|D|\n",
    "|0 - 30|F|\n",
    "\n",
    "<!-- Scores as Quantiles Ranges\n",
    "|81-100|A| \n",
    "|61-80|B|\n",
    "|41-60|C|\n",
    "|21-40|D|\n",
    "|<= 0-20|F|\n",
    "-->\n"
   ]
  },
  {
   "cell_type": "markdown",
   "metadata": {},
   "source": [
    "## Classroom Policy:\n",
    "The following activities are not allowed in the classroom: Texting or talking on the cellphone or other electronic devices, and reading non-course related materials.\n",
    "### Telepresence (On-line) Courses\n",
    "Obviously electronic devices are vital; disrupting the conference is prohibited, please mute your microphone unless you have a question - consider typing your question into the chat window as well. Be aware of bandwidth issues and remember most lessons and laboratory sessions are recorded and posted on youtube.  Recording, editing, and rendering takes awhile, so expect 24-36 hour delay before video is available. "
   ]
  },
  {
   "cell_type": "markdown",
   "metadata": {},
   "source": [
    "---\n",
    "## ADA Statement: \n",
    "Any student who, because of a disability, may require special arrangements in order to meet the course requirements should contact the instructor as soon as possible to make necessary arrangements.  Students must present appropriate verification from Student Disability Services during the instructor's office hours.  Please note that instructors are not allowed to provide classroom accommodation to a student until appropriate verification from Student Disability Services has been provided.  For additional information, please contact Student Disability Services \n",
    "office in 335 West Hall or call 806.742.2405.\n",
    "\n",
    "## Academic Integrity Statement:\n",
    "Academic integrity is taking responsibility for one’s own class and/or course work, being individually accountable, and demonstrating intellectual honesty and ethical behavior.  Academic integrity is a personal choice to abide by the standards of intellectual honesty and responsibility.  Because education is a shared effort to achieve learning through the exchange of ideas, students, faculty, and staff have the collective responsibility to build mutual trust and respect.  Ethical behavior and independent thought are essential for the highest level of academic achievement, which then must be measured.  Academic achievement includes scholarship, teaching, and learning, all of which are shared endeavors.  Grades are a device used to quantify the successful accumulation of knowledge through learning.  Adhering to the standards of academic integrity ensures grades are earned honestly.  Academic integrity is the foundation upon which students, faculty, and staff build their educational and professional careers.  [Texas Tech University (“University”) Quality Enhancement Plan, Academic Integrity Task Force, 2010].\n",
    "\n",
    "## Religious Holy Day Statement: \n",
    "“Religious holy day” means a holy day observed by a religion whose places of worship are exempt from property taxation under Texas Tax Code §11.20.  A student who intends to observe a religious holy day should make that intention known to the instructor prior to the absence.  A student who is absent from classes for the observance of a religious holy day shall be allowed to take an examination or complete an assignment scheduled for that day within a reasonable time after the absence.  A student who is excused may not be penalized for the absence; however, the instructor may respond appropriately if the student fails to complete the assignment satisfactorily.\n",
    "\n",
    "## Ethical Conduct Policy:\n",
    "Cheating is prohibited, and the representation of the work of another person as your own will be grounds for receiving a failing grade in the course.\n",
    "\n",
    "**DISCRIMINATION, HARASSMENT, AND SEXUAL VIOLENCE STATEMENT:**\n",
    "Texas Tech University is committed to providing and strengthening an educational, working, and living environment where students, faculty, staff, and visitors are free from gender and/or sex discrimination of any kind. Sexual assault, discrimination, harassment, and other Title IX violations are not tolerated by the University. Report any incidents to the Office for Student Rights & Resolution, (806)-742-SAFE (7233) or file a report online at titleix.ttu.edu/students. Faculty and staff members at TTU are committed to connecting you to resources on campus. Some of these available resources are: TTU Student Counseling Center, 806- 742-3674, https://www.depts.ttu.edu/scc/(Provides confidential support on campus.) TTU 24-hour Crisis Helpline, 806-742-5555, (Assists students who are experiencing a mental health or interpersonal violence crisis. If you call the helpline, you will speak with a mental health counselor.) Voice of Hope Lubbock Rape Crisis Center, 806-763-7273, voiceofhopelubbock.org (24-hour hotline that provides support for survivors of sexual violence.) The Risk, Intervention, Safety and Education (RISE) Office, 806-742-2110,  https://www.depts.ttu.edu/rise/ (Provides a range of resources and support options focused on prevention education and student wellness.) Texas Tech Police Department, 806-742- 3931,http://www.depts.ttu.edu/ttpd/ (To report criminal activity that occurs on or near Texas Tech campus.)\n",
    "\n",
    "**CIVILITY IN THE CLASSROOM STATEMENT:**\n",
    "Texas Tech University is a community of faculty, students, and staff that enjoys an expectation of cooperation, professionalism, and civility during the conduct of all forms of university business, including the conduct of student–student and student–faculty interactions in and out of the classroom. Further, the classroom is a setting in which an exchange of ideas and creative thinking should be encouraged and where intellectual growth and development are fostered. Students who disrupt this classroom mission by rude, sarcastic, threatening, abusive or obscene language and/or behavior will be subject to appropriate sanctions according to university policy. Likewise, faculty members are expected to maintain the highest standards of professionalism in all interactions with all constituents of the university.\n",
    "To ensure that you are fully engaged in class discussions and account team meetings during class time, you are expected to do the following:\n",
    "- Maintain the same level of civility and professionalism that would be expected in a face-to-face classroom setting.\n",
    "- Attend all classes regularly.\n",
    "- Log into the video conference on time and remain logged in for the duration of the class period.\n",
    "- Activate your camera so that you are visible to the instructor and other students in the class. If you have concerns about leaving your camera on (such as childcare obligations, privacy issues, or a particular circumstance during a class period), please talk to the instructor.\n",
    "- Refrain from engaging in non-class related activities during class time that create a distraction for other students in the class and/or limit your ability to engage in the course.\n",
    "Failure to meet these expectations may result in the following consequences:\n",
    "1. Being counted as absent for the class meeting.\n",
    "2. Not receiving credit for class participation for that class period.\n",
    "3. Other consequences as stipulated in the syllabus, Texas Tech Code of Student Conduct, or other university policy.\n",
    "Repeated failure to meet expectations (e.g., attendance, participation in class, etc.), in addition to the above consequences, may result in the one or more of the following consequences:\n",
    "1. Referral to the appropriate Associate Dean.\n",
    "2. Academic penalty, ranging from a warning to failure of the course.\n",
    "(www.depts.ttu.edu/ethics/matadorchallenge/ethicalprinciples.php).\n",
    "\n",
    "**LGBTQIA SUPPORT STATEMENT:**\n",
    "<!--I identify as an ally to the lesbian, gay, bisexual, transgender, queer, intersex, and asexual (LGBTQIA) community, and I am available to listen and support you in an affirming manner. I can assist in connecting you with resources on campus to address problems you may face pertaining to sexual orientation and/or gender identity that could interfere with your success at Texas Tech. Please note that additional -->Support resources are available through the Office of LGBTQIA within the Center for Campus Life; Office of LGBTQIA, Student Union Building Room 201,(www.lgbtqia.ttu.edu), 806.742.5433 The Office serves the Texas Tech community through facilitation and leadership of programming and advocacy efforts. This work is aimed at strengthening the lesbian, gay, bisexual, transgender, queer, intersex, and asexual (LGBTQIA) community and sustaining an inclusive campus that welcomes people of all sexual orientations, gender identities, and gender expressions.\n"
   ]
  },
  {
   "cell_type": "code",
   "execution_count": null,
   "metadata": {},
   "outputs": [],
   "source": []
  }
 ],
 "metadata": {
  "kernelspec": {
   "display_name": "Python 3",
   "language": "python",
   "name": "python3"
  },
  "language_info": {
   "codemirror_mode": {
    "name": "ipython",
    "version": 3
   },
   "file_extension": ".py",
   "mimetype": "text/x-python",
   "name": "python",
   "nbconvert_exporter": "python",
   "pygments_lexer": "ipython3",
   "version": "3.8.10"
  }
 },
 "nbformat": 4,
 "nbformat_minor": 4
}
