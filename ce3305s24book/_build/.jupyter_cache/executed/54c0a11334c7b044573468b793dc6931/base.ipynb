{
 "cells": [
  {
   "cell_type": "code",
   "execution_count": 1,
   "metadata": {},
   "outputs": [
    {
     "name": "stdout",
     "output_type": "stream",
     "text": [
      "Viscosity =  0.351  Newtons per square meter\n"
     ]
    }
   ],
   "source": [
    "# falling piston viscometer\n",
    "import math\n",
    "# viscosity function for falling piston in a tube geometry\n",
    "def viscosity(weight,spacing,dpiston,lpiston,velocity):\n",
    "    viscosity = (weight*spacing)/(2*math.pi*dpiston*lpiston*velocity)\n",
    "    return viscosity\n",
    "# Example Problem Values\n",
    "weight = 15 #newtons\n",
    "spacing = 0.5e-03 #meters spacing\n",
    "dpiston = 0.1 #meters\n",
    "lpiston = 0.2 #meters\n",
    "velocity = 0.17 #meters/sec\n",
    "print(\"Viscosity = \",round(viscosity(weight,spacing,dpiston,lpiston,velocity),3),\" Newtons per square meter\")"
   ]
  },
  {
   "cell_type": "code",
   "execution_count": null,
   "metadata": {},
   "outputs": [],
   "source": []
  }
 ],
 "metadata": {
  "kernelspec": {
   "display_name": "Python 3",
   "language": "python",
   "name": "python3"
  },
  "language_info": {
   "codemirror_mode": {
    "name": "ipython",
    "version": 3
   },
   "file_extension": ".py",
   "mimetype": "text/x-python",
   "name": "python",
   "nbconvert_exporter": "python",
   "pygments_lexer": "ipython3",
   "version": "3.8.10"
  }
 },
 "nbformat": 4,
 "nbformat_minor": 4
}