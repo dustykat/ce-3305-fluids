{
 "cells": [
  {
   "cell_type": "markdown",
   "metadata": {},
   "source": [
    "# <font color=darkblue>CE 3305 Engineering Fluid Mechanics <br> Spring 2024 Exam 4</font>\n",
    "\n",
    "**LAST NAME, FIRST NAME**\n",
    "\n",
    "**R00000000**\n",
    "\n",
    "___\n",
    "\n",
    "### Purpose : \n",
    "Demonstrate ability to apply fluid mechanics and problem solving principles covering topics such as: Open channel flow; lift,drag, and fan laws; computational hydraulics (open channel)\n"
   ]
  },
  {
   "cell_type": "markdown",
   "metadata": {},
   "source": [
    "<hr>\n",
    "\n",
    "#### Problem 1\n",
    "\n",
    "Water (T =10$^𝑜$C) flows 1.5 m deep in a long rectangular concrete channel that is 3 m wide and is on a slope of 0.001.\n",
    "\n",
    "Determine:\n",
    "\n",
    "1. The volumetric discharge of water in the channel"
   ]
  },
  {
   "cell_type": "markdown",
   "metadata": {},
   "source": [
    "---\n",
    "\n",
    "**sketch(s) here**"
   ]
  },
  {
   "cell_type": "markdown",
   "metadata": {},
   "source": [
    "**list known quantities**"
   ]
  },
  {
   "cell_type": "markdown",
   "metadata": {},
   "source": [
    "**list unknown quantities**"
   ]
  },
  {
   "cell_type": "markdown",
   "metadata": {},
   "source": [
    "**governing principles**"
   ]
  },
  {
   "cell_type": "markdown",
   "metadata": {},
   "source": [
    "**solution (step-by-step)** "
   ]
  },
  {
   "cell_type": "code",
   "execution_count": 2,
   "metadata": {},
   "outputs": [],
   "source": [
    "# script (code) here"
   ]
  },
  {
   "cell_type": "markdown",
   "metadata": {
    "jupyter": {
     "source_hidden": true
    }
   },
   "source": [
    "**discussion**"
   ]
  },
  {
   "cell_type": "markdown",
   "metadata": {},
   "source": [
    "<hr>\n",
    "\n",
    "### Problem 2\n",
    "\n",
    "The canal shown below is to be widened so that the water flow discharge can be tripled (i.e., flow discharge after widening is three times the initial flow discharge). \n",
    "\n",
    "![](trapezoid.png)\n",
    "\n",
    "Determine:\n",
    "1. The additional width, L, required if all other parameters (i.e., flow depth, bottom slope, surface material, side slope) are to remain the same\n",
    "\n",
    "---\n"
   ]
  },
  {
   "cell_type": "markdown",
   "metadata": {},
   "source": [
    "**sketch(s) here**"
   ]
  },
  {
   "cell_type": "markdown",
   "metadata": {},
   "source": [
    "**list known quantities**"
   ]
  },
  {
   "cell_type": "markdown",
   "metadata": {},
   "source": [
    "**list unknown quantities**"
   ]
  },
  {
   "cell_type": "markdown",
   "metadata": {},
   "source": [
    "**governing principles**"
   ]
  },
  {
   "cell_type": "markdown",
   "metadata": {},
   "source": [
    "**solution (step-by-step)** "
   ]
  },
  {
   "cell_type": "code",
   "execution_count": 3,
   "metadata": {},
   "outputs": [],
   "source": [
    "# script (code) here"
   ]
  },
  {
   "cell_type": "markdown",
   "metadata": {},
   "source": [
    "**discussion**"
   ]
  },
  {
   "cell_type": "markdown",
   "metadata": {},
   "source": [
    "---\n",
    "\n",
    "### Problem 3:\n",
    "\n",
    "The figure below is a schematic of water flowing under a sluice gate in a horizontal channel 5 feet wide.\n",
    "\n",
    "![](sluicegate.png)\n",
    "\n",
    "The flow depths are $y_0 = 65~ft$ and $y_1=1~ft$.  \n",
    "\n",
    "Determine:\n",
    "1. Discharge through the sluice gate\n",
    "2. Power dissipated in the jump\n",
    "3. The alternate depth (depth of flow after the jump)\n",
    "\n",
    "---"
   ]
  },
  {
   "cell_type": "markdown",
   "metadata": {},
   "source": [
    "**sketch(s) here**"
   ]
  },
  {
   "cell_type": "markdown",
   "metadata": {},
   "source": [
    "**list known quantities**"
   ]
  },
  {
   "cell_type": "markdown",
   "metadata": {},
   "source": [
    "**list unknown quantities**"
   ]
  },
  {
   "cell_type": "markdown",
   "metadata": {},
   "source": [
    "**governing principles**"
   ]
  },
  {
   "cell_type": "markdown",
   "metadata": {},
   "source": [
    "**solution (step-by-step)** "
   ]
  },
  {
   "cell_type": "code",
   "execution_count": 4,
   "metadata": {},
   "outputs": [],
   "source": [
    "# script (code) here"
   ]
  },
  {
   "cell_type": "markdown",
   "metadata": {},
   "source": [
    "**discussion**"
   ]
  },
  {
   "cell_type": "markdown",
   "metadata": {},
   "source": [
    "---\n",
    "\n",
    "### Problem 4\n",
    "\n",
    "A windmill is connected directly to a mechanical pump (inertia-type) to lift water from a well that is 10 feet deep as depicted on Figure 5.  The wind turbine is a conventional horizontal-axis type with a fan diameter of 10 feet.  The efficiency of the mechanical pump is 80%. The pump discharges to atmospheric pressure as shown through 20 feet of 2-inch galvanized pipe.\n",
    "\n",
    "![](windmill.png)\n",
    "\n",
    "For an air density $\\rho_{air}=0.07~\\frac{lbm}{ft^3}$ and a wind speed of 30 miles per hour\n",
    "\n",
    "Determine:\n",
    "1. Well discharge in gallons per minute \n",
    "\n",
    "---"
   ]
  },
  {
   "cell_type": "markdown",
   "metadata": {},
   "source": [
    "**sketch(s) here**"
   ]
  },
  {
   "cell_type": "markdown",
   "metadata": {},
   "source": [
    "**list known quantities**"
   ]
  },
  {
   "cell_type": "markdown",
   "metadata": {},
   "source": [
    "**list unknown quantities**"
   ]
  },
  {
   "cell_type": "markdown",
   "metadata": {},
   "source": [
    "**governing principles**"
   ]
  },
  {
   "cell_type": "markdown",
   "metadata": {},
   "source": [
    "**solution (step-by-step)** "
   ]
  },
  {
   "cell_type": "code",
   "execution_count": 5,
   "metadata": {},
   "outputs": [],
   "source": [
    "# script (code) here"
   ]
  },
  {
   "cell_type": "markdown",
   "metadata": {},
   "source": [
    "**discussion**"
   ]
  },
  {
   "cell_type": "markdown",
   "metadata": {},
   "source": [
    "---\n",
    "\n",
    "### Problem 5\n",
    "\n",
    "Water flows at a steady rate of 192 $\\frac{ft^3}{s}$ through a concrete-lined rectangular channel 16 ft wide as depicted in Figure 1. Water enters the 0.35% sloped channel ($S_0$ = 0.0035) at location 1 and is flowing at 110% normal depth ($1.1 \\times y_n$). The water exits over a 3-foot tall weir (assume sharp-crest weir) at location 2.\n",
    "\n",
    "![](channel_profile.png)\n",
    "\n",
    "Find:\n",
    "1. Normal depth for the channel.\n",
    "2. Critical depth for the channel.\n",
    "3. Pool depth just upstream of the weir. (Hint: Add the critical depth to the weir height as an approximation to the pool depth)\n",
    "5. Estimate the distance upstream from the weir to location 1 \n",
    "\n",
    "---"
   ]
  },
  {
   "cell_type": "markdown",
   "metadata": {},
   "source": [
    "**sketch(s) here**"
   ]
  },
  {
   "cell_type": "markdown",
   "metadata": {},
   "source": [
    "**list known quantities**"
   ]
  },
  {
   "cell_type": "markdown",
   "metadata": {},
   "source": [
    "**list unknown quantities**"
   ]
  },
  {
   "cell_type": "markdown",
   "metadata": {},
   "source": [
    "**governing principles**"
   ]
  },
  {
   "cell_type": "markdown",
   "metadata": {},
   "source": [
    "**solution (step-by-step)** "
   ]
  },
  {
   "cell_type": "code",
   "execution_count": 6,
   "metadata": {},
   "outputs": [],
   "source": [
    "# script (code) here"
   ]
  },
  {
   "cell_type": "markdown",
   "metadata": {},
   "source": [
    "**discussion**"
   ]
  },
  {
   "cell_type": "markdown",
   "metadata": {},
   "source": [
    "---\n",
    "\n",
    "### Problem 5\n",
    "\n",
    "Water flows at a steady rate of 192 $\\frac{ft^3}{s}$ through a concrete-lined rectangular channel 16 ft wide as depicted in Figure 1. Water enters the 0.35% sloped channel ($S_0$ = 0.0035) at location 1 and is flowing at 110% normal depth ($1.1 \\times y_n$). The water exits over a 3-foot tall weir (assume sharp-crest weir) at location 2.\n",
    "\n",
    "![](channel_profile.png)\n",
    "\n",
    "Find:\n",
    "1. Normal depth for the channel.\n",
    "2. Critical depth for the channel.\n",
    "3. Pool depth just upstream of the weir. (Hint: Add the critical depth to the weir height as an approximation to the pool depth)\n",
    "5. Estimate the distance upstream from the weir to location 1 \n",
    "\n",
    "---"
   ]
  },
  {
   "cell_type": "markdown",
   "metadata": {},
   "source": [
    "**sketch(s) here**"
   ]
  },
  {
   "cell_type": "markdown",
   "metadata": {},
   "source": [
    "**list known quantities**"
   ]
  },
  {
   "cell_type": "markdown",
   "metadata": {},
   "source": [
    "**list unknown quantities**"
   ]
  },
  {
   "cell_type": "markdown",
   "metadata": {},
   "source": [
    "**governing principles**"
   ]
  },
  {
   "cell_type": "markdown",
   "metadata": {},
   "source": [
    "**solution (step-by-step)** "
   ]
  },
  {
   "cell_type": "code",
   "execution_count": 6,
   "metadata": {},
   "outputs": [],
   "source": [
    "# script (code) here"
   ]
  },
  {
   "cell_type": "markdown",
   "metadata": {},
   "source": [
    "**discussion**"
   ]
  },
  {
   "cell_type": "markdown",
   "metadata": {},
   "source": [
    "---\n",
    "\n",
    "### Problem 5\n",
    "\n",
    "Water flows at a steady rate of 192 $\\frac{ft^3}{s}$ through a concrete-lined rectangular channel 16 ft wide as depicted in Figure 1. Water enters the 0.35% sloped channel ($S_0$ = 0.0035) at location 1 and is flowing at 110% normal depth ($1.1 \\times y_n$). The water exits over a 3-foot tall weir (assume sharp-crest weir) at location 2.\n",
    "\n",
    "![](channel_profile.png)\n",
    "\n",
    "Find:\n",
    "1. Normal depth for the channel.\n",
    "2. Critical depth for the channel.\n",
    "3. Pool depth just upstream of the weir. (Hint: Add the critical depth to the weir height as an approximation to the pool depth)\n",
    "5. Estimate the distance upstream from the weir to location 1 \n",
    "\n",
    "---"
   ]
  },
  {
   "cell_type": "markdown",
   "metadata": {},
   "source": [
    "**sketch(s) here**"
   ]
  },
  {
   "cell_type": "markdown",
   "metadata": {},
   "source": [
    "**list known quantities**"
   ]
  },
  {
   "cell_type": "markdown",
   "metadata": {},
   "source": [
    "**list unknown quantities**"
   ]
  },
  {
   "cell_type": "markdown",
   "metadata": {},
   "source": [
    "**governing principles**"
   ]
  },
  {
   "cell_type": "markdown",
   "metadata": {},
   "source": [
    "**solution (step-by-step)** "
   ]
  },
  {
   "cell_type": "code",
   "execution_count": 6,
   "metadata": {},
   "outputs": [],
   "source": [
    "# script (code) here"
   ]
  },
  {
   "cell_type": "markdown",
   "metadata": {},
   "source": [
    "**discussion**"
   ]
  },
  {
   "cell_type": "markdown",
   "metadata": {},
   "source": [
    "---\n",
    "\n",
    "### Problem 5\n",
    "\n",
    "Water flows at a steady rate of 192 $\\frac{ft^3}{s}$ through a concrete-lined rectangular channel 16 ft wide as depicted in Figure 1. Water enters the 0.35% sloped channel ($S_0$ = 0.0035) at location 1 and is flowing at 110% normal depth ($1.1 \\times y_n$). The water exits over a 3-foot tall weir (assume sharp-crest weir) at location 2.\n",
    "\n",
    "![](channel_profile.png)\n",
    "\n",
    "Find:\n",
    "1. Normal depth for the channel.\n",
    "2. Critical depth for the channel.\n",
    "3. Pool depth just upstream of the weir. (Hint: Add the critical depth to the weir height as an approximation to the pool depth)\n",
    "5. Estimate the distance upstream from the weir to location 1 \n",
    "\n",
    "---"
   ]
  },
  {
   "cell_type": "markdown",
   "metadata": {},
   "source": [
    "**sketch(s) here**"
   ]
  },
  {
   "cell_type": "markdown",
   "metadata": {},
   "source": [
    "**list known quantities**"
   ]
  },
  {
   "cell_type": "markdown",
   "metadata": {},
   "source": [
    "**list unknown quantities**"
   ]
  },
  {
   "cell_type": "markdown",
   "metadata": {},
   "source": [
    "**governing principles**"
   ]
  },
  {
   "cell_type": "markdown",
   "metadata": {},
   "source": [
    "**solution (step-by-step)** "
   ]
  },
  {
   "cell_type": "code",
   "execution_count": 6,
   "metadata": {},
   "outputs": [],
   "source": [
    "# script (code) here"
   ]
  },
  {
   "cell_type": "markdown",
   "metadata": {},
   "source": [
    "**discussion**"
   ]
  },
  {
   "cell_type": "markdown",
   "metadata": {},
   "source": [
    "---\n",
    "\n",
    "### Problem 5\n",
    "\n",
    "Water flows at a steady rate of 192 $\\frac{ft^3}{s}$ through a concrete-lined rectangular channel 16 ft wide as depicted in Figure 1. Water enters the 0.35% sloped channel ($S_0$ = 0.0035) at location 1 and is flowing at 110% normal depth ($1.1 \\times y_n$). The water exits over a 3-foot tall weir (assume sharp-crest weir) at location 2.\n",
    "\n",
    "![](channel_profile.png)\n",
    "\n",
    "Find:\n",
    "1. Normal depth for the channel.\n",
    "2. Critical depth for the channel.\n",
    "3. Pool depth just upstream of the weir. (Hint: Add the critical depth to the weir height as an approximation to the pool depth)\n",
    "5. Estimate the distance upstream from the weir to location 1 \n",
    "\n",
    "---"
   ]
  },
  {
   "cell_type": "markdown",
   "metadata": {},
   "source": [
    "**sketch(s) here**"
   ]
  },
  {
   "cell_type": "markdown",
   "metadata": {},
   "source": [
    "**list known quantities**"
   ]
  },
  {
   "cell_type": "markdown",
   "metadata": {},
   "source": [
    "**list unknown quantities**"
   ]
  },
  {
   "cell_type": "markdown",
   "metadata": {},
   "source": [
    "**governing principles**"
   ]
  },
  {
   "cell_type": "markdown",
   "metadata": {},
   "source": [
    "**solution (step-by-step)** "
   ]
  },
  {
   "cell_type": "code",
   "execution_count": 6,
   "metadata": {},
   "outputs": [],
   "source": [
    "# script (code) here"
   ]
  },
  {
   "cell_type": "markdown",
   "metadata": {},
   "source": [
    "**discussion**"
   ]
  },
  {
   "cell_type": "markdown",
   "metadata": {},
   "source": [
    "---\n",
    "\n",
    "### Problem 5\n",
    "\n",
    "Water flows at a steady rate of 192 $\\frac{ft^3}{s}$ through a concrete-lined rectangular channel 16 ft wide as depicted in Figure 1. Water enters the 0.35% sloped channel ($S_0$ = 0.0035) at location 1 and is flowing at 110% normal depth ($1.1 \\times y_n$). The water exits over a 3-foot tall weir (assume sharp-crest weir) at location 2.\n",
    "\n",
    "![](channel_profile.png)\n",
    "\n",
    "Find:\n",
    "1. Normal depth for the channel.\n",
    "2. Critical depth for the channel.\n",
    "3. Pool depth just upstream of the weir. (Hint: Add the critical depth to the weir height as an approximation to the pool depth)\n",
    "5. Estimate the distance upstream from the weir to location 1 \n",
    "\n",
    "---"
   ]
  },
  {
   "cell_type": "markdown",
   "metadata": {},
   "source": [
    "**sketch(s) here**"
   ]
  },
  {
   "cell_type": "markdown",
   "metadata": {},
   "source": [
    "**list known quantities**"
   ]
  },
  {
   "cell_type": "markdown",
   "metadata": {},
   "source": [
    "**list unknown quantities**"
   ]
  },
  {
   "cell_type": "markdown",
   "metadata": {},
   "source": [
    "**governing principles**"
   ]
  },
  {
   "cell_type": "markdown",
   "metadata": {},
   "source": [
    "**solution (step-by-step)** "
   ]
  },
  {
   "cell_type": "code",
   "execution_count": 6,
   "metadata": {},
   "outputs": [],
   "source": [
    "# script (code) here"
   ]
  },
  {
   "cell_type": "markdown",
   "metadata": {},
   "source": [
    "**discussion**"
   ]
  },
  {
   "cell_type": "markdown",
   "metadata": {},
   "source": [
    "---\n",
    "\n",
    "### Problem 5\n",
    "\n",
    "Water flows at a steady rate of 192 $\\frac{ft^3}{s}$ through a concrete-lined rectangular channel 16 ft wide as depicted in Figure 1. Water enters the 0.35% sloped channel ($S_0$ = 0.0035) at location 1 and is flowing at 110% normal depth ($1.1 \\times y_n$). The water exits over a 3-foot tall weir (assume sharp-crest weir) at location 2.\n",
    "\n",
    "![](channel_profile.png)\n",
    "\n",
    "Find:\n",
    "1. Normal depth for the channel.\n",
    "2. Critical depth for the channel.\n",
    "3. Pool depth just upstream of the weir. (Hint: Add the critical depth to the weir height as an approximation to the pool depth)\n",
    "5. Estimate the distance upstream from the weir to location 1 \n",
    "\n",
    "---"
   ]
  },
  {
   "cell_type": "markdown",
   "metadata": {},
   "source": [
    "**sketch(s) here**"
   ]
  },
  {
   "cell_type": "markdown",
   "metadata": {},
   "source": [
    "**list known quantities**"
   ]
  },
  {
   "cell_type": "markdown",
   "metadata": {},
   "source": [
    "**list unknown quantities**"
   ]
  },
  {
   "cell_type": "markdown",
   "metadata": {},
   "source": [
    "**governing principles**"
   ]
  },
  {
   "cell_type": "markdown",
   "metadata": {},
   "source": [
    "**solution (step-by-step)** "
   ]
  },
  {
   "cell_type": "code",
   "execution_count": 6,
   "metadata": {},
   "outputs": [],
   "source": [
    "# script (code) here"
   ]
  },
  {
   "cell_type": "markdown",
   "metadata": {
    "jupyter": {
     "source_hidden": true
    }
   },
   "source": [
    "**discussion**"
   ]
  }
 ],
 "metadata": {
  "kernelspec": {
   "display_name": "Python 3",
   "language": "python",
   "name": "python3"
  },
  "language_info": {
   "codemirror_mode": {
    "name": "ipython",
    "version": 3
   },
   "file_extension": ".py",
   "mimetype": "text/x-python",
   "name": "python",
   "nbconvert_exporter": "python",
   "pygments_lexer": "ipython3",
   "version": "3.8.10"
  }
 },
 "nbformat": 4,
 "nbformat_minor": 4
}
