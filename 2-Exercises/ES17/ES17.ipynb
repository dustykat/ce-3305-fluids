{
 "cells": [
  {
   "cell_type": "markdown",
   "metadata": {},
   "source": [
    "**Download** (right-click, save target as ...) this page as a Jupyterlab notebook from: [ES-17](http://54.243.252.9/ce-3305-webroot/2-Exercises/ES17/ES17.ipynb)\n",
    "\n",
    "___"
   ]
  },
  {
   "cell_type": "markdown",
   "metadata": {},
   "source": [
    "# <font color=darkblue>CE 3305 Engineering Fluid Mechanics <br> Summer 2022 Exercise Set 17</font>\n",
    "\n",
    "**LAST NAME, FIRST NAME**\n",
    "\n",
    "**R00000000**\n",
    "\n",
    "___\n",
    "\n",
    "### Purpose : \n",
    "Principles of open conduit flow.\n",
    "### Assessment Criteria : \n",
    "Completion, plausible solutions, use JupyterLab as a calculator.\n",
    "___"
   ]
  },
  {
   "cell_type": "markdown",
   "metadata": {},
   "source": [
    "### Problem 1.\n",
    "\n",
    "Estimate the discharge of water (T =10$^o$C) that flows 1.5 m\n",
    "deep in a long rectangular concrete channel that is 3 m wide and is on a slope of 0.001."
   ]
  },
  {
   "cell_type": "code",
   "execution_count": 1,
   "metadata": {},
   "outputs": [],
   "source": [
    "# sketch here"
   ]
  },
  {
   "cell_type": "code",
   "execution_count": 2,
   "metadata": {},
   "outputs": [],
   "source": [
    "# list known quantities"
   ]
  },
  {
   "cell_type": "code",
   "execution_count": 3,
   "metadata": {},
   "outputs": [],
   "source": [
    "# list unknown quantities"
   ]
  },
  {
   "cell_type": "code",
   "execution_count": 4,
   "metadata": {},
   "outputs": [],
   "source": [
    "# governing principles"
   ]
  },
  {
   "cell_type": "code",
   "execution_count": 5,
   "metadata": {},
   "outputs": [],
   "source": [
    "# solution (step-by-step)"
   ]
  },
  {
   "cell_type": "code",
   "execution_count": 6,
   "metadata": {},
   "outputs": [],
   "source": [
    "# discussion"
   ]
  },
  {
   "cell_type": "markdown",
   "metadata": {},
   "source": [
    "---"
   ]
  },
  {
   "cell_type": "markdown",
   "metadata": {},
   "source": [
    "### Problem 2.\n",
    "\n",
    "Water flows at a rate of 8$\\frac{m^3}{s}$ in a rectangular channel 2 m\n",
    "wide.\n",
    "\n",
    "1. What is the Froude number for depths of 30 cm, 1.0 m, and 2.0 m?\n",
    "2. Classify the flow (sub-, super-, or critical) type for these three depths.\n"
   ]
  },
  {
   "cell_type": "code",
   "execution_count": 7,
   "metadata": {},
   "outputs": [],
   "source": [
    "# sketch here"
   ]
  },
  {
   "cell_type": "code",
   "execution_count": 8,
   "metadata": {},
   "outputs": [],
   "source": [
    "# list known quantities"
   ]
  },
  {
   "cell_type": "code",
   "execution_count": 9,
   "metadata": {},
   "outputs": [],
   "source": [
    "# list unknown quantities"
   ]
  },
  {
   "cell_type": "code",
   "execution_count": 10,
   "metadata": {},
   "outputs": [],
   "source": [
    "# governing principles"
   ]
  },
  {
   "cell_type": "code",
   "execution_count": 11,
   "metadata": {},
   "outputs": [],
   "source": [
    "# solution (step-by-step)"
   ]
  },
  {
   "cell_type": "code",
   "execution_count": 12,
   "metadata": {},
   "outputs": [],
   "source": [
    "# discussion"
   ]
  },
  {
   "cell_type": "markdown",
   "metadata": {},
   "source": [
    "<hr>\n",
    "\n",
    "### Problem 3.\n",
    "\n",
    "A long rectangular channel that is 8 m wide and has a mild slope ends in a free outfall. \n",
    "\n",
    "<figure align=\"center\">\n",
    "<!--<img src=\"./Hydropower.png\" width=\"300\" >-->\n",
    "<img src=\"http://54.243.252.9/ce-3305-webroot/2-Exercises/ES17/channel14-3.png\" width=\"300\" >\n",
    "<figcaption>Figure 1: Schematic of open channel </figcaption>\n",
    "</figure>\n",
    "\n",
    "If the water depth at the brink is 0.55 m, what is the discharge ($\\frac{m^3}{sec}$)in the channel?"
   ]
  },
  {
   "cell_type": "code",
   "execution_count": 22,
   "metadata": {},
   "outputs": [],
   "source": [
    "# sketch here"
   ]
  },
  {
   "cell_type": "code",
   "execution_count": 23,
   "metadata": {},
   "outputs": [],
   "source": [
    "# list known quantities"
   ]
  },
  {
   "cell_type": "code",
   "execution_count": 24,
   "metadata": {},
   "outputs": [],
   "source": [
    "# list unknown quantities"
   ]
  },
  {
   "cell_type": "code",
   "execution_count": 25,
   "metadata": {},
   "outputs": [],
   "source": [
    "# governing principles"
   ]
  },
  {
   "cell_type": "code",
   "execution_count": 26,
   "metadata": {},
   "outputs": [],
   "source": [
    "# solution (step-by-step)"
   ]
  },
  {
   "cell_type": "code",
   "execution_count": 27,
   "metadata": {},
   "outputs": [],
   "source": [
    "# discussion"
   ]
  }
 ],
 "metadata": {
  "kernelspec": {
   "display_name": "Python 3",
   "language": "python",
   "name": "python3"
  },
  "language_info": {
   "codemirror_mode": {
    "name": "ipython",
    "version": 3
   },
   "file_extension": ".py",
   "mimetype": "text/x-python",
   "name": "python",
   "nbconvert_exporter": "python",
   "pygments_lexer": "ipython3",
   "version": "3.8.10"
  }
 },
 "nbformat": 4,
 "nbformat_minor": 4
}
